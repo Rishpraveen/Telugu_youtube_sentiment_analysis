{
  "nbformat": 4,
  "nbformat_minor": 0,
  "metadata": {
    "colab": {
      "provenance": [],
      "gpuType": "T4"
    },
    "kernelspec": {
      "name": "python3",
      "display_name": "Python 3"
    },
    "language_info": {
      "name": "python"
    },
    "accelerator": "GPU",
    "widgets": {
      "application/vnd.jupyter.widget-state+json": {
        "4517322bf70b4d63beacd60609340197": {
          "model_module": "@jupyter-widgets/controls",
          "model_name": "HBoxModel",
          "model_module_version": "1.5.0",
          "state": {
            "_dom_classes": [],
            "_model_module": "@jupyter-widgets/controls",
            "_model_module_version": "1.5.0",
            "_model_name": "HBoxModel",
            "_view_count": null,
            "_view_module": "@jupyter-widgets/controls",
            "_view_module_version": "1.5.0",
            "_view_name": "HBoxView",
            "box_style": "",
            "children": [
              "IPY_MODEL_f19dea5a9bab4661b00a8ecb2e93006e",
              "IPY_MODEL_21795b63991b455ab3c451bd88604e2e",
              "IPY_MODEL_2d3047708b604602b87d3f2a2bcceffe"
            ],
            "layout": "IPY_MODEL_afdd7032c2d844ea90e4baf2f05e3c14"
          }
        },
        "f19dea5a9bab4661b00a8ecb2e93006e": {
          "model_module": "@jupyter-widgets/controls",
          "model_name": "HTMLModel",
          "model_module_version": "1.5.0",
          "state": {
            "_dom_classes": [],
            "_model_module": "@jupyter-widgets/controls",
            "_model_module_version": "1.5.0",
            "_model_name": "HTMLModel",
            "_view_count": null,
            "_view_module": "@jupyter-widgets/controls",
            "_view_module_version": "1.5.0",
            "_view_name": "HTMLView",
            "description": "",
            "description_tooltip": null,
            "layout": "IPY_MODEL_68ac208913d745c5a78e75b3103e7b7d",
            "placeholder": "​",
            "style": "IPY_MODEL_9428211e67a7487eb9db9616569101ac",
            "value": "tokenizer_config.json: 100%"
          }
        },
        "21795b63991b455ab3c451bd88604e2e": {
          "model_module": "@jupyter-widgets/controls",
          "model_name": "FloatProgressModel",
          "model_module_version": "1.5.0",
          "state": {
            "_dom_classes": [],
            "_model_module": "@jupyter-widgets/controls",
            "_model_module_version": "1.5.0",
            "_model_name": "FloatProgressModel",
            "_view_count": null,
            "_view_module": "@jupyter-widgets/controls",
            "_view_module_version": "1.5.0",
            "_view_name": "ProgressView",
            "bar_style": "success",
            "description": "",
            "description_tooltip": null,
            "layout": "IPY_MODEL_b7c71c1a64c04fd2a7d71659b3446417",
            "max": 54528,
            "min": 0,
            "orientation": "horizontal",
            "style": "IPY_MODEL_c1e6eff8b2134a36bb25be0eac44d74f",
            "value": 54528
          }
        },
        "2d3047708b604602b87d3f2a2bcceffe": {
          "model_module": "@jupyter-widgets/controls",
          "model_name": "HTMLModel",
          "model_module_version": "1.5.0",
          "state": {
            "_dom_classes": [],
            "_model_module": "@jupyter-widgets/controls",
            "_model_module_version": "1.5.0",
            "_model_name": "HTMLModel",
            "_view_count": null,
            "_view_module": "@jupyter-widgets/controls",
            "_view_module_version": "1.5.0",
            "_view_name": "HTMLView",
            "description": "",
            "description_tooltip": null,
            "layout": "IPY_MODEL_70a76bf0074049579726108df9490a8e",
            "placeholder": "​",
            "style": "IPY_MODEL_54c49e7780d24a089bf8a4680f50fd46",
            "value": " 54.5k/54.5k [00:00&lt;00:00, 5.19MB/s]"
          }
        },
        "afdd7032c2d844ea90e4baf2f05e3c14": {
          "model_module": "@jupyter-widgets/base",
          "model_name": "LayoutModel",
          "model_module_version": "1.2.0",
          "state": {
            "_model_module": "@jupyter-widgets/base",
            "_model_module_version": "1.2.0",
            "_model_name": "LayoutModel",
            "_view_count": null,
            "_view_module": "@jupyter-widgets/base",
            "_view_module_version": "1.2.0",
            "_view_name": "LayoutView",
            "align_content": null,
            "align_items": null,
            "align_self": null,
            "border": null,
            "bottom": null,
            "display": null,
            "flex": null,
            "flex_flow": null,
            "grid_area": null,
            "grid_auto_columns": null,
            "grid_auto_flow": null,
            "grid_auto_rows": null,
            "grid_column": null,
            "grid_gap": null,
            "grid_row": null,
            "grid_template_areas": null,
            "grid_template_columns": null,
            "grid_template_rows": null,
            "height": null,
            "justify_content": null,
            "justify_items": null,
            "left": null,
            "margin": null,
            "max_height": null,
            "max_width": null,
            "min_height": null,
            "min_width": null,
            "object_fit": null,
            "object_position": null,
            "order": null,
            "overflow": null,
            "overflow_x": null,
            "overflow_y": null,
            "padding": null,
            "right": null,
            "top": null,
            "visibility": null,
            "width": null
          }
        },
        "68ac208913d745c5a78e75b3103e7b7d": {
          "model_module": "@jupyter-widgets/base",
          "model_name": "LayoutModel",
          "model_module_version": "1.2.0",
          "state": {
            "_model_module": "@jupyter-widgets/base",
            "_model_module_version": "1.2.0",
            "_model_name": "LayoutModel",
            "_view_count": null,
            "_view_module": "@jupyter-widgets/base",
            "_view_module_version": "1.2.0",
            "_view_name": "LayoutView",
            "align_content": null,
            "align_items": null,
            "align_self": null,
            "border": null,
            "bottom": null,
            "display": null,
            "flex": null,
            "flex_flow": null,
            "grid_area": null,
            "grid_auto_columns": null,
            "grid_auto_flow": null,
            "grid_auto_rows": null,
            "grid_column": null,
            "grid_gap": null,
            "grid_row": null,
            "grid_template_areas": null,
            "grid_template_columns": null,
            "grid_template_rows": null,
            "height": null,
            "justify_content": null,
            "justify_items": null,
            "left": null,
            "margin": null,
            "max_height": null,
            "max_width": null,
            "min_height": null,
            "min_width": null,
            "object_fit": null,
            "object_position": null,
            "order": null,
            "overflow": null,
            "overflow_x": null,
            "overflow_y": null,
            "padding": null,
            "right": null,
            "top": null,
            "visibility": null,
            "width": null
          }
        },
        "9428211e67a7487eb9db9616569101ac": {
          "model_module": "@jupyter-widgets/controls",
          "model_name": "DescriptionStyleModel",
          "model_module_version": "1.5.0",
          "state": {
            "_model_module": "@jupyter-widgets/controls",
            "_model_module_version": "1.5.0",
            "_model_name": "DescriptionStyleModel",
            "_view_count": null,
            "_view_module": "@jupyter-widgets/base",
            "_view_module_version": "1.2.0",
            "_view_name": "StyleView",
            "description_width": ""
          }
        },
        "b7c71c1a64c04fd2a7d71659b3446417": {
          "model_module": "@jupyter-widgets/base",
          "model_name": "LayoutModel",
          "model_module_version": "1.2.0",
          "state": {
            "_model_module": "@jupyter-widgets/base",
            "_model_module_version": "1.2.0",
            "_model_name": "LayoutModel",
            "_view_count": null,
            "_view_module": "@jupyter-widgets/base",
            "_view_module_version": "1.2.0",
            "_view_name": "LayoutView",
            "align_content": null,
            "align_items": null,
            "align_self": null,
            "border": null,
            "bottom": null,
            "display": null,
            "flex": null,
            "flex_flow": null,
            "grid_area": null,
            "grid_auto_columns": null,
            "grid_auto_flow": null,
            "grid_auto_rows": null,
            "grid_column": null,
            "grid_gap": null,
            "grid_row": null,
            "grid_template_areas": null,
            "grid_template_columns": null,
            "grid_template_rows": null,
            "height": null,
            "justify_content": null,
            "justify_items": null,
            "left": null,
            "margin": null,
            "max_height": null,
            "max_width": null,
            "min_height": null,
            "min_width": null,
            "object_fit": null,
            "object_position": null,
            "order": null,
            "overflow": null,
            "overflow_x": null,
            "overflow_y": null,
            "padding": null,
            "right": null,
            "top": null,
            "visibility": null,
            "width": null
          }
        },
        "c1e6eff8b2134a36bb25be0eac44d74f": {
          "model_module": "@jupyter-widgets/controls",
          "model_name": "ProgressStyleModel",
          "model_module_version": "1.5.0",
          "state": {
            "_model_module": "@jupyter-widgets/controls",
            "_model_module_version": "1.5.0",
            "_model_name": "ProgressStyleModel",
            "_view_count": null,
            "_view_module": "@jupyter-widgets/base",
            "_view_module_version": "1.2.0",
            "_view_name": "StyleView",
            "bar_color": null,
            "description_width": ""
          }
        },
        "70a76bf0074049579726108df9490a8e": {
          "model_module": "@jupyter-widgets/base",
          "model_name": "LayoutModel",
          "model_module_version": "1.2.0",
          "state": {
            "_model_module": "@jupyter-widgets/base",
            "_model_module_version": "1.2.0",
            "_model_name": "LayoutModel",
            "_view_count": null,
            "_view_module": "@jupyter-widgets/base",
            "_view_module_version": "1.2.0",
            "_view_name": "LayoutView",
            "align_content": null,
            "align_items": null,
            "align_self": null,
            "border": null,
            "bottom": null,
            "display": null,
            "flex": null,
            "flex_flow": null,
            "grid_area": null,
            "grid_auto_columns": null,
            "grid_auto_flow": null,
            "grid_auto_rows": null,
            "grid_column": null,
            "grid_gap": null,
            "grid_row": null,
            "grid_template_areas": null,
            "grid_template_columns": null,
            "grid_template_rows": null,
            "height": null,
            "justify_content": null,
            "justify_items": null,
            "left": null,
            "margin": null,
            "max_height": null,
            "max_width": null,
            "min_height": null,
            "min_width": null,
            "object_fit": null,
            "object_position": null,
            "order": null,
            "overflow": null,
            "overflow_x": null,
            "overflow_y": null,
            "padding": null,
            "right": null,
            "top": null,
            "visibility": null,
            "width": null
          }
        },
        "54c49e7780d24a089bf8a4680f50fd46": {
          "model_module": "@jupyter-widgets/controls",
          "model_name": "DescriptionStyleModel",
          "model_module_version": "1.5.0",
          "state": {
            "_model_module": "@jupyter-widgets/controls",
            "_model_module_version": "1.5.0",
            "_model_name": "DescriptionStyleModel",
            "_view_count": null,
            "_view_module": "@jupyter-widgets/base",
            "_view_module_version": "1.2.0",
            "_view_name": "StyleView",
            "description_width": ""
          }
        },
        "e75507fd41494c588572cb2286f945b3": {
          "model_module": "@jupyter-widgets/controls",
          "model_name": "HBoxModel",
          "model_module_version": "1.5.0",
          "state": {
            "_dom_classes": [],
            "_model_module": "@jupyter-widgets/controls",
            "_model_module_version": "1.5.0",
            "_model_name": "HBoxModel",
            "_view_count": null,
            "_view_module": "@jupyter-widgets/controls",
            "_view_module_version": "1.5.0",
            "_view_name": "HBoxView",
            "box_style": "",
            "children": [
              "IPY_MODEL_7efa330ea72d40d8a6f3e62b53185202",
              "IPY_MODEL_b1e51f54a7d94e5a99d9b392f38f92e9",
              "IPY_MODEL_9914f72c47cd471f84c4f6be0f4ca1e7"
            ],
            "layout": "IPY_MODEL_e2914b777bdb4cb495a38609f43d976f"
          }
        },
        "7efa330ea72d40d8a6f3e62b53185202": {
          "model_module": "@jupyter-widgets/controls",
          "model_name": "HTMLModel",
          "model_module_version": "1.5.0",
          "state": {
            "_dom_classes": [],
            "_model_module": "@jupyter-widgets/controls",
            "_model_module_version": "1.5.0",
            "_model_name": "HTMLModel",
            "_view_count": null,
            "_view_module": "@jupyter-widgets/controls",
            "_view_module_version": "1.5.0",
            "_view_name": "HTMLView",
            "description": "",
            "description_tooltip": null,
            "layout": "IPY_MODEL_0c7660275b664b5bbe6042d200706bd9",
            "placeholder": "​",
            "style": "IPY_MODEL_4ebc1030a9c349baae984e837e147be6",
            "value": "tokenizer.json: 100%"
          }
        },
        "b1e51f54a7d94e5a99d9b392f38f92e9": {
          "model_module": "@jupyter-widgets/controls",
          "model_name": "FloatProgressModel",
          "model_module_version": "1.5.0",
          "state": {
            "_dom_classes": [],
            "_model_module": "@jupyter-widgets/controls",
            "_model_module_version": "1.5.0",
            "_model_name": "FloatProgressModel",
            "_view_count": null,
            "_view_module": "@jupyter-widgets/controls",
            "_view_module_version": "1.5.0",
            "_view_name": "ProgressView",
            "bar_style": "success",
            "description": "",
            "description_tooltip": null,
            "layout": "IPY_MODEL_f7d2b488f7244550bea174f0fb22179e",
            "max": 9085657,
            "min": 0,
            "orientation": "horizontal",
            "style": "IPY_MODEL_4908b6e853db4e82a0e7ba6673a5712f",
            "value": 9085657
          }
        },
        "9914f72c47cd471f84c4f6be0f4ca1e7": {
          "model_module": "@jupyter-widgets/controls",
          "model_name": "HTMLModel",
          "model_module_version": "1.5.0",
          "state": {
            "_dom_classes": [],
            "_model_module": "@jupyter-widgets/controls",
            "_model_module_version": "1.5.0",
            "_model_name": "HTMLModel",
            "_view_count": null,
            "_view_module": "@jupyter-widgets/controls",
            "_view_module_version": "1.5.0",
            "_view_name": "HTMLView",
            "description": "",
            "description_tooltip": null,
            "layout": "IPY_MODEL_bb48d41785cb43b795b7e6607d957b89",
            "placeholder": "​",
            "style": "IPY_MODEL_495c5f364bb34678a7f6f5c62074cc85",
            "value": " 9.09M/9.09M [00:00&lt;00:00, 42.7MB/s]"
          }
        },
        "e2914b777bdb4cb495a38609f43d976f": {
          "model_module": "@jupyter-widgets/base",
          "model_name": "LayoutModel",
          "model_module_version": "1.2.0",
          "state": {
            "_model_module": "@jupyter-widgets/base",
            "_model_module_version": "1.2.0",
            "_model_name": "LayoutModel",
            "_view_count": null,
            "_view_module": "@jupyter-widgets/base",
            "_view_module_version": "1.2.0",
            "_view_name": "LayoutView",
            "align_content": null,
            "align_items": null,
            "align_self": null,
            "border": null,
            "bottom": null,
            "display": null,
            "flex": null,
            "flex_flow": null,
            "grid_area": null,
            "grid_auto_columns": null,
            "grid_auto_flow": null,
            "grid_auto_rows": null,
            "grid_column": null,
            "grid_gap": null,
            "grid_row": null,
            "grid_template_areas": null,
            "grid_template_columns": null,
            "grid_template_rows": null,
            "height": null,
            "justify_content": null,
            "justify_items": null,
            "left": null,
            "margin": null,
            "max_height": null,
            "max_width": null,
            "min_height": null,
            "min_width": null,
            "object_fit": null,
            "object_position": null,
            "order": null,
            "overflow": null,
            "overflow_x": null,
            "overflow_y": null,
            "padding": null,
            "right": null,
            "top": null,
            "visibility": null,
            "width": null
          }
        },
        "0c7660275b664b5bbe6042d200706bd9": {
          "model_module": "@jupyter-widgets/base",
          "model_name": "LayoutModel",
          "model_module_version": "1.2.0",
          "state": {
            "_model_module": "@jupyter-widgets/base",
            "_model_module_version": "1.2.0",
            "_model_name": "LayoutModel",
            "_view_count": null,
            "_view_module": "@jupyter-widgets/base",
            "_view_module_version": "1.2.0",
            "_view_name": "LayoutView",
            "align_content": null,
            "align_items": null,
            "align_self": null,
            "border": null,
            "bottom": null,
            "display": null,
            "flex": null,
            "flex_flow": null,
            "grid_area": null,
            "grid_auto_columns": null,
            "grid_auto_flow": null,
            "grid_auto_rows": null,
            "grid_column": null,
            "grid_gap": null,
            "grid_row": null,
            "grid_template_areas": null,
            "grid_template_columns": null,
            "grid_template_rows": null,
            "height": null,
            "justify_content": null,
            "justify_items": null,
            "left": null,
            "margin": null,
            "max_height": null,
            "max_width": null,
            "min_height": null,
            "min_width": null,
            "object_fit": null,
            "object_position": null,
            "order": null,
            "overflow": null,
            "overflow_x": null,
            "overflow_y": null,
            "padding": null,
            "right": null,
            "top": null,
            "visibility": null,
            "width": null
          }
        },
        "4ebc1030a9c349baae984e837e147be6": {
          "model_module": "@jupyter-widgets/controls",
          "model_name": "DescriptionStyleModel",
          "model_module_version": "1.5.0",
          "state": {
            "_model_module": "@jupyter-widgets/controls",
            "_model_module_version": "1.5.0",
            "_model_name": "DescriptionStyleModel",
            "_view_count": null,
            "_view_module": "@jupyter-widgets/base",
            "_view_module_version": "1.2.0",
            "_view_name": "StyleView",
            "description_width": ""
          }
        },
        "f7d2b488f7244550bea174f0fb22179e": {
          "model_module": "@jupyter-widgets/base",
          "model_name": "LayoutModel",
          "model_module_version": "1.2.0",
          "state": {
            "_model_module": "@jupyter-widgets/base",
            "_model_module_version": "1.2.0",
            "_model_name": "LayoutModel",
            "_view_count": null,
            "_view_module": "@jupyter-widgets/base",
            "_view_module_version": "1.2.0",
            "_view_name": "LayoutView",
            "align_content": null,
            "align_items": null,
            "align_self": null,
            "border": null,
            "bottom": null,
            "display": null,
            "flex": null,
            "flex_flow": null,
            "grid_area": null,
            "grid_auto_columns": null,
            "grid_auto_flow": null,
            "grid_auto_rows": null,
            "grid_column": null,
            "grid_gap": null,
            "grid_row": null,
            "grid_template_areas": null,
            "grid_template_columns": null,
            "grid_template_rows": null,
            "height": null,
            "justify_content": null,
            "justify_items": null,
            "left": null,
            "margin": null,
            "max_height": null,
            "max_width": null,
            "min_height": null,
            "min_width": null,
            "object_fit": null,
            "object_position": null,
            "order": null,
            "overflow": null,
            "overflow_x": null,
            "overflow_y": null,
            "padding": null,
            "right": null,
            "top": null,
            "visibility": null,
            "width": null
          }
        },
        "4908b6e853db4e82a0e7ba6673a5712f": {
          "model_module": "@jupyter-widgets/controls",
          "model_name": "ProgressStyleModel",
          "model_module_version": "1.5.0",
          "state": {
            "_model_module": "@jupyter-widgets/controls",
            "_model_module_version": "1.5.0",
            "_model_name": "ProgressStyleModel",
            "_view_count": null,
            "_view_module": "@jupyter-widgets/base",
            "_view_module_version": "1.2.0",
            "_view_name": "StyleView",
            "bar_color": null,
            "description_width": ""
          }
        },
        "bb48d41785cb43b795b7e6607d957b89": {
          "model_module": "@jupyter-widgets/base",
          "model_name": "LayoutModel",
          "model_module_version": "1.2.0",
          "state": {
            "_model_module": "@jupyter-widgets/base",
            "_model_module_version": "1.2.0",
            "_model_name": "LayoutModel",
            "_view_count": null,
            "_view_module": "@jupyter-widgets/base",
            "_view_module_version": "1.2.0",
            "_view_name": "LayoutView",
            "align_content": null,
            "align_items": null,
            "align_self": null,
            "border": null,
            "bottom": null,
            "display": null,
            "flex": null,
            "flex_flow": null,
            "grid_area": null,
            "grid_auto_columns": null,
            "grid_auto_flow": null,
            "grid_auto_rows": null,
            "grid_column": null,
            "grid_gap": null,
            "grid_row": null,
            "grid_template_areas": null,
            "grid_template_columns": null,
            "grid_template_rows": null,
            "height": null,
            "justify_content": null,
            "justify_items": null,
            "left": null,
            "margin": null,
            "max_height": null,
            "max_width": null,
            "min_height": null,
            "min_width": null,
            "object_fit": null,
            "object_position": null,
            "order": null,
            "overflow": null,
            "overflow_x": null,
            "overflow_y": null,
            "padding": null,
            "right": null,
            "top": null,
            "visibility": null,
            "width": null
          }
        },
        "495c5f364bb34678a7f6f5c62074cc85": {
          "model_module": "@jupyter-widgets/controls",
          "model_name": "DescriptionStyleModel",
          "model_module_version": "1.5.0",
          "state": {
            "_model_module": "@jupyter-widgets/controls",
            "_model_module_version": "1.5.0",
            "_model_name": "DescriptionStyleModel",
            "_view_count": null,
            "_view_module": "@jupyter-widgets/base",
            "_view_module_version": "1.2.0",
            "_view_name": "StyleView",
            "description_width": ""
          }
        },
        "3559b36988d84110a9c56364ee439a41": {
          "model_module": "@jupyter-widgets/controls",
          "model_name": "HBoxModel",
          "model_module_version": "1.5.0",
          "state": {
            "_dom_classes": [],
            "_model_module": "@jupyter-widgets/controls",
            "_model_module_version": "1.5.0",
            "_model_name": "HBoxModel",
            "_view_count": null,
            "_view_module": "@jupyter-widgets/controls",
            "_view_module_version": "1.5.0",
            "_view_name": "HBoxView",
            "box_style": "",
            "children": [
              "IPY_MODEL_566d4b2f70454ecbb2fd8249ab1a37d6",
              "IPY_MODEL_351682cc762f4235ace9a33953cf381d",
              "IPY_MODEL_956b7feb2363488c94195b7e4640cd43"
            ],
            "layout": "IPY_MODEL_d54254ddbb1d4151a80fa69393e553df"
          }
        },
        "566d4b2f70454ecbb2fd8249ab1a37d6": {
          "model_module": "@jupyter-widgets/controls",
          "model_name": "HTMLModel",
          "model_module_version": "1.5.0",
          "state": {
            "_dom_classes": [],
            "_model_module": "@jupyter-widgets/controls",
            "_model_module_version": "1.5.0",
            "_model_name": "HTMLModel",
            "_view_count": null,
            "_view_module": "@jupyter-widgets/controls",
            "_view_module_version": "1.5.0",
            "_view_name": "HTMLView",
            "description": "",
            "description_tooltip": null,
            "layout": "IPY_MODEL_c18af9a20a4943acb7b84f8e4616f851",
            "placeholder": "​",
            "style": "IPY_MODEL_ba6eee291bf948e7ba9f719cf9653a1d",
            "value": "special_tokens_map.json: 100%"
          }
        },
        "351682cc762f4235ace9a33953cf381d": {
          "model_module": "@jupyter-widgets/controls",
          "model_name": "FloatProgressModel",
          "model_module_version": "1.5.0",
          "state": {
            "_dom_classes": [],
            "_model_module": "@jupyter-widgets/controls",
            "_model_module_version": "1.5.0",
            "_model_name": "FloatProgressModel",
            "_view_count": null,
            "_view_module": "@jupyter-widgets/controls",
            "_view_module_version": "1.5.0",
            "_view_name": "ProgressView",
            "bar_style": "success",
            "description": "",
            "description_tooltip": null,
            "layout": "IPY_MODEL_836de55abdba4a92ad7768912427da5b",
            "max": 296,
            "min": 0,
            "orientation": "horizontal",
            "style": "IPY_MODEL_5324392d6e334666a2067cdc180c8992",
            "value": 296
          }
        },
        "956b7feb2363488c94195b7e4640cd43": {
          "model_module": "@jupyter-widgets/controls",
          "model_name": "HTMLModel",
          "model_module_version": "1.5.0",
          "state": {
            "_dom_classes": [],
            "_model_module": "@jupyter-widgets/controls",
            "_model_module_version": "1.5.0",
            "_model_name": "HTMLModel",
            "_view_count": null,
            "_view_module": "@jupyter-widgets/controls",
            "_view_module_version": "1.5.0",
            "_view_name": "HTMLView",
            "description": "",
            "description_tooltip": null,
            "layout": "IPY_MODEL_05548b82afca47648e1da563904f6d44",
            "placeholder": "​",
            "style": "IPY_MODEL_16520f30f34e47eba2c39b3ebfc92f60",
            "value": " 296/296 [00:00&lt;00:00, 17.2kB/s]"
          }
        },
        "d54254ddbb1d4151a80fa69393e553df": {
          "model_module": "@jupyter-widgets/base",
          "model_name": "LayoutModel",
          "model_module_version": "1.2.0",
          "state": {
            "_model_module": "@jupyter-widgets/base",
            "_model_module_version": "1.2.0",
            "_model_name": "LayoutModel",
            "_view_count": null,
            "_view_module": "@jupyter-widgets/base",
            "_view_module_version": "1.2.0",
            "_view_name": "LayoutView",
            "align_content": null,
            "align_items": null,
            "align_self": null,
            "border": null,
            "bottom": null,
            "display": null,
            "flex": null,
            "flex_flow": null,
            "grid_area": null,
            "grid_auto_columns": null,
            "grid_auto_flow": null,
            "grid_auto_rows": null,
            "grid_column": null,
            "grid_gap": null,
            "grid_row": null,
            "grid_template_areas": null,
            "grid_template_columns": null,
            "grid_template_rows": null,
            "height": null,
            "justify_content": null,
            "justify_items": null,
            "left": null,
            "margin": null,
            "max_height": null,
            "max_width": null,
            "min_height": null,
            "min_width": null,
            "object_fit": null,
            "object_position": null,
            "order": null,
            "overflow": null,
            "overflow_x": null,
            "overflow_y": null,
            "padding": null,
            "right": null,
            "top": null,
            "visibility": null,
            "width": null
          }
        },
        "c18af9a20a4943acb7b84f8e4616f851": {
          "model_module": "@jupyter-widgets/base",
          "model_name": "LayoutModel",
          "model_module_version": "1.2.0",
          "state": {
            "_model_module": "@jupyter-widgets/base",
            "_model_module_version": "1.2.0",
            "_model_name": "LayoutModel",
            "_view_count": null,
            "_view_module": "@jupyter-widgets/base",
            "_view_module_version": "1.2.0",
            "_view_name": "LayoutView",
            "align_content": null,
            "align_items": null,
            "align_self": null,
            "border": null,
            "bottom": null,
            "display": null,
            "flex": null,
            "flex_flow": null,
            "grid_area": null,
            "grid_auto_columns": null,
            "grid_auto_flow": null,
            "grid_auto_rows": null,
            "grid_column": null,
            "grid_gap": null,
            "grid_row": null,
            "grid_template_areas": null,
            "grid_template_columns": null,
            "grid_template_rows": null,
            "height": null,
            "justify_content": null,
            "justify_items": null,
            "left": null,
            "margin": null,
            "max_height": null,
            "max_width": null,
            "min_height": null,
            "min_width": null,
            "object_fit": null,
            "object_position": null,
            "order": null,
            "overflow": null,
            "overflow_x": null,
            "overflow_y": null,
            "padding": null,
            "right": null,
            "top": null,
            "visibility": null,
            "width": null
          }
        },
        "ba6eee291bf948e7ba9f719cf9653a1d": {
          "model_module": "@jupyter-widgets/controls",
          "model_name": "DescriptionStyleModel",
          "model_module_version": "1.5.0",
          "state": {
            "_model_module": "@jupyter-widgets/controls",
            "_model_module_version": "1.5.0",
            "_model_name": "DescriptionStyleModel",
            "_view_count": null,
            "_view_module": "@jupyter-widgets/base",
            "_view_module_version": "1.2.0",
            "_view_name": "StyleView",
            "description_width": ""
          }
        },
        "836de55abdba4a92ad7768912427da5b": {
          "model_module": "@jupyter-widgets/base",
          "model_name": "LayoutModel",
          "model_module_version": "1.2.0",
          "state": {
            "_model_module": "@jupyter-widgets/base",
            "_model_module_version": "1.2.0",
            "_model_name": "LayoutModel",
            "_view_count": null,
            "_view_module": "@jupyter-widgets/base",
            "_view_module_version": "1.2.0",
            "_view_name": "LayoutView",
            "align_content": null,
            "align_items": null,
            "align_self": null,
            "border": null,
            "bottom": null,
            "display": null,
            "flex": null,
            "flex_flow": null,
            "grid_area": null,
            "grid_auto_columns": null,
            "grid_auto_flow": null,
            "grid_auto_rows": null,
            "grid_column": null,
            "grid_gap": null,
            "grid_row": null,
            "grid_template_areas": null,
            "grid_template_columns": null,
            "grid_template_rows": null,
            "height": null,
            "justify_content": null,
            "justify_items": null,
            "left": null,
            "margin": null,
            "max_height": null,
            "max_width": null,
            "min_height": null,
            "min_width": null,
            "object_fit": null,
            "object_position": null,
            "order": null,
            "overflow": null,
            "overflow_x": null,
            "overflow_y": null,
            "padding": null,
            "right": null,
            "top": null,
            "visibility": null,
            "width": null
          }
        },
        "5324392d6e334666a2067cdc180c8992": {
          "model_module": "@jupyter-widgets/controls",
          "model_name": "ProgressStyleModel",
          "model_module_version": "1.5.0",
          "state": {
            "_model_module": "@jupyter-widgets/controls",
            "_model_module_version": "1.5.0",
            "_model_name": "ProgressStyleModel",
            "_view_count": null,
            "_view_module": "@jupyter-widgets/base",
            "_view_module_version": "1.2.0",
            "_view_name": "StyleView",
            "bar_color": null,
            "description_width": ""
          }
        },
        "05548b82afca47648e1da563904f6d44": {
          "model_module": "@jupyter-widgets/base",
          "model_name": "LayoutModel",
          "model_module_version": "1.2.0",
          "state": {
            "_model_module": "@jupyter-widgets/base",
            "_model_module_version": "1.2.0",
            "_model_name": "LayoutModel",
            "_view_count": null,
            "_view_module": "@jupyter-widgets/base",
            "_view_module_version": "1.2.0",
            "_view_name": "LayoutView",
            "align_content": null,
            "align_items": null,
            "align_self": null,
            "border": null,
            "bottom": null,
            "display": null,
            "flex": null,
            "flex_flow": null,
            "grid_area": null,
            "grid_auto_columns": null,
            "grid_auto_flow": null,
            "grid_auto_rows": null,
            "grid_column": null,
            "grid_gap": null,
            "grid_row": null,
            "grid_template_areas": null,
            "grid_template_columns": null,
            "grid_template_rows": null,
            "height": null,
            "justify_content": null,
            "justify_items": null,
            "left": null,
            "margin": null,
            "max_height": null,
            "max_width": null,
            "min_height": null,
            "min_width": null,
            "object_fit": null,
            "object_position": null,
            "order": null,
            "overflow": null,
            "overflow_x": null,
            "overflow_y": null,
            "padding": null,
            "right": null,
            "top": null,
            "visibility": null,
            "width": null
          }
        },
        "16520f30f34e47eba2c39b3ebfc92f60": {
          "model_module": "@jupyter-widgets/controls",
          "model_name": "DescriptionStyleModel",
          "model_module_version": "1.5.0",
          "state": {
            "_model_module": "@jupyter-widgets/controls",
            "_model_module_version": "1.5.0",
            "_model_name": "DescriptionStyleModel",
            "_view_count": null,
            "_view_module": "@jupyter-widgets/base",
            "_view_module_version": "1.2.0",
            "_view_name": "StyleView",
            "description_width": ""
          }
        },
        "bed35ec6ed4b4323bc39cf0a589423aa": {
          "model_module": "@jupyter-widgets/controls",
          "model_name": "HBoxModel",
          "model_module_version": "1.5.0",
          "state": {
            "_dom_classes": [],
            "_model_module": "@jupyter-widgets/controls",
            "_model_module_version": "1.5.0",
            "_model_name": "HBoxModel",
            "_view_count": null,
            "_view_module": "@jupyter-widgets/controls",
            "_view_module_version": "1.5.0",
            "_view_name": "HBoxView",
            "box_style": "",
            "children": [
              "IPY_MODEL_c17a891e9b8047ee8224aab3af3e2744",
              "IPY_MODEL_d47adff87ef54ea39829b162275411f6",
              "IPY_MODEL_acd8ba95248f4ba6936d2c359f5766b6"
            ],
            "layout": "IPY_MODEL_635ce2f01607480c9024f053187acc40"
          }
        },
        "c17a891e9b8047ee8224aab3af3e2744": {
          "model_module": "@jupyter-widgets/controls",
          "model_name": "HTMLModel",
          "model_module_version": "1.5.0",
          "state": {
            "_dom_classes": [],
            "_model_module": "@jupyter-widgets/controls",
            "_model_module_version": "1.5.0",
            "_model_name": "HTMLModel",
            "_view_count": null,
            "_view_module": "@jupyter-widgets/controls",
            "_view_module_version": "1.5.0",
            "_view_name": "HTMLView",
            "description": "",
            "description_tooltip": null,
            "layout": "IPY_MODEL_a69a28377b714fde876524af95220ed1",
            "placeholder": "​",
            "style": "IPY_MODEL_f7f99435ab5740bd869f2ee853e59f48",
            "value": "config.json: 100%"
          }
        },
        "d47adff87ef54ea39829b162275411f6": {
          "model_module": "@jupyter-widgets/controls",
          "model_name": "FloatProgressModel",
          "model_module_version": "1.5.0",
          "state": {
            "_dom_classes": [],
            "_model_module": "@jupyter-widgets/controls",
            "_model_module_version": "1.5.0",
            "_model_name": "FloatProgressModel",
            "_view_count": null,
            "_view_module": "@jupyter-widgets/controls",
            "_view_module_version": "1.5.0",
            "_view_name": "ProgressView",
            "bar_style": "success",
            "description": "",
            "description_tooltip": null,
            "layout": "IPY_MODEL_3f6dc47650de4c289272cc7613067ecf",
            "max": 877,
            "min": 0,
            "orientation": "horizontal",
            "style": "IPY_MODEL_a4b832198e094788b1e90c83bf631786",
            "value": 877
          }
        },
        "acd8ba95248f4ba6936d2c359f5766b6": {
          "model_module": "@jupyter-widgets/controls",
          "model_name": "HTMLModel",
          "model_module_version": "1.5.0",
          "state": {
            "_dom_classes": [],
            "_model_module": "@jupyter-widgets/controls",
            "_model_module_version": "1.5.0",
            "_model_name": "HTMLModel",
            "_view_count": null,
            "_view_module": "@jupyter-widgets/controls",
            "_view_module_version": "1.5.0",
            "_view_name": "HTMLView",
            "description": "",
            "description_tooltip": null,
            "layout": "IPY_MODEL_420e9ba23d7246bf9aa84a6c733f6352",
            "placeholder": "​",
            "style": "IPY_MODEL_19fcd4df45184c2381fce0ad35b66c3d",
            "value": " 877/877 [00:00&lt;00:00, 20.3kB/s]"
          }
        },
        "635ce2f01607480c9024f053187acc40": {
          "model_module": "@jupyter-widgets/base",
          "model_name": "LayoutModel",
          "model_module_version": "1.2.0",
          "state": {
            "_model_module": "@jupyter-widgets/base",
            "_model_module_version": "1.2.0",
            "_model_name": "LayoutModel",
            "_view_count": null,
            "_view_module": "@jupyter-widgets/base",
            "_view_module_version": "1.2.0",
            "_view_name": "LayoutView",
            "align_content": null,
            "align_items": null,
            "align_self": null,
            "border": null,
            "bottom": null,
            "display": null,
            "flex": null,
            "flex_flow": null,
            "grid_area": null,
            "grid_auto_columns": null,
            "grid_auto_flow": null,
            "grid_auto_rows": null,
            "grid_column": null,
            "grid_gap": null,
            "grid_row": null,
            "grid_template_areas": null,
            "grid_template_columns": null,
            "grid_template_rows": null,
            "height": null,
            "justify_content": null,
            "justify_items": null,
            "left": null,
            "margin": null,
            "max_height": null,
            "max_width": null,
            "min_height": null,
            "min_width": null,
            "object_fit": null,
            "object_position": null,
            "order": null,
            "overflow": null,
            "overflow_x": null,
            "overflow_y": null,
            "padding": null,
            "right": null,
            "top": null,
            "visibility": null,
            "width": null
          }
        },
        "a69a28377b714fde876524af95220ed1": {
          "model_module": "@jupyter-widgets/base",
          "model_name": "LayoutModel",
          "model_module_version": "1.2.0",
          "state": {
            "_model_module": "@jupyter-widgets/base",
            "_model_module_version": "1.2.0",
            "_model_name": "LayoutModel",
            "_view_count": null,
            "_view_module": "@jupyter-widgets/base",
            "_view_module_version": "1.2.0",
            "_view_name": "LayoutView",
            "align_content": null,
            "align_items": null,
            "align_self": null,
            "border": null,
            "bottom": null,
            "display": null,
            "flex": null,
            "flex_flow": null,
            "grid_area": null,
            "grid_auto_columns": null,
            "grid_auto_flow": null,
            "grid_auto_rows": null,
            "grid_column": null,
            "grid_gap": null,
            "grid_row": null,
            "grid_template_areas": null,
            "grid_template_columns": null,
            "grid_template_rows": null,
            "height": null,
            "justify_content": null,
            "justify_items": null,
            "left": null,
            "margin": null,
            "max_height": null,
            "max_width": null,
            "min_height": null,
            "min_width": null,
            "object_fit": null,
            "object_position": null,
            "order": null,
            "overflow": null,
            "overflow_x": null,
            "overflow_y": null,
            "padding": null,
            "right": null,
            "top": null,
            "visibility": null,
            "width": null
          }
        },
        "f7f99435ab5740bd869f2ee853e59f48": {
          "model_module": "@jupyter-widgets/controls",
          "model_name": "DescriptionStyleModel",
          "model_module_version": "1.5.0",
          "state": {
            "_model_module": "@jupyter-widgets/controls",
            "_model_module_version": "1.5.0",
            "_model_name": "DescriptionStyleModel",
            "_view_count": null,
            "_view_module": "@jupyter-widgets/base",
            "_view_module_version": "1.2.0",
            "_view_name": "StyleView",
            "description_width": ""
          }
        },
        "3f6dc47650de4c289272cc7613067ecf": {
          "model_module": "@jupyter-widgets/base",
          "model_name": "LayoutModel",
          "model_module_version": "1.2.0",
          "state": {
            "_model_module": "@jupyter-widgets/base",
            "_model_module_version": "1.2.0",
            "_model_name": "LayoutModel",
            "_view_count": null,
            "_view_module": "@jupyter-widgets/base",
            "_view_module_version": "1.2.0",
            "_view_name": "LayoutView",
            "align_content": null,
            "align_items": null,
            "align_self": null,
            "border": null,
            "bottom": null,
            "display": null,
            "flex": null,
            "flex_flow": null,
            "grid_area": null,
            "grid_auto_columns": null,
            "grid_auto_flow": null,
            "grid_auto_rows": null,
            "grid_column": null,
            "grid_gap": null,
            "grid_row": null,
            "grid_template_areas": null,
            "grid_template_columns": null,
            "grid_template_rows": null,
            "height": null,
            "justify_content": null,
            "justify_items": null,
            "left": null,
            "margin": null,
            "max_height": null,
            "max_width": null,
            "min_height": null,
            "min_width": null,
            "object_fit": null,
            "object_position": null,
            "order": null,
            "overflow": null,
            "overflow_x": null,
            "overflow_y": null,
            "padding": null,
            "right": null,
            "top": null,
            "visibility": null,
            "width": null
          }
        },
        "a4b832198e094788b1e90c83bf631786": {
          "model_module": "@jupyter-widgets/controls",
          "model_name": "ProgressStyleModel",
          "model_module_version": "1.5.0",
          "state": {
            "_model_module": "@jupyter-widgets/controls",
            "_model_module_version": "1.5.0",
            "_model_name": "ProgressStyleModel",
            "_view_count": null,
            "_view_module": "@jupyter-widgets/base",
            "_view_module_version": "1.2.0",
            "_view_name": "StyleView",
            "bar_color": null,
            "description_width": ""
          }
        },
        "420e9ba23d7246bf9aa84a6c733f6352": {
          "model_module": "@jupyter-widgets/base",
          "model_name": "LayoutModel",
          "model_module_version": "1.2.0",
          "state": {
            "_model_module": "@jupyter-widgets/base",
            "_model_module_version": "1.2.0",
            "_model_name": "LayoutModel",
            "_view_count": null,
            "_view_module": "@jupyter-widgets/base",
            "_view_module_version": "1.2.0",
            "_view_name": "LayoutView",
            "align_content": null,
            "align_items": null,
            "align_self": null,
            "border": null,
            "bottom": null,
            "display": null,
            "flex": null,
            "flex_flow": null,
            "grid_area": null,
            "grid_auto_columns": null,
            "grid_auto_flow": null,
            "grid_auto_rows": null,
            "grid_column": null,
            "grid_gap": null,
            "grid_row": null,
            "grid_template_areas": null,
            "grid_template_columns": null,
            "grid_template_rows": null,
            "height": null,
            "justify_content": null,
            "justify_items": null,
            "left": null,
            "margin": null,
            "max_height": null,
            "max_width": null,
            "min_height": null,
            "min_width": null,
            "object_fit": null,
            "object_position": null,
            "order": null,
            "overflow": null,
            "overflow_x": null,
            "overflow_y": null,
            "padding": null,
            "right": null,
            "top": null,
            "visibility": null,
            "width": null
          }
        },
        "19fcd4df45184c2381fce0ad35b66c3d": {
          "model_module": "@jupyter-widgets/controls",
          "model_name": "DescriptionStyleModel",
          "model_module_version": "1.5.0",
          "state": {
            "_model_module": "@jupyter-widgets/controls",
            "_model_module_version": "1.5.0",
            "_model_name": "DescriptionStyleModel",
            "_view_count": null,
            "_view_module": "@jupyter-widgets/base",
            "_view_module_version": "1.2.0",
            "_view_name": "StyleView",
            "description_width": ""
          }
        },
        "040046af52fb441587d545c858aef070": {
          "model_module": "@jupyter-widgets/controls",
          "model_name": "HBoxModel",
          "model_module_version": "1.5.0",
          "state": {
            "_dom_classes": [],
            "_model_module": "@jupyter-widgets/controls",
            "_model_module_version": "1.5.0",
            "_model_name": "HBoxModel",
            "_view_count": null,
            "_view_module": "@jupyter-widgets/controls",
            "_view_module_version": "1.5.0",
            "_view_name": "HBoxView",
            "box_style": "",
            "children": [
              "IPY_MODEL_bb58561e114446a5b2d25ba6faa1fced",
              "IPY_MODEL_22847c2ec3ca422595be490fb199c91c",
              "IPY_MODEL_53782cc62c4b4ea8b3c631f351beb4d6"
            ],
            "layout": "IPY_MODEL_9fb4e0fc942743429e9085857a226db7"
          }
        },
        "bb58561e114446a5b2d25ba6faa1fced": {
          "model_module": "@jupyter-widgets/controls",
          "model_name": "HTMLModel",
          "model_module_version": "1.5.0",
          "state": {
            "_dom_classes": [],
            "_model_module": "@jupyter-widgets/controls",
            "_model_module_version": "1.5.0",
            "_model_name": "HTMLModel",
            "_view_count": null,
            "_view_module": "@jupyter-widgets/controls",
            "_view_module_version": "1.5.0",
            "_view_name": "HTMLView",
            "description": "",
            "description_tooltip": null,
            "layout": "IPY_MODEL_8786bc020a34404a92918a526bcfa20d",
            "placeholder": "​",
            "style": "IPY_MODEL_1314dfbcf0814d89aba0859596fa80c7",
            "value": "model.safetensors: 100%"
          }
        },
        "22847c2ec3ca422595be490fb199c91c": {
          "model_module": "@jupyter-widgets/controls",
          "model_name": "FloatProgressModel",
          "model_module_version": "1.5.0",
          "state": {
            "_dom_classes": [],
            "_model_module": "@jupyter-widgets/controls",
            "_model_module_version": "1.5.0",
            "_model_name": "FloatProgressModel",
            "_view_count": null,
            "_view_module": "@jupyter-widgets/controls",
            "_view_module_version": "1.5.0",
            "_view_name": "ProgressView",
            "bar_style": "success",
            "description": "",
            "description_tooltip": null,
            "layout": "IPY_MODEL_fa6b9bd325c7462bbe87fda77cc00667",
            "max": 2471645608,
            "min": 0,
            "orientation": "horizontal",
            "style": "IPY_MODEL_39dd64a475e245039e62e0f0e7074fb8",
            "value": 2471645608
          }
        },
        "53782cc62c4b4ea8b3c631f351beb4d6": {
          "model_module": "@jupyter-widgets/controls",
          "model_name": "HTMLModel",
          "model_module_version": "1.5.0",
          "state": {
            "_dom_classes": [],
            "_model_module": "@jupyter-widgets/controls",
            "_model_module_version": "1.5.0",
            "_model_name": "HTMLModel",
            "_view_count": null,
            "_view_module": "@jupyter-widgets/controls",
            "_view_module_version": "1.5.0",
            "_view_name": "HTMLView",
            "description": "",
            "description_tooltip": null,
            "layout": "IPY_MODEL_411a29812aeb4119b5a85340e8fcc279",
            "placeholder": "​",
            "style": "IPY_MODEL_3c3b43d7825b4aa4ad224e759b326135",
            "value": " 2.47G/2.47G [00:59&lt;00:00, 140MB/s]"
          }
        },
        "9fb4e0fc942743429e9085857a226db7": {
          "model_module": "@jupyter-widgets/base",
          "model_name": "LayoutModel",
          "model_module_version": "1.2.0",
          "state": {
            "_model_module": "@jupyter-widgets/base",
            "_model_module_version": "1.2.0",
            "_model_name": "LayoutModel",
            "_view_count": null,
            "_view_module": "@jupyter-widgets/base",
            "_view_module_version": "1.2.0",
            "_view_name": "LayoutView",
            "align_content": null,
            "align_items": null,
            "align_self": null,
            "border": null,
            "bottom": null,
            "display": null,
            "flex": null,
            "flex_flow": null,
            "grid_area": null,
            "grid_auto_columns": null,
            "grid_auto_flow": null,
            "grid_auto_rows": null,
            "grid_column": null,
            "grid_gap": null,
            "grid_row": null,
            "grid_template_areas": null,
            "grid_template_columns": null,
            "grid_template_rows": null,
            "height": null,
            "justify_content": null,
            "justify_items": null,
            "left": null,
            "margin": null,
            "max_height": null,
            "max_width": null,
            "min_height": null,
            "min_width": null,
            "object_fit": null,
            "object_position": null,
            "order": null,
            "overflow": null,
            "overflow_x": null,
            "overflow_y": null,
            "padding": null,
            "right": null,
            "top": null,
            "visibility": null,
            "width": null
          }
        },
        "8786bc020a34404a92918a526bcfa20d": {
          "model_module": "@jupyter-widgets/base",
          "model_name": "LayoutModel",
          "model_module_version": "1.2.0",
          "state": {
            "_model_module": "@jupyter-widgets/base",
            "_model_module_version": "1.2.0",
            "_model_name": "LayoutModel",
            "_view_count": null,
            "_view_module": "@jupyter-widgets/base",
            "_view_module_version": "1.2.0",
            "_view_name": "LayoutView",
            "align_content": null,
            "align_items": null,
            "align_self": null,
            "border": null,
            "bottom": null,
            "display": null,
            "flex": null,
            "flex_flow": null,
            "grid_area": null,
            "grid_auto_columns": null,
            "grid_auto_flow": null,
            "grid_auto_rows": null,
            "grid_column": null,
            "grid_gap": null,
            "grid_row": null,
            "grid_template_areas": null,
            "grid_template_columns": null,
            "grid_template_rows": null,
            "height": null,
            "justify_content": null,
            "justify_items": null,
            "left": null,
            "margin": null,
            "max_height": null,
            "max_width": null,
            "min_height": null,
            "min_width": null,
            "object_fit": null,
            "object_position": null,
            "order": null,
            "overflow": null,
            "overflow_x": null,
            "overflow_y": null,
            "padding": null,
            "right": null,
            "top": null,
            "visibility": null,
            "width": null
          }
        },
        "1314dfbcf0814d89aba0859596fa80c7": {
          "model_module": "@jupyter-widgets/controls",
          "model_name": "DescriptionStyleModel",
          "model_module_version": "1.5.0",
          "state": {
            "_model_module": "@jupyter-widgets/controls",
            "_model_module_version": "1.5.0",
            "_model_name": "DescriptionStyleModel",
            "_view_count": null,
            "_view_module": "@jupyter-widgets/base",
            "_view_module_version": "1.2.0",
            "_view_name": "StyleView",
            "description_width": ""
          }
        },
        "fa6b9bd325c7462bbe87fda77cc00667": {
          "model_module": "@jupyter-widgets/base",
          "model_name": "LayoutModel",
          "model_module_version": "1.2.0",
          "state": {
            "_model_module": "@jupyter-widgets/base",
            "_model_module_version": "1.2.0",
            "_model_name": "LayoutModel",
            "_view_count": null,
            "_view_module": "@jupyter-widgets/base",
            "_view_module_version": "1.2.0",
            "_view_name": "LayoutView",
            "align_content": null,
            "align_items": null,
            "align_self": null,
            "border": null,
            "bottom": null,
            "display": null,
            "flex": null,
            "flex_flow": null,
            "grid_area": null,
            "grid_auto_columns": null,
            "grid_auto_flow": null,
            "grid_auto_rows": null,
            "grid_column": null,
            "grid_gap": null,
            "grid_row": null,
            "grid_template_areas": null,
            "grid_template_columns": null,
            "grid_template_rows": null,
            "height": null,
            "justify_content": null,
            "justify_items": null,
            "left": null,
            "margin": null,
            "max_height": null,
            "max_width": null,
            "min_height": null,
            "min_width": null,
            "object_fit": null,
            "object_position": null,
            "order": null,
            "overflow": null,
            "overflow_x": null,
            "overflow_y": null,
            "padding": null,
            "right": null,
            "top": null,
            "visibility": null,
            "width": null
          }
        },
        "39dd64a475e245039e62e0f0e7074fb8": {
          "model_module": "@jupyter-widgets/controls",
          "model_name": "ProgressStyleModel",
          "model_module_version": "1.5.0",
          "state": {
            "_model_module": "@jupyter-widgets/controls",
            "_model_module_version": "1.5.0",
            "_model_name": "ProgressStyleModel",
            "_view_count": null,
            "_view_module": "@jupyter-widgets/base",
            "_view_module_version": "1.2.0",
            "_view_name": "StyleView",
            "bar_color": null,
            "description_width": ""
          }
        },
        "411a29812aeb4119b5a85340e8fcc279": {
          "model_module": "@jupyter-widgets/base",
          "model_name": "LayoutModel",
          "model_module_version": "1.2.0",
          "state": {
            "_model_module": "@jupyter-widgets/base",
            "_model_module_version": "1.2.0",
            "_model_name": "LayoutModel",
            "_view_count": null,
            "_view_module": "@jupyter-widgets/base",
            "_view_module_version": "1.2.0",
            "_view_name": "LayoutView",
            "align_content": null,
            "align_items": null,
            "align_self": null,
            "border": null,
            "bottom": null,
            "display": null,
            "flex": null,
            "flex_flow": null,
            "grid_area": null,
            "grid_auto_columns": null,
            "grid_auto_flow": null,
            "grid_auto_rows": null,
            "grid_column": null,
            "grid_gap": null,
            "grid_row": null,
            "grid_template_areas": null,
            "grid_template_columns": null,
            "grid_template_rows": null,
            "height": null,
            "justify_content": null,
            "justify_items": null,
            "left": null,
            "margin": null,
            "max_height": null,
            "max_width": null,
            "min_height": null,
            "min_width": null,
            "object_fit": null,
            "object_position": null,
            "order": null,
            "overflow": null,
            "overflow_x": null,
            "overflow_y": null,
            "padding": null,
            "right": null,
            "top": null,
            "visibility": null,
            "width": null
          }
        },
        "3c3b43d7825b4aa4ad224e759b326135": {
          "model_module": "@jupyter-widgets/controls",
          "model_name": "DescriptionStyleModel",
          "model_module_version": "1.5.0",
          "state": {
            "_model_module": "@jupyter-widgets/controls",
            "_model_module_version": "1.5.0",
            "_model_name": "DescriptionStyleModel",
            "_view_count": null,
            "_view_module": "@jupyter-widgets/base",
            "_view_module_version": "1.2.0",
            "_view_name": "StyleView",
            "description_width": ""
          }
        },
        "976ba7a402d24fcbbed8b6f8004dc38a": {
          "model_module": "@jupyter-widgets/controls",
          "model_name": "HBoxModel",
          "model_module_version": "1.5.0",
          "state": {
            "_dom_classes": [],
            "_model_module": "@jupyter-widgets/controls",
            "_model_module_version": "1.5.0",
            "_model_name": "HBoxModel",
            "_view_count": null,
            "_view_module": "@jupyter-widgets/controls",
            "_view_module_version": "1.5.0",
            "_view_name": "HBoxView",
            "box_style": "",
            "children": [
              "IPY_MODEL_20c5f94425bc4812b164c77b4c749a98",
              "IPY_MODEL_a775a8638a2047d69b710305ea14fed6",
              "IPY_MODEL_6e5105adf50248bf82e129db0aee8ef2"
            ],
            "layout": "IPY_MODEL_be317a14c75f4bf79532909d6787e3d0"
          }
        },
        "20c5f94425bc4812b164c77b4c749a98": {
          "model_module": "@jupyter-widgets/controls",
          "model_name": "HTMLModel",
          "model_module_version": "1.5.0",
          "state": {
            "_dom_classes": [],
            "_model_module": "@jupyter-widgets/controls",
            "_model_module_version": "1.5.0",
            "_model_name": "HTMLModel",
            "_view_count": null,
            "_view_module": "@jupyter-widgets/controls",
            "_view_module_version": "1.5.0",
            "_view_name": "HTMLView",
            "description": "",
            "description_tooltip": null,
            "layout": "IPY_MODEL_f474f9cf6f1f4afa9879e97637c84bb2",
            "placeholder": "​",
            "style": "IPY_MODEL_39c3a7e90c3c47ada79f6e8072729732",
            "value": "generation_config.json: 100%"
          }
        },
        "a775a8638a2047d69b710305ea14fed6": {
          "model_module": "@jupyter-widgets/controls",
          "model_name": "FloatProgressModel",
          "model_module_version": "1.5.0",
          "state": {
            "_dom_classes": [],
            "_model_module": "@jupyter-widgets/controls",
            "_model_module_version": "1.5.0",
            "_model_name": "FloatProgressModel",
            "_view_count": null,
            "_view_module": "@jupyter-widgets/controls",
            "_view_module_version": "1.5.0",
            "_view_name": "ProgressView",
            "bar_style": "success",
            "description": "",
            "description_tooltip": null,
            "layout": "IPY_MODEL_a8abebc9f7bc433f880a716c81945751",
            "max": 189,
            "min": 0,
            "orientation": "horizontal",
            "style": "IPY_MODEL_f2eacb6b421046478f09aa95fdc24785",
            "value": 189
          }
        },
        "6e5105adf50248bf82e129db0aee8ef2": {
          "model_module": "@jupyter-widgets/controls",
          "model_name": "HTMLModel",
          "model_module_version": "1.5.0",
          "state": {
            "_dom_classes": [],
            "_model_module": "@jupyter-widgets/controls",
            "_model_module_version": "1.5.0",
            "_model_name": "HTMLModel",
            "_view_count": null,
            "_view_module": "@jupyter-widgets/controls",
            "_view_module_version": "1.5.0",
            "_view_name": "HTMLView",
            "description": "",
            "description_tooltip": null,
            "layout": "IPY_MODEL_720597bec2734da78998979140e2a70b",
            "placeholder": "​",
            "style": "IPY_MODEL_0d34a818527a438e842aa6d9374c1509",
            "value": " 189/189 [00:00&lt;00:00, 14.3kB/s]"
          }
        },
        "be317a14c75f4bf79532909d6787e3d0": {
          "model_module": "@jupyter-widgets/base",
          "model_name": "LayoutModel",
          "model_module_version": "1.2.0",
          "state": {
            "_model_module": "@jupyter-widgets/base",
            "_model_module_version": "1.2.0",
            "_model_name": "LayoutModel",
            "_view_count": null,
            "_view_module": "@jupyter-widgets/base",
            "_view_module_version": "1.2.0",
            "_view_name": "LayoutView",
            "align_content": null,
            "align_items": null,
            "align_self": null,
            "border": null,
            "bottom": null,
            "display": null,
            "flex": null,
            "flex_flow": null,
            "grid_area": null,
            "grid_auto_columns": null,
            "grid_auto_flow": null,
            "grid_auto_rows": null,
            "grid_column": null,
            "grid_gap": null,
            "grid_row": null,
            "grid_template_areas": null,
            "grid_template_columns": null,
            "grid_template_rows": null,
            "height": null,
            "justify_content": null,
            "justify_items": null,
            "left": null,
            "margin": null,
            "max_height": null,
            "max_width": null,
            "min_height": null,
            "min_width": null,
            "object_fit": null,
            "object_position": null,
            "order": null,
            "overflow": null,
            "overflow_x": null,
            "overflow_y": null,
            "padding": null,
            "right": null,
            "top": null,
            "visibility": null,
            "width": null
          }
        },
        "f474f9cf6f1f4afa9879e97637c84bb2": {
          "model_module": "@jupyter-widgets/base",
          "model_name": "LayoutModel",
          "model_module_version": "1.2.0",
          "state": {
            "_model_module": "@jupyter-widgets/base",
            "_model_module_version": "1.2.0",
            "_model_name": "LayoutModel",
            "_view_count": null,
            "_view_module": "@jupyter-widgets/base",
            "_view_module_version": "1.2.0",
            "_view_name": "LayoutView",
            "align_content": null,
            "align_items": null,
            "align_self": null,
            "border": null,
            "bottom": null,
            "display": null,
            "flex": null,
            "flex_flow": null,
            "grid_area": null,
            "grid_auto_columns": null,
            "grid_auto_flow": null,
            "grid_auto_rows": null,
            "grid_column": null,
            "grid_gap": null,
            "grid_row": null,
            "grid_template_areas": null,
            "grid_template_columns": null,
            "grid_template_rows": null,
            "height": null,
            "justify_content": null,
            "justify_items": null,
            "left": null,
            "margin": null,
            "max_height": null,
            "max_width": null,
            "min_height": null,
            "min_width": null,
            "object_fit": null,
            "object_position": null,
            "order": null,
            "overflow": null,
            "overflow_x": null,
            "overflow_y": null,
            "padding": null,
            "right": null,
            "top": null,
            "visibility": null,
            "width": null
          }
        },
        "39c3a7e90c3c47ada79f6e8072729732": {
          "model_module": "@jupyter-widgets/controls",
          "model_name": "DescriptionStyleModel",
          "model_module_version": "1.5.0",
          "state": {
            "_model_module": "@jupyter-widgets/controls",
            "_model_module_version": "1.5.0",
            "_model_name": "DescriptionStyleModel",
            "_view_count": null,
            "_view_module": "@jupyter-widgets/base",
            "_view_module_version": "1.2.0",
            "_view_name": "StyleView",
            "description_width": ""
          }
        },
        "a8abebc9f7bc433f880a716c81945751": {
          "model_module": "@jupyter-widgets/base",
          "model_name": "LayoutModel",
          "model_module_version": "1.2.0",
          "state": {
            "_model_module": "@jupyter-widgets/base",
            "_model_module_version": "1.2.0",
            "_model_name": "LayoutModel",
            "_view_count": null,
            "_view_module": "@jupyter-widgets/base",
            "_view_module_version": "1.2.0",
            "_view_name": "LayoutView",
            "align_content": null,
            "align_items": null,
            "align_self": null,
            "border": null,
            "bottom": null,
            "display": null,
            "flex": null,
            "flex_flow": null,
            "grid_area": null,
            "grid_auto_columns": null,
            "grid_auto_flow": null,
            "grid_auto_rows": null,
            "grid_column": null,
            "grid_gap": null,
            "grid_row": null,
            "grid_template_areas": null,
            "grid_template_columns": null,
            "grid_template_rows": null,
            "height": null,
            "justify_content": null,
            "justify_items": null,
            "left": null,
            "margin": null,
            "max_height": null,
            "max_width": null,
            "min_height": null,
            "min_width": null,
            "object_fit": null,
            "object_position": null,
            "order": null,
            "overflow": null,
            "overflow_x": null,
            "overflow_y": null,
            "padding": null,
            "right": null,
            "top": null,
            "visibility": null,
            "width": null
          }
        },
        "f2eacb6b421046478f09aa95fdc24785": {
          "model_module": "@jupyter-widgets/controls",
          "model_name": "ProgressStyleModel",
          "model_module_version": "1.5.0",
          "state": {
            "_model_module": "@jupyter-widgets/controls",
            "_model_module_version": "1.5.0",
            "_model_name": "ProgressStyleModel",
            "_view_count": null,
            "_view_module": "@jupyter-widgets/base",
            "_view_module_version": "1.2.0",
            "_view_name": "StyleView",
            "bar_color": null,
            "description_width": ""
          }
        },
        "720597bec2734da78998979140e2a70b": {
          "model_module": "@jupyter-widgets/base",
          "model_name": "LayoutModel",
          "model_module_version": "1.2.0",
          "state": {
            "_model_module": "@jupyter-widgets/base",
            "_model_module_version": "1.2.0",
            "_model_name": "LayoutModel",
            "_view_count": null,
            "_view_module": "@jupyter-widgets/base",
            "_view_module_version": "1.2.0",
            "_view_name": "LayoutView",
            "align_content": null,
            "align_items": null,
            "align_self": null,
            "border": null,
            "bottom": null,
            "display": null,
            "flex": null,
            "flex_flow": null,
            "grid_area": null,
            "grid_auto_columns": null,
            "grid_auto_flow": null,
            "grid_auto_rows": null,
            "grid_column": null,
            "grid_gap": null,
            "grid_row": null,
            "grid_template_areas": null,
            "grid_template_columns": null,
            "grid_template_rows": null,
            "height": null,
            "justify_content": null,
            "justify_items": null,
            "left": null,
            "margin": null,
            "max_height": null,
            "max_width": null,
            "min_height": null,
            "min_width": null,
            "object_fit": null,
            "object_position": null,
            "order": null,
            "overflow": null,
            "overflow_x": null,
            "overflow_y": null,
            "padding": null,
            "right": null,
            "top": null,
            "visibility": null,
            "width": null
          }
        },
        "0d34a818527a438e842aa6d9374c1509": {
          "model_module": "@jupyter-widgets/controls",
          "model_name": "DescriptionStyleModel",
          "model_module_version": "1.5.0",
          "state": {
            "_model_module": "@jupyter-widgets/controls",
            "_model_module_version": "1.5.0",
            "_model_name": "DescriptionStyleModel",
            "_view_count": null,
            "_view_module": "@jupyter-widgets/base",
            "_view_module_version": "1.2.0",
            "_view_name": "StyleView",
            "description_width": ""
          }
        },
        "1ae26ae6a8be4302a394f7d8a6077c4b": {
          "model_module": "@jupyter-widgets/controls",
          "model_name": "VBoxModel",
          "model_module_version": "1.5.0",
          "state": {
            "_dom_classes": [],
            "_model_module": "@jupyter-widgets/controls",
            "_model_module_version": "1.5.0",
            "_model_name": "VBoxModel",
            "_view_count": null,
            "_view_module": "@jupyter-widgets/controls",
            "_view_module_version": "1.5.0",
            "_view_name": "VBoxView",
            "box_style": "",
            "children": [
              "IPY_MODEL_5d3e87e796114d6c905e27009eac02d9",
              "IPY_MODEL_b1140ccfa25443aebc12e0f49e9428fe",
              "IPY_MODEL_0f2bbabef04a4884954c28200e5ed7b7",
              "IPY_MODEL_43c915384279425481f426479087b662",
              "IPY_MODEL_e2b1a5fafdec4fdf885a61a0c61d8c05"
            ],
            "layout": "IPY_MODEL_ffe634103ec04bca8223fb6cbe14023d"
          }
        },
        "5d3e87e796114d6c905e27009eac02d9": {
          "model_module": "@jupyter-widgets/controls",
          "model_name": "TextModel",
          "model_module_version": "1.5.0",
          "state": {
            "_dom_classes": [],
            "_model_module": "@jupyter-widgets/controls",
            "_model_module_version": "1.5.0",
            "_model_name": "TextModel",
            "_view_count": null,
            "_view_module": "@jupyter-widgets/controls",
            "_view_module_version": "1.5.0",
            "_view_name": "TextView",
            "continuous_update": true,
            "description": "Video URL:",
            "description_tooltip": null,
            "disabled": false,
            "layout": "IPY_MODEL_48b826232c8b4462add566d58e7c3cf1",
            "placeholder": "Paste YouTube video URL here...",
            "style": "IPY_MODEL_4ee456f48ca849f783ced694edb182d2",
            "value": "https://www.youtube.com/watch?v=Jd4cASkBAp0"
          }
        },
        "b1140ccfa25443aebc12e0f49e9428fe": {
          "model_module": "@jupyter-widgets/controls",
          "model_name": "HBoxModel",
          "model_module_version": "1.5.0",
          "state": {
            "_dom_classes": [],
            "_model_module": "@jupyter-widgets/controls",
            "_model_module_version": "1.5.0",
            "_model_name": "HBoxModel",
            "_view_count": null,
            "_view_module": "@jupyter-widgets/controls",
            "_view_module_version": "1.5.0",
            "_view_name": "HBoxView",
            "box_style": "",
            "children": [
              "IPY_MODEL_f32787dcd16242b4962ed0cecc2c38bb",
              "IPY_MODEL_b82ea65b5de04f598a1a1ffc5ec25876"
            ],
            "layout": "IPY_MODEL_556cf8d8a5494a07b3637b6bac6fed71"
          }
        },
        "0f2bbabef04a4884954c28200e5ed7b7": {
          "model_module": "@jupyter-widgets/controls",
          "model_name": "HBoxModel",
          "model_module_version": "1.5.0",
          "state": {
            "_dom_classes": [],
            "_model_module": "@jupyter-widgets/controls",
            "_model_module_version": "1.5.0",
            "_model_name": "HBoxModel",
            "_view_count": null,
            "_view_module": "@jupyter-widgets/controls",
            "_view_module_version": "1.5.0",
            "_view_name": "HBoxView",
            "box_style": "",
            "children": [
              "IPY_MODEL_40ba47c66a18490681fc44f9cb9b6ca9",
              "IPY_MODEL_6218ef60e1974e58b7e7086556f06c21"
            ],
            "layout": "IPY_MODEL_923614ea59164d57ad30c2ae7f799859"
          }
        },
        "43c915384279425481f426479087b662": {
          "model_module": "@jupyter-widgets/controls",
          "model_name": "HBoxModel",
          "model_module_version": "1.5.0",
          "state": {
            "_dom_classes": [],
            "_model_module": "@jupyter-widgets/controls",
            "_model_module_version": "1.5.0",
            "_model_name": "HBoxModel",
            "_view_count": null,
            "_view_module": "@jupyter-widgets/controls",
            "_view_module_version": "1.5.0",
            "_view_name": "HBoxView",
            "box_style": "",
            "children": [
              "IPY_MODEL_2b16981c3c974cc79e03973d48919f4f",
              "IPY_MODEL_83ef376775bc4381baa82549cd01c682",
              "IPY_MODEL_7068638e5bca4804b50316d36e8ea98d"
            ],
            "layout": "IPY_MODEL_3ffacafd6f734013ac01f4dbdfdf3585"
          }
        },
        "e2b1a5fafdec4fdf885a61a0c61d8c05": {
          "model_module": "@jupyter-widgets/output",
          "model_name": "OutputModel",
          "model_module_version": "1.0.0",
          "state": {
            "_dom_classes": [],
            "_model_module": "@jupyter-widgets/output",
            "_model_module_version": "1.0.0",
            "_model_name": "OutputModel",
            "_view_count": null,
            "_view_module": "@jupyter-widgets/output",
            "_view_module_version": "1.0.0",
            "_view_name": "OutputView",
            "layout": "IPY_MODEL_023e404a1bc14b74a1d957a9d56ccc4b",
            "msg_id": "",
            "outputs": []
          }
        },
        "ffe634103ec04bca8223fb6cbe14023d": {
          "model_module": "@jupyter-widgets/base",
          "model_name": "LayoutModel",
          "model_module_version": "1.2.0",
          "state": {
            "_model_module": "@jupyter-widgets/base",
            "_model_module_version": "1.2.0",
            "_model_name": "LayoutModel",
            "_view_count": null,
            "_view_module": "@jupyter-widgets/base",
            "_view_module_version": "1.2.0",
            "_view_name": "LayoutView",
            "align_content": null,
            "align_items": null,
            "align_self": null,
            "border": null,
            "bottom": null,
            "display": null,
            "flex": null,
            "flex_flow": null,
            "grid_area": null,
            "grid_auto_columns": null,
            "grid_auto_flow": null,
            "grid_auto_rows": null,
            "grid_column": null,
            "grid_gap": null,
            "grid_row": null,
            "grid_template_areas": null,
            "grid_template_columns": null,
            "grid_template_rows": null,
            "height": null,
            "justify_content": null,
            "justify_items": null,
            "left": null,
            "margin": null,
            "max_height": null,
            "max_width": null,
            "min_height": null,
            "min_width": null,
            "object_fit": null,
            "object_position": null,
            "order": null,
            "overflow": null,
            "overflow_x": null,
            "overflow_y": null,
            "padding": null,
            "right": null,
            "top": null,
            "visibility": null,
            "width": null
          }
        },
        "48b826232c8b4462add566d58e7c3cf1": {
          "model_module": "@jupyter-widgets/base",
          "model_name": "LayoutModel",
          "model_module_version": "1.2.0",
          "state": {
            "_model_module": "@jupyter-widgets/base",
            "_model_module_version": "1.2.0",
            "_model_name": "LayoutModel",
            "_view_count": null,
            "_view_module": "@jupyter-widgets/base",
            "_view_module_version": "1.2.0",
            "_view_name": "LayoutView",
            "align_content": null,
            "align_items": null,
            "align_self": null,
            "border": null,
            "bottom": null,
            "display": null,
            "flex": null,
            "flex_flow": null,
            "grid_area": null,
            "grid_auto_columns": null,
            "grid_auto_flow": null,
            "grid_auto_rows": null,
            "grid_column": null,
            "grid_gap": null,
            "grid_row": null,
            "grid_template_areas": null,
            "grid_template_columns": null,
            "grid_template_rows": null,
            "height": null,
            "justify_content": null,
            "justify_items": null,
            "left": null,
            "margin": null,
            "max_height": null,
            "max_width": null,
            "min_height": null,
            "min_width": null,
            "object_fit": null,
            "object_position": null,
            "order": null,
            "overflow": null,
            "overflow_x": null,
            "overflow_y": null,
            "padding": null,
            "right": null,
            "top": null,
            "visibility": null,
            "width": "600px"
          }
        },
        "4ee456f48ca849f783ced694edb182d2": {
          "model_module": "@jupyter-widgets/controls",
          "model_name": "DescriptionStyleModel",
          "model_module_version": "1.5.0",
          "state": {
            "_model_module": "@jupyter-widgets/controls",
            "_model_module_version": "1.5.0",
            "_model_name": "DescriptionStyleModel",
            "_view_count": null,
            "_view_module": "@jupyter-widgets/base",
            "_view_module_version": "1.2.0",
            "_view_name": "StyleView",
            "description_width": "150px"
          }
        },
        "f32787dcd16242b4962ed0cecc2c38bb": {
          "model_module": "@jupyter-widgets/controls",
          "model_name": "IntSliderModel",
          "model_module_version": "1.5.0",
          "state": {
            "_dom_classes": [],
            "_model_module": "@jupyter-widgets/controls",
            "_model_module_version": "1.5.0",
            "_model_name": "IntSliderModel",
            "_view_count": null,
            "_view_module": "@jupyter-widgets/controls",
            "_view_module_version": "1.5.0",
            "_view_name": "IntSliderView",
            "continuous_update": true,
            "description": "Max Comments:",
            "description_tooltip": null,
            "disabled": false,
            "layout": "IPY_MODEL_bb5f3588f9c042ed99f9e069061bdd77",
            "max": 500,
            "min": 10,
            "orientation": "horizontal",
            "readout": true,
            "readout_format": "d",
            "step": 10,
            "style": "IPY_MODEL_7325f6aa471747beb1010eb0aef0d9e9",
            "value": 50
          }
        },
        "b82ea65b5de04f598a1a1ffc5ec25876": {
          "model_module": "@jupyter-widgets/controls",
          "model_name": "CheckboxModel",
          "model_module_version": "1.5.0",
          "state": {
            "_dom_classes": [],
            "_model_module": "@jupyter-widgets/controls",
            "_model_module_version": "1.5.0",
            "_model_name": "CheckboxModel",
            "_view_count": null,
            "_view_module": "@jupyter-widgets/controls",
            "_view_module_version": "1.5.0",
            "_view_name": "CheckboxView",
            "description": "Show comments during processing",
            "description_tooltip": null,
            "disabled": false,
            "indent": true,
            "layout": "IPY_MODEL_bb5f3588f9c042ed99f9e069061bdd77",
            "style": "IPY_MODEL_776526fddadd413a8e96977fd2743137",
            "value": true
          }
        },
        "556cf8d8a5494a07b3637b6bac6fed71": {
          "model_module": "@jupyter-widgets/base",
          "model_name": "LayoutModel",
          "model_module_version": "1.2.0",
          "state": {
            "_model_module": "@jupyter-widgets/base",
            "_model_module_version": "1.2.0",
            "_model_name": "LayoutModel",
            "_view_count": null,
            "_view_module": "@jupyter-widgets/base",
            "_view_module_version": "1.2.0",
            "_view_name": "LayoutView",
            "align_content": null,
            "align_items": null,
            "align_self": null,
            "border": null,
            "bottom": null,
            "display": null,
            "flex": null,
            "flex_flow": null,
            "grid_area": null,
            "grid_auto_columns": null,
            "grid_auto_flow": null,
            "grid_auto_rows": null,
            "grid_column": null,
            "grid_gap": null,
            "grid_row": null,
            "grid_template_areas": null,
            "grid_template_columns": null,
            "grid_template_rows": null,
            "height": null,
            "justify_content": null,
            "justify_items": null,
            "left": null,
            "margin": null,
            "max_height": null,
            "max_width": null,
            "min_height": null,
            "min_width": null,
            "object_fit": null,
            "object_position": null,
            "order": null,
            "overflow": null,
            "overflow_x": null,
            "overflow_y": null,
            "padding": null,
            "right": null,
            "top": null,
            "visibility": null,
            "width": null
          }
        },
        "40ba47c66a18490681fc44f9cb9b6ca9": {
          "model_module": "@jupyter-widgets/controls",
          "model_name": "CheckboxModel",
          "model_module_version": "1.5.0",
          "state": {
            "_dom_classes": [],
            "_model_module": "@jupyter-widgets/controls",
            "_model_module_version": "1.5.0",
            "_model_name": "CheckboxModel",
            "_view_count": null,
            "_view_module": "@jupyter-widgets/controls",
            "_view_module_version": "1.5.0",
            "_view_name": "CheckboxView",
            "description": "Truncate long comments",
            "description_tooltip": null,
            "disabled": false,
            "indent": true,
            "layout": "IPY_MODEL_bb5f3588f9c042ed99f9e069061bdd77",
            "style": "IPY_MODEL_b46d615d8d8e4cb699832677bce25898",
            "value": true
          }
        },
        "6218ef60e1974e58b7e7086556f06c21": {
          "model_module": "@jupyter-widgets/controls",
          "model_name": "IntSliderModel",
          "model_module_version": "1.5.0",
          "state": {
            "_dom_classes": [],
            "_model_module": "@jupyter-widgets/controls",
            "_model_module_version": "1.5.0",
            "_model_name": "IntSliderModel",
            "_view_count": null,
            "_view_module": "@jupyter-widgets/controls",
            "_view_module_version": "1.5.0",
            "_view_name": "IntSliderView",
            "continuous_update": true,
            "description": "Max Length:",
            "description_tooltip": null,
            "disabled": false,
            "layout": "IPY_MODEL_bb5f3588f9c042ed99f9e069061bdd77",
            "max": 300,
            "min": 50,
            "orientation": "horizontal",
            "readout": true,
            "readout_format": "d",
            "step": 25,
            "style": "IPY_MODEL_d4286cf820624d318bc8694a8810308a",
            "value": 150
          }
        },
        "923614ea59164d57ad30c2ae7f799859": {
          "model_module": "@jupyter-widgets/base",
          "model_name": "LayoutModel",
          "model_module_version": "1.2.0",
          "state": {
            "_model_module": "@jupyter-widgets/base",
            "_model_module_version": "1.2.0",
            "_model_name": "LayoutModel",
            "_view_count": null,
            "_view_module": "@jupyter-widgets/base",
            "_view_module_version": "1.2.0",
            "_view_name": "LayoutView",
            "align_content": null,
            "align_items": null,
            "align_self": null,
            "border": null,
            "bottom": null,
            "display": null,
            "flex": null,
            "flex_flow": null,
            "grid_area": null,
            "grid_auto_columns": null,
            "grid_auto_flow": null,
            "grid_auto_rows": null,
            "grid_column": null,
            "grid_gap": null,
            "grid_row": null,
            "grid_template_areas": null,
            "grid_template_columns": null,
            "grid_template_rows": null,
            "height": null,
            "justify_content": null,
            "justify_items": null,
            "left": null,
            "margin": null,
            "max_height": null,
            "max_width": null,
            "min_height": null,
            "min_width": null,
            "object_fit": null,
            "object_position": null,
            "order": null,
            "overflow": null,
            "overflow_x": null,
            "overflow_y": null,
            "padding": null,
            "right": null,
            "top": null,
            "visibility": null,
            "width": null
          }
        },
        "2b16981c3c974cc79e03973d48919f4f": {
          "model_module": "@jupyter-widgets/controls",
          "model_name": "ButtonModel",
          "model_module_version": "1.5.0",
          "state": {
            "_dom_classes": [],
            "_model_module": "@jupyter-widgets/controls",
            "_model_module_version": "1.5.0",
            "_model_name": "ButtonModel",
            "_view_count": null,
            "_view_module": "@jupyter-widgets/controls",
            "_view_module_version": "1.5.0",
            "_view_name": "ButtonView",
            "button_style": "success",
            "description": "Start Analysis",
            "disabled": false,
            "icon": "play",
            "layout": "IPY_MODEL_0d170c3c591f4e8584fe705bb8e8eb84",
            "style": "IPY_MODEL_eaed1b5441764972b018d681aeecc5cf",
            "tooltip": ""
          }
        },
        "83ef376775bc4381baa82549cd01c682": {
          "model_module": "@jupyter-widgets/controls",
          "model_name": "ButtonModel",
          "model_module_version": "1.5.0",
          "state": {
            "_dom_classes": [],
            "_model_module": "@jupyter-widgets/controls",
            "_model_module_version": "1.5.0",
            "_model_name": "ButtonModel",
            "_view_count": null,
            "_view_module": "@jupyter-widgets/controls",
            "_view_module_version": "1.5.0",
            "_view_name": "ButtonView",
            "button_style": "danger",
            "description": "Stop Analysis",
            "disabled": false,
            "icon": "stop",
            "layout": "IPY_MODEL_4ecd02b58290476490906c7a5f2c3ddd",
            "style": "IPY_MODEL_65843ce924e04820a2f5f3ee9d195bf8",
            "tooltip": ""
          }
        },
        "7068638e5bca4804b50316d36e8ea98d": {
          "model_module": "@jupyter-widgets/controls",
          "model_name": "ButtonModel",
          "model_module_version": "1.5.0",
          "state": {
            "_dom_classes": [],
            "_model_module": "@jupyter-widgets/controls",
            "_model_module_version": "1.5.0",
            "_model_name": "ButtonModel",
            "_view_count": null,
            "_view_module": "@jupyter-widgets/controls",
            "_view_module_version": "1.5.0",
            "_view_name": "ButtonView",
            "button_style": "info",
            "description": "Clear Results",
            "disabled": false,
            "icon": "refresh",
            "layout": "IPY_MODEL_2c3e774397cb46adb5e177b58d0dda62",
            "style": "IPY_MODEL_c0011ac5359e4854b3118cf08a991f66",
            "tooltip": ""
          }
        },
        "3ffacafd6f734013ac01f4dbdfdf3585": {
          "model_module": "@jupyter-widgets/base",
          "model_name": "LayoutModel",
          "model_module_version": "1.2.0",
          "state": {
            "_model_module": "@jupyter-widgets/base",
            "_model_module_version": "1.2.0",
            "_model_name": "LayoutModel",
            "_view_count": null,
            "_view_module": "@jupyter-widgets/base",
            "_view_module_version": "1.2.0",
            "_view_name": "LayoutView",
            "align_content": null,
            "align_items": null,
            "align_self": null,
            "border": null,
            "bottom": null,
            "display": null,
            "flex": null,
            "flex_flow": null,
            "grid_area": null,
            "grid_auto_columns": null,
            "grid_auto_flow": null,
            "grid_auto_rows": null,
            "grid_column": null,
            "grid_gap": null,
            "grid_row": null,
            "grid_template_areas": null,
            "grid_template_columns": null,
            "grid_template_rows": null,
            "height": null,
            "justify_content": null,
            "justify_items": null,
            "left": null,
            "margin": null,
            "max_height": null,
            "max_width": null,
            "min_height": null,
            "min_width": null,
            "object_fit": null,
            "object_position": null,
            "order": null,
            "overflow": null,
            "overflow_x": null,
            "overflow_y": null,
            "padding": null,
            "right": null,
            "top": null,
            "visibility": null,
            "width": null
          }
        },
        "bb5f3588f9c042ed99f9e069061bdd77": {
          "model_module": "@jupyter-widgets/base",
          "model_name": "LayoutModel",
          "model_module_version": "1.2.0",
          "state": {
            "_model_module": "@jupyter-widgets/base",
            "_model_module_version": "1.2.0",
            "_model_name": "LayoutModel",
            "_view_count": null,
            "_view_module": "@jupyter-widgets/base",
            "_view_module_version": "1.2.0",
            "_view_name": "LayoutView",
            "align_content": null,
            "align_items": null,
            "align_self": null,
            "border": null,
            "bottom": null,
            "display": null,
            "flex": null,
            "flex_flow": null,
            "grid_area": null,
            "grid_auto_columns": null,
            "grid_auto_flow": null,
            "grid_auto_rows": null,
            "grid_column": null,
            "grid_gap": null,
            "grid_row": null,
            "grid_template_areas": null,
            "grid_template_columns": null,
            "grid_template_rows": null,
            "height": null,
            "justify_content": null,
            "justify_items": null,
            "left": null,
            "margin": null,
            "max_height": null,
            "max_width": null,
            "min_height": null,
            "min_width": null,
            "object_fit": null,
            "object_position": null,
            "order": null,
            "overflow": null,
            "overflow_x": null,
            "overflow_y": null,
            "padding": null,
            "right": null,
            "top": null,
            "visibility": null,
            "width": "400px"
          }
        },
        "7325f6aa471747beb1010eb0aef0d9e9": {
          "model_module": "@jupyter-widgets/controls",
          "model_name": "SliderStyleModel",
          "model_module_version": "1.5.0",
          "state": {
            "_model_module": "@jupyter-widgets/controls",
            "_model_module_version": "1.5.0",
            "_model_name": "SliderStyleModel",
            "_view_count": null,
            "_view_module": "@jupyter-widgets/base",
            "_view_module_version": "1.2.0",
            "_view_name": "StyleView",
            "description_width": "150px",
            "handle_color": null
          }
        },
        "776526fddadd413a8e96977fd2743137": {
          "model_module": "@jupyter-widgets/controls",
          "model_name": "DescriptionStyleModel",
          "model_module_version": "1.5.0",
          "state": {
            "_model_module": "@jupyter-widgets/controls",
            "_model_module_version": "1.5.0",
            "_model_name": "DescriptionStyleModel",
            "_view_count": null,
            "_view_module": "@jupyter-widgets/base",
            "_view_module_version": "1.2.0",
            "_view_name": "StyleView",
            "description_width": "150px"
          }
        },
        "b46d615d8d8e4cb699832677bce25898": {
          "model_module": "@jupyter-widgets/controls",
          "model_name": "DescriptionStyleModel",
          "model_module_version": "1.5.0",
          "state": {
            "_model_module": "@jupyter-widgets/controls",
            "_model_module_version": "1.5.0",
            "_model_name": "DescriptionStyleModel",
            "_view_count": null,
            "_view_module": "@jupyter-widgets/base",
            "_view_module_version": "1.2.0",
            "_view_name": "StyleView",
            "description_width": "150px"
          }
        },
        "d4286cf820624d318bc8694a8810308a": {
          "model_module": "@jupyter-widgets/controls",
          "model_name": "SliderStyleModel",
          "model_module_version": "1.5.0",
          "state": {
            "_model_module": "@jupyter-widgets/controls",
            "_model_module_version": "1.5.0",
            "_model_name": "SliderStyleModel",
            "_view_count": null,
            "_view_module": "@jupyter-widgets/base",
            "_view_module_version": "1.2.0",
            "_view_name": "StyleView",
            "description_width": "150px",
            "handle_color": null
          }
        },
        "0d170c3c591f4e8584fe705bb8e8eb84": {
          "model_module": "@jupyter-widgets/base",
          "model_name": "LayoutModel",
          "model_module_version": "1.2.0",
          "state": {
            "_model_module": "@jupyter-widgets/base",
            "_model_module_version": "1.2.0",
            "_model_name": "LayoutModel",
            "_view_count": null,
            "_view_module": "@jupyter-widgets/base",
            "_view_module_version": "1.2.0",
            "_view_name": "LayoutView",
            "align_content": null,
            "align_items": null,
            "align_self": null,
            "border": null,
            "bottom": null,
            "display": null,
            "flex": null,
            "flex_flow": null,
            "grid_area": null,
            "grid_auto_columns": null,
            "grid_auto_flow": null,
            "grid_auto_rows": null,
            "grid_column": null,
            "grid_gap": null,
            "grid_row": null,
            "grid_template_areas": null,
            "grid_template_columns": null,
            "grid_template_rows": null,
            "height": "40px",
            "justify_content": null,
            "justify_items": null,
            "left": null,
            "margin": null,
            "max_height": null,
            "max_width": null,
            "min_height": null,
            "min_width": null,
            "object_fit": null,
            "object_position": null,
            "order": null,
            "overflow": null,
            "overflow_x": null,
            "overflow_y": null,
            "padding": null,
            "right": null,
            "top": null,
            "visibility": null,
            "width": "200px"
          }
        },
        "eaed1b5441764972b018d681aeecc5cf": {
          "model_module": "@jupyter-widgets/controls",
          "model_name": "ButtonStyleModel",
          "model_module_version": "1.5.0",
          "state": {
            "_model_module": "@jupyter-widgets/controls",
            "_model_module_version": "1.5.0",
            "_model_name": "ButtonStyleModel",
            "_view_count": null,
            "_view_module": "@jupyter-widgets/base",
            "_view_module_version": "1.2.0",
            "_view_name": "StyleView",
            "button_color": null,
            "font_weight": ""
          }
        },
        "4ecd02b58290476490906c7a5f2c3ddd": {
          "model_module": "@jupyter-widgets/base",
          "model_name": "LayoutModel",
          "model_module_version": "1.2.0",
          "state": {
            "_model_module": "@jupyter-widgets/base",
            "_model_module_version": "1.2.0",
            "_model_name": "LayoutModel",
            "_view_count": null,
            "_view_module": "@jupyter-widgets/base",
            "_view_module_version": "1.2.0",
            "_view_name": "LayoutView",
            "align_content": null,
            "align_items": null,
            "align_self": null,
            "border": null,
            "bottom": null,
            "display": null,
            "flex": null,
            "flex_flow": null,
            "grid_area": null,
            "grid_auto_columns": null,
            "grid_auto_flow": null,
            "grid_auto_rows": null,
            "grid_column": null,
            "grid_gap": null,
            "grid_row": null,
            "grid_template_areas": null,
            "grid_template_columns": null,
            "grid_template_rows": null,
            "height": "40px",
            "justify_content": null,
            "justify_items": null,
            "left": null,
            "margin": null,
            "max_height": null,
            "max_width": null,
            "min_height": null,
            "min_width": null,
            "object_fit": null,
            "object_position": null,
            "order": null,
            "overflow": null,
            "overflow_x": null,
            "overflow_y": null,
            "padding": null,
            "right": null,
            "top": null,
            "visibility": null,
            "width": "200px"
          }
        },
        "65843ce924e04820a2f5f3ee9d195bf8": {
          "model_module": "@jupyter-widgets/controls",
          "model_name": "ButtonStyleModel",
          "model_module_version": "1.5.0",
          "state": {
            "_model_module": "@jupyter-widgets/controls",
            "_model_module_version": "1.5.0",
            "_model_name": "ButtonStyleModel",
            "_view_count": null,
            "_view_module": "@jupyter-widgets/base",
            "_view_module_version": "1.2.0",
            "_view_name": "StyleView",
            "button_color": null,
            "font_weight": ""
          }
        },
        "2c3e774397cb46adb5e177b58d0dda62": {
          "model_module": "@jupyter-widgets/base",
          "model_name": "LayoutModel",
          "model_module_version": "1.2.0",
          "state": {
            "_model_module": "@jupyter-widgets/base",
            "_model_module_version": "1.2.0",
            "_model_name": "LayoutModel",
            "_view_count": null,
            "_view_module": "@jupyter-widgets/base",
            "_view_module_version": "1.2.0",
            "_view_name": "LayoutView",
            "align_content": null,
            "align_items": null,
            "align_self": null,
            "border": null,
            "bottom": null,
            "display": null,
            "flex": null,
            "flex_flow": null,
            "grid_area": null,
            "grid_auto_columns": null,
            "grid_auto_flow": null,
            "grid_auto_rows": null,
            "grid_column": null,
            "grid_gap": null,
            "grid_row": null,
            "grid_template_areas": null,
            "grid_template_columns": null,
            "grid_template_rows": null,
            "height": "40px",
            "justify_content": null,
            "justify_items": null,
            "left": null,
            "margin": null,
            "max_height": null,
            "max_width": null,
            "min_height": null,
            "min_width": null,
            "object_fit": null,
            "object_position": null,
            "order": null,
            "overflow": null,
            "overflow_x": null,
            "overflow_y": null,
            "padding": null,
            "right": null,
            "top": null,
            "visibility": null,
            "width": "200px"
          }
        },
        "c0011ac5359e4854b3118cf08a991f66": {
          "model_module": "@jupyter-widgets/controls",
          "model_name": "ButtonStyleModel",
          "model_module_version": "1.5.0",
          "state": {
            "_model_module": "@jupyter-widgets/controls",
            "_model_module_version": "1.5.0",
            "_model_name": "ButtonStyleModel",
            "_view_count": null,
            "_view_module": "@jupyter-widgets/base",
            "_view_module_version": "1.2.0",
            "_view_name": "StyleView",
            "button_color": null,
            "font_weight": ""
          }
        },
        "023e404a1bc14b74a1d957a9d56ccc4b": {
          "model_module": "@jupyter-widgets/base",
          "model_name": "LayoutModel",
          "model_module_version": "1.2.0",
          "state": {
            "_model_module": "@jupyter-widgets/base",
            "_model_module_version": "1.2.0",
            "_model_name": "LayoutModel",
            "_view_count": null,
            "_view_module": "@jupyter-widgets/base",
            "_view_module_version": "1.2.0",
            "_view_name": "LayoutView",
            "align_content": null,
            "align_items": null,
            "align_self": null,
            "border": null,
            "bottom": null,
            "display": null,
            "flex": null,
            "flex_flow": null,
            "grid_area": null,
            "grid_auto_columns": null,
            "grid_auto_flow": null,
            "grid_auto_rows": null,
            "grid_column": null,
            "grid_gap": null,
            "grid_row": null,
            "grid_template_areas": null,
            "grid_template_columns": null,
            "grid_template_rows": null,
            "height": null,
            "justify_content": null,
            "justify_items": null,
            "left": null,
            "margin": null,
            "max_height": null,
            "max_width": null,
            "min_height": null,
            "min_width": null,
            "object_fit": null,
            "object_position": null,
            "order": null,
            "overflow": null,
            "overflow_x": null,
            "overflow_y": null,
            "padding": null,
            "right": null,
            "top": null,
            "visibility": null,
            "width": null
          }
        }
      }
    }
  },
  "cells": [
    {
      "cell_type": "markdown",
      "source": [
        "## Complete Setup & Installation\n",
        "This cell installs all necessary libraries for the project. It includes bitsandbytes for model quantization, flash-attn for performance optimization (optional but recommended on compatible GPUs), and other core dependencies."
      ],
      "metadata": {
        "id": "4IRzm9OnQo3w"
      }
    },
    {
      "cell_type": "code",
      "source": [
        "#!pip install bitsandbytes\n",
        "# run bit only one time (no need to run everytime)"
      ],
      "metadata": {
        "colab": {
          "base_uri": "https://localhost:8080/",
          "height": 1000
        },
        "id": "R1bzhoT8gURY",
        "outputId": "25a56f3b-bd7b-4192-92b8-07d4da68734e"
      },
      "execution_count": null,
      "outputs": [
        {
          "output_type": "stream",
          "name": "stdout",
          "text": [
            "Collecting bitsandbytes\n",
            "  Downloading bitsandbytes-0.46.0-py3-none-manylinux_2_24_x86_64.whl.metadata (10 kB)\n",
            "Requirement already satisfied: torch<3,>=2.2 in /usr/local/lib/python3.11/dist-packages (from bitsandbytes) (2.6.0+cu124)\n",
            "Requirement already satisfied: numpy>=1.17 in /usr/local/lib/python3.11/dist-packages (from bitsandbytes) (2.0.2)\n",
            "Requirement already satisfied: filelock in /usr/local/lib/python3.11/dist-packages (from torch<3,>=2.2->bitsandbytes) (3.18.0)\n",
            "Requirement already satisfied: typing-extensions>=4.10.0 in /usr/local/lib/python3.11/dist-packages (from torch<3,>=2.2->bitsandbytes) (4.14.0)\n",
            "Requirement already satisfied: networkx in /usr/local/lib/python3.11/dist-packages (from torch<3,>=2.2->bitsandbytes) (3.5)\n",
            "Requirement already satisfied: jinja2 in /usr/local/lib/python3.11/dist-packages (from torch<3,>=2.2->bitsandbytes) (3.1.6)\n",
            "Requirement already satisfied: fsspec in /usr/local/lib/python3.11/dist-packages (from torch<3,>=2.2->bitsandbytes) (2025.3.2)\n",
            "Collecting nvidia-cuda-nvrtc-cu12==12.4.127 (from torch<3,>=2.2->bitsandbytes)\n",
            "  Downloading nvidia_cuda_nvrtc_cu12-12.4.127-py3-none-manylinux2014_x86_64.whl.metadata (1.5 kB)\n",
            "Collecting nvidia-cuda-runtime-cu12==12.4.127 (from torch<3,>=2.2->bitsandbytes)\n",
            "  Downloading nvidia_cuda_runtime_cu12-12.4.127-py3-none-manylinux2014_x86_64.whl.metadata (1.5 kB)\n",
            "Collecting nvidia-cuda-cupti-cu12==12.4.127 (from torch<3,>=2.2->bitsandbytes)\n",
            "  Downloading nvidia_cuda_cupti_cu12-12.4.127-py3-none-manylinux2014_x86_64.whl.metadata (1.6 kB)\n",
            "Collecting nvidia-cudnn-cu12==9.1.0.70 (from torch<3,>=2.2->bitsandbytes)\n",
            "  Downloading nvidia_cudnn_cu12-9.1.0.70-py3-none-manylinux2014_x86_64.whl.metadata (1.6 kB)\n",
            "Collecting nvidia-cublas-cu12==12.4.5.8 (from torch<3,>=2.2->bitsandbytes)\n",
            "  Downloading nvidia_cublas_cu12-12.4.5.8-py3-none-manylinux2014_x86_64.whl.metadata (1.5 kB)\n",
            "Collecting nvidia-cufft-cu12==11.2.1.3 (from torch<3,>=2.2->bitsandbytes)\n",
            "  Downloading nvidia_cufft_cu12-11.2.1.3-py3-none-manylinux2014_x86_64.whl.metadata (1.5 kB)\n",
            "Collecting nvidia-curand-cu12==10.3.5.147 (from torch<3,>=2.2->bitsandbytes)\n",
            "  Downloading nvidia_curand_cu12-10.3.5.147-py3-none-manylinux2014_x86_64.whl.metadata (1.5 kB)\n",
            "Collecting nvidia-cusolver-cu12==11.6.1.9 (from torch<3,>=2.2->bitsandbytes)\n",
            "  Downloading nvidia_cusolver_cu12-11.6.1.9-py3-none-manylinux2014_x86_64.whl.metadata (1.6 kB)\n",
            "Collecting nvidia-cusparse-cu12==12.3.1.170 (from torch<3,>=2.2->bitsandbytes)\n",
            "  Downloading nvidia_cusparse_cu12-12.3.1.170-py3-none-manylinux2014_x86_64.whl.metadata (1.6 kB)\n",
            "Requirement already satisfied: nvidia-cusparselt-cu12==0.6.2 in /usr/local/lib/python3.11/dist-packages (from torch<3,>=2.2->bitsandbytes) (0.6.2)\n",
            "Requirement already satisfied: nvidia-nccl-cu12==2.21.5 in /usr/local/lib/python3.11/dist-packages (from torch<3,>=2.2->bitsandbytes) (2.21.5)\n",
            "Requirement already satisfied: nvidia-nvtx-cu12==12.4.127 in /usr/local/lib/python3.11/dist-packages (from torch<3,>=2.2->bitsandbytes) (12.4.127)\n",
            "Collecting nvidia-nvjitlink-cu12==12.4.127 (from torch<3,>=2.2->bitsandbytes)\n",
            "  Downloading nvidia_nvjitlink_cu12-12.4.127-py3-none-manylinux2014_x86_64.whl.metadata (1.5 kB)\n",
            "Requirement already satisfied: triton==3.2.0 in /usr/local/lib/python3.11/dist-packages (from torch<3,>=2.2->bitsandbytes) (3.2.0)\n",
            "Requirement already satisfied: sympy==1.13.1 in /usr/local/lib/python3.11/dist-packages (from torch<3,>=2.2->bitsandbytes) (1.13.1)\n",
            "Requirement already satisfied: mpmath<1.4,>=1.1.0 in /usr/local/lib/python3.11/dist-packages (from sympy==1.13.1->torch<3,>=2.2->bitsandbytes) (1.3.0)\n",
            "Requirement already satisfied: MarkupSafe>=2.0 in /usr/local/lib/python3.11/dist-packages (from jinja2->torch<3,>=2.2->bitsandbytes) (3.0.2)\n",
            "Downloading bitsandbytes-0.46.0-py3-none-manylinux_2_24_x86_64.whl (67.0 MB)\n",
            "\u001b[2K   \u001b[90m━━━━━━━━━━━━━━━━━━━━━━━━━━━━━━━━━━━━━━━━\u001b[0m \u001b[32m67.0/67.0 MB\u001b[0m \u001b[31m14.2 MB/s\u001b[0m eta \u001b[36m0:00:00\u001b[0m\n",
            "\u001b[?25hDownloading nvidia_cublas_cu12-12.4.5.8-py3-none-manylinux2014_x86_64.whl (363.4 MB)\n",
            "\u001b[2K   \u001b[90m━━━━━━━━━━━━━━━━━━━━━━━━━━━━━━━━━━━━━━━━\u001b[0m \u001b[32m363.4/363.4 MB\u001b[0m \u001b[31m4.5 MB/s\u001b[0m eta \u001b[36m0:00:00\u001b[0m\n",
            "\u001b[?25hDownloading nvidia_cuda_cupti_cu12-12.4.127-py3-none-manylinux2014_x86_64.whl (13.8 MB)\n",
            "\u001b[2K   \u001b[90m━━━━━━━━━━━━━━━━━━━━━━━━━━━━━━━━━━━━━━━━\u001b[0m \u001b[32m13.8/13.8 MB\u001b[0m \u001b[31m47.9 MB/s\u001b[0m eta \u001b[36m0:00:00\u001b[0m\n",
            "\u001b[?25hDownloading nvidia_cuda_nvrtc_cu12-12.4.127-py3-none-manylinux2014_x86_64.whl (24.6 MB)\n",
            "\u001b[2K   \u001b[90m━━━━━━━━━━━━━━━━━━━━━━━━━━━━━━━━━━━━━━━━\u001b[0m \u001b[32m24.6/24.6 MB\u001b[0m \u001b[31m29.3 MB/s\u001b[0m eta \u001b[36m0:00:00\u001b[0m\n",
            "\u001b[?25hDownloading nvidia_cuda_runtime_cu12-12.4.127-py3-none-manylinux2014_x86_64.whl (883 kB)\n",
            "\u001b[2K   \u001b[90m━━━━━━━━━━━━━━━━━━━━━━━━━━━━━━━━━━━━━━━━\u001b[0m \u001b[32m883.7/883.7 kB\u001b[0m \u001b[31m17.4 MB/s\u001b[0m eta \u001b[36m0:00:00\u001b[0m\n",
            "\u001b[?25hDownloading nvidia_cudnn_cu12-9.1.0.70-py3-none-manylinux2014_x86_64.whl (664.8 MB)\n",
            "\u001b[2K   \u001b[90m━━━━━━━━━━━━━━━━━━━━━━━━━━━━━━━━━━━━━━━━\u001b[0m \u001b[32m664.8/664.8 MB\u001b[0m \u001b[31m2.3 MB/s\u001b[0m eta \u001b[36m0:00:00\u001b[0m\n",
            "\u001b[?25hDownloading nvidia_cufft_cu12-11.2.1.3-py3-none-manylinux2014_x86_64.whl (211.5 MB)\n",
            "\u001b[2K   \u001b[90m━━━━━━━━━━━━━━━━━━━━━━━━━━━━━━━━━━━━━━━━\u001b[0m \u001b[32m211.5/211.5 MB\u001b[0m \u001b[31m6.0 MB/s\u001b[0m eta \u001b[36m0:00:00\u001b[0m\n",
            "\u001b[?25hDownloading nvidia_curand_cu12-10.3.5.147-py3-none-manylinux2014_x86_64.whl (56.3 MB)\n",
            "\u001b[2K   \u001b[90m━━━━━━━━━━━━━━━━━━━━━━━━━━━━━━━━━━━━━━━━\u001b[0m \u001b[32m56.3/56.3 MB\u001b[0m \u001b[31m14.3 MB/s\u001b[0m eta \u001b[36m0:00:00\u001b[0m\n",
            "\u001b[?25hDownloading nvidia_cusolver_cu12-11.6.1.9-py3-none-manylinux2014_x86_64.whl (127.9 MB)\n",
            "\u001b[2K   \u001b[90m━━━━━━━━━━━━━━━━━━━━━━━━━━━━━━━━━━━━━━━━\u001b[0m \u001b[32m127.9/127.9 MB\u001b[0m \u001b[31m8.3 MB/s\u001b[0m eta \u001b[36m0:00:00\u001b[0m\n",
            "\u001b[?25hDownloading nvidia_cusparse_cu12-12.3.1.170-py3-none-manylinux2014_x86_64.whl (207.5 MB)\n",
            "\u001b[2K   \u001b[90m━━━━━━━━━━━━━━━━━━━━━━━━━━━━━━━━━━━━━━━━\u001b[0m \u001b[32m207.5/207.5 MB\u001b[0m \u001b[31m6.0 MB/s\u001b[0m eta \u001b[36m0:00:00\u001b[0m\n",
            "\u001b[?25hDownloading nvidia_nvjitlink_cu12-12.4.127-py3-none-manylinux2014_x86_64.whl (21.1 MB)\n",
            "\u001b[2K   \u001b[90m━━━━━━━━━━━━━━━━━━━━━━━━━━━━━━━━━━━━━━━━\u001b[0m \u001b[32m21.1/21.1 MB\u001b[0m \u001b[31m75.6 MB/s\u001b[0m eta \u001b[36m0:00:00\u001b[0m\n",
            "\u001b[?25hInstalling collected packages: nvidia-nvjitlink-cu12, nvidia-curand-cu12, nvidia-cufft-cu12, nvidia-cuda-runtime-cu12, nvidia-cuda-nvrtc-cu12, nvidia-cuda-cupti-cu12, nvidia-cublas-cu12, nvidia-cusparse-cu12, nvidia-cudnn-cu12, nvidia-cusolver-cu12, bitsandbytes\n",
            "  Attempting uninstall: nvidia-nvjitlink-cu12\n",
            "    Found existing installation: nvidia-nvjitlink-cu12 12.5.82\n",
            "    Uninstalling nvidia-nvjitlink-cu12-12.5.82:\n",
            "      Successfully uninstalled nvidia-nvjitlink-cu12-12.5.82\n",
            "  Attempting uninstall: nvidia-curand-cu12\n",
            "    Found existing installation: nvidia-curand-cu12 10.3.6.82\n",
            "    Uninstalling nvidia-curand-cu12-10.3.6.82:\n",
            "      Successfully uninstalled nvidia-curand-cu12-10.3.6.82\n",
            "  Attempting uninstall: nvidia-cufft-cu12\n",
            "    Found existing installation: nvidia-cufft-cu12 11.2.3.61\n",
            "    Uninstalling nvidia-cufft-cu12-11.2.3.61:\n",
            "      Successfully uninstalled nvidia-cufft-cu12-11.2.3.61\n",
            "  Attempting uninstall: nvidia-cuda-runtime-cu12\n",
            "    Found existing installation: nvidia-cuda-runtime-cu12 12.5.82\n",
            "    Uninstalling nvidia-cuda-runtime-cu12-12.5.82:\n",
            "      Successfully uninstalled nvidia-cuda-runtime-cu12-12.5.82\n",
            "  Attempting uninstall: nvidia-cuda-nvrtc-cu12\n",
            "    Found existing installation: nvidia-cuda-nvrtc-cu12 12.5.82\n",
            "    Uninstalling nvidia-cuda-nvrtc-cu12-12.5.82:\n",
            "      Successfully uninstalled nvidia-cuda-nvrtc-cu12-12.5.82\n",
            "  Attempting uninstall: nvidia-cuda-cupti-cu12\n",
            "    Found existing installation: nvidia-cuda-cupti-cu12 12.5.82\n",
            "    Uninstalling nvidia-cuda-cupti-cu12-12.5.82:\n",
            "      Successfully uninstalled nvidia-cuda-cupti-cu12-12.5.82\n",
            "  Attempting uninstall: nvidia-cublas-cu12\n",
            "    Found existing installation: nvidia-cublas-cu12 12.5.3.2\n",
            "    Uninstalling nvidia-cublas-cu12-12.5.3.2:\n",
            "      Successfully uninstalled nvidia-cublas-cu12-12.5.3.2\n",
            "  Attempting uninstall: nvidia-cusparse-cu12\n",
            "    Found existing installation: nvidia-cusparse-cu12 12.5.1.3\n",
            "    Uninstalling nvidia-cusparse-cu12-12.5.1.3:\n",
            "      Successfully uninstalled nvidia-cusparse-cu12-12.5.1.3\n",
            "  Attempting uninstall: nvidia-cudnn-cu12\n",
            "    Found existing installation: nvidia-cudnn-cu12 9.3.0.75\n",
            "    Uninstalling nvidia-cudnn-cu12-9.3.0.75:\n",
            "      Successfully uninstalled nvidia-cudnn-cu12-9.3.0.75\n",
            "  Attempting uninstall: nvidia-cusolver-cu12\n",
            "    Found existing installation: nvidia-cusolver-cu12 11.6.3.83\n",
            "    Uninstalling nvidia-cusolver-cu12-11.6.3.83:\n",
            "      Successfully uninstalled nvidia-cusolver-cu12-11.6.3.83\n",
            "Successfully installed bitsandbytes-0.46.0 nvidia-cublas-cu12-12.4.5.8 nvidia-cuda-cupti-cu12-12.4.127 nvidia-cuda-nvrtc-cu12-12.4.127 nvidia-cuda-runtime-cu12-12.4.127 nvidia-cudnn-cu12-9.1.0.70 nvidia-cufft-cu12-11.2.1.3 nvidia-curand-cu12-10.3.5.147 nvidia-cusolver-cu12-11.6.1.9 nvidia-cusparse-cu12-12.3.1.170 nvidia-nvjitlink-cu12-12.4.127\n"
          ]
        },
        {
          "output_type": "display_data",
          "data": {
            "application/vnd.colab-display-data+json": {
              "pip_warning": {
                "packages": [
                  "nvidia"
                ]
              },
              "id": "1ef68f90202045aeb441a22541eb8d5b"
            }
          },
          "metadata": {}
        }
      ]
    },
    {
      "cell_type": "markdown",
      "source": [
        "### Import Core Libraries\n",
        "This cell imports all the required Python modules. This includes torch for deep learning, transformers for interacting with the Llama model, googleapiclient for the YouTube API, and various libraries for data handling and visualization."
      ],
      "metadata": {
        "id": "lTa0Nav_Q7qv"
      }
    },
    {
      "cell_type": "code",
      "source": [
        "# !pip install flash-attn --no-build-isolation"
      ],
      "metadata": {
        "colab": {
          "base_uri": "https://localhost:8080/"
        },
        "id": "up2B36AZ7jOR",
        "outputId": "a064c3bb-9816-4564-fb1a-3a9361ef5147"
      },
      "execution_count": null,
      "outputs": [
        {
          "output_type": "stream",
          "name": "stdout",
          "text": [
            "Requirement already satisfied: flash-attn in /usr/local/lib/python3.11/dist-packages (2.8.0.post2)\n",
            "Requirement already satisfied: torch in /usr/local/lib/python3.11/dist-packages (from flash-attn) (2.6.0+cu124)\n",
            "Requirement already satisfied: einops in /usr/local/lib/python3.11/dist-packages (from flash-attn) (0.8.1)\n",
            "Requirement already satisfied: filelock in /usr/local/lib/python3.11/dist-packages (from torch->flash-attn) (3.18.0)\n",
            "Requirement already satisfied: typing-extensions>=4.10.0 in /usr/local/lib/python3.11/dist-packages (from torch->flash-attn) (4.14.0)\n",
            "Requirement already satisfied: networkx in /usr/local/lib/python3.11/dist-packages (from torch->flash-attn) (3.5)\n",
            "Requirement already satisfied: jinja2 in /usr/local/lib/python3.11/dist-packages (from torch->flash-attn) (3.1.6)\n",
            "Requirement already satisfied: fsspec in /usr/local/lib/python3.11/dist-packages (from torch->flash-attn) (2025.3.2)\n",
            "Requirement already satisfied: nvidia-cuda-nvrtc-cu12==12.4.127 in /usr/local/lib/python3.11/dist-packages (from torch->flash-attn) (12.4.127)\n",
            "Requirement already satisfied: nvidia-cuda-runtime-cu12==12.4.127 in /usr/local/lib/python3.11/dist-packages (from torch->flash-attn) (12.4.127)\n",
            "Requirement already satisfied: nvidia-cuda-cupti-cu12==12.4.127 in /usr/local/lib/python3.11/dist-packages (from torch->flash-attn) (12.4.127)\n",
            "Requirement already satisfied: nvidia-cudnn-cu12==9.1.0.70 in /usr/local/lib/python3.11/dist-packages (from torch->flash-attn) (9.1.0.70)\n",
            "Requirement already satisfied: nvidia-cublas-cu12==12.4.5.8 in /usr/local/lib/python3.11/dist-packages (from torch->flash-attn) (12.4.5.8)\n",
            "Requirement already satisfied: nvidia-cufft-cu12==11.2.1.3 in /usr/local/lib/python3.11/dist-packages (from torch->flash-attn) (11.2.1.3)\n",
            "Requirement already satisfied: nvidia-curand-cu12==10.3.5.147 in /usr/local/lib/python3.11/dist-packages (from torch->flash-attn) (10.3.5.147)\n",
            "Requirement already satisfied: nvidia-cusolver-cu12==11.6.1.9 in /usr/local/lib/python3.11/dist-packages (from torch->flash-attn) (11.6.1.9)\n",
            "Requirement already satisfied: nvidia-cusparse-cu12==12.3.1.170 in /usr/local/lib/python3.11/dist-packages (from torch->flash-attn) (12.3.1.170)\n",
            "Requirement already satisfied: nvidia-cusparselt-cu12==0.6.2 in /usr/local/lib/python3.11/dist-packages (from torch->flash-attn) (0.6.2)\n",
            "Requirement already satisfied: nvidia-nccl-cu12==2.21.5 in /usr/local/lib/python3.11/dist-packages (from torch->flash-attn) (2.21.5)\n",
            "Requirement already satisfied: nvidia-nvtx-cu12==12.4.127 in /usr/local/lib/python3.11/dist-packages (from torch->flash-attn) (12.4.127)\n",
            "Requirement already satisfied: nvidia-nvjitlink-cu12==12.4.127 in /usr/local/lib/python3.11/dist-packages (from torch->flash-attn) (12.4.127)\n",
            "Requirement already satisfied: triton==3.2.0 in /usr/local/lib/python3.11/dist-packages (from torch->flash-attn) (3.2.0)\n",
            "Requirement already satisfied: sympy==1.13.1 in /usr/local/lib/python3.11/dist-packages (from torch->flash-attn) (1.13.1)\n",
            "Requirement already satisfied: mpmath<1.4,>=1.1.0 in /usr/local/lib/python3.11/dist-packages (from sympy==1.13.1->torch->flash-attn) (1.3.0)\n",
            "Requirement already satisfied: MarkupSafe>=2.0 in /usr/local/lib/python3.11/dist-packages (from jinja2->torch->flash-attn) (3.0.2)\n"
          ]
        }
      ]
    },
    {
      "cell_type": "code",
      "source": [
        "import torch\n",
        "import pandas as pd\n",
        "import re\n",
        "import time\n",
        "import os\n",
        "from transformers import pipeline, AutoModelForCausalLM, AutoTokenizer, BitsAndBytesConfig\n",
        "from huggingface_hub import login\n",
        "from google.colab import userdata\n",
        "from googleapiclient.discovery import build\n",
        "from googleapiclient.errors import HttpError\n",
        "from urllib.parse import urlparse, parse_qs\n",
        "\n",
        "print(\"Libraries imported successfully.\")"
      ],
      "metadata": {
        "colab": {
          "base_uri": "https://localhost:8080/"
        },
        "id": "jyZrVK8keR1W",
        "outputId": "26a015ef-0d7e-4e1a-e8c1-514e151d2c45"
      },
      "execution_count": null,
      "outputs": [
        {
          "output_type": "stream",
          "name": "stdout",
          "text": [
            "Libraries imported successfully.\n"
          ]
        }
      ]
    },
    {
      "cell_type": "markdown",
      "source": [
        "### API Authentication\n",
        "This cell handles authentication. It uses Colab's userdata to securely access your Hugging Face token for model downloads and defines a helper function get_youtube_api_key to retrieve your Google API key for fetching YouTube comments."
      ],
      "metadata": {
        "id": "estM5RCZRDuH"
      }
    },
    {
      "cell_type": "code",
      "source": [
        "# Cell 3: API Authentication\n",
        "\n",
        "# --- Hugging Face Login ---\n",
        "try:\n",
        "    hf_token = userdata.get('HF_TOKEN')\n",
        "    login(token=hf_token)\n",
        "    print(\"Hugging Face login successful.\")\n",
        "except Exception as e:\n",
        "    print(f\"Hugging Face login failed. Please ensure 'HF_TOKEN' is set in Colab secrets. Error: {e}\")\n",
        "\n",
        "# --- YouTube API Key Helper Function ---\n",
        "def get_youtube_api_key():\n",
        "    \"\"\"Gets the YouTube API key from Colab secrets.\"\"\"\n",
        "    try:\n",
        "        api_key = userdata.get('YOUTUBE_API_KEY')\n",
        "        if not api_key:\n",
        "            raise ValueError(\"YouTube API Key not found. Please add it to Colab secrets.\")\n",
        "        return api_key\n",
        "    except Exception as e:\n",
        "        print(f\"Error retrieving YouTube API key: {e}\")\n",
        "        return None"
      ],
      "metadata": {
        "colab": {
          "base_uri": "https://localhost:8080/"
        },
        "id": "xTP5uqyOeUVr",
        "outputId": "00ea126a-ec5f-4215-e00f-0127c241c51c"
      },
      "execution_count": null,
      "outputs": [
        {
          "output_type": "stream",
          "name": "stdout",
          "text": [
            "Hugging Face login successful.\n"
          ]
        }
      ]
    },
    {
      "cell_type": "code",
      "source": [
        "# # Cell 4: Model and Pipeline Configuration\n",
        "\n",
        "# # Define the model ID and check for GPU availability\n",
        "# MODEL_ID = \"meta-llama/Llama-3.2-3B-Instruct\"\n",
        "# device = \"cuda\" if torch.cuda.is_available() else \"cpu\"\n",
        "# print(f\"Using device: {device}\")\n",
        "\n",
        "# # Configure 4-bit quantization to save memory\n",
        "# quantization_config = BitsAndBytesConfig(\n",
        "#     load_in_4bit=True,\n",
        "#     bnb_4bit_quant_type=\"nf4\",\n",
        "#     bnb_4bit_compute_dtype=torch.bfloat16,\n",
        "#     bnb_4bit_use_double_quant=True,  # Additional optimization for 3.2B model\n",
        "# )\n",
        "\n",
        "# # Load tokenizer and model\n",
        "# print(f\"Loading model: {MODEL_ID}...\")\n",
        "\n",
        "# tokenizer = AutoTokenizer.from_pretrained(\n",
        "#     MODEL_ID,\n",
        "#     padding_side=\"left\",  # Better for batch processing\n",
        "#     trust_remote_code=True\n",
        "# )\n",
        "\n",
        "# # Set pad token if not present\n",
        "# if tokenizer.pad_token is None:\n",
        "#     tokenizer.pad_token = tokenizer.eos_token\n"
      ],
      "metadata": {
        "id": "uZJQIoEqeVN-"
      },
      "execution_count": null,
      "outputs": []
    },
    {
      "cell_type": "markdown",
      "source": [
        "### Model and Pipeline Configuration\n",
        "This cell loads the meta-llama/Llama-3.2-1B-Instruct model. It applies 4-bit quantization using BitsAndBytesConfig to reduce memory usage, making it suitable for a T4 GPU. It also checks for and enables Flash Attention 2 for faster inference if available. Finally, it creates an optimized text-generation pipeline."
      ],
      "metadata": {
        "id": "Hx2rVz9FROiN"
      }
    },
    {
      "cell_type": "code",
      "source": [
        "!pip install bitsandbytes"
      ],
      "metadata": {
        "id": "3opcgVnn8L_U",
        "colab": {
          "base_uri": "https://localhost:8080/",
          "height": 1000
        },
        "outputId": "03d0008d-30a4-44e1-b431-85d37a315c54"
      },
      "execution_count": null,
      "outputs": [
        {
          "output_type": "stream",
          "name": "stdout",
          "text": [
            "Collecting bitsandbytes\n",
            "  Downloading bitsandbytes-0.46.0-py3-none-manylinux_2_24_x86_64.whl.metadata (10 kB)\n",
            "Requirement already satisfied: torch<3,>=2.2 in /usr/local/lib/python3.11/dist-packages (from bitsandbytes) (2.6.0+cu124)\n",
            "Requirement already satisfied: numpy>=1.17 in /usr/local/lib/python3.11/dist-packages (from bitsandbytes) (2.0.2)\n",
            "Requirement already satisfied: filelock in /usr/local/lib/python3.11/dist-packages (from torch<3,>=2.2->bitsandbytes) (3.18.0)\n",
            "Requirement already satisfied: typing-extensions>=4.10.0 in /usr/local/lib/python3.11/dist-packages (from torch<3,>=2.2->bitsandbytes) (4.14.0)\n",
            "Requirement already satisfied: networkx in /usr/local/lib/python3.11/dist-packages (from torch<3,>=2.2->bitsandbytes) (3.5)\n",
            "Requirement already satisfied: jinja2 in /usr/local/lib/python3.11/dist-packages (from torch<3,>=2.2->bitsandbytes) (3.1.6)\n",
            "Requirement already satisfied: fsspec in /usr/local/lib/python3.11/dist-packages (from torch<3,>=2.2->bitsandbytes) (2025.3.2)\n",
            "Collecting nvidia-cuda-nvrtc-cu12==12.4.127 (from torch<3,>=2.2->bitsandbytes)\n",
            "  Downloading nvidia_cuda_nvrtc_cu12-12.4.127-py3-none-manylinux2014_x86_64.whl.metadata (1.5 kB)\n",
            "Collecting nvidia-cuda-runtime-cu12==12.4.127 (from torch<3,>=2.2->bitsandbytes)\n",
            "  Downloading nvidia_cuda_runtime_cu12-12.4.127-py3-none-manylinux2014_x86_64.whl.metadata (1.5 kB)\n",
            "Collecting nvidia-cuda-cupti-cu12==12.4.127 (from torch<3,>=2.2->bitsandbytes)\n",
            "  Downloading nvidia_cuda_cupti_cu12-12.4.127-py3-none-manylinux2014_x86_64.whl.metadata (1.6 kB)\n",
            "Collecting nvidia-cudnn-cu12==9.1.0.70 (from torch<3,>=2.2->bitsandbytes)\n",
            "  Downloading nvidia_cudnn_cu12-9.1.0.70-py3-none-manylinux2014_x86_64.whl.metadata (1.6 kB)\n",
            "Collecting nvidia-cublas-cu12==12.4.5.8 (from torch<3,>=2.2->bitsandbytes)\n",
            "  Downloading nvidia_cublas_cu12-12.4.5.8-py3-none-manylinux2014_x86_64.whl.metadata (1.5 kB)\n",
            "Collecting nvidia-cufft-cu12==11.2.1.3 (from torch<3,>=2.2->bitsandbytes)\n",
            "  Downloading nvidia_cufft_cu12-11.2.1.3-py3-none-manylinux2014_x86_64.whl.metadata (1.5 kB)\n",
            "Collecting nvidia-curand-cu12==10.3.5.147 (from torch<3,>=2.2->bitsandbytes)\n",
            "  Downloading nvidia_curand_cu12-10.3.5.147-py3-none-manylinux2014_x86_64.whl.metadata (1.5 kB)\n",
            "Collecting nvidia-cusolver-cu12==11.6.1.9 (from torch<3,>=2.2->bitsandbytes)\n",
            "  Downloading nvidia_cusolver_cu12-11.6.1.9-py3-none-manylinux2014_x86_64.whl.metadata (1.6 kB)\n",
            "Collecting nvidia-cusparse-cu12==12.3.1.170 (from torch<3,>=2.2->bitsandbytes)\n",
            "  Downloading nvidia_cusparse_cu12-12.3.1.170-py3-none-manylinux2014_x86_64.whl.metadata (1.6 kB)\n",
            "Requirement already satisfied: nvidia-cusparselt-cu12==0.6.2 in /usr/local/lib/python3.11/dist-packages (from torch<3,>=2.2->bitsandbytes) (0.6.2)\n",
            "Requirement already satisfied: nvidia-nccl-cu12==2.21.5 in /usr/local/lib/python3.11/dist-packages (from torch<3,>=2.2->bitsandbytes) (2.21.5)\n",
            "Requirement already satisfied: nvidia-nvtx-cu12==12.4.127 in /usr/local/lib/python3.11/dist-packages (from torch<3,>=2.2->bitsandbytes) (12.4.127)\n",
            "Collecting nvidia-nvjitlink-cu12==12.4.127 (from torch<3,>=2.2->bitsandbytes)\n",
            "  Downloading nvidia_nvjitlink_cu12-12.4.127-py3-none-manylinux2014_x86_64.whl.metadata (1.5 kB)\n",
            "Requirement already satisfied: triton==3.2.0 in /usr/local/lib/python3.11/dist-packages (from torch<3,>=2.2->bitsandbytes) (3.2.0)\n",
            "Requirement already satisfied: sympy==1.13.1 in /usr/local/lib/python3.11/dist-packages (from torch<3,>=2.2->bitsandbytes) (1.13.1)\n",
            "Requirement already satisfied: mpmath<1.4,>=1.1.0 in /usr/local/lib/python3.11/dist-packages (from sympy==1.13.1->torch<3,>=2.2->bitsandbytes) (1.3.0)\n",
            "Requirement already satisfied: MarkupSafe>=2.0 in /usr/local/lib/python3.11/dist-packages (from jinja2->torch<3,>=2.2->bitsandbytes) (3.0.2)\n",
            "Downloading bitsandbytes-0.46.0-py3-none-manylinux_2_24_x86_64.whl (67.0 MB)\n",
            "\u001b[2K   \u001b[90m━━━━━━━━━━━━━━━━━━━━━━━━━━━━━━━━━━━━━━━━\u001b[0m \u001b[32m67.0/67.0 MB\u001b[0m \u001b[31m12.9 MB/s\u001b[0m eta \u001b[36m0:00:00\u001b[0m\n",
            "\u001b[?25hDownloading nvidia_cublas_cu12-12.4.5.8-py3-none-manylinux2014_x86_64.whl (363.4 MB)\n",
            "\u001b[2K   \u001b[90m━━━━━━━━━━━━━━━━━━━━━━━━━━━━━━━━━━━━━━━━\u001b[0m \u001b[32m363.4/363.4 MB\u001b[0m \u001b[31m4.5 MB/s\u001b[0m eta \u001b[36m0:00:00\u001b[0m\n",
            "\u001b[?25hDownloading nvidia_cuda_cupti_cu12-12.4.127-py3-none-manylinux2014_x86_64.whl (13.8 MB)\n",
            "\u001b[2K   \u001b[90m━━━━━━━━━━━━━━━━━━━━━━━━━━━━━━━━━━━━━━━━\u001b[0m \u001b[32m13.8/13.8 MB\u001b[0m \u001b[31m113.2 MB/s\u001b[0m eta \u001b[36m0:00:00\u001b[0m\n",
            "\u001b[?25hDownloading nvidia_cuda_nvrtc_cu12-12.4.127-py3-none-manylinux2014_x86_64.whl (24.6 MB)\n",
            "\u001b[2K   \u001b[90m━━━━━━━━━━━━━━━━━━━━━━━━━━━━━━━━━━━━━━━━\u001b[0m \u001b[32m24.6/24.6 MB\u001b[0m \u001b[31m88.8 MB/s\u001b[0m eta \u001b[36m0:00:00\u001b[0m\n",
            "\u001b[?25hDownloading nvidia_cuda_runtime_cu12-12.4.127-py3-none-manylinux2014_x86_64.whl (883 kB)\n",
            "\u001b[2K   \u001b[90m━━━━━━━━━━━━━━━━━━━━━━━━━━━━━━━━━━━━━━━━\u001b[0m \u001b[32m883.7/883.7 kB\u001b[0m \u001b[31m60.7 MB/s\u001b[0m eta \u001b[36m0:00:00\u001b[0m\n",
            "\u001b[?25hDownloading nvidia_cudnn_cu12-9.1.0.70-py3-none-manylinux2014_x86_64.whl (664.8 MB)\n",
            "\u001b[2K   \u001b[90m━━━━━━━━━━━━━━━━━━━━━━━━━━━━━━━━━━━━━━━━\u001b[0m \u001b[32m664.8/664.8 MB\u001b[0m \u001b[31m1.3 MB/s\u001b[0m eta \u001b[36m0:00:00\u001b[0m\n",
            "\u001b[?25hDownloading nvidia_cufft_cu12-11.2.1.3-py3-none-manylinux2014_x86_64.whl (211.5 MB)\n",
            "\u001b[2K   \u001b[90m━━━━━━━━━━━━━━━━━━━━━━━━━━━━━━━━━━━━━━━━\u001b[0m \u001b[32m211.5/211.5 MB\u001b[0m \u001b[31m6.4 MB/s\u001b[0m eta \u001b[36m0:00:00\u001b[0m\n",
            "\u001b[?25hDownloading nvidia_curand_cu12-10.3.5.147-py3-none-manylinux2014_x86_64.whl (56.3 MB)\n",
            "\u001b[2K   \u001b[90m━━━━━━━━━━━━━━━━━━━━━━━━━━━━━━━━━━━━━━━━\u001b[0m \u001b[32m56.3/56.3 MB\u001b[0m \u001b[31m14.5 MB/s\u001b[0m eta \u001b[36m0:00:00\u001b[0m\n",
            "\u001b[?25hDownloading nvidia_cusolver_cu12-11.6.1.9-py3-none-manylinux2014_x86_64.whl (127.9 MB)\n",
            "\u001b[2K   \u001b[90m━━━━━━━━━━━━━━━━━━━━━━━━━━━━━━━━━━━━━━━━\u001b[0m \u001b[32m127.9/127.9 MB\u001b[0m \u001b[31m8.6 MB/s\u001b[0m eta \u001b[36m0:00:00\u001b[0m\n",
            "\u001b[?25hDownloading nvidia_cusparse_cu12-12.3.1.170-py3-none-manylinux2014_x86_64.whl (207.5 MB)\n",
            "\u001b[2K   \u001b[90m━━━━━━━━━━━━━━━━━━━━━━━━━━━━━━━━━━━━━━━━\u001b[0m \u001b[32m207.5/207.5 MB\u001b[0m \u001b[31m6.5 MB/s\u001b[0m eta \u001b[36m0:00:00\u001b[0m\n",
            "\u001b[?25hDownloading nvidia_nvjitlink_cu12-12.4.127-py3-none-manylinux2014_x86_64.whl (21.1 MB)\n",
            "\u001b[2K   \u001b[90m━━━━━━━━━━━━━━━━━━━━━━━━━━━━━━━━━━━━━━━━\u001b[0m \u001b[32m21.1/21.1 MB\u001b[0m \u001b[31m100.4 MB/s\u001b[0m eta \u001b[36m0:00:00\u001b[0m\n",
            "\u001b[?25hInstalling collected packages: nvidia-nvjitlink-cu12, nvidia-curand-cu12, nvidia-cufft-cu12, nvidia-cuda-runtime-cu12, nvidia-cuda-nvrtc-cu12, nvidia-cuda-cupti-cu12, nvidia-cublas-cu12, nvidia-cusparse-cu12, nvidia-cudnn-cu12, nvidia-cusolver-cu12, bitsandbytes\n",
            "  Attempting uninstall: nvidia-nvjitlink-cu12\n",
            "    Found existing installation: nvidia-nvjitlink-cu12 12.5.82\n",
            "    Uninstalling nvidia-nvjitlink-cu12-12.5.82:\n",
            "      Successfully uninstalled nvidia-nvjitlink-cu12-12.5.82\n",
            "  Attempting uninstall: nvidia-curand-cu12\n",
            "    Found existing installation: nvidia-curand-cu12 10.3.6.82\n",
            "    Uninstalling nvidia-curand-cu12-10.3.6.82:\n",
            "      Successfully uninstalled nvidia-curand-cu12-10.3.6.82\n",
            "  Attempting uninstall: nvidia-cufft-cu12\n",
            "    Found existing installation: nvidia-cufft-cu12 11.2.3.61\n",
            "    Uninstalling nvidia-cufft-cu12-11.2.3.61:\n",
            "      Successfully uninstalled nvidia-cufft-cu12-11.2.3.61\n",
            "  Attempting uninstall: nvidia-cuda-runtime-cu12\n",
            "    Found existing installation: nvidia-cuda-runtime-cu12 12.5.82\n",
            "    Uninstalling nvidia-cuda-runtime-cu12-12.5.82:\n",
            "      Successfully uninstalled nvidia-cuda-runtime-cu12-12.5.82\n",
            "  Attempting uninstall: nvidia-cuda-nvrtc-cu12\n",
            "    Found existing installation: nvidia-cuda-nvrtc-cu12 12.5.82\n",
            "    Uninstalling nvidia-cuda-nvrtc-cu12-12.5.82:\n",
            "      Successfully uninstalled nvidia-cuda-nvrtc-cu12-12.5.82\n",
            "  Attempting uninstall: nvidia-cuda-cupti-cu12\n",
            "    Found existing installation: nvidia-cuda-cupti-cu12 12.5.82\n",
            "    Uninstalling nvidia-cuda-cupti-cu12-12.5.82:\n",
            "      Successfully uninstalled nvidia-cuda-cupti-cu12-12.5.82\n",
            "  Attempting uninstall: nvidia-cublas-cu12\n",
            "    Found existing installation: nvidia-cublas-cu12 12.5.3.2\n",
            "    Uninstalling nvidia-cublas-cu12-12.5.3.2:\n",
            "      Successfully uninstalled nvidia-cublas-cu12-12.5.3.2\n",
            "  Attempting uninstall: nvidia-cusparse-cu12\n",
            "    Found existing installation: nvidia-cusparse-cu12 12.5.1.3\n",
            "    Uninstalling nvidia-cusparse-cu12-12.5.1.3:\n",
            "      Successfully uninstalled nvidia-cusparse-cu12-12.5.1.3\n",
            "  Attempting uninstall: nvidia-cudnn-cu12\n",
            "    Found existing installation: nvidia-cudnn-cu12 9.3.0.75\n",
            "    Uninstalling nvidia-cudnn-cu12-9.3.0.75:\n",
            "      Successfully uninstalled nvidia-cudnn-cu12-9.3.0.75\n",
            "  Attempting uninstall: nvidia-cusolver-cu12\n",
            "    Found existing installation: nvidia-cusolver-cu12 11.6.3.83\n",
            "    Uninstalling nvidia-cusolver-cu12-11.6.3.83:\n",
            "      Successfully uninstalled nvidia-cusolver-cu12-11.6.3.83\n",
            "Successfully installed bitsandbytes-0.46.0 nvidia-cublas-cu12-12.4.5.8 nvidia-cuda-cupti-cu12-12.4.127 nvidia-cuda-nvrtc-cu12-12.4.127 nvidia-cuda-runtime-cu12-12.4.127 nvidia-cudnn-cu12-9.1.0.70 nvidia-cufft-cu12-11.2.1.3 nvidia-curand-cu12-10.3.5.147 nvidia-cusolver-cu12-11.6.1.9 nvidia-cusparse-cu12-12.3.1.170 nvidia-nvjitlink-cu12-12.4.127\n"
          ]
        },
        {
          "output_type": "display_data",
          "data": {
            "application/vnd.colab-display-data+json": {
              "pip_warning": {
                "packages": [
                  "nvidia"
                ]
              },
              "id": "1cac8f563ad64601a23f69e6c03e3619"
            }
          },
          "metadata": {}
        }
      ]
    },
    {
      "cell_type": "code",
      "source": [
        "# Cell 4: Model and Pipeline Configuration\n",
        "\n",
        "# Define the model ID and check for GPU availability\n",
        "MODEL_ID = \"meta-llama/Llama-3.2-1B-Instruct\" # try 1B, 3B, etc...\n",
        "device = \"cuda\" if torch.cuda.is_available() else \"cpu\"\n",
        "print(f\"Using device: {device}\")\n",
        "\n",
        "# Configure 4-bit quantization to save memory\n",
        "quantization_config = BitsAndBytesConfig(\n",
        "    load_in_4bit=True,\n",
        "    bnb_4bit_quant_type=\"nf4\",\n",
        "    bnb_4bit_compute_dtype=torch.bfloat16,\n",
        "    bnb_4bit_use_double_quant=True,  # Additional optimization for 3.2B model\n",
        ")\n",
        "\n",
        "# Load tokenizer and model\n",
        "print(f\"Loading model: {MODEL_ID}...\")\n",
        "\n",
        "tokenizer = AutoTokenizer.from_pretrained(\n",
        "    MODEL_ID,\n",
        "    padding_side=\"left\",  # Better for batch processing\n",
        "    trust_remote_code=True\n",
        ")\n",
        "\n",
        "# Set pad token if not present\n",
        "if tokenizer.pad_token is None:\n",
        "    tokenizer.pad_token = tokenizer.eos_token\n",
        "\n",
        "# Check if flash attention is available\n",
        "try:\n",
        "    import flash_attn\n",
        "    flash_attn_available = True\n",
        "    print(\"Flash Attention 2 detected and will be used for optimization.\")\n",
        "except ImportError:\n",
        "    flash_attn_available = False\n",
        "    print(\"Flash Attention 2 not available, using standard attention.\")\n",
        "\n",
        "model = AutoModelForCausalLM.from_pretrained(\n",
        "    MODEL_ID,\n",
        "    quantization_config=quantization_config,\n",
        "    torch_dtype=torch.bfloat16,\n",
        "    device_map=\"auto\",\n",
        "    trust_remote_code=True,\n",
        "    low_cpu_mem_usage=True,  # Optimize memory usage\n",
        "    attn_implementation=\"flash_attention_2\" if (torch.cuda.is_available() and flash_attn_available) else None,\n",
        ")\n",
        "\n",
        "# Create a text generation pipeline with optimized settings for 3.2B model\n",
        "text_generator = pipeline(\n",
        "    \"text-generation\",\n",
        "    model=model,\n",
        "    tokenizer=tokenizer,\n",
        "    torch_dtype=torch.bfloat16,\n",
        "    device_map=\"auto\",\n",
        "    return_full_text=False,  # Only return generated text, not input\n",
        "    batch_size=1,  # Conservative batch size for 3B model\n",
        ")\n",
        "\n",
        "print(\"Llama 3.2 3B Instruct model and pipeline are ready.\")\n",
        "print(f\"Model size: 3.2B parameters\")\n",
        "print(f\"Memory usage optimized with 4-bit quantization\")\n",
        "\n",
        "# Optional: Display model memory usage\n",
        "if torch.cuda.is_available():\n",
        "    print(f\"GPU memory allocated: {torch.cuda.memory_allocated() / 1024**3:.2f} GB\")\n",
        "    print(f\"GPU memory cached: {torch.cuda.memory_reserved() / 1024**3:.2f} GB\")"
      ],
      "metadata": {
        "colab": {
          "base_uri": "https://localhost:8080/",
          "height": 365,
          "referenced_widgets": [
            "4517322bf70b4d63beacd60609340197",
            "f19dea5a9bab4661b00a8ecb2e93006e",
            "21795b63991b455ab3c451bd88604e2e",
            "2d3047708b604602b87d3f2a2bcceffe",
            "afdd7032c2d844ea90e4baf2f05e3c14",
            "68ac208913d745c5a78e75b3103e7b7d",
            "9428211e67a7487eb9db9616569101ac",
            "b7c71c1a64c04fd2a7d71659b3446417",
            "c1e6eff8b2134a36bb25be0eac44d74f",
            "70a76bf0074049579726108df9490a8e",
            "54c49e7780d24a089bf8a4680f50fd46",
            "e75507fd41494c588572cb2286f945b3",
            "7efa330ea72d40d8a6f3e62b53185202",
            "b1e51f54a7d94e5a99d9b392f38f92e9",
            "9914f72c47cd471f84c4f6be0f4ca1e7",
            "e2914b777bdb4cb495a38609f43d976f",
            "0c7660275b664b5bbe6042d200706bd9",
            "4ebc1030a9c349baae984e837e147be6",
            "f7d2b488f7244550bea174f0fb22179e",
            "4908b6e853db4e82a0e7ba6673a5712f",
            "bb48d41785cb43b795b7e6607d957b89",
            "495c5f364bb34678a7f6f5c62074cc85",
            "3559b36988d84110a9c56364ee439a41",
            "566d4b2f70454ecbb2fd8249ab1a37d6",
            "351682cc762f4235ace9a33953cf381d",
            "956b7feb2363488c94195b7e4640cd43",
            "d54254ddbb1d4151a80fa69393e553df",
            "c18af9a20a4943acb7b84f8e4616f851",
            "ba6eee291bf948e7ba9f719cf9653a1d",
            "836de55abdba4a92ad7768912427da5b",
            "5324392d6e334666a2067cdc180c8992",
            "05548b82afca47648e1da563904f6d44",
            "16520f30f34e47eba2c39b3ebfc92f60",
            "bed35ec6ed4b4323bc39cf0a589423aa",
            "c17a891e9b8047ee8224aab3af3e2744",
            "d47adff87ef54ea39829b162275411f6",
            "acd8ba95248f4ba6936d2c359f5766b6",
            "635ce2f01607480c9024f053187acc40",
            "a69a28377b714fde876524af95220ed1",
            "f7f99435ab5740bd869f2ee853e59f48",
            "3f6dc47650de4c289272cc7613067ecf",
            "a4b832198e094788b1e90c83bf631786",
            "420e9ba23d7246bf9aa84a6c733f6352",
            "19fcd4df45184c2381fce0ad35b66c3d",
            "040046af52fb441587d545c858aef070",
            "bb58561e114446a5b2d25ba6faa1fced",
            "22847c2ec3ca422595be490fb199c91c",
            "53782cc62c4b4ea8b3c631f351beb4d6",
            "9fb4e0fc942743429e9085857a226db7",
            "8786bc020a34404a92918a526bcfa20d",
            "1314dfbcf0814d89aba0859596fa80c7",
            "fa6b9bd325c7462bbe87fda77cc00667",
            "39dd64a475e245039e62e0f0e7074fb8",
            "411a29812aeb4119b5a85340e8fcc279",
            "3c3b43d7825b4aa4ad224e759b326135",
            "976ba7a402d24fcbbed8b6f8004dc38a",
            "20c5f94425bc4812b164c77b4c749a98",
            "a775a8638a2047d69b710305ea14fed6",
            "6e5105adf50248bf82e129db0aee8ef2",
            "be317a14c75f4bf79532909d6787e3d0",
            "f474f9cf6f1f4afa9879e97637c84bb2",
            "39c3a7e90c3c47ada79f6e8072729732",
            "a8abebc9f7bc433f880a716c81945751",
            "f2eacb6b421046478f09aa95fdc24785",
            "720597bec2734da78998979140e2a70b",
            "0d34a818527a438e842aa6d9374c1509"
          ]
        },
        "id": "fngeMJtqkwAL",
        "outputId": "4740d51e-9cdb-43ac-827a-b09998c38f55"
      },
      "execution_count": null,
      "outputs": [
        {
          "output_type": "stream",
          "name": "stdout",
          "text": [
            "Using device: cuda\n",
            "Loading model: meta-llama/Llama-3.2-1B-Instruct...\n"
          ]
        },
        {
          "output_type": "display_data",
          "data": {
            "text/plain": [
              "tokenizer_config.json:   0%|          | 0.00/54.5k [00:00<?, ?B/s]"
            ],
            "application/vnd.jupyter.widget-view+json": {
              "version_major": 2,
              "version_minor": 0,
              "model_id": "4517322bf70b4d63beacd60609340197"
            }
          },
          "metadata": {}
        },
        {
          "output_type": "display_data",
          "data": {
            "text/plain": [
              "tokenizer.json:   0%|          | 0.00/9.09M [00:00<?, ?B/s]"
            ],
            "application/vnd.jupyter.widget-view+json": {
              "version_major": 2,
              "version_minor": 0,
              "model_id": "e75507fd41494c588572cb2286f945b3"
            }
          },
          "metadata": {}
        },
        {
          "output_type": "display_data",
          "data": {
            "text/plain": [
              "special_tokens_map.json:   0%|          | 0.00/296 [00:00<?, ?B/s]"
            ],
            "application/vnd.jupyter.widget-view+json": {
              "version_major": 2,
              "version_minor": 0,
              "model_id": "3559b36988d84110a9c56364ee439a41"
            }
          },
          "metadata": {}
        },
        {
          "output_type": "stream",
          "name": "stdout",
          "text": [
            "Flash Attention 2 not available, using standard attention.\n"
          ]
        },
        {
          "output_type": "display_data",
          "data": {
            "text/plain": [
              "config.json:   0%|          | 0.00/877 [00:00<?, ?B/s]"
            ],
            "application/vnd.jupyter.widget-view+json": {
              "version_major": 2,
              "version_minor": 0,
              "model_id": "bed35ec6ed4b4323bc39cf0a589423aa"
            }
          },
          "metadata": {}
        },
        {
          "output_type": "display_data",
          "data": {
            "text/plain": [
              "model.safetensors:   0%|          | 0.00/2.47G [00:00<?, ?B/s]"
            ],
            "application/vnd.jupyter.widget-view+json": {
              "version_major": 2,
              "version_minor": 0,
              "model_id": "040046af52fb441587d545c858aef070"
            }
          },
          "metadata": {}
        },
        {
          "output_type": "display_data",
          "data": {
            "text/plain": [
              "generation_config.json:   0%|          | 0.00/189 [00:00<?, ?B/s]"
            ],
            "application/vnd.jupyter.widget-view+json": {
              "version_major": 2,
              "version_minor": 0,
              "model_id": "976ba7a402d24fcbbed8b6f8004dc38a"
            }
          },
          "metadata": {}
        },
        {
          "output_type": "stream",
          "name": "stderr",
          "text": [
            "Device set to use cuda:0\n"
          ]
        },
        {
          "output_type": "stream",
          "name": "stdout",
          "text": [
            "Llama 3.2 3B Instruct model and pipeline are ready.\n",
            "Model size: 3.2B parameters\n",
            "Memory usage optimized with 4-bit quantization\n",
            "GPU memory allocated: 0.96 GB\n",
            "GPU memory cached: 1.43 GB\n"
          ]
        }
      ]
    },
    {
      "cell_type": "markdown",
      "source": [
        "### Advanced Sentiment Analysis Logic\n",
        "This cell defines the core sentiment analysis functions. It includes a highly detailed get_telugu_sentiment function with a comprehensive system prompt that instructs the model on Telugu linguistics, cultural context, and code-mixing. It is supported by helper functions for robustly parsing the model's output and a sophisticated keyword-based fallback system (analyze_text_fallback_enhanced) for cases where the AI's response is unclear."
      ],
      "metadata": {
        "id": "X92Ci3vlRV75"
      }
    },
    {
      "cell_type": "code",
      "source": [
        "def get_telugu_sentiment(text_input, domain=\"general\"):\n",
        "    \"\"\"\n",
        "    Classifies sentiment using Llama 3 with an enhanced system prompt for Telugu text.\n",
        "    Returns 'Positive', 'Negative', or 'Neutral'.\n",
        "\n",
        "    Args:\n",
        "        text_input (str): Text to analyze\n",
        "        domain (str): Context domain - 'movie', 'product', 'social', 'news', or 'general'\n",
        "    \"\"\"\n",
        "    if not isinstance(text_input, str) or not text_input.strip():\n",
        "        return \"Neutral\"\n",
        "\n",
        "    # Domain-specific context\n",
        "    domain_contexts = {\n",
        "        \"movie\": \"movie reviews, film critiques, entertainment content\",\n",
        "        \"product\": \"product reviews, e-commerce feedback, shopping experiences\",\n",
        "        \"social\": \"social media posts, personal opinions, casual conversations\",\n",
        "        \"news\": \"news articles, current events, political discussions\",\n",
        "        \"general\": \"general text content\"\n",
        "    }\n",
        "\n",
        "    domain_context = domain_contexts.get(domain, \"general text content\")\n",
        "\n",
        "    system_prompt = f\"\"\"You are an expert sentiment analysis specialist with deep expertise in Telugu language, culture, and linguistics. Your task is to analyze sentiment in Telugu and Telugu-English code-mixed text from {domain_context}.\n",
        "\n",
        "CRITICAL INSTRUCTIONS:\n",
        "1. You MUST respond with EXACTLY ONE WORD: \"Positive\", \"Negative\", or \"Neutral\"\n",
        "2. Do NOT include any explanation, reasoning, or additional text\n",
        "3. Focus on the OVERALL emotional tone, not individual words\n",
        "\n",
        "TELUGU LANGUAGE EXPERTISE:\n",
        "- Understand Telugu grammar, syntax, and cultural expressions\n",
        "- Recognize regional variations and dialects\n",
        "- Interpret emotional intensity through Telugu linguistic patterns\n",
        "- Handle honorifics and respect levels that affect sentiment\n",
        "\n",
        "CODE-MIXING ANALYSIS:\n",
        "- Telugu-English code-mixing is common - analyze the complete meaning\n",
        "- English words may carry different emotional weight in Telugu context\n",
        "- Consider cultural code-switching patterns\n",
        "\n",
        "SENTIMENT CLASSIFICATION RULES:\n",
        "\n",
        "POSITIVE indicators:\n",
        "- Joy, satisfaction, approval, love, excitement, gratitude\n",
        "- Telugu: బాగుంది, చాలా బాగుంది, అద్భుతం, సంతోషం, ఆనందం, మంచిది, గొప్ప, సూపర్, excellent\n",
        "- Praise words: అమాజింగ్, వండర్‌ఫుల్, లవ్ చేస్తున్నా, ఇష్టం అయింది\n",
        "- Achievement expressions: గర్వంగా ఉంది, విజయం, సఫలం\n",
        "\n",
        "NEGATIVE indicators:\n",
        "- Anger, sadness, disappointment, frustration, disgust, fear\n",
        "- Telugu: చెత్త, బాగాలేదు, దురభిప్రాయం, కోపం, బాధ, అసహ్యం, వ్యర్థం, దుఃఖం\n",
        "- Criticism: waste, boring, చెడ్డది, నిరాశ చెందించింది, time waste\n",
        "- Strong negatives: worst, terrible, awful, horrible\n",
        "\n",
        "NEUTRAL indicators:\n",
        "- Factual statements without emotional charge\n",
        "- Balanced opinions with both positive and negative aspects\n",
        "- Informational content, questions, or unclear sentiment\n",
        "- Mixed emotions that cancel each other out\n",
        "\n",
        "CULTURAL CONTEXT AWARENESS:\n",
        "- Telugu speakers often use understatement - \"బాగానే ఉంది\" might be quite positive\n",
        "- Respect and politeness markers don't change core sentiment\n",
        "- Family/relationship contexts may have different emotional expressions\n",
        "- Regional slang and colloquialisms carry specific emotional weights\n",
        "\n",
        "ADVANCED ANALYSIS:\n",
        "- Detect sarcasm through context and cultural patterns\n",
        "- Identify implicit emotions through cultural references\n",
        "- Consider intensity levels within each sentiment category\n",
        "- Handle negations properly in both languages\n",
        "\n",
        "EXAMPLES:\n",
        "\"మూవీ చాలా బాగుంది, recommend చేస్తున్నా\" → Positive\n",
        "\"waste of time అయింది, boring ga ఉంది\" → Negative\n",
        "\"average movie, కొన్ని scenes బాగున్నాయి\" → Neutral\n",
        "\n",
        "Remember: Respond with ONLY \"Positive\", \"Negative\", or \"Neutral\" - nothing else.\"\"\"\n",
        "\n",
        "    messages = [\n",
        "        {\"role\": \"system\", \"content\": system_prompt},\n",
        "        {\"role\": \"user\", \"content\": f\"Text to analyze: \\\"{text_input}\\\"\"}\n",
        "    ]\n",
        "\n",
        "    terminators = [\n",
        "        tokenizer.eos_token_id,\n",
        "        tokenizer.convert_tokens_to_ids(\"<|eot_id|>\")\n",
        "    ]\n",
        "\n",
        "    try:\n",
        "        outputs = text_generator(\n",
        "            messages,\n",
        "            max_new_tokens=10,  # Increased slightly for better parsing\n",
        "            eos_token_id=terminators,\n",
        "            do_sample=False,\n",
        "            temperature=0.1,  # Very low temperature for consistency\n",
        "            pad_token_id=tokenizer.eos_token_id,\n",
        "        )\n",
        "\n",
        "        # Enhanced response parsing\n",
        "        generated_text = outputs[0]['generated_text']\n",
        "\n",
        "        if isinstance(generated_text, list):\n",
        "            response_part = generated_text[-1]['content']\n",
        "        elif isinstance(generated_text, str):\n",
        "            user_prompt_end = f\"Text to analyze: \\\"{text_input}\\\"\"\n",
        "            if user_prompt_end in generated_text:\n",
        "                response_part = generated_text.split(user_prompt_end)[-1].strip()\n",
        "            else:\n",
        "                response_part = generated_text\n",
        "        else:\n",
        "            response_part = \"\"\n",
        "\n",
        "        # Robust sentiment extraction\n",
        "        sentiment = extract_sentiment_from_response(response_part)\n",
        "\n",
        "        if sentiment:\n",
        "            return sentiment\n",
        "        else:\n",
        "            # Enhanced fallback with domain awareness\n",
        "            return analyze_text_fallback_enhanced(text_input, domain)\n",
        "\n",
        "    except Exception as e:\n",
        "        print(f\"Error during sentiment analysis: {e}\")\n",
        "        return analyze_text_fallback_enhanced(text_input, domain)\n",
        "\n",
        "\n",
        "def extract_sentiment_from_response(response_text):\n",
        "    \"\"\"Enhanced sentiment extraction from LLM response.\"\"\"\n",
        "    if not response_text:\n",
        "        return None\n",
        "\n",
        "    # Clean the response\n",
        "    import re\n",
        "    clean_text = re.sub(r'[^\\w\\s]', ' ', response_text.lower()).strip()\n",
        "\n",
        "    # Look for exact matches with word boundaries\n",
        "    if re.search(r'\\bpositive\\b', clean_text):\n",
        "        return \"Positive\"\n",
        "    elif re.search(r'\\bnegative\\b', clean_text):\n",
        "        return \"Negative\"\n",
        "    elif re.search(r'\\bneutral\\b', clean_text):\n",
        "        return \"Neutral\"\n",
        "\n",
        "    # Fallback: check if response starts with sentiment word\n",
        "    first_word = clean_text.split()[0] if clean_text.split() else \"\"\n",
        "    if first_word in ['positive', 'negative', 'neutral']:\n",
        "        return first_word.capitalize()\n",
        "\n",
        "    return None\n",
        "\n",
        "\n",
        "def analyze_text_fallback_enhanced(text_input, domain=\"general\"):\n",
        "    \"\"\"Enhanced fallback sentiment analysis with domain awareness and improved Telugu support.\"\"\"\n",
        "    text_lower = text_input.lower()\n",
        "\n",
        "    # Comprehensive keyword lists\n",
        "    positive_keywords = [\n",
        "        # English positive\n",
        "        'good', 'great', 'excellent', 'amazing', 'wonderful', 'super', 'awesome', 'love',\n",
        "        'fantastic', 'brilliant', 'perfect', 'best', 'outstanding', 'impressive', 'beautiful',\n",
        "        'nice', 'cool', 'sweet', 'adorable', 'magnificent', 'superb', 'marvelous',\n",
        "\n",
        "        # Telugu positive\n",
        "        'బాగుంది', 'చాలా బాగుంది', 'అద్భుతం', 'సంతోషం', 'ఆనందం', 'మంచిది', 'గొప్ప',\n",
        "        'అమోఘం', 'అమాజింగ్', 'ఇష్టం', 'లవ్', 'సూపర్', 'ఎక్సలెంట్', 'బెస్ట్',\n",
        "        'అందంగా', 'అందమైన', 'అద్భుతమైన', 'గర్వంగా', 'సంతృప్తి', 'విజయం',\n",
        "\n",
        "        # Domain-specific positive\n",
        "        'recommend', 'worth', 'value', 'quality', 'satisfied', 'happy', 'enjoyed'\n",
        "    ]\n",
        "\n",
        "    negative_keywords = [\n",
        "        # English negative\n",
        "        'bad', 'terrible', 'awful', 'horrible', 'waste', 'disappointing', 'hate', 'worst',\n",
        "        'useless', 'boring', 'stupid', 'annoying', 'frustrating', 'pathetic', 'disgusting',\n",
        "        'ugly', 'cheap', 'poor', 'failure', 'disaster', 'nightmare', 'trash',\n",
        "\n",
        "        # Telugu negative\n",
        "        'చెత్త', 'బాగాలేదు', 'దురభిప్రాయం', 'కోపం', 'బాధ', 'అసహ్యం', 'వ్యర్థం',\n",
        "        'దుఃఖం', 'చెడ్డది', 'బోరింగ్', 'వేస్ట్', 'నిరాశ', 'అసంతృప్తి', 'ఇష్టంలేదు',\n",
        "        'హేట్', 'టెర్రిబుల్', 'రాబట్టలేదు', 'ఫెయిల్',\n",
        "\n",
        "        # Domain-specific negative\n",
        "        'regret', 'disappointed', 'overpriced', 'defective', 'broken', 'slow', 'expensive'\n",
        "    ]\n",
        "\n",
        "    # Neutral indicators\n",
        "    neutral_keywords = [\n",
        "        'okay', 'ok', 'average', 'normal', 'fine', 'decent', 'moderate', 'mixed',\n",
        "        'ఓకే', 'సాధారణం', 'సరే', 'అవరేజ్', 'కొంత', 'కొన్ని'\n",
        "    ]\n",
        "\n",
        "    # Enhanced scoring with context\n",
        "    pos_score = 0\n",
        "    neg_score = 0\n",
        "    neutral_score = 0\n",
        "\n",
        "    # Count keywords with intensity weights\n",
        "    strong_positive = ['excellent', 'amazing', 'fantastic', 'అద్భుతం', 'అమోఘం', 'గొప్ప']\n",
        "    strong_negative = ['terrible', 'horrible', 'awful', 'చెత్త', 'అసహ్యం', 'దురభిప్రాయం']\n",
        "\n",
        "    for word in positive_keywords:\n",
        "        if word in text_lower:\n",
        "            weight = 2 if word in strong_positive else 1\n",
        "            pos_score += weight\n",
        "\n",
        "    for word in negative_keywords:\n",
        "        if word in text_lower:\n",
        "            weight = 2 if word in strong_negative else 1\n",
        "            neg_score += weight\n",
        "\n",
        "    for word in neutral_keywords:\n",
        "        if word in text_lower:\n",
        "            neutral_score += 1\n",
        "\n",
        "    # Decision logic with neutral consideration\n",
        "    total_sentiment_words = pos_score + neg_score + neutral_score\n",
        "\n",
        "    if total_sentiment_words == 0:\n",
        "        return \"Neutral\"\n",
        "\n",
        "    if neutral_score > 0 and abs(pos_score - neg_score) <= 1:\n",
        "        return \"Neutral\"\n",
        "\n",
        "    if pos_score > neg_score:\n",
        "        return \"Positive\"\n",
        "    elif neg_score > pos_score:\n",
        "        return \"Negative\"\n",
        "    else:\n",
        "        return \"Neutral\""
      ],
      "metadata": {
        "id": "yvJkghkpeYQZ"
      },
      "execution_count": null,
      "outputs": []
    },
    {
      "cell_type": "markdown",
      "source": [
        "### Unit Testing and Prompt Comparison\n",
        "This cell tests two different prompting strategies (Simple vs. Enhanced) on a list of predefined Telugu sentences. The output clearly shows that the more complex \"Enhanced Prompt\" struggles, often defaulting to \"Neutral\", indicating that simpler, more direct prompts may be more effective for this specific model and task."
      ],
      "metadata": {
        "id": "O3WSAfarRgG7"
      }
    },
    {
      "cell_type": "code",
      "source": [
        "# Cell 6: Test with Predefined Telugu Sentences\n",
        "\n",
        "telugu_texts = [\n",
        "    (\"ఈ సినిమా చాలా బాగుంది.\", \"Positive\"),\n",
        "    (\"సేవ అస్సలు బాగాలేదు, నేను సంతృప్తి చెందలేదు.\", \"Negative\"),\n",
        "    (\"ఈ వార్త నిన్న ప్రచురించబడింది.\", \"Neutral\"),\n",
        "    (\"అద్భుతమైన రుచి! నేను మళ్ళీ వస్తాను.\", \"Positive\"),\n",
        "    (\"Super movie! Awesome acting, bro.\", \"Positive\"),\n",
        "    (\"Worst experience, waste of time and money.\", \"Negative\"),\n",
        "    (\"సినిమా ఓకే కానీ సాంగ్స్ బాగున్నాయి.\", \"Mixed/Positive\"), # Mixed sentiment\n",
        "    (\"కొన్ని సీన్స్ బాగున్నాయి, కొన్ని బోర్.\", \"Mixed/Negative\"), # Mixed sentiment\n",
        "    (\"Average movie andi, not bad but not great.\", \"Neutral\"),\n",
        "]\n",
        "\n",
        "print(\"--- Starting Sentiment Analysis on Test Sentences ---\")\n",
        "for text, expected in telugu_texts:\n",
        "    sentiment = get_telugu_sentiment(text)\n",
        "    print(f\"\\nText: \\\"{text}\\\"\")\n",
        "    print(f\"  -> Predicted Sentiment: {sentiment} (Expected: {expected})\")\n",
        "print(\"\\n--- Test Complete ---\")"
      ],
      "metadata": {
        "colab": {
          "base_uri": "https://localhost:8080/"
        },
        "id": "ZguRESoseZqc",
        "outputId": "7de5f2e5-95c5-428f-b6bf-6b840ab72396"
      },
      "execution_count": null,
      "outputs": [
        {
          "output_type": "stream",
          "name": "stderr",
          "text": [
            "The following generation flags are not valid and may be ignored: ['temperature', 'top_p']. Set `TRANSFORMERS_VERBOSITY=info` for more details.\n"
          ]
        },
        {
          "output_type": "stream",
          "name": "stdout",
          "text": [
            "--- Starting Sentiment Analysis on Test Sentences ---\n"
          ]
        },
        {
          "output_type": "stream",
          "name": "stderr",
          "text": [
            "The following generation flags are not valid and may be ignored: ['temperature', 'top_p']. Set `TRANSFORMERS_VERBOSITY=info` for more details.\n"
          ]
        },
        {
          "output_type": "stream",
          "name": "stdout",
          "text": [
            "\n",
            "Text: \"ఈ సినిమా చాలా బాగుంది.\"\n",
            "  -> Predicted Sentiment: Neutral (Expected: Positive)\n"
          ]
        },
        {
          "output_type": "stream",
          "name": "stderr",
          "text": [
            "The following generation flags are not valid and may be ignored: ['temperature', 'top_p']. Set `TRANSFORMERS_VERBOSITY=info` for more details.\n"
          ]
        },
        {
          "output_type": "stream",
          "name": "stdout",
          "text": [
            "\n",
            "Text: \"సేవ అస్సలు బాగాలేదు, నేను సంతృప్తి చెందలేదు.\"\n",
            "  -> Predicted Sentiment: Neutral (Expected: Negative)\n"
          ]
        },
        {
          "output_type": "stream",
          "name": "stderr",
          "text": [
            "The following generation flags are not valid and may be ignored: ['temperature', 'top_p']. Set `TRANSFORMERS_VERBOSITY=info` for more details.\n"
          ]
        },
        {
          "output_type": "stream",
          "name": "stdout",
          "text": [
            "\n",
            "Text: \"ఈ వార్త నిన్న ప్రచురించబడింది.\"\n",
            "  -> Predicted Sentiment: Neutral (Expected: Neutral)\n"
          ]
        },
        {
          "output_type": "stream",
          "name": "stderr",
          "text": [
            "The following generation flags are not valid and may be ignored: ['temperature', 'top_p']. Set `TRANSFORMERS_VERBOSITY=info` for more details.\n"
          ]
        },
        {
          "output_type": "stream",
          "name": "stdout",
          "text": [
            "\n",
            "Text: \"అద్భుతమైన రుచి! నేను మళ్ళీ వస్తాను.\"\n",
            "  -> Predicted Sentiment: Neutral (Expected: Positive)\n"
          ]
        },
        {
          "output_type": "stream",
          "name": "stderr",
          "text": [
            "The following generation flags are not valid and may be ignored: ['temperature', 'top_p']. Set `TRANSFORMERS_VERBOSITY=info` for more details.\n"
          ]
        },
        {
          "output_type": "stream",
          "name": "stdout",
          "text": [
            "\n",
            "Text: \"Super movie! Awesome acting, bro.\"\n",
            "  -> Predicted Sentiment: Neutral (Expected: Positive)\n"
          ]
        },
        {
          "output_type": "stream",
          "name": "stderr",
          "text": [
            "The following generation flags are not valid and may be ignored: ['temperature', 'top_p']. Set `TRANSFORMERS_VERBOSITY=info` for more details.\n"
          ]
        },
        {
          "output_type": "stream",
          "name": "stdout",
          "text": [
            "\n",
            "Text: \"Worst experience, waste of time and money.\"\n",
            "  -> Predicted Sentiment: Neutral (Expected: Negative)\n"
          ]
        },
        {
          "output_type": "stream",
          "name": "stderr",
          "text": [
            "The following generation flags are not valid and may be ignored: ['temperature', 'top_p']. Set `TRANSFORMERS_VERBOSITY=info` for more details.\n"
          ]
        },
        {
          "output_type": "stream",
          "name": "stdout",
          "text": [
            "\n",
            "Text: \"సినిమా ఓకే కానీ సాంగ్స్ బాగున్నాయి.\"\n",
            "  -> Predicted Sentiment: Neutral (Expected: Mixed/Positive)\n"
          ]
        },
        {
          "output_type": "stream",
          "name": "stderr",
          "text": [
            "The following generation flags are not valid and may be ignored: ['temperature', 'top_p']. Set `TRANSFORMERS_VERBOSITY=info` for more details.\n"
          ]
        },
        {
          "output_type": "stream",
          "name": "stdout",
          "text": [
            "\n",
            "Text: \"కొన్ని సీన్స్ బాగున్నాయి, కొన్ని బోర్.\"\n",
            "  -> Predicted Sentiment: Neutral (Expected: Mixed/Negative)\n",
            "\n",
            "Text: \"Average movie andi, not bad but not great.\"\n",
            "  -> Predicted Sentiment: Neutral (Expected: Neutral)\n",
            "\n",
            "--- Test Complete ---\n"
          ]
        }
      ]
    },
    {
      "cell_type": "markdown",
      "source": [
        "### Procedural YouTube Comment Analysis\n",
        "This cell provides a complete, procedural script to fetch, analyze, and display YouTube comments. It combines the API helper functions, the sentiment analysis logic, and pandas for a final summary. This serves as a non-interactive test of the end-to-end workflow before implementing the final dashboard. The output shows a detailed breakdown of the analysis process."
      ],
      "metadata": {
        "id": "rFZZikb1RrBV"
      }
    },
    {
      "cell_type": "code",
      "source": [
        "# Cell 7: YouTube Comment Analysis\n",
        "\n",
        "# @title Fetch and Analyze YouTube Comments\n",
        "YOUTUBE_VIDEO_URL = \"https://youtu.be/g9oyP_7feno?si=_tXg1TXDEv_pAvrk\" # @param {type:\"string\"}\n",
        "MAX_COMMENTS_TO_FETCH = 50 # @param {type:\"integer\"}\n",
        "\n",
        "def extract_video_id(url):\n",
        "    \"\"\"Extracts the YouTube video ID from various URL formats.\"\"\"\n",
        "    parsed_url = urlparse(url)\n",
        "    if parsed_url.hostname == 'youtu.be':\n",
        "        return parsed_url.path[1:]\n",
        "    if parsed_url.hostname in ('www.youtube.com', 'youtube.com'):\n",
        "        if parsed_url.path == '/watch':\n",
        "            return parse_qs(parsed_url.query).get('v', [None])[0]\n",
        "    return None\n",
        "\n",
        "def fetch_and_analyze_comments(video_url, max_comments):\n",
        "    api_key = get_youtube_api_key()\n",
        "    video_id = extract_video_id(video_url)\n",
        "\n",
        "    if not api_key or not video_id:\n",
        "        print(\"Could not proceed without a valid API key and Video ID.\")\n",
        "        return\n",
        "\n",
        "    youtube = build('youtube', 'v3', developerKey=api_key)\n",
        "    comments_data = []\n",
        "\n",
        "    try:\n",
        "        print(f\"Fetching comments for video ID: {video_id}\")\n",
        "        request = youtube.commentThreads().list(\n",
        "            part=\"snippet\",\n",
        "            videoId=video_id,\n",
        "            maxResults=min(100, max_comments), # API max is 100\n",
        "            textFormat=\"plainText\"\n",
        "        )\n",
        "        response = request.execute()\n",
        "\n",
        "        for item in response.get(\"items\", []):\n",
        "            if len(comments_data) >= max_comments:\n",
        "                break\n",
        "\n",
        "            comment_snippet = item[\"snippet\"][\"topLevelComment\"][\"snippet\"]\n",
        "            comment_text = comment_snippet[\"textDisplay\"]\n",
        "\n",
        "            # Clean comment text\n",
        "            cleaned_comment = re.sub(r'\\s+', ' ', comment_text).strip()\n",
        "\n",
        "            # Analyze sentiment\n",
        "            sentiment = get_telugu_sentiment(cleaned_comment)\n",
        "\n",
        "            comments_data.append({\n",
        "                \"Author\": comment_snippet[\"authorDisplayName\"],\n",
        "                \"Comment\": cleaned_comment,\n",
        "                \"Likes\": comment_snippet[\"likeCount\"],\n",
        "                \"Sentiment\": sentiment,\n",
        "            })\n",
        "            print(f\"Analyzed comment {len(comments_data)}/{max_comments} -> {sentiment}\")\n",
        "\n",
        "        # Create and display DataFrame\n",
        "        df_comments = pd.DataFrame(comments_data)\n",
        "        pd.set_option('display.max_colwidth', 200)\n",
        "        pd.set_option('display.max_rows', 100)\n",
        "        display(df_comments)\n",
        "\n",
        "    except HttpError as e:\n",
        "        print(f\"\\nAn HTTP error occurred: {e.resp.status} {e.content.decode('utf-8')}\")\n",
        "    except Exception as e:\n",
        "        print(f\"\\nAn unexpected error occurred: {e}\")\n",
        "\n",
        "# Run the analysis\n",
        "fetch_and_analyze_comments(YOUTUBE_VIDEO_URL, MAX_COMMENTS_TO_FETCH)"
      ],
      "metadata": {
        "colab": {
          "base_uri": "https://localhost:8080/",
          "height": 1000
        },
        "id": "Tsdo9SIvebbA",
        "outputId": "b8a8f150-dc28-4276-8038-2a414ada2be2"
      },
      "execution_count": null,
      "outputs": [
        {
          "output_type": "stream",
          "name": "stdout",
          "text": [
            "Fetching comments for video ID: g9oyP_7feno\n"
          ]
        },
        {
          "output_type": "stream",
          "name": "stderr",
          "text": [
            "The following generation flags are not valid and may be ignored: ['temperature', 'top_p']. Set `TRANSFORMERS_VERBOSITY=info` for more details.\n",
            "You seem to be using the pipelines sequentially on GPU. In order to maximize efficiency please use a dataset\n",
            "The following generation flags are not valid and may be ignored: ['temperature', 'top_p']. Set `TRANSFORMERS_VERBOSITY=info` for more details.\n"
          ]
        },
        {
          "output_type": "stream",
          "name": "stdout",
          "text": [
            "Analyzed comment 1/50 -> Negative\n"
          ]
        },
        {
          "output_type": "stream",
          "name": "stderr",
          "text": [
            "The following generation flags are not valid and may be ignored: ['temperature', 'top_p']. Set `TRANSFORMERS_VERBOSITY=info` for more details.\n"
          ]
        },
        {
          "output_type": "stream",
          "name": "stdout",
          "text": [
            "Analyzed comment 2/50 -> Neutral\n"
          ]
        },
        {
          "output_type": "stream",
          "name": "stderr",
          "text": [
            "The following generation flags are not valid and may be ignored: ['temperature', 'top_p']. Set `TRANSFORMERS_VERBOSITY=info` for more details.\n"
          ]
        },
        {
          "output_type": "stream",
          "name": "stdout",
          "text": [
            "Analyzed comment 3/50 -> Neutral\n"
          ]
        },
        {
          "output_type": "stream",
          "name": "stderr",
          "text": [
            "The following generation flags are not valid and may be ignored: ['temperature', 'top_p']. Set `TRANSFORMERS_VERBOSITY=info` for more details.\n"
          ]
        },
        {
          "output_type": "stream",
          "name": "stdout",
          "text": [
            "Analyzed comment 4/50 -> Neutral\n"
          ]
        },
        {
          "output_type": "stream",
          "name": "stderr",
          "text": [
            "The following generation flags are not valid and may be ignored: ['temperature', 'top_p']. Set `TRANSFORMERS_VERBOSITY=info` for more details.\n"
          ]
        },
        {
          "output_type": "stream",
          "name": "stdout",
          "text": [
            "Analyzed comment 5/50 -> Neutral\n"
          ]
        },
        {
          "output_type": "stream",
          "name": "stderr",
          "text": [
            "The following generation flags are not valid and may be ignored: ['temperature', 'top_p']. Set `TRANSFORMERS_VERBOSITY=info` for more details.\n"
          ]
        },
        {
          "output_type": "stream",
          "name": "stdout",
          "text": [
            "Analyzed comment 6/50 -> Neutral\n"
          ]
        },
        {
          "output_type": "stream",
          "name": "stderr",
          "text": [
            "The following generation flags are not valid and may be ignored: ['temperature', 'top_p']. Set `TRANSFORMERS_VERBOSITY=info` for more details.\n"
          ]
        },
        {
          "output_type": "stream",
          "name": "stdout",
          "text": [
            "Analyzed comment 7/50 -> Neutral\n"
          ]
        },
        {
          "output_type": "stream",
          "name": "stderr",
          "text": [
            "The following generation flags are not valid and may be ignored: ['temperature', 'top_p']. Set `TRANSFORMERS_VERBOSITY=info` for more details.\n"
          ]
        },
        {
          "output_type": "stream",
          "name": "stdout",
          "text": [
            "Analyzed comment 8/50 -> Neutral\n"
          ]
        },
        {
          "output_type": "stream",
          "name": "stderr",
          "text": [
            "The following generation flags are not valid and may be ignored: ['temperature', 'top_p']. Set `TRANSFORMERS_VERBOSITY=info` for more details.\n"
          ]
        },
        {
          "output_type": "stream",
          "name": "stdout",
          "text": [
            "Analyzed comment 9/50 -> Neutral\n"
          ]
        },
        {
          "output_type": "stream",
          "name": "stderr",
          "text": [
            "The following generation flags are not valid and may be ignored: ['temperature', 'top_p']. Set `TRANSFORMERS_VERBOSITY=info` for more details.\n"
          ]
        },
        {
          "output_type": "stream",
          "name": "stdout",
          "text": [
            "Analyzed comment 10/50 -> Neutral\n"
          ]
        },
        {
          "output_type": "stream",
          "name": "stderr",
          "text": [
            "The following generation flags are not valid and may be ignored: ['temperature', 'top_p']. Set `TRANSFORMERS_VERBOSITY=info` for more details.\n"
          ]
        },
        {
          "output_type": "stream",
          "name": "stdout",
          "text": [
            "Analyzed comment 11/50 -> Neutral\n"
          ]
        },
        {
          "output_type": "stream",
          "name": "stderr",
          "text": [
            "The following generation flags are not valid and may be ignored: ['temperature', 'top_p']. Set `TRANSFORMERS_VERBOSITY=info` for more details.\n"
          ]
        },
        {
          "output_type": "stream",
          "name": "stdout",
          "text": [
            "Analyzed comment 12/50 -> Neutral\n"
          ]
        },
        {
          "output_type": "stream",
          "name": "stderr",
          "text": [
            "The following generation flags are not valid and may be ignored: ['temperature', 'top_p']. Set `TRANSFORMERS_VERBOSITY=info` for more details.\n"
          ]
        },
        {
          "output_type": "stream",
          "name": "stdout",
          "text": [
            "Analyzed comment 13/50 -> Neutral\n"
          ]
        },
        {
          "output_type": "stream",
          "name": "stderr",
          "text": [
            "The following generation flags are not valid and may be ignored: ['temperature', 'top_p']. Set `TRANSFORMERS_VERBOSITY=info` for more details.\n"
          ]
        },
        {
          "output_type": "stream",
          "name": "stdout",
          "text": [
            "Analyzed comment 14/50 -> Neutral\n"
          ]
        },
        {
          "output_type": "stream",
          "name": "stderr",
          "text": [
            "The following generation flags are not valid and may be ignored: ['temperature', 'top_p']. Set `TRANSFORMERS_VERBOSITY=info` for more details.\n"
          ]
        },
        {
          "output_type": "stream",
          "name": "stdout",
          "text": [
            "Analyzed comment 15/50 -> Neutral\n"
          ]
        },
        {
          "output_type": "stream",
          "name": "stderr",
          "text": [
            "The following generation flags are not valid and may be ignored: ['temperature', 'top_p']. Set `TRANSFORMERS_VERBOSITY=info` for more details.\n"
          ]
        },
        {
          "output_type": "stream",
          "name": "stdout",
          "text": [
            "Analyzed comment 16/50 -> Neutral\n"
          ]
        },
        {
          "output_type": "stream",
          "name": "stderr",
          "text": [
            "The following generation flags are not valid and may be ignored: ['temperature', 'top_p']. Set `TRANSFORMERS_VERBOSITY=info` for more details.\n"
          ]
        },
        {
          "output_type": "stream",
          "name": "stdout",
          "text": [
            "Analyzed comment 17/50 -> Neutral\n"
          ]
        },
        {
          "output_type": "stream",
          "name": "stderr",
          "text": [
            "The following generation flags are not valid and may be ignored: ['temperature', 'top_p']. Set `TRANSFORMERS_VERBOSITY=info` for more details.\n"
          ]
        },
        {
          "output_type": "stream",
          "name": "stdout",
          "text": [
            "Analyzed comment 18/50 -> Neutral\n"
          ]
        },
        {
          "output_type": "stream",
          "name": "stderr",
          "text": [
            "The following generation flags are not valid and may be ignored: ['temperature', 'top_p']. Set `TRANSFORMERS_VERBOSITY=info` for more details.\n"
          ]
        },
        {
          "output_type": "stream",
          "name": "stdout",
          "text": [
            "Analyzed comment 19/50 -> Neutral\n"
          ]
        },
        {
          "output_type": "stream",
          "name": "stderr",
          "text": [
            "The following generation flags are not valid and may be ignored: ['temperature', 'top_p']. Set `TRANSFORMERS_VERBOSITY=info` for more details.\n"
          ]
        },
        {
          "output_type": "stream",
          "name": "stdout",
          "text": [
            "Analyzed comment 20/50 -> Neutral\n"
          ]
        },
        {
          "output_type": "stream",
          "name": "stderr",
          "text": [
            "The following generation flags are not valid and may be ignored: ['temperature', 'top_p']. Set `TRANSFORMERS_VERBOSITY=info` for more details.\n"
          ]
        },
        {
          "output_type": "stream",
          "name": "stdout",
          "text": [
            "Analyzed comment 21/50 -> Neutral\n"
          ]
        },
        {
          "output_type": "stream",
          "name": "stderr",
          "text": [
            "The following generation flags are not valid and may be ignored: ['temperature', 'top_p']. Set `TRANSFORMERS_VERBOSITY=info` for more details.\n"
          ]
        },
        {
          "output_type": "stream",
          "name": "stdout",
          "text": [
            "Analyzed comment 22/50 -> Neutral\n"
          ]
        },
        {
          "output_type": "stream",
          "name": "stderr",
          "text": [
            "The following generation flags are not valid and may be ignored: ['temperature', 'top_p']. Set `TRANSFORMERS_VERBOSITY=info` for more details.\n"
          ]
        },
        {
          "output_type": "stream",
          "name": "stdout",
          "text": [
            "Analyzed comment 23/50 -> Positive\n"
          ]
        },
        {
          "output_type": "stream",
          "name": "stderr",
          "text": [
            "The following generation flags are not valid and may be ignored: ['temperature', 'top_p']. Set `TRANSFORMERS_VERBOSITY=info` for more details.\n"
          ]
        },
        {
          "output_type": "stream",
          "name": "stdout",
          "text": [
            "Analyzed comment 24/50 -> Neutral\n"
          ]
        },
        {
          "output_type": "stream",
          "name": "stderr",
          "text": [
            "The following generation flags are not valid and may be ignored: ['temperature', 'top_p']. Set `TRANSFORMERS_VERBOSITY=info` for more details.\n"
          ]
        },
        {
          "output_type": "stream",
          "name": "stdout",
          "text": [
            "Analyzed comment 25/50 -> Neutral\n"
          ]
        },
        {
          "output_type": "stream",
          "name": "stderr",
          "text": [
            "The following generation flags are not valid and may be ignored: ['temperature', 'top_p']. Set `TRANSFORMERS_VERBOSITY=info` for more details.\n"
          ]
        },
        {
          "output_type": "stream",
          "name": "stdout",
          "text": [
            "Analyzed comment 26/50 -> Neutral\n"
          ]
        },
        {
          "output_type": "stream",
          "name": "stderr",
          "text": [
            "The following generation flags are not valid and may be ignored: ['temperature', 'top_p']. Set `TRANSFORMERS_VERBOSITY=info` for more details.\n"
          ]
        },
        {
          "output_type": "stream",
          "name": "stdout",
          "text": [
            "Analyzed comment 27/50 -> Neutral\n"
          ]
        },
        {
          "output_type": "stream",
          "name": "stderr",
          "text": [
            "The following generation flags are not valid and may be ignored: ['temperature', 'top_p']. Set `TRANSFORMERS_VERBOSITY=info` for more details.\n"
          ]
        },
        {
          "output_type": "stream",
          "name": "stdout",
          "text": [
            "Analyzed comment 28/50 -> Neutral\n"
          ]
        },
        {
          "output_type": "stream",
          "name": "stderr",
          "text": [
            "The following generation flags are not valid and may be ignored: ['temperature', 'top_p']. Set `TRANSFORMERS_VERBOSITY=info` for more details.\n"
          ]
        },
        {
          "output_type": "stream",
          "name": "stdout",
          "text": [
            "Analyzed comment 29/50 -> Neutral\n"
          ]
        },
        {
          "output_type": "stream",
          "name": "stderr",
          "text": [
            "The following generation flags are not valid and may be ignored: ['temperature', 'top_p']. Set `TRANSFORMERS_VERBOSITY=info` for more details.\n"
          ]
        },
        {
          "output_type": "stream",
          "name": "stdout",
          "text": [
            "Analyzed comment 30/50 -> Negative\n"
          ]
        },
        {
          "output_type": "stream",
          "name": "stderr",
          "text": [
            "The following generation flags are not valid and may be ignored: ['temperature', 'top_p']. Set `TRANSFORMERS_VERBOSITY=info` for more details.\n"
          ]
        },
        {
          "output_type": "stream",
          "name": "stdout",
          "text": [
            "Analyzed comment 31/50 -> Neutral\n"
          ]
        },
        {
          "output_type": "stream",
          "name": "stderr",
          "text": [
            "The following generation flags are not valid and may be ignored: ['temperature', 'top_p']. Set `TRANSFORMERS_VERBOSITY=info` for more details.\n"
          ]
        },
        {
          "output_type": "stream",
          "name": "stdout",
          "text": [
            "Analyzed comment 32/50 -> Neutral\n"
          ]
        },
        {
          "output_type": "stream",
          "name": "stderr",
          "text": [
            "The following generation flags are not valid and may be ignored: ['temperature', 'top_p']. Set `TRANSFORMERS_VERBOSITY=info` for more details.\n"
          ]
        },
        {
          "output_type": "stream",
          "name": "stdout",
          "text": [
            "Analyzed comment 33/50 -> Neutral\n"
          ]
        },
        {
          "output_type": "stream",
          "name": "stderr",
          "text": [
            "The following generation flags are not valid and may be ignored: ['temperature', 'top_p']. Set `TRANSFORMERS_VERBOSITY=info` for more details.\n"
          ]
        },
        {
          "output_type": "stream",
          "name": "stdout",
          "text": [
            "Analyzed comment 34/50 -> Neutral\n"
          ]
        },
        {
          "output_type": "stream",
          "name": "stderr",
          "text": [
            "The following generation flags are not valid and may be ignored: ['temperature', 'top_p']. Set `TRANSFORMERS_VERBOSITY=info` for more details.\n"
          ]
        },
        {
          "output_type": "stream",
          "name": "stdout",
          "text": [
            "Analyzed comment 35/50 -> Neutral\n"
          ]
        },
        {
          "output_type": "stream",
          "name": "stderr",
          "text": [
            "The following generation flags are not valid and may be ignored: ['temperature', 'top_p']. Set `TRANSFORMERS_VERBOSITY=info` for more details.\n"
          ]
        },
        {
          "output_type": "stream",
          "name": "stdout",
          "text": [
            "Analyzed comment 36/50 -> Neutral\n"
          ]
        },
        {
          "output_type": "stream",
          "name": "stderr",
          "text": [
            "The following generation flags are not valid and may be ignored: ['temperature', 'top_p']. Set `TRANSFORMERS_VERBOSITY=info` for more details.\n"
          ]
        },
        {
          "output_type": "stream",
          "name": "stdout",
          "text": [
            "Analyzed comment 37/50 -> Neutral\n"
          ]
        },
        {
          "output_type": "stream",
          "name": "stderr",
          "text": [
            "The following generation flags are not valid and may be ignored: ['temperature', 'top_p']. Set `TRANSFORMERS_VERBOSITY=info` for more details.\n"
          ]
        },
        {
          "output_type": "stream",
          "name": "stdout",
          "text": [
            "Analyzed comment 38/50 -> Neutral\n"
          ]
        },
        {
          "output_type": "stream",
          "name": "stderr",
          "text": [
            "The following generation flags are not valid and may be ignored: ['temperature', 'top_p']. Set `TRANSFORMERS_VERBOSITY=info` for more details.\n"
          ]
        },
        {
          "output_type": "stream",
          "name": "stdout",
          "text": [
            "Analyzed comment 39/50 -> Neutral\n"
          ]
        },
        {
          "output_type": "stream",
          "name": "stderr",
          "text": [
            "The following generation flags are not valid and may be ignored: ['temperature', 'top_p']. Set `TRANSFORMERS_VERBOSITY=info` for more details.\n"
          ]
        },
        {
          "output_type": "stream",
          "name": "stdout",
          "text": [
            "Analyzed comment 40/50 -> Neutral\n"
          ]
        },
        {
          "output_type": "stream",
          "name": "stderr",
          "text": [
            "The following generation flags are not valid and may be ignored: ['temperature', 'top_p']. Set `TRANSFORMERS_VERBOSITY=info` for more details.\n"
          ]
        },
        {
          "output_type": "stream",
          "name": "stdout",
          "text": [
            "Analyzed comment 41/50 -> Neutral\n"
          ]
        },
        {
          "output_type": "stream",
          "name": "stderr",
          "text": [
            "The following generation flags are not valid and may be ignored: ['temperature', 'top_p']. Set `TRANSFORMERS_VERBOSITY=info` for more details.\n"
          ]
        },
        {
          "output_type": "stream",
          "name": "stdout",
          "text": [
            "Analyzed comment 42/50 -> Neutral\n"
          ]
        },
        {
          "output_type": "stream",
          "name": "stderr",
          "text": [
            "The following generation flags are not valid and may be ignored: ['temperature', 'top_p']. Set `TRANSFORMERS_VERBOSITY=info` for more details.\n"
          ]
        },
        {
          "output_type": "stream",
          "name": "stdout",
          "text": [
            "Analyzed comment 43/50 -> Neutral\n"
          ]
        },
        {
          "output_type": "stream",
          "name": "stderr",
          "text": [
            "The following generation flags are not valid and may be ignored: ['temperature', 'top_p']. Set `TRANSFORMERS_VERBOSITY=info` for more details.\n"
          ]
        },
        {
          "output_type": "stream",
          "name": "stdout",
          "text": [
            "Analyzed comment 44/50 -> Neutral\n"
          ]
        },
        {
          "output_type": "stream",
          "name": "stderr",
          "text": [
            "The following generation flags are not valid and may be ignored: ['temperature', 'top_p']. Set `TRANSFORMERS_VERBOSITY=info` for more details.\n"
          ]
        },
        {
          "output_type": "stream",
          "name": "stdout",
          "text": [
            "Analyzed comment 45/50 -> Neutral\n"
          ]
        },
        {
          "output_type": "stream",
          "name": "stderr",
          "text": [
            "The following generation flags are not valid and may be ignored: ['temperature', 'top_p']. Set `TRANSFORMERS_VERBOSITY=info` for more details.\n"
          ]
        },
        {
          "output_type": "stream",
          "name": "stdout",
          "text": [
            "Analyzed comment 46/50 -> Neutral\n"
          ]
        },
        {
          "output_type": "stream",
          "name": "stderr",
          "text": [
            "The following generation flags are not valid and may be ignored: ['temperature', 'top_p']. Set `TRANSFORMERS_VERBOSITY=info` for more details.\n"
          ]
        },
        {
          "output_type": "stream",
          "name": "stdout",
          "text": [
            "Analyzed comment 47/50 -> Neutral\n"
          ]
        },
        {
          "output_type": "stream",
          "name": "stderr",
          "text": [
            "The following generation flags are not valid and may be ignored: ['temperature', 'top_p']. Set `TRANSFORMERS_VERBOSITY=info` for more details.\n"
          ]
        },
        {
          "output_type": "stream",
          "name": "stdout",
          "text": [
            "Analyzed comment 48/50 -> Neutral\n"
          ]
        },
        {
          "output_type": "stream",
          "name": "stderr",
          "text": [
            "The following generation flags are not valid and may be ignored: ['temperature', 'top_p']. Set `TRANSFORMERS_VERBOSITY=info` for more details.\n"
          ]
        },
        {
          "output_type": "stream",
          "name": "stdout",
          "text": [
            "Analyzed comment 49/50 -> Positive\n",
            "Analyzed comment 50/50 -> Positive\n"
          ]
        },
        {
          "output_type": "display_data",
          "data": {
            "text/plain": [
              "                       Author  \\\n",
              "0             @sivasuluru1993   \n",
              "1                @kashettyavp   \n",
              "2                 @leorao2197   \n",
              "3          @NareshYadav-yx1xp   \n",
              "4             @SaiKiran-pd6rd   \n",
              "5            @sameershaik1298   \n",
              "6                @arsalan-j4n   \n",
              "7               @vinayallu772   \n",
              "8               @yaswanth8905   \n",
              "9          @DurgaPrasad-tn3zq   \n",
              "10            @damodharr_viss   \n",
              "11              @maharshi5555   \n",
              "12        @Srikanthkatkam3020   \n",
              "13  @dommetileelamaniteja1955   \n",
              "14             @ShakAhmad-w4w   \n",
              "15        @SanjaySanjay-n6n7y   \n",
              "16     @harinadhvinnakota1685   \n",
              "17             @ramireddy1588   \n",
              "18                @Rajini_666   \n",
              "19                    @np5735   \n",
              "20               @Saru123-q7x   \n",
              "21        @m.nagendranagi7196   \n",
              "22          @ancientplayer121   \n",
              "23          @Garuda_AR_IsLive   \n",
              "24   @ramakrishnatirlangi4489   \n",
              "25       @sivanimallipudi3509   \n",
              "26     @apgramavolunteers3425   \n",
              "27             @RajDash-sr6jq   \n",
              "28              @AWTLIFESTYLE   \n",
              "29              @AWTLIFESTYLE   \n",
              "30              @AWTLIFESTYLE   \n",
              "31     @shivakrishnaallam1746   \n",
              "32              @phanigralama   \n",
              "33          @hhghgygggggggtff   \n",
              "34          @ArjunKumar-ph7qv   \n",
              "35            @SumiGanesh-u2r   \n",
              "36   @rajkumarkillamsetti1059   \n",
              "37        @chrisprashanth9399   \n",
              "38                  @-pjtalks   \n",
              "39     @b.p.bharathinaidu1555   \n",
              "40       @VenkateswaraT-rt4vo   \n",
              "41  @HSPLICRECRUITMENTOFFICER   \n",
              "42        @Anonymousblogger15   \n",
              "43            @vijay.4141-w5w   \n",
              "44        @saikirangentila519   \n",
              "45           @KingKohli-dd5vr   \n",
              "46          @chebolurahul3971   \n",
              "47    @shaikmahaboobbasha4120   \n",
              "48          @pavankumar-gk9sk   \n",
              "49              @kartheekn379   \n",
              "\n",
              "                                                                                                                                                                                                    Comment  \\\n",
              "0                                                                                                                             ఈ చిత్రంలో బాగున్నదేంటంట?” అని ఎవరన్నా అడిగితే “ఆఖరి అరగంట” అని చెప్పుకోవాలి.   \n",
              "1                                                                                                                                                                                                      😂😂😂😂   \n",
              "2                                                                                                                                                  Don't make negative publicity, kannappa is a good movie.   \n",
              "3                                                       అన్న సినిమా మీరు చెప్పింది 100 కి 200% నిజం సినిమా బాగోలేదు. ముక్యంగా పార్వతి దేవి కి బొట్టు కూడా పెట్టిలేరు అన్న ఇది చాలా పెద్ద మిస్టేక్ సినిమా లో   \n",
              "4                                                                                                                                                                                      Photo glips thiesara   \n",
              "5                                                                                                                                   Action choreography is comedy. Assal bgrade movie fight scenes la undi.   \n",
              "6                                                                                                                           Stephen devassy telikapodam endhi bro.. He's gem even AR Rehman appreciate him.   \n",
              "7   Bayya. Nuvvu. Sontam ga. Okati. Sort film. Cheyi... Kastam ..😢 telustundi. Movies. Review s. Cheputunnav ..Coments. Chestunnav. 🤬. Google. Lo Search. Chesina. Story line. Telustundi....content..un...   \n",
              "8                                                                                                                                          Same feeling Ippude chusa movie but review emo positive ga undhi   \n",
              "9                                                                                                                                       Prabhas name only aaa kane neku nachaledu ee movie lo act cheyyadam   \n",
              "10  asalu em movie idi,Oscar awards techhina industry lo ilaanti movie elaa teesthaaro ardham kaadu.veedu mallee TFI ki president anta,editing chesey appudainaa,meeku evaroo cheppaledaa,idoka baffoon ...   \n",
              "11                                                                                                                                                                                               0:23 Twist   \n",
              "12                                                                                                                                                                                                 Its good   \n",
              "13                                                                              Mainly akshay kumar set avvale kajol assalu set avvale 😢 sarswati devi getup la anipinchindi Drama company la ga unsuitable   \n",
              "14                                                                                                                                                                                 Jai prabhas block buster   \n",
              "15                                                                                                                                                              రారా..రా నీ రివ్యూ కోసమే wait చేస్తున్నా😅😅😅   \n",
              "16                                                                                                                                                   bro ni channel mida strikes esada manchu vishnu emina?   \n",
              "17                                                                                                                                                                                           Genuine review   \n",
              "18                                                                                                                                                                                           Same feeling 😢   \n",
              "19                                                                       Darling Prabhas, please avoid acting in low-quality, cheaply made graphic films from now on, this movie is almost like a tv serial   \n",
              "20                                                                                                                                                                                Exactly same situation...   \n",
              "21                                                                                                                                                                                 Maargan movie review bro   \n",
              "22                                                Idhem Twist raa ayya ek dum waqt badal diya annattu undhi. \"Okkade iddharu kadhaa ramudu mariyu raakshasudu\" ani paata pettuko background lo baaguntadhi.   \n",
              "23                                                                                                                                                                   Movie lo name unai brooo kekkaa....😂😂😂   \n",
              "24                                                                                                                                                                                               Super anna   \n",
              "25                                                                                                                                         Nijam gane bagundemo anukunna bro starting nuvvu cheppindi vini😂   \n",
              "26  వాళ్ళ జీవితాలు అంతం చేసే దాకా నువ్వు విశ్రమించేలా లేవు కదా గురూ. నువ్వు నా కాపీ వెర్షన్ గురూ నీ వీడియోస్ అన్ని చూస్తాను కానీ ఎప్పుడు కామెంట్ పెట్టలేదు.నా ఆలోచనలు,నా రివ్యూ లు మొత్తం నువ్వు దొబ్బేస...   \n",
              "27  Ninna first lo reviews chusina tharavatha - theater ki second half velithey chalu anukunna tharavatha konni reviews chuseka - TamilMV lo chudadam best anukunna Ippudu aithey- OTT lo chudalanna 'Sa...   \n",
              "28                                                                                                                                                             Video lo pics pettaledu 😂😂 em anna pettaledu   \n",
              "29                                                                                                                                                          Vishnu anna watch from helicopter 🚁🚁🚁🚁🚁🚁🚁🚁🚁🚁🚁🚁🚁   \n",
              "30                                                                                                                                                                                                 😂😂😂😂😂😂😂😂   \n",
              "31                                                                                                                                                                                Movie bagundi... Chudochu   \n",
              "32                                                                                                                                                       Bayya madyalo seen ammmama intikelipotha bayya...😅   \n",
              "33                                                                                                                                                                                                        H   \n",
              "34                                                                                                             Until 0.24 entha kangaru paddaru ra janamantha kontha sepatlo motham allakallolam aipoyaru😂😂   \n",
              "35                                                                                                                             Anna vachadu..anna review ichadu.. Anna poyadu.. Anna malli vastadu repeat 😅   \n",
              "36                                                                                                                                                     Esari chala late indi ne vedio bayya eagerly waiting   \n",
              "37                                                                                                                                                          Le me ; who Surprised by the first 15 seconds 😅   \n",
              "38                                                                                                                                                                                      Strike vastundi bro   \n",
              "39                                                                                                                                                                              Normuyi chala bagundi movie   \n",
              "40                                                                                                                                                                 Gorre bidda va yenti 2nd half was decent   \n",
              "41                                                                                                         లేదండి, కామెంట్ చేసే ప్రతి ఒక్కరూ ఒకసారి సినిమా చూడండి,, బాగుంది మీరు అస్సలు డిసప్పాయింట్ avvaru   \n",
              "42                                                                                                                                                           ‘Switzerland lo chaavu manchu lo maranam’ 😂😂😂😂   \n",
              "43                                                                                                                                                                Fuc******ing Movie Very Disappointed 😢😢😢😢   \n",
              "44                                                                                                                                                                              Let them Know Uncloe...😂😂😂😂   \n",
              "45                                                                                                                                                   Barbell pitch meetings video 7:39 secs chudandi broo😂🤣   \n",
              "46                                                                                                                                        Movie matters most trusted reviews channel for true movie lover's   \n",
              "47                                    Nee review waste asalu movie chala bagundi enduku raa negative review isthunav panikimainoda.guys veedi review nammakandi asalu movie as yyuthe visual winder la undi   \n",
              "48                                                                                                                                                      Arey donga na kodaka niku cinema chudadam kuda radu   \n",
              "49                                                                                                                                                                                     కన్నప్ప ❌ రాడ్డప్ప ✅   \n",
              "\n",
              "    Likes Sentiment  \n",
              "0       0  Negative  \n",
              "1       1   Neutral  \n",
              "2       1   Neutral  \n",
              "3       0   Neutral  \n",
              "4       0   Neutral  \n",
              "5       0   Neutral  \n",
              "6       0   Neutral  \n",
              "7       0   Neutral  \n",
              "8       0   Neutral  \n",
              "9       0   Neutral  \n",
              "10      0   Neutral  \n",
              "11      0   Neutral  \n",
              "12      0   Neutral  \n",
              "13      0   Neutral  \n",
              "14      0   Neutral  \n",
              "15      0   Neutral  \n",
              "16      0   Neutral  \n",
              "17      0   Neutral  \n",
              "18      0   Neutral  \n",
              "19      0   Neutral  \n",
              "20      0   Neutral  \n",
              "21      0   Neutral  \n",
              "22      0  Positive  \n",
              "23      0   Neutral  \n",
              "24      0   Neutral  \n",
              "25      0   Neutral  \n",
              "26      1   Neutral  \n",
              "27      0   Neutral  \n",
              "28      2   Neutral  \n",
              "29      1  Negative  \n",
              "30      1   Neutral  \n",
              "31      0   Neutral  \n",
              "32      0   Neutral  \n",
              "33      0   Neutral  \n",
              "34      0   Neutral  \n",
              "35      0   Neutral  \n",
              "36      0   Neutral  \n",
              "37      1   Neutral  \n",
              "38      0   Neutral  \n",
              "39      0   Neutral  \n",
              "40      0   Neutral  \n",
              "41      0   Neutral  \n",
              "42      0   Neutral  \n",
              "43      0   Neutral  \n",
              "44      0   Neutral  \n",
              "45      0   Neutral  \n",
              "46      0   Neutral  \n",
              "47      0   Neutral  \n",
              "48      1  Positive  \n",
              "49      0  Positive  "
            ],
            "text/html": [
              "\n",
              "  <div id=\"df-ae0d7cd4-7a6e-4994-9841-91b138d52fc8\" class=\"colab-df-container\">\n",
              "    <div>\n",
              "<style scoped>\n",
              "    .dataframe tbody tr th:only-of-type {\n",
              "        vertical-align: middle;\n",
              "    }\n",
              "\n",
              "    .dataframe tbody tr th {\n",
              "        vertical-align: top;\n",
              "    }\n",
              "\n",
              "    .dataframe thead th {\n",
              "        text-align: right;\n",
              "    }\n",
              "</style>\n",
              "<table border=\"1\" class=\"dataframe\">\n",
              "  <thead>\n",
              "    <tr style=\"text-align: right;\">\n",
              "      <th></th>\n",
              "      <th>Author</th>\n",
              "      <th>Comment</th>\n",
              "      <th>Likes</th>\n",
              "      <th>Sentiment</th>\n",
              "    </tr>\n",
              "  </thead>\n",
              "  <tbody>\n",
              "    <tr>\n",
              "      <th>0</th>\n",
              "      <td>@sivasuluru1993</td>\n",
              "      <td>ఈ చిత్రంలో బాగున్నదేంటంట?” అని ఎవరన్నా అడిగితే “ఆఖరి అరగంట” అని చెప్పుకోవాలి.</td>\n",
              "      <td>0</td>\n",
              "      <td>Negative</td>\n",
              "    </tr>\n",
              "    <tr>\n",
              "      <th>1</th>\n",
              "      <td>@kashettyavp</td>\n",
              "      <td>😂😂😂😂</td>\n",
              "      <td>1</td>\n",
              "      <td>Neutral</td>\n",
              "    </tr>\n",
              "    <tr>\n",
              "      <th>2</th>\n",
              "      <td>@leorao2197</td>\n",
              "      <td>Don't make negative publicity, kannappa is a good movie.</td>\n",
              "      <td>1</td>\n",
              "      <td>Neutral</td>\n",
              "    </tr>\n",
              "    <tr>\n",
              "      <th>3</th>\n",
              "      <td>@NareshYadav-yx1xp</td>\n",
              "      <td>అన్న సినిమా మీరు చెప్పింది 100 కి 200% నిజం సినిమా బాగోలేదు. ముక్యంగా పార్వతి దేవి కి బొట్టు కూడా పెట్టిలేరు అన్న ఇది చాలా పెద్ద మిస్టేక్ సినిమా లో</td>\n",
              "      <td>0</td>\n",
              "      <td>Neutral</td>\n",
              "    </tr>\n",
              "    <tr>\n",
              "      <th>4</th>\n",
              "      <td>@SaiKiran-pd6rd</td>\n",
              "      <td>Photo glips thiesara</td>\n",
              "      <td>0</td>\n",
              "      <td>Neutral</td>\n",
              "    </tr>\n",
              "    <tr>\n",
              "      <th>5</th>\n",
              "      <td>@sameershaik1298</td>\n",
              "      <td>Action choreography is comedy. Assal bgrade movie fight scenes la undi.</td>\n",
              "      <td>0</td>\n",
              "      <td>Neutral</td>\n",
              "    </tr>\n",
              "    <tr>\n",
              "      <th>6</th>\n",
              "      <td>@arsalan-j4n</td>\n",
              "      <td>Stephen devassy telikapodam endhi bro.. He's gem even AR Rehman appreciate him.</td>\n",
              "      <td>0</td>\n",
              "      <td>Neutral</td>\n",
              "    </tr>\n",
              "    <tr>\n",
              "      <th>7</th>\n",
              "      <td>@vinayallu772</td>\n",
              "      <td>Bayya. Nuvvu. Sontam ga. Okati. Sort film. Cheyi... Kastam ..😢 telustundi. Movies. Review s. Cheputunnav ..Coments. Chestunnav. 🤬. Google. Lo Search. Chesina. Story line. Telustundi....content..un...</td>\n",
              "      <td>0</td>\n",
              "      <td>Neutral</td>\n",
              "    </tr>\n",
              "    <tr>\n",
              "      <th>8</th>\n",
              "      <td>@yaswanth8905</td>\n",
              "      <td>Same feeling Ippude chusa movie but review emo positive ga undhi</td>\n",
              "      <td>0</td>\n",
              "      <td>Neutral</td>\n",
              "    </tr>\n",
              "    <tr>\n",
              "      <th>9</th>\n",
              "      <td>@DurgaPrasad-tn3zq</td>\n",
              "      <td>Prabhas name only aaa kane neku nachaledu ee movie lo act cheyyadam</td>\n",
              "      <td>0</td>\n",
              "      <td>Neutral</td>\n",
              "    </tr>\n",
              "    <tr>\n",
              "      <th>10</th>\n",
              "      <td>@damodharr_viss</td>\n",
              "      <td>asalu em movie idi,Oscar awards techhina industry lo ilaanti movie elaa teesthaaro ardham kaadu.veedu mallee TFI ki president anta,editing chesey appudainaa,meeku evaroo cheppaledaa,idoka baffoon ...</td>\n",
              "      <td>0</td>\n",
              "      <td>Neutral</td>\n",
              "    </tr>\n",
              "    <tr>\n",
              "      <th>11</th>\n",
              "      <td>@maharshi5555</td>\n",
              "      <td>0:23 Twist</td>\n",
              "      <td>0</td>\n",
              "      <td>Neutral</td>\n",
              "    </tr>\n",
              "    <tr>\n",
              "      <th>12</th>\n",
              "      <td>@Srikanthkatkam3020</td>\n",
              "      <td>Its good</td>\n",
              "      <td>0</td>\n",
              "      <td>Neutral</td>\n",
              "    </tr>\n",
              "    <tr>\n",
              "      <th>13</th>\n",
              "      <td>@dommetileelamaniteja1955</td>\n",
              "      <td>Mainly akshay kumar set avvale kajol assalu set avvale 😢 sarswati devi getup la anipinchindi Drama company la ga unsuitable</td>\n",
              "      <td>0</td>\n",
              "      <td>Neutral</td>\n",
              "    </tr>\n",
              "    <tr>\n",
              "      <th>14</th>\n",
              "      <td>@ShakAhmad-w4w</td>\n",
              "      <td>Jai prabhas block buster</td>\n",
              "      <td>0</td>\n",
              "      <td>Neutral</td>\n",
              "    </tr>\n",
              "    <tr>\n",
              "      <th>15</th>\n",
              "      <td>@SanjaySanjay-n6n7y</td>\n",
              "      <td>రారా..రా నీ రివ్యూ కోసమే wait చేస్తున్నా😅😅😅</td>\n",
              "      <td>0</td>\n",
              "      <td>Neutral</td>\n",
              "    </tr>\n",
              "    <tr>\n",
              "      <th>16</th>\n",
              "      <td>@harinadhvinnakota1685</td>\n",
              "      <td>bro ni channel mida strikes esada manchu vishnu emina?</td>\n",
              "      <td>0</td>\n",
              "      <td>Neutral</td>\n",
              "    </tr>\n",
              "    <tr>\n",
              "      <th>17</th>\n",
              "      <td>@ramireddy1588</td>\n",
              "      <td>Genuine review</td>\n",
              "      <td>0</td>\n",
              "      <td>Neutral</td>\n",
              "    </tr>\n",
              "    <tr>\n",
              "      <th>18</th>\n",
              "      <td>@Rajini_666</td>\n",
              "      <td>Same feeling 😢</td>\n",
              "      <td>0</td>\n",
              "      <td>Neutral</td>\n",
              "    </tr>\n",
              "    <tr>\n",
              "      <th>19</th>\n",
              "      <td>@np5735</td>\n",
              "      <td>Darling Prabhas, please avoid acting in low-quality, cheaply made graphic films from now on, this movie is almost like a tv serial</td>\n",
              "      <td>0</td>\n",
              "      <td>Neutral</td>\n",
              "    </tr>\n",
              "    <tr>\n",
              "      <th>20</th>\n",
              "      <td>@Saru123-q7x</td>\n",
              "      <td>Exactly same situation...</td>\n",
              "      <td>0</td>\n",
              "      <td>Neutral</td>\n",
              "    </tr>\n",
              "    <tr>\n",
              "      <th>21</th>\n",
              "      <td>@m.nagendranagi7196</td>\n",
              "      <td>Maargan movie review bro</td>\n",
              "      <td>0</td>\n",
              "      <td>Neutral</td>\n",
              "    </tr>\n",
              "    <tr>\n",
              "      <th>22</th>\n",
              "      <td>@ancientplayer121</td>\n",
              "      <td>Idhem Twist raa ayya ek dum waqt badal diya annattu undhi. \"Okkade iddharu kadhaa ramudu mariyu raakshasudu\" ani paata pettuko background lo baaguntadhi.</td>\n",
              "      <td>0</td>\n",
              "      <td>Positive</td>\n",
              "    </tr>\n",
              "    <tr>\n",
              "      <th>23</th>\n",
              "      <td>@Garuda_AR_IsLive</td>\n",
              "      <td>Movie lo name unai brooo kekkaa....😂😂😂</td>\n",
              "      <td>0</td>\n",
              "      <td>Neutral</td>\n",
              "    </tr>\n",
              "    <tr>\n",
              "      <th>24</th>\n",
              "      <td>@ramakrishnatirlangi4489</td>\n",
              "      <td>Super anna</td>\n",
              "      <td>0</td>\n",
              "      <td>Neutral</td>\n",
              "    </tr>\n",
              "    <tr>\n",
              "      <th>25</th>\n",
              "      <td>@sivanimallipudi3509</td>\n",
              "      <td>Nijam gane bagundemo anukunna bro starting nuvvu cheppindi vini😂</td>\n",
              "      <td>0</td>\n",
              "      <td>Neutral</td>\n",
              "    </tr>\n",
              "    <tr>\n",
              "      <th>26</th>\n",
              "      <td>@apgramavolunteers3425</td>\n",
              "      <td>వాళ్ళ జీవితాలు అంతం చేసే దాకా నువ్వు విశ్రమించేలా లేవు కదా గురూ. నువ్వు నా కాపీ వెర్షన్ గురూ నీ వీడియోస్ అన్ని చూస్తాను కానీ ఎప్పుడు కామెంట్ పెట్టలేదు.నా ఆలోచనలు,నా రివ్యూ లు మొత్తం నువ్వు దొబ్బేస...</td>\n",
              "      <td>1</td>\n",
              "      <td>Neutral</td>\n",
              "    </tr>\n",
              "    <tr>\n",
              "      <th>27</th>\n",
              "      <td>@RajDash-sr6jq</td>\n",
              "      <td>Ninna first lo reviews chusina tharavatha - theater ki second half velithey chalu anukunna tharavatha konni reviews chuseka - TamilMV lo chudadam best anukunna Ippudu aithey- OTT lo chudalanna 'Sa...</td>\n",
              "      <td>0</td>\n",
              "      <td>Neutral</td>\n",
              "    </tr>\n",
              "    <tr>\n",
              "      <th>28</th>\n",
              "      <td>@AWTLIFESTYLE</td>\n",
              "      <td>Video lo pics pettaledu 😂😂 em anna pettaledu</td>\n",
              "      <td>2</td>\n",
              "      <td>Neutral</td>\n",
              "    </tr>\n",
              "    <tr>\n",
              "      <th>29</th>\n",
              "      <td>@AWTLIFESTYLE</td>\n",
              "      <td>Vishnu anna watch from helicopter 🚁🚁🚁🚁🚁🚁🚁🚁🚁🚁🚁🚁🚁</td>\n",
              "      <td>1</td>\n",
              "      <td>Negative</td>\n",
              "    </tr>\n",
              "    <tr>\n",
              "      <th>30</th>\n",
              "      <td>@AWTLIFESTYLE</td>\n",
              "      <td>😂😂😂😂😂😂😂😂</td>\n",
              "      <td>1</td>\n",
              "      <td>Neutral</td>\n",
              "    </tr>\n",
              "    <tr>\n",
              "      <th>31</th>\n",
              "      <td>@shivakrishnaallam1746</td>\n",
              "      <td>Movie bagundi... Chudochu</td>\n",
              "      <td>0</td>\n",
              "      <td>Neutral</td>\n",
              "    </tr>\n",
              "    <tr>\n",
              "      <th>32</th>\n",
              "      <td>@phanigralama</td>\n",
              "      <td>Bayya madyalo seen ammmama intikelipotha bayya...😅</td>\n",
              "      <td>0</td>\n",
              "      <td>Neutral</td>\n",
              "    </tr>\n",
              "    <tr>\n",
              "      <th>33</th>\n",
              "      <td>@hhghgygggggggtff</td>\n",
              "      <td>H</td>\n",
              "      <td>0</td>\n",
              "      <td>Neutral</td>\n",
              "    </tr>\n",
              "    <tr>\n",
              "      <th>34</th>\n",
              "      <td>@ArjunKumar-ph7qv</td>\n",
              "      <td>Until 0.24 entha kangaru paddaru ra janamantha kontha sepatlo motham allakallolam aipoyaru😂😂</td>\n",
              "      <td>0</td>\n",
              "      <td>Neutral</td>\n",
              "    </tr>\n",
              "    <tr>\n",
              "      <th>35</th>\n",
              "      <td>@SumiGanesh-u2r</td>\n",
              "      <td>Anna vachadu..anna review ichadu.. Anna poyadu.. Anna malli vastadu repeat 😅</td>\n",
              "      <td>0</td>\n",
              "      <td>Neutral</td>\n",
              "    </tr>\n",
              "    <tr>\n",
              "      <th>36</th>\n",
              "      <td>@rajkumarkillamsetti1059</td>\n",
              "      <td>Esari chala late indi ne vedio bayya eagerly waiting</td>\n",
              "      <td>0</td>\n",
              "      <td>Neutral</td>\n",
              "    </tr>\n",
              "    <tr>\n",
              "      <th>37</th>\n",
              "      <td>@chrisprashanth9399</td>\n",
              "      <td>Le me ; who Surprised by the first 15 seconds 😅</td>\n",
              "      <td>1</td>\n",
              "      <td>Neutral</td>\n",
              "    </tr>\n",
              "    <tr>\n",
              "      <th>38</th>\n",
              "      <td>@-pjtalks</td>\n",
              "      <td>Strike vastundi bro</td>\n",
              "      <td>0</td>\n",
              "      <td>Neutral</td>\n",
              "    </tr>\n",
              "    <tr>\n",
              "      <th>39</th>\n",
              "      <td>@b.p.bharathinaidu1555</td>\n",
              "      <td>Normuyi chala bagundi movie</td>\n",
              "      <td>0</td>\n",
              "      <td>Neutral</td>\n",
              "    </tr>\n",
              "    <tr>\n",
              "      <th>40</th>\n",
              "      <td>@VenkateswaraT-rt4vo</td>\n",
              "      <td>Gorre bidda va yenti 2nd half was decent</td>\n",
              "      <td>0</td>\n",
              "      <td>Neutral</td>\n",
              "    </tr>\n",
              "    <tr>\n",
              "      <th>41</th>\n",
              "      <td>@HSPLICRECRUITMENTOFFICER</td>\n",
              "      <td>లేదండి, కామెంట్ చేసే ప్రతి ఒక్కరూ ఒకసారి సినిమా చూడండి,, బాగుంది మీరు అస్సలు డిసప్పాయింట్ avvaru</td>\n",
              "      <td>0</td>\n",
              "      <td>Neutral</td>\n",
              "    </tr>\n",
              "    <tr>\n",
              "      <th>42</th>\n",
              "      <td>@Anonymousblogger15</td>\n",
              "      <td>‘Switzerland lo chaavu manchu lo maranam’ 😂😂😂😂</td>\n",
              "      <td>0</td>\n",
              "      <td>Neutral</td>\n",
              "    </tr>\n",
              "    <tr>\n",
              "      <th>43</th>\n",
              "      <td>@vijay.4141-w5w</td>\n",
              "      <td>Fuc******ing Movie Very Disappointed 😢😢😢😢</td>\n",
              "      <td>0</td>\n",
              "      <td>Neutral</td>\n",
              "    </tr>\n",
              "    <tr>\n",
              "      <th>44</th>\n",
              "      <td>@saikirangentila519</td>\n",
              "      <td>Let them Know Uncloe...😂😂😂😂</td>\n",
              "      <td>0</td>\n",
              "      <td>Neutral</td>\n",
              "    </tr>\n",
              "    <tr>\n",
              "      <th>45</th>\n",
              "      <td>@KingKohli-dd5vr</td>\n",
              "      <td>Barbell pitch meetings video 7:39 secs chudandi broo😂🤣</td>\n",
              "      <td>0</td>\n",
              "      <td>Neutral</td>\n",
              "    </tr>\n",
              "    <tr>\n",
              "      <th>46</th>\n",
              "      <td>@chebolurahul3971</td>\n",
              "      <td>Movie matters most trusted reviews channel for true movie lover's</td>\n",
              "      <td>0</td>\n",
              "      <td>Neutral</td>\n",
              "    </tr>\n",
              "    <tr>\n",
              "      <th>47</th>\n",
              "      <td>@shaikmahaboobbasha4120</td>\n",
              "      <td>Nee review waste asalu movie chala bagundi enduku raa negative review isthunav panikimainoda.guys veedi review nammakandi asalu movie as yyuthe visual winder la undi</td>\n",
              "      <td>0</td>\n",
              "      <td>Neutral</td>\n",
              "    </tr>\n",
              "    <tr>\n",
              "      <th>48</th>\n",
              "      <td>@pavankumar-gk9sk</td>\n",
              "      <td>Arey donga na kodaka niku cinema chudadam kuda radu</td>\n",
              "      <td>1</td>\n",
              "      <td>Positive</td>\n",
              "    </tr>\n",
              "    <tr>\n",
              "      <th>49</th>\n",
              "      <td>@kartheekn379</td>\n",
              "      <td>కన్నప్ప ❌ రాడ్డప్ప ✅</td>\n",
              "      <td>0</td>\n",
              "      <td>Positive</td>\n",
              "    </tr>\n",
              "  </tbody>\n",
              "</table>\n",
              "</div>\n",
              "    <div class=\"colab-df-buttons\">\n",
              "\n",
              "  <div class=\"colab-df-container\">\n",
              "    <button class=\"colab-df-convert\" onclick=\"convertToInteractive('df-ae0d7cd4-7a6e-4994-9841-91b138d52fc8')\"\n",
              "            title=\"Convert this dataframe to an interactive table.\"\n",
              "            style=\"display:none;\">\n",
              "\n",
              "  <svg xmlns=\"http://www.w3.org/2000/svg\" height=\"24px\" viewBox=\"0 -960 960 960\">\n",
              "    <path d=\"M120-120v-720h720v720H120Zm60-500h600v-160H180v160Zm220 220h160v-160H400v160Zm0 220h160v-160H400v160ZM180-400h160v-160H180v160Zm440 0h160v-160H620v160ZM180-180h160v-160H180v160Zm440 0h160v-160H620v160Z\"/>\n",
              "  </svg>\n",
              "    </button>\n",
              "\n",
              "  <style>\n",
              "    .colab-df-container {\n",
              "      display:flex;\n",
              "      gap: 12px;\n",
              "    }\n",
              "\n",
              "    .colab-df-convert {\n",
              "      background-color: #E8F0FE;\n",
              "      border: none;\n",
              "      border-radius: 50%;\n",
              "      cursor: pointer;\n",
              "      display: none;\n",
              "      fill: #1967D2;\n",
              "      height: 32px;\n",
              "      padding: 0 0 0 0;\n",
              "      width: 32px;\n",
              "    }\n",
              "\n",
              "    .colab-df-convert:hover {\n",
              "      background-color: #E2EBFA;\n",
              "      box-shadow: 0px 1px 2px rgba(60, 64, 67, 0.3), 0px 1px 3px 1px rgba(60, 64, 67, 0.15);\n",
              "      fill: #174EA6;\n",
              "    }\n",
              "\n",
              "    .colab-df-buttons div {\n",
              "      margin-bottom: 4px;\n",
              "    }\n",
              "\n",
              "    [theme=dark] .colab-df-convert {\n",
              "      background-color: #3B4455;\n",
              "      fill: #D2E3FC;\n",
              "    }\n",
              "\n",
              "    [theme=dark] .colab-df-convert:hover {\n",
              "      background-color: #434B5C;\n",
              "      box-shadow: 0px 1px 3px 1px rgba(0, 0, 0, 0.15);\n",
              "      filter: drop-shadow(0px 1px 2px rgba(0, 0, 0, 0.3));\n",
              "      fill: #FFFFFF;\n",
              "    }\n",
              "  </style>\n",
              "\n",
              "    <script>\n",
              "      const buttonEl =\n",
              "        document.querySelector('#df-ae0d7cd4-7a6e-4994-9841-91b138d52fc8 button.colab-df-convert');\n",
              "      buttonEl.style.display =\n",
              "        google.colab.kernel.accessAllowed ? 'block' : 'none';\n",
              "\n",
              "      async function convertToInteractive(key) {\n",
              "        const element = document.querySelector('#df-ae0d7cd4-7a6e-4994-9841-91b138d52fc8');\n",
              "        const dataTable =\n",
              "          await google.colab.kernel.invokeFunction('convertToInteractive',\n",
              "                                                    [key], {});\n",
              "        if (!dataTable) return;\n",
              "\n",
              "        const docLinkHtml = 'Like what you see? Visit the ' +\n",
              "          '<a target=\"_blank\" href=https://colab.research.google.com/notebooks/data_table.ipynb>data table notebook</a>'\n",
              "          + ' to learn more about interactive tables.';\n",
              "        element.innerHTML = '';\n",
              "        dataTable['output_type'] = 'display_data';\n",
              "        await google.colab.output.renderOutput(dataTable, element);\n",
              "        const docLink = document.createElement('div');\n",
              "        docLink.innerHTML = docLinkHtml;\n",
              "        element.appendChild(docLink);\n",
              "      }\n",
              "    </script>\n",
              "  </div>\n",
              "\n",
              "\n",
              "    <div id=\"df-f96678aa-d316-4dbd-97ee-463e2f17c556\">\n",
              "      <button class=\"colab-df-quickchart\" onclick=\"quickchart('df-f96678aa-d316-4dbd-97ee-463e2f17c556')\"\n",
              "                title=\"Suggest charts\"\n",
              "                style=\"display:none;\">\n",
              "\n",
              "<svg xmlns=\"http://www.w3.org/2000/svg\" height=\"24px\"viewBox=\"0 0 24 24\"\n",
              "     width=\"24px\">\n",
              "    <g>\n",
              "        <path d=\"M19 3H5c-1.1 0-2 .9-2 2v14c0 1.1.9 2 2 2h14c1.1 0 2-.9 2-2V5c0-1.1-.9-2-2-2zM9 17H7v-7h2v7zm4 0h-2V7h2v10zm4 0h-2v-4h2v4z\"/>\n",
              "    </g>\n",
              "</svg>\n",
              "      </button>\n",
              "\n",
              "<style>\n",
              "  .colab-df-quickchart {\n",
              "      --bg-color: #E8F0FE;\n",
              "      --fill-color: #1967D2;\n",
              "      --hover-bg-color: #E2EBFA;\n",
              "      --hover-fill-color: #174EA6;\n",
              "      --disabled-fill-color: #AAA;\n",
              "      --disabled-bg-color: #DDD;\n",
              "  }\n",
              "\n",
              "  [theme=dark] .colab-df-quickchart {\n",
              "      --bg-color: #3B4455;\n",
              "      --fill-color: #D2E3FC;\n",
              "      --hover-bg-color: #434B5C;\n",
              "      --hover-fill-color: #FFFFFF;\n",
              "      --disabled-bg-color: #3B4455;\n",
              "      --disabled-fill-color: #666;\n",
              "  }\n",
              "\n",
              "  .colab-df-quickchart {\n",
              "    background-color: var(--bg-color);\n",
              "    border: none;\n",
              "    border-radius: 50%;\n",
              "    cursor: pointer;\n",
              "    display: none;\n",
              "    fill: var(--fill-color);\n",
              "    height: 32px;\n",
              "    padding: 0;\n",
              "    width: 32px;\n",
              "  }\n",
              "\n",
              "  .colab-df-quickchart:hover {\n",
              "    background-color: var(--hover-bg-color);\n",
              "    box-shadow: 0 1px 2px rgba(60, 64, 67, 0.3), 0 1px 3px 1px rgba(60, 64, 67, 0.15);\n",
              "    fill: var(--button-hover-fill-color);\n",
              "  }\n",
              "\n",
              "  .colab-df-quickchart-complete:disabled,\n",
              "  .colab-df-quickchart-complete:disabled:hover {\n",
              "    background-color: var(--disabled-bg-color);\n",
              "    fill: var(--disabled-fill-color);\n",
              "    box-shadow: none;\n",
              "  }\n",
              "\n",
              "  .colab-df-spinner {\n",
              "    border: 2px solid var(--fill-color);\n",
              "    border-color: transparent;\n",
              "    border-bottom-color: var(--fill-color);\n",
              "    animation:\n",
              "      spin 1s steps(1) infinite;\n",
              "  }\n",
              "\n",
              "  @keyframes spin {\n",
              "    0% {\n",
              "      border-color: transparent;\n",
              "      border-bottom-color: var(--fill-color);\n",
              "      border-left-color: var(--fill-color);\n",
              "    }\n",
              "    20% {\n",
              "      border-color: transparent;\n",
              "      border-left-color: var(--fill-color);\n",
              "      border-top-color: var(--fill-color);\n",
              "    }\n",
              "    30% {\n",
              "      border-color: transparent;\n",
              "      border-left-color: var(--fill-color);\n",
              "      border-top-color: var(--fill-color);\n",
              "      border-right-color: var(--fill-color);\n",
              "    }\n",
              "    40% {\n",
              "      border-color: transparent;\n",
              "      border-right-color: var(--fill-color);\n",
              "      border-top-color: var(--fill-color);\n",
              "    }\n",
              "    60% {\n",
              "      border-color: transparent;\n",
              "      border-right-color: var(--fill-color);\n",
              "    }\n",
              "    80% {\n",
              "      border-color: transparent;\n",
              "      border-right-color: var(--fill-color);\n",
              "      border-bottom-color: var(--fill-color);\n",
              "    }\n",
              "    90% {\n",
              "      border-color: transparent;\n",
              "      border-bottom-color: var(--fill-color);\n",
              "    }\n",
              "  }\n",
              "</style>\n",
              "\n",
              "      <script>\n",
              "        async function quickchart(key) {\n",
              "          const quickchartButtonEl =\n",
              "            document.querySelector('#' + key + ' button');\n",
              "          quickchartButtonEl.disabled = true;  // To prevent multiple clicks.\n",
              "          quickchartButtonEl.classList.add('colab-df-spinner');\n",
              "          try {\n",
              "            const charts = await google.colab.kernel.invokeFunction(\n",
              "                'suggestCharts', [key], {});\n",
              "          } catch (error) {\n",
              "            console.error('Error during call to suggestCharts:', error);\n",
              "          }\n",
              "          quickchartButtonEl.classList.remove('colab-df-spinner');\n",
              "          quickchartButtonEl.classList.add('colab-df-quickchart-complete');\n",
              "        }\n",
              "        (() => {\n",
              "          let quickchartButtonEl =\n",
              "            document.querySelector('#df-f96678aa-d316-4dbd-97ee-463e2f17c556 button');\n",
              "          quickchartButtonEl.style.display =\n",
              "            google.colab.kernel.accessAllowed ? 'block' : 'none';\n",
              "        })();\n",
              "      </script>\n",
              "    </div>\n",
              "\n",
              "    </div>\n",
              "  </div>\n"
            ],
            "application/vnd.google.colaboratory.intrinsic+json": {
              "type": "dataframe",
              "summary": "{\n  \"name\": \"fetch_and_analyze_comments(YOUTUBE_VIDEO_URL, MAX_COMMENTS_TO_FETCH)\",\n  \"rows\": 50,\n  \"fields\": [\n    {\n      \"column\": \"Author\",\n      \"properties\": {\n        \"dtype\": \"string\",\n        \"num_unique_values\": 48,\n        \"samples\": [\n          \"@RajDash-sr6jq\",\n          \"@Anonymousblogger15\",\n          \"@apgramavolunteers3425\"\n        ],\n        \"semantic_type\": \"\",\n        \"description\": \"\"\n      }\n    },\n    {\n      \"column\": \"Comment\",\n      \"properties\": {\n        \"dtype\": \"string\",\n        \"num_unique_values\": 50,\n        \"samples\": [\n          \"Mainly akshay kumar set avvale kajol assalu set avvale \\ud83d\\ude22 sarswati devi getup la anipinchindi Drama company la ga unsuitable\",\n          \"Normuyi chala bagundi movie\",\n          \"\\ud83d\\ude02\\ud83d\\ude02\\ud83d\\ude02\\ud83d\\ude02\\ud83d\\ude02\\ud83d\\ude02\\ud83d\\ude02\\ud83d\\ude02\"\n        ],\n        \"semantic_type\": \"\",\n        \"description\": \"\"\n      }\n    },\n    {\n      \"column\": \"Likes\",\n      \"properties\": {\n        \"dtype\": \"number\",\n        \"std\": 0,\n        \"min\": 0,\n        \"max\": 2,\n        \"num_unique_values\": 3,\n        \"samples\": [\n          0,\n          1,\n          2\n        ],\n        \"semantic_type\": \"\",\n        \"description\": \"\"\n      }\n    },\n    {\n      \"column\": \"Sentiment\",\n      \"properties\": {\n        \"dtype\": \"category\",\n        \"num_unique_values\": 3,\n        \"samples\": [\n          \"Negative\",\n          \"Neutral\",\n          \"Positive\"\n        ],\n        \"semantic_type\": \"\",\n        \"description\": \"\"\n      }\n    }\n  ]\n}"
            }
          },
          "metadata": {}
        }
      ]
    },
    {
      "cell_type": "code",
      "source": [
        "# Telugu Sentiment Analysis - Fixed Version\n",
        "import re # Make sure re is imported\n",
        "\n",
        "def classify_sentiment_llama3_telugu_enhanced(text_input):\n",
        "    \"\"\"\n",
        "    Classifies sentiment using Llama 3 with a comprehensive system prompt for Telugu text.\n",
        "    Enhanced for better accuracy with Telugu linguistic patterns.\n",
        "    Fixed to always return Positive, Negative, or Neutral.\n",
        "    \"\"\"\n",
        "    messages = [\n",
        "        {\n",
        "            \"role\": \"system\",\n",
        "            \"content\": \"\"\"You are an expert sentiment analysis assistant specializing in Telugu language and Telugu-English code-mixed text.\n",
        "\n",
        "TASK: Classify the sentiment as exactly one of: Positive, Negative, or Neutral.\n",
        "\n",
        "TELUGU LANGUAGE GUIDELINES:\n",
        "- Telugu uses complex sentence structures with subject-object-verb order\n",
        "- Pay attention to honorific markers (గారు, అయ్యా, అక్కా) which indicate respect but don't change sentiment\n",
        "- Telugu has many nuanced emotional expressions - consider cultural context\n",
        "- Code-mixed text (Telugu + English) is common - analyze the overall meaning\n",
        "\n",
        "SENTIMENT INDICATORS:\n",
        "\n",
        "POSITIVE indicators in Telugu:\n",
        "- బాగుంది/బాగున్నాయి (good), చాలా బాగుంది (very good)\n",
        "- అద్భుతం/అద్భుతమైన (wonderful/amazing), అందం/అందమైన (beautiful)\n",
        "- సంతోషం/సంతోషకరం (happiness/joyful), ఆనందం (joy)\n",
        "- పరిపూర్ణ/పూర్తి (perfect/complete), అసాధారణ (extraordinary)\n",
        "- ఇష్టం/ఇష్టపడ్డాను (like/liked), మంచి/మంచిది (good/nice)\n",
        "- అభినందనలు (congratulations), సూపర్/అద్భుతం (super/fantastic)\n",
        "\n",
        "NEGATIVE indicators in Telugu:\n",
        "- చెత్త/చెత్తగా (bad/badly), భయంకరం (terrible)\n",
        "- అస్సలు బాగాలేదు (not good at all), దారుణం (horrible)\n",
        "- బాధ/బాధపడుతున్నాను (sad/feeling sad), కోపం (anger)\n",
        "- విసుగు/విసుగెత్తుతుంది (boring/getting bored), వేస్ట్ (waste)\n",
        "- నిరాశ/నిరాశపడ్డాను (disappointment/disappointed)\n",
        "- సమస్య/ఇబ్బంది (problem/trouble), తప్పు/తప్పిదం (wrong/mistake)\n",
        "\n",
        "NEUTRAL indicators:\n",
        "- సాధారణ/మామూలు (normal/ordinary), పర్వాలేదు (it's okay)\n",
        "- అవును/కాదు (yes/no - context dependent)\n",
        "- వార్త/సమాచారం (news/information)\n",
        "- సమయం/తేదీ (time/date related neutral facts)\n",
        "\n",
        "CRITICAL RULES:\n",
        "1. Don't be misled by polite language - focus on the core emotion\n",
        "2. Sarcasm is common in Telugu - detect underlying negative sentiment\n",
        "3. \"చాలా\" (very) intensifies the following sentiment\n",
        "4. Question marks (?) don't automatically make something neutral\n",
        "5. Consider the entire context, not just individual words\n",
        "6. Code-mixed expressions: analyze the dominant emotional tone\n",
        "7. Religious/cultural references need context - they can be positive, negative, or neutral\n",
        "\n",
        "IMPORTANT: You must respond with EXACTLY ONE WORD: either \"Positive\", \"Negative\", or \"Neutral\". No other text.\"\"\"\n",
        "        },\n",
        "        {\n",
        "            \"role\": \"user\",\n",
        "            \"content\": f\"Analyze the sentiment of this text: \\\"{text_input}\\\"\"\n",
        "        }\n",
        "    ]\n",
        "\n",
        "    terminators = [\n",
        "        tokenizer.eos_token_id,\n",
        "        # tokenizer.convert_tokens_to_ids(\"<|eot_id|>\") # Optional, specific to Llama 3 terminators if needed\n",
        "    ]\n",
        "\n",
        "    try:\n",
        "        outputs = text_generator(\n",
        "            messages,\n",
        "            max_new_tokens=3, # Reduced to force single word response\n",
        "            eos_token_id=terminators,\n",
        "            do_sample=False,\n",
        "            temperature=0.01, # Very low temperature for consistency\n",
        "            top_p=0.5, # Lower for more focused responses\n",
        "            pad_token_id=tokenizer.eos_token_id\n",
        "        )\n",
        "\n",
        "        # --- Enhanced extraction logic ---\n",
        "        assistant_response = \"\"\n",
        "        generated_output = outputs[0]['generated_text']\n",
        "\n",
        "        if isinstance(generated_output, list):\n",
        "            if generated_output and generated_output[-1].get(\"role\") == \"assistant\":\n",
        "                assistant_response = generated_output[-1].get(\"content\", \"\").strip()\n",
        "        elif isinstance(generated_output, str):\n",
        "            # More robust extraction\n",
        "            user_prompt_end = f\"Analyze the sentiment of this text: \\\"{text_input}\\\"\"\n",
        "            if user_prompt_end in generated_output:\n",
        "                response_part = generated_output.split(user_prompt_end)[-1].strip()\n",
        "                assistant_response = response_part\n",
        "            else:\n",
        "                assistant_response = generated_output.strip()\n",
        "\n",
        "        print(f\"DEBUG: Raw assistant response: '{assistant_response}'\")\n",
        "\n",
        "        # Clean the response - remove any extra whitespace and newlines\n",
        "        assistant_response = re.sub(r'\\s+', ' ', assistant_response).strip()\n",
        "\n",
        "        # Enhanced sentiment extraction with multiple patterns\n",
        "        sentiment_patterns = [\n",
        "            r'\\b(Positive|Negative|Neutral)\\b',\n",
        "            r'(Positive|Negative|Neutral)',\n",
        "            r'(?i)\\b(positive|negative|neutral)\\b',\n",
        "        ]\n",
        "\n",
        "        for pattern in sentiment_patterns:\n",
        "            match = re.search(pattern, assistant_response, re.IGNORECASE)\n",
        "            if match:\n",
        "                result = match.group(1).capitalize()\n",
        "                print(f\"DEBUG: Extracted sentiment: {result}\")\n",
        "                return result\n",
        "\n",
        "        # More aggressive fallback - check for partial matches\n",
        "        response_lower = assistant_response.lower()\n",
        "\n",
        "        # Check for positive indicators\n",
        "        positive_keywords = ['positive', 'pos', 'good', 'happy', 'great', 'excellent', 'wonderful', 'amazing']\n",
        "        negative_keywords = ['negative', 'neg', 'bad', 'sad', 'terrible', 'awful', 'horrible', 'disappointing']\n",
        "        neutral_keywords = ['neutral', 'neu', 'okay', 'normal', 'average', 'mixed']\n",
        "\n",
        "        if any(keyword in response_lower for keyword in positive_keywords):\n",
        "            print(f\"DEBUG: Fallback positive detection\")\n",
        "            return \"Positive\"\n",
        "        elif any(keyword in response_lower for keyword in negative_keywords):\n",
        "            print(f\"DEBUG: Fallback negative detection\")\n",
        "            return \"Negative\"\n",
        "        elif any(keyword in response_lower for keyword in neutral_keywords):\n",
        "            print(f\"DEBUG: Fallback neutral detection\")\n",
        "            return \"Neutral\"\n",
        "\n",
        "        # Last resort: text-based sentiment analysis as backup\n",
        "        print(f\"Warning: Could not parse sentiment from response: '{assistant_response}'. Using text analysis fallback.\")\n",
        "        return analyze_text_fallback(text_input)\n",
        "\n",
        "    except Exception as e:\n",
        "        print(f\"An error occurred during text generation: {e}\")\n",
        "        return analyze_text_fallback(text_input)\n",
        "\n",
        "def analyze_text_fallback(text_input):\n",
        "    \"\"\"\n",
        "    Fallback sentiment analysis based on keyword matching for Telugu text.\n",
        "    Always returns one of: Positive, Negative, or Neutral\n",
        "    \"\"\"\n",
        "    text_lower = text_input.lower()\n",
        "\n",
        "    # Telugu positive keywords\n",
        "    positive_telugu = ['బాగుంది', 'బాగున్నాయి', 'అద్భుతం', 'అద్భుతమైన', 'సంతోషం', 'ఆనందం',\n",
        "                      'మంచి', 'మంచిది', 'సూపర్', 'గ్రేట్', 'ఎక్సలెంట్', 'చాలా బాగుంది']\n",
        "\n",
        "    # Telugu negative keywords\n",
        "    negative_telugu = ['చెత్త', 'చెత్తగా', 'భయంకరం', 'బాగాలేదు', 'బాధ', 'కోపం', 'విసుగు',\n",
        "                       'వేస్ట్', 'నిరాశ', 'దారుణం', 'టెర్రిబుల్']\n",
        "\n",
        "    # Telugu neutral keywords\n",
        "    neutral_telugu = ['సాధారణ', 'మామూలు', 'పర్వాలేదు', 'వార్త', 'సమాచారం', 'సమయం', 'ఓకే']\n",
        "\n",
        "    # Count sentiment indicators\n",
        "    positive_count = sum(1 for word in positive_telugu if word in text_input) + \\\n",
        "                    sum(1 for word in ['good', 'great', 'excellent', 'amazing', 'wonderful', 'super', 'awesome'] if word in text_lower)\n",
        "\n",
        "    negative_count = sum(1 for word in negative_telugu if word in text_input) + \\\n",
        "                    sum(1 for word in ['bad', 'terrible', 'awful', 'horrible', 'waste', 'disappointing'] if word in text_lower)\n",
        "\n",
        "    neutral_count = sum(1 for word in neutral_telugu if word in text_input) + \\\n",
        "                   sum(1 for word in ['okay', 'normal', 'average', 'fine'] if word in text_lower)\n",
        "\n",
        "    # Determine sentiment based on counts\n",
        "    if positive_count > negative_count and positive_count > neutral_count:\n",
        "        return \"Positive\"\n",
        "    elif negative_count > positive_count and negative_count > neutral_count:\n",
        "        return \"Negative\"\n",
        "    elif neutral_count > 0:\n",
        "        return \"Neutral\"\n",
        "    elif positive_count > 0:\n",
        "        return \"Positive\"\n",
        "    elif negative_count > 0:\n",
        "        return \"Negative\"\n",
        "    else:\n",
        "        return \"Neutral\"  # Default fallback\n",
        "\n",
        "def classify_sentiment_llama3_telugu_simple(text_input):\n",
        "    \"\"\"\n",
        "    Simple Telugu sentiment classifier for comparison.\n",
        "    Fixed to always return Positive, Negative, or Neutral.\n",
        "    \"\"\"\n",
        "    messages = [\n",
        "        {\n",
        "            \"role\": \"system\",\n",
        "            \"content\": \"\"\"You are a Telugu sentiment analysis expert. Classify the sentiment as Positive, Negative, or Neutral.\n",
        "Consider Telugu language patterns and cultural context.\n",
        "Respond with EXACTLY ONE WORD: Positive, Negative, or Neutral. No other text.\"\"\"\n",
        "        },\n",
        "        {\n",
        "            \"role\": \"user\",\n",
        "            \"content\": f\"Classify sentiment: \\\"{text_input}\\\"\"\n",
        "        }\n",
        "    ]\n",
        "\n",
        "    terminators = [tokenizer.eos_token_id]\n",
        "\n",
        "    try:\n",
        "        outputs = text_generator(\n",
        "            messages,\n",
        "            max_new_tokens=3,\n",
        "            eos_token_id=terminators,\n",
        "            do_sample=False,\n",
        "            temperature=0.01,\n",
        "            top_p=0.5,\n",
        "            pad_token_id=tokenizer.eos_token_id\n",
        "        )\n",
        "\n",
        "        assistant_response = \"\"\n",
        "        generated_output = outputs[0]['generated_text']\n",
        "\n",
        "        if isinstance(generated_output, list):\n",
        "            if generated_output and generated_output[-1].get(\"role\") == \"assistant\":\n",
        "                assistant_response = generated_output[-1].get(\"content\", \"\").strip()\n",
        "        elif isinstance(generated_output, str):\n",
        "            user_prompt_end = f\"Classify sentiment: \\\"{text_input}\\\"\"\n",
        "            if user_prompt_end in generated_output:\n",
        "                response_part = generated_output.split(user_prompt_end)[-1].strip()\n",
        "                assistant_response = response_part\n",
        "            else:\n",
        "                assistant_response = generated_output.strip()\n",
        "\n",
        "        # Clean response\n",
        "        assistant_response = re.sub(r'\\s+', ' ', assistant_response).strip()\n",
        "\n",
        "        match = re.search(r'\\b(Positive|Negative|Neutral)\\b', assistant_response, re.IGNORECASE)\n",
        "        if match:\n",
        "            return match.group(1).capitalize()\n",
        "        else:\n",
        "            # Use fallback analysis\n",
        "            return analyze_text_fallback(text_input)\n",
        "\n",
        "    except Exception as e:\n",
        "        print(f\"An error occurred: {e}\")\n",
        "        return analyze_text_fallback(text_input)\n",
        "\n",
        "# --- Enhanced Test Cases with More Challenging Examples ---\n",
        "telugu_texts = [\n",
        "    # Clear Positive\n",
        "    \"ఈ సినిమా చాలా బాగుంది. అద్భుతమైన నటన!\", # Very good movie, amazing acting\n",
        "    \"అద్భుతమైన రుచి! నేను మళ్ళీ వస్తాను.\", # Amazing taste! I will come again\n",
        "    \"సూపర్ మూవీ! అవ్సమ్ యాక్టింగ్, బ్రో.\", # Code-mixed positive\n",
        "\n",
        "    # Clear Negative\n",
        "    \"సేవ అస్సలు బాగాలేదు, నేను సంతృప్తి చెందలేదు.\", # Service not good, not satisfied\n",
        "    \"చాలా చెత్తగా ఉంది, వేస్ట్ ఆఫ్ టైమ్.\", # Very bad, waste of time\n",
        "    \"భయంకరమైన అనుభవం, డబ్బు వృధా.\", # Terrible experience, money wasted\n",
        "\n",
        "    # Clear Neutral\n",
        "    \"ఈ వార్త నిన్న ప్రచురించబడింది.\", # This news was published yesterday\n",
        "    \"ఈ రోజు వాతావరణం మామూలుగా ఉంది.\", # Today's weather is normal\n",
        "    \"సమయం 10 గంటలు.\", # Time is 10 o'clock\n",
        "\n",
        "    # Challenging/Ambiguous Cases\n",
        "    \"పర్వాలేదు, అలాగే ఉంచు.\", # It's okay, keep it like that (Neutral/Slightly Positive)\n",
        "    \"అవును, అది నిజమే కానీ...\", # Yes, that's true but... (Context dependent)\n",
        "    \"చూద్దామా ఎలా ఉంటుందో.\", # Let's see how it will be (Neutral)\n",
        "    \"ఒకే సారి! అంతే!\", # Just once! That's it! (Could be positive or negative based on context)\n",
        "\n",
        "    # Sarcastic/Subtle\n",
        "    \"వాహ్! ఎంత బాగుంది రా ఇది!\", # Wow! How good is this! (Could be sarcastic)\n",
        "    \"గొప్ప పని చేశారు మీరు.\", # You did a great job (Could be sarcastic)\n",
        "\n",
        "    # Mixed sentiment\n",
        "    \"సినిమా ఓకే కానీ సాంగ్స్ బాగున్నాయి.\", # Movie is okay but songs are good\n",
        "    \"కొన్ని సీన్స్ బాగున్నాయి, కొన్ని బోర్.\", # Some scenes good, some boring\n",
        "\n",
        "    # Code-mixed challenging\n",
        "    \"Average movie andi, not bad but not great.\",\n",
        "    \"Super ga start అయ్యింది but ending disappoint అయ్యాను.\",\n",
        "\n",
        "    # Cultural context\n",
        "    \"దేవుడా ఎంత బాధ!\", # Oh God, how much pain! (Negative)\n",
        "    \"రామ రామ, ఏం చేసావు!\", # Ram Ram, what did you do! (Negative/Shock)\n",
        "]\n",
        "\n",
        "print(\"\\n--- Starting Enhanced Telugu Sentiment Analysis ---\")\n",
        "print(\"Comparing Simple vs Enhanced Prompts\")\n",
        "print(\"=\" * 60)\n",
        "\n",
        "for i, text in enumerate(telugu_texts):\n",
        "    print(f\"\\n{i+1}. Text: \\\"{text}\\\"\")\n",
        "\n",
        "    # Test with simple prompt\n",
        "    simple_sentiment = classify_sentiment_llama3_telugu_simple(text)\n",
        "    print(f\"   Simple Prompt:   {simple_sentiment}\")\n",
        "\n",
        "    # Test with enhanced prompt\n",
        "    enhanced_sentiment = classify_sentiment_llama3_telugu_enhanced(text)\n",
        "    print(f\"   Enhanced Prompt: {enhanced_sentiment}\")\n",
        "\n",
        "    if simple_sentiment != enhanced_sentiment:\n",
        "        print(f\"   >>> DIFFERENCE DETECTED <<<\")\n",
        "\n",
        "    print(\"-\" * 50)\n",
        "\n",
        "print(\"\\n--- Analysis Complete ---\")\n",
        "print(\"Review the differences between simple and enhanced prompts for accuracy assessment.\")"
      ],
      "metadata": {
        "colab": {
          "base_uri": "https://localhost:8080/"
        },
        "id": "pva44MlFozpB",
        "outputId": "a41e8776-c35d-4912-8c52-b114b9c83992"
      },
      "execution_count": null,
      "outputs": [
        {
          "output_type": "stream",
          "name": "stderr",
          "text": [
            "The following generation flags are not valid and may be ignored: ['temperature', 'top_p']. Set `TRANSFORMERS_VERBOSITY=info` for more details.\n"
          ]
        },
        {
          "output_type": "stream",
          "name": "stdout",
          "text": [
            "\n",
            "--- Starting Enhanced Telugu Sentiment Analysis ---\n",
            "Comparing Simple vs Enhanced Prompts\n",
            "============================================================\n",
            "\n",
            "1. Text: \"ఈ సినిమా చాలా బాగుంది. అద్భుతమైన నటన!\"\n"
          ]
        },
        {
          "output_type": "stream",
          "name": "stderr",
          "text": [
            "The following generation flags are not valid and may be ignored: ['temperature', 'top_p']. Set `TRANSFORMERS_VERBOSITY=info` for more details.\n"
          ]
        },
        {
          "output_type": "stream",
          "name": "stdout",
          "text": [
            "   Simple Prompt:   Positive\n"
          ]
        },
        {
          "output_type": "stream",
          "name": "stderr",
          "text": [
            "The following generation flags are not valid and may be ignored: ['temperature', 'top_p']. Set `TRANSFORMERS_VERBOSITY=info` for more details.\n"
          ]
        },
        {
          "output_type": "stream",
          "name": "stdout",
          "text": [
            "DEBUG: Raw assistant response: 'NEUTRAL'\n",
            "DEBUG: Extracted sentiment: Neutral\n",
            "   Enhanced Prompt: Neutral\n",
            "   >>> DIFFERENCE DETECTED <<<\n",
            "--------------------------------------------------\n",
            "\n",
            "2. Text: \"అద్భుతమైన రుచి! నేను మళ్ళీ వస్తాను.\"\n"
          ]
        },
        {
          "output_type": "stream",
          "name": "stderr",
          "text": [
            "The following generation flags are not valid and may be ignored: ['temperature', 'top_p']. Set `TRANSFORMERS_VERBOSITY=info` for more details.\n"
          ]
        },
        {
          "output_type": "stream",
          "name": "stdout",
          "text": [
            "   Simple Prompt:   Positive\n"
          ]
        },
        {
          "output_type": "stream",
          "name": "stderr",
          "text": [
            "The following generation flags are not valid and may be ignored: ['temperature', 'top_p']. Set `TRANSFORMERS_VERBOSITY=info` for more details.\n"
          ]
        },
        {
          "output_type": "stream",
          "name": "stdout",
          "text": [
            "DEBUG: Raw assistant response: 'NEUTRAL'\n",
            "DEBUG: Extracted sentiment: Neutral\n",
            "   Enhanced Prompt: Neutral\n",
            "   >>> DIFFERENCE DETECTED <<<\n",
            "--------------------------------------------------\n",
            "\n",
            "3. Text: \"సూపర్ మూవీ! అవ్సమ్ యాక్టింగ్, బ్రో.\"\n"
          ]
        },
        {
          "output_type": "stream",
          "name": "stderr",
          "text": [
            "The following generation flags are not valid and may be ignored: ['temperature', 'top_p']. Set `TRANSFORMERS_VERBOSITY=info` for more details.\n"
          ]
        },
        {
          "output_type": "stream",
          "name": "stdout",
          "text": [
            "   Simple Prompt:   Negative\n"
          ]
        },
        {
          "output_type": "stream",
          "name": "stderr",
          "text": [
            "The following generation flags are not valid and may be ignored: ['temperature', 'top_p']. Set `TRANSFORMERS_VERBOSITY=info` for more details.\n"
          ]
        },
        {
          "output_type": "stream",
          "name": "stdout",
          "text": [
            "DEBUG: Raw assistant response: 'NEUTRAL'\n",
            "DEBUG: Extracted sentiment: Neutral\n",
            "   Enhanced Prompt: Neutral\n",
            "   >>> DIFFERENCE DETECTED <<<\n",
            "--------------------------------------------------\n",
            "\n",
            "4. Text: \"సేవ అస్సలు బాగాలేదు, నేను సంతృప్తి చెందలేదు.\"\n"
          ]
        },
        {
          "output_type": "stream",
          "name": "stderr",
          "text": [
            "The following generation flags are not valid and may be ignored: ['temperature', 'top_p']. Set `TRANSFORMERS_VERBOSITY=info` for more details.\n"
          ]
        },
        {
          "output_type": "stream",
          "name": "stdout",
          "text": [
            "   Simple Prompt:   Negative\n"
          ]
        },
        {
          "output_type": "stream",
          "name": "stderr",
          "text": [
            "The following generation flags are not valid and may be ignored: ['temperature', 'top_p']. Set `TRANSFORMERS_VERBOSITY=info` for more details.\n"
          ]
        },
        {
          "output_type": "stream",
          "name": "stdout",
          "text": [
            "DEBUG: Raw assistant response: 'NEUTRAL'\n",
            "DEBUG: Extracted sentiment: Neutral\n",
            "   Enhanced Prompt: Neutral\n",
            "   >>> DIFFERENCE DETECTED <<<\n",
            "--------------------------------------------------\n",
            "\n",
            "5. Text: \"చాలా చెత్తగా ఉంది, వేస్ట్ ఆఫ్ టైమ్.\"\n"
          ]
        },
        {
          "output_type": "stream",
          "name": "stderr",
          "text": [
            "The following generation flags are not valid and may be ignored: ['temperature', 'top_p']. Set `TRANSFORMERS_VERBOSITY=info` for more details.\n"
          ]
        },
        {
          "output_type": "stream",
          "name": "stdout",
          "text": [
            "   Simple Prompt:   Negative\n"
          ]
        },
        {
          "output_type": "stream",
          "name": "stderr",
          "text": [
            "The following generation flags are not valid and may be ignored: ['temperature', 'top_p']. Set `TRANSFORMERS_VERBOSITY=info` for more details.\n"
          ]
        },
        {
          "output_type": "stream",
          "name": "stdout",
          "text": [
            "DEBUG: Raw assistant response: 'NEUTRAL'\n",
            "DEBUG: Extracted sentiment: Neutral\n",
            "   Enhanced Prompt: Neutral\n",
            "   >>> DIFFERENCE DETECTED <<<\n",
            "--------------------------------------------------\n",
            "\n",
            "6. Text: \"భయంకరమైన అనుభవం, డబ్బు వృధా.\"\n"
          ]
        },
        {
          "output_type": "stream",
          "name": "stderr",
          "text": [
            "The following generation flags are not valid and may be ignored: ['temperature', 'top_p']. Set `TRANSFORMERS_VERBOSITY=info` for more details.\n"
          ]
        },
        {
          "output_type": "stream",
          "name": "stdout",
          "text": [
            "   Simple Prompt:   Negative\n"
          ]
        },
        {
          "output_type": "stream",
          "name": "stderr",
          "text": [
            "The following generation flags are not valid and may be ignored: ['temperature', 'top_p']. Set `TRANSFORMERS_VERBOSITY=info` for more details.\n"
          ]
        },
        {
          "output_type": "stream",
          "name": "stdout",
          "text": [
            "DEBUG: Raw assistant response: 'NEUTRAL'\n",
            "DEBUG: Extracted sentiment: Neutral\n",
            "   Enhanced Prompt: Neutral\n",
            "   >>> DIFFERENCE DETECTED <<<\n",
            "--------------------------------------------------\n",
            "\n",
            "7. Text: \"ఈ వార్త నిన్న ప్రచురించబడింది.\"\n"
          ]
        },
        {
          "output_type": "stream",
          "name": "stderr",
          "text": [
            "The following generation flags are not valid and may be ignored: ['temperature', 'top_p']. Set `TRANSFORMERS_VERBOSITY=info` for more details.\n"
          ]
        },
        {
          "output_type": "stream",
          "name": "stdout",
          "text": [
            "   Simple Prompt:   Negative\n"
          ]
        },
        {
          "output_type": "stream",
          "name": "stderr",
          "text": [
            "The following generation flags are not valid and may be ignored: ['temperature', 'top_p']. Set `TRANSFORMERS_VERBOSITY=info` for more details.\n"
          ]
        },
        {
          "output_type": "stream",
          "name": "stdout",
          "text": [
            "DEBUG: Raw assistant response: 'NEUTRAL'\n",
            "DEBUG: Extracted sentiment: Neutral\n",
            "   Enhanced Prompt: Neutral\n",
            "   >>> DIFFERENCE DETECTED <<<\n",
            "--------------------------------------------------\n",
            "\n",
            "8. Text: \"ఈ రోజు వాతావరణం మామూలుగా ఉంది.\"\n"
          ]
        },
        {
          "output_type": "stream",
          "name": "stderr",
          "text": [
            "The following generation flags are not valid and may be ignored: ['temperature', 'top_p']. Set `TRANSFORMERS_VERBOSITY=info` for more details.\n"
          ]
        },
        {
          "output_type": "stream",
          "name": "stdout",
          "text": [
            "   Simple Prompt:   Negative\n"
          ]
        },
        {
          "output_type": "stream",
          "name": "stderr",
          "text": [
            "The following generation flags are not valid and may be ignored: ['temperature', 'top_p']. Set `TRANSFORMERS_VERBOSITY=info` for more details.\n",
            "The following generation flags are not valid and may be ignored: ['temperature', 'top_p']. Set `TRANSFORMERS_VERBOSITY=info` for more details.\n"
          ]
        },
        {
          "output_type": "stream",
          "name": "stdout",
          "text": [
            "DEBUG: Raw assistant response: 'NEUTRAL'\n",
            "DEBUG: Extracted sentiment: Neutral\n",
            "   Enhanced Prompt: Neutral\n",
            "   >>> DIFFERENCE DETECTED <<<\n",
            "--------------------------------------------------\n",
            "\n",
            "9. Text: \"సమయం 10 గంటలు.\"\n",
            "   Simple Prompt:   Negative\n"
          ]
        },
        {
          "output_type": "stream",
          "name": "stderr",
          "text": [
            "The following generation flags are not valid and may be ignored: ['temperature', 'top_p']. Set `TRANSFORMERS_VERBOSITY=info` for more details.\n",
            "The following generation flags are not valid and may be ignored: ['temperature', 'top_p']. Set `TRANSFORMERS_VERBOSITY=info` for more details.\n"
          ]
        },
        {
          "output_type": "stream",
          "name": "stdout",
          "text": [
            "DEBUG: Raw assistant response: 'NEUTRAL'\n",
            "DEBUG: Extracted sentiment: Neutral\n",
            "   Enhanced Prompt: Neutral\n",
            "   >>> DIFFERENCE DETECTED <<<\n",
            "--------------------------------------------------\n",
            "\n",
            "10. Text: \"పర్వాలేదు, అలాగే ఉంచు.\"\n",
            "   Simple Prompt:   Negative\n"
          ]
        },
        {
          "output_type": "stream",
          "name": "stderr",
          "text": [
            "The following generation flags are not valid and may be ignored: ['temperature', 'top_p']. Set `TRANSFORMERS_VERBOSITY=info` for more details.\n",
            "The following generation flags are not valid and may be ignored: ['temperature', 'top_p']. Set `TRANSFORMERS_VERBOSITY=info` for more details.\n"
          ]
        },
        {
          "output_type": "stream",
          "name": "stdout",
          "text": [
            "DEBUG: Raw assistant response: 'NEUTRAL'\n",
            "DEBUG: Extracted sentiment: Neutral\n",
            "   Enhanced Prompt: Neutral\n",
            "   >>> DIFFERENCE DETECTED <<<\n",
            "--------------------------------------------------\n",
            "\n",
            "11. Text: \"అవును, అది నిజమే కానీ...\"\n",
            "   Simple Prompt:   Negative\n"
          ]
        },
        {
          "output_type": "stream",
          "name": "stderr",
          "text": [
            "The following generation flags are not valid and may be ignored: ['temperature', 'top_p']. Set `TRANSFORMERS_VERBOSITY=info` for more details.\n",
            "The following generation flags are not valid and may be ignored: ['temperature', 'top_p']. Set `TRANSFORMERS_VERBOSITY=info` for more details.\n"
          ]
        },
        {
          "output_type": "stream",
          "name": "stdout",
          "text": [
            "DEBUG: Raw assistant response: 'NEUTRAL'\n",
            "DEBUG: Extracted sentiment: Neutral\n",
            "   Enhanced Prompt: Neutral\n",
            "   >>> DIFFERENCE DETECTED <<<\n",
            "--------------------------------------------------\n",
            "\n",
            "12. Text: \"చూద్దామా ఎలా ఉంటుందో.\"\n",
            "   Simple Prompt:   Negative\n"
          ]
        },
        {
          "output_type": "stream",
          "name": "stderr",
          "text": [
            "The following generation flags are not valid and may be ignored: ['temperature', 'top_p']. Set `TRANSFORMERS_VERBOSITY=info` for more details.\n",
            "The following generation flags are not valid and may be ignored: ['temperature', 'top_p']. Set `TRANSFORMERS_VERBOSITY=info` for more details.\n"
          ]
        },
        {
          "output_type": "stream",
          "name": "stdout",
          "text": [
            "DEBUG: Raw assistant response: 'NEUTRAL'\n",
            "DEBUG: Extracted sentiment: Neutral\n",
            "   Enhanced Prompt: Neutral\n",
            "   >>> DIFFERENCE DETECTED <<<\n",
            "--------------------------------------------------\n",
            "\n",
            "13. Text: \"ఒకే సారి! అంతే!\"\n",
            "   Simple Prompt:   Negative\n"
          ]
        },
        {
          "output_type": "stream",
          "name": "stderr",
          "text": [
            "The following generation flags are not valid and may be ignored: ['temperature', 'top_p']. Set `TRANSFORMERS_VERBOSITY=info` for more details.\n"
          ]
        },
        {
          "output_type": "stream",
          "name": "stdout",
          "text": [
            "DEBUG: Raw assistant response: 'NEUTRAL'\n",
            "DEBUG: Extracted sentiment: Neutral\n",
            "   Enhanced Prompt: Neutral\n",
            "   >>> DIFFERENCE DETECTED <<<\n",
            "--------------------------------------------------\n",
            "\n",
            "14. Text: \"వాహ్! ఎంత బాగుంది రా ఇది!\"\n"
          ]
        },
        {
          "output_type": "stream",
          "name": "stderr",
          "text": [
            "The following generation flags are not valid and may be ignored: ['temperature', 'top_p']. Set `TRANSFORMERS_VERBOSITY=info` for more details.\n"
          ]
        },
        {
          "output_type": "stream",
          "name": "stdout",
          "text": [
            "   Simple Prompt:   Positive\n"
          ]
        },
        {
          "output_type": "stream",
          "name": "stderr",
          "text": [
            "The following generation flags are not valid and may be ignored: ['temperature', 'top_p']. Set `TRANSFORMERS_VERBOSITY=info` for more details.\n",
            "The following generation flags are not valid and may be ignored: ['temperature', 'top_p']. Set `TRANSFORMERS_VERBOSITY=info` for more details.\n"
          ]
        },
        {
          "output_type": "stream",
          "name": "stdout",
          "text": [
            "DEBUG: Raw assistant response: 'NEUTRAL'\n",
            "DEBUG: Extracted sentiment: Neutral\n",
            "   Enhanced Prompt: Neutral\n",
            "   >>> DIFFERENCE DETECTED <<<\n",
            "--------------------------------------------------\n",
            "\n",
            "15. Text: \"గొప్ప పని చేశారు మీరు.\"\n",
            "   Simple Prompt:   Positive\n"
          ]
        },
        {
          "output_type": "stream",
          "name": "stderr",
          "text": [
            "The following generation flags are not valid and may be ignored: ['temperature', 'top_p']. Set `TRANSFORMERS_VERBOSITY=info` for more details.\n"
          ]
        },
        {
          "output_type": "stream",
          "name": "stdout",
          "text": [
            "DEBUG: Raw assistant response: 'NEUTRAL'\n",
            "DEBUG: Extracted sentiment: Neutral\n",
            "   Enhanced Prompt: Neutral\n",
            "   >>> DIFFERENCE DETECTED <<<\n",
            "--------------------------------------------------\n",
            "\n",
            "16. Text: \"సినిమా ఓకే కానీ సాంగ్స్ బాగున్నాయి.\"\n"
          ]
        },
        {
          "output_type": "stream",
          "name": "stderr",
          "text": [
            "The following generation flags are not valid and may be ignored: ['temperature', 'top_p']. Set `TRANSFORMERS_VERBOSITY=info` for more details.\n"
          ]
        },
        {
          "output_type": "stream",
          "name": "stdout",
          "text": [
            "   Simple Prompt:   Negative\n"
          ]
        },
        {
          "output_type": "stream",
          "name": "stderr",
          "text": [
            "The following generation flags are not valid and may be ignored: ['temperature', 'top_p']. Set `TRANSFORMERS_VERBOSITY=info` for more details.\n"
          ]
        },
        {
          "output_type": "stream",
          "name": "stdout",
          "text": [
            "DEBUG: Raw assistant response: 'NEUTRAL'\n",
            "DEBUG: Extracted sentiment: Neutral\n",
            "   Enhanced Prompt: Neutral\n",
            "   >>> DIFFERENCE DETECTED <<<\n",
            "--------------------------------------------------\n",
            "\n",
            "17. Text: \"కొన్ని సీన్స్ బాగున్నాయి, కొన్ని బోర్.\"\n"
          ]
        },
        {
          "output_type": "stream",
          "name": "stderr",
          "text": [
            "The following generation flags are not valid and may be ignored: ['temperature', 'top_p']. Set `TRANSFORMERS_VERBOSITY=info` for more details.\n"
          ]
        },
        {
          "output_type": "stream",
          "name": "stdout",
          "text": [
            "   Simple Prompt:   Neutral\n"
          ]
        },
        {
          "output_type": "stream",
          "name": "stderr",
          "text": [
            "The following generation flags are not valid and may be ignored: ['temperature', 'top_p']. Set `TRANSFORMERS_VERBOSITY=info` for more details.\n",
            "The following generation flags are not valid and may be ignored: ['temperature', 'top_p']. Set `TRANSFORMERS_VERBOSITY=info` for more details.\n"
          ]
        },
        {
          "output_type": "stream",
          "name": "stdout",
          "text": [
            "DEBUG: Raw assistant response: 'NEUTRAL'\n",
            "DEBUG: Extracted sentiment: Neutral\n",
            "   Enhanced Prompt: Neutral\n",
            "--------------------------------------------------\n",
            "\n",
            "18. Text: \"Average movie andi, not bad but not great.\"\n",
            "   Simple Prompt:   Negative\n"
          ]
        },
        {
          "output_type": "stream",
          "name": "stderr",
          "text": [
            "The following generation flags are not valid and may be ignored: ['temperature', 'top_p']. Set `TRANSFORMERS_VERBOSITY=info` for more details.\n",
            "The following generation flags are not valid and may be ignored: ['temperature', 'top_p']. Set `TRANSFORMERS_VERBOSITY=info` for more details.\n"
          ]
        },
        {
          "output_type": "stream",
          "name": "stdout",
          "text": [
            "DEBUG: Raw assistant response: 'NEUTRAL'\n",
            "DEBUG: Extracted sentiment: Neutral\n",
            "   Enhanced Prompt: Neutral\n",
            "   >>> DIFFERENCE DETECTED <<<\n",
            "--------------------------------------------------\n",
            "\n",
            "19. Text: \"Super ga start అయ్యింది but ending disappoint అయ్యాను.\"\n",
            "   Simple Prompt:   Negative\n"
          ]
        },
        {
          "output_type": "stream",
          "name": "stderr",
          "text": [
            "The following generation flags are not valid and may be ignored: ['temperature', 'top_p']. Set `TRANSFORMERS_VERBOSITY=info` for more details.\n",
            "The following generation flags are not valid and may be ignored: ['temperature', 'top_p']. Set `TRANSFORMERS_VERBOSITY=info` for more details.\n"
          ]
        },
        {
          "output_type": "stream",
          "name": "stdout",
          "text": [
            "DEBUG: Raw assistant response: 'NEUTRAL'\n",
            "DEBUG: Extracted sentiment: Neutral\n",
            "   Enhanced Prompt: Neutral\n",
            "   >>> DIFFERENCE DETECTED <<<\n",
            "--------------------------------------------------\n",
            "\n",
            "20. Text: \"దేవుడా ఎంత బాధ!\"\n",
            "   Simple Prompt:   Negative\n"
          ]
        },
        {
          "output_type": "stream",
          "name": "stderr",
          "text": [
            "The following generation flags are not valid and may be ignored: ['temperature', 'top_p']. Set `TRANSFORMERS_VERBOSITY=info` for more details.\n",
            "The following generation flags are not valid and may be ignored: ['temperature', 'top_p']. Set `TRANSFORMERS_VERBOSITY=info` for more details.\n"
          ]
        },
        {
          "output_type": "stream",
          "name": "stdout",
          "text": [
            "DEBUG: Raw assistant response: 'NEUTRAL'\n",
            "DEBUG: Extracted sentiment: Neutral\n",
            "   Enhanced Prompt: Neutral\n",
            "   >>> DIFFERENCE DETECTED <<<\n",
            "--------------------------------------------------\n",
            "\n",
            "21. Text: \"రామ రామ, ఏం చేసావు!\"\n",
            "   Simple Prompt:   Negative\n",
            "DEBUG: Raw assistant response: 'NEUTRAL'\n",
            "DEBUG: Extracted sentiment: Neutral\n",
            "   Enhanced Prompt: Neutral\n",
            "   >>> DIFFERENCE DETECTED <<<\n",
            "--------------------------------------------------\n",
            "\n",
            "--- Analysis Complete ---\n",
            "Review the differences between simple and enhanced prompts for accuracy assessment.\n"
          ]
        }
      ]
    },
    {
      "cell_type": "code",
      "source": [
        "# Telugu YouTube Comments Sentiment Analysis - Fixed Version\n",
        "import pandas as pd\n",
        "from googleapiclient.discovery import build\n",
        "from googleapiclient.errors import HttpError\n",
        "from urllib.parse import urlparse, parse_qs\n",
        "import time\n",
        "import numpy as np\n",
        "import re\n",
        "\n",
        "# --- Configuration for YouTube Fetching ---\n",
        "YOUTUBE_VIDEO_URL = \"https://youtu.be/_HJD17g-_l4?si=AL3y3Jw3I5Lm79ng\" # @param {type:\"string\"} # Example Telugu video URL - REPLACE THIS WITH A RELEVANT TELUGU VIDEO!\n",
        "MAX_COMMENTS_TO_FETCH = 50 # @param {type:\"integer\"}\n",
        "COMMENTS_PER_PAGE = 50 # Max allowed by API is 100\n",
        "\n",
        "# --- Prerequisite Check: Ensure Model and Tokenizer are loaded ---\n",
        "try:\n",
        "    # Ensure text_generator pipeline is available\n",
        "    if 'text_generator' not in globals():\n",
        "        # This means the cell where the pipeline was created hasn't run\n",
        "        # We need model and tokenizer to create it.\n",
        "        if 'model' not in globals() or 'tokenizer' not in globals():\n",
        "            # If model/tokenizer aren't loaded, try reloading them or raise error\n",
        "            print(\"Attempting to reload model and tokenizer for pipeline...\")\n",
        "            from transformers import AutoTokenizer, AutoModelForCausalLM\n",
        "            import torch # Ensure torch is imported\n",
        "\n",
        "            # Assuming MODEL_ID is defined in a previous cell\n",
        "            MODEL_ID = \"meta-llama/Llama-3.2-1B-Instruct\" # Define if not global\n",
        "\n",
        "            tokenizer = AutoTokenizer.from_pretrained(MODEL_ID)\n",
        "            # Load model potentially with quantization_config\n",
        "            try:\n",
        "                 # Try loading with quantization if config is defined\n",
        "                 if 'quantization_config' in globals():\n",
        "                      print(\"Loading model with quantization config...\")\n",
        "                      model = AutoModelForCausalLM.from_pretrained(\n",
        "                          MODEL_ID,\n",
        "                          quantization_config=quantization_config,\n",
        "                          torch_dtype=torch.bfloat16,\n",
        "                          device_map=\"auto\",\n",
        "                          trust_remote_code=True # Often needed\n",
        "                      )\n",
        "                 else:\n",
        "                      print(\"Loading model without quantization config (quantization_config not found)...\")\n",
        "                      # Fallback without quantization if config is missing\n",
        "                      model = AutoModelForCausalLM.from_pretrained(\n",
        "                           MODEL_ID,\n",
        "                           torch_dtype=torch.bfloat16, # Use bfloat16 if possible\n",
        "                           device_map=\"auto\",\n",
        "                           trust_remote_code=True\n",
        "                      )\n",
        "\n",
        "            except Exception as model_load_error:\n",
        "                 raise RuntimeError(f\"Failed to load model: {model_load_error}\")\n",
        "\n",
        "            print(\"Model and tokenizer reloaded.\")\n",
        "\n",
        "        # Create the pipeline (Ensure it uses the loaded model/tokenizer)\n",
        "        print(\"Creating text generation pipeline...\")\n",
        "        text_generator = pipeline(\n",
        "            \"text-generation\",\n",
        "            model=model,\n",
        "            tokenizer=tokenizer,\n",
        "            torch_dtype=torch.bfloat16, # Match model loading dtype\n",
        "            device_map=\"auto\" # Ensure pipeline uses the mapped device\n",
        "        )\n",
        "        print(\"Text generation pipeline created.\")\n",
        "\n",
        "    print(\"Text generation pipeline ready.\")\n",
        "\n",
        "except NameError as e:\n",
        "     raise NameError(f\"ERROR: Essential components (model, tokenizer, or pipeline) not found. Please ensure all setup cells, especially model loading and pipeline creation, were run successfully. Details: {e}\")\n",
        "except Exception as e:\n",
        "     raise RuntimeError(f\"An error occurred setting up the model pipeline: {e}\")\n",
        "\n",
        "# --- Helper Functions ---\n",
        "def get_youtube_api_key():\n",
        "    \"\"\"Gets the YouTube API key from Colab secrets.\"\"\"\n",
        "    # Ensure userdata is imported\n",
        "    from google.colab import userdata\n",
        "    try:\n",
        "        api_key = userdata.get('YOUTUBE_API_KEY')\n",
        "        if not api_key:\n",
        "            raise ValueError(\"YouTube API Key not found in Colab secrets. Please add it with the name 'YOUTUBE_API_KEY'.\")\n",
        "        return api_key\n",
        "    except ImportError:\n",
        "        raise EnvironmentError(\"userdata module not found. Are you running this in Google Colab?\")\n",
        "    except Exception as e:\n",
        "        print(f\"Error retrieving API key: {e}\")\n",
        "        return None\n",
        "\n",
        "def extract_video_id(url):\n",
        "    \"\"\"Extracts the YouTube video ID from various URL formats.\"\"\"\n",
        "    parsed_url = urlparse(url)\n",
        "    if parsed_url.hostname == 'youtu.be':\n",
        "        return parsed_url.path[1:]\n",
        "    if parsed_url.hostname in ('www.youtube.com', 'youtube.com'):\n",
        "        if parsed_url.path == '/watch':\n",
        "            p = parse_qs(parsed_url.query)\n",
        "            return p.get('v', [None])[0]\n",
        "        if parsed_url.path.startswith('/embed/'):\n",
        "            return parsed_url.path.split('/')[2]\n",
        "        if parsed_url.path.startswith('/v/'):\n",
        "            return parsed_url.path.split('/')[2]\n",
        "    print(f\"Warning: Could not extract video ID from URL: {url}\")\n",
        "    return None\n",
        "\n",
        "def analyze_telugu_sentiment_fallback(text):\n",
        "    \"\"\"\n",
        "    Fallback sentiment analysis for Telugu text using keyword matching.\n",
        "    Specifically tuned for YouTube comments patterns.\n",
        "    \"\"\"\n",
        "    text_lower = text.lower()\n",
        "    text_original = text  # Keep original for Telugu script\n",
        "\n",
        "    # Telugu positive keywords (common in YouTube comments)\n",
        "    positive_telugu = [\n",
        "        'బాగుంది', 'బాగున్నాయి', 'అద్భుతం', 'అద్భుతమైన', 'సంతోషం', 'ఆనందం',\n",
        "        'మంచి', 'మంచిది', 'సూపర్', 'గ్రేట్', 'ఎక్సలెంట్', 'చాలా బాగుంది',\n",
        "        'లవ్', 'లవ్లీ', 'నైస్', 'వండర్ఫుల్', 'అమేజింగ్', 'ఫాంటాస్టిక్',\n",
        "        'అవ్సమ్', 'కూల్', 'సూపర్బ్', 'ఎక్సలెంట్', 'వావ్', 'బెస్ట్'\n",
        "    ]\n",
        "\n",
        "    # Telugu negative keywords (common in YouTube comments)\n",
        "    negative_telugu = [\n",
        "        'చెత్త', 'చెత్తగా', 'భయంకరం', 'బాగాలేదు', 'బాధ', 'కోపం', 'విసుగు',\n",
        "        'వేస్ట్', 'నిరాశ', 'దారుణం', 'టెర్రిబుల్', 'బాడ్', 'బోర్', 'బోరింగ్',\n",
        "        'డిసాపాయింట్', 'హేట్', 'వర్స్ట్', 'ఉసేలేస్', 'స్టుపిడ్'\n",
        "    ]\n",
        "\n",
        "    # Telugu neutral keywords\n",
        "    neutral_telugu = [\n",
        "        'సాధారణ', 'మామూలు', 'పర్వాలేదు', 'వార్త', 'సమాచారం', 'సమయం',\n",
        "        'ఓకే', 'అవ్సరం', 'చెప్పాలి', 'చూద్దాం', 'తెలుసా', 'ఎలా', 'ఎప్పుడు'\n",
        "    ]\n",
        "\n",
        "    # English positive keywords (common in Telugu YouTube comments)\n",
        "    positive_english = [\n",
        "        'good', 'great', 'excellent', 'amazing', 'wonderful', 'super', 'awesome',\n",
        "        'love', 'lovely', 'nice', 'fantastic', 'perfect', 'beautiful', 'best',\n",
        "        'cool', 'superb', 'outstanding', 'brilliant', 'fabulous', 'wow', 'yes'\n",
        "    ]\n",
        "\n",
        "    # English negative keywords\n",
        "    negative_english = [\n",
        "        'bad', 'terrible', 'awful', 'horrible', 'waste', 'disappointing', 'hate',\n",
        "        'worst', 'useless', 'stupid', 'boring', 'poor', 'pathetic', 'disaster',\n",
        "        'disgusting', 'annoying', 'frustrating', 'no', 'never', 'stop'\n",
        "    ]\n",
        "\n",
        "    # English neutral keywords\n",
        "    neutral_english = [\n",
        "        'okay', 'ok', 'normal', 'average', 'fine', 'maybe', 'perhaps', 'probably',\n",
        "        'think', 'believe', 'seems', 'appears', 'looks', 'feel', 'when', 'where',\n",
        "        'what', 'how', 'why', 'time', 'day', 'today', 'tomorrow', 'yesterday'\n",
        "    ]\n",
        "\n",
        "    # Count sentiment indicators\n",
        "    positive_count = 0\n",
        "    negative_count = 0\n",
        "    neutral_count = 0\n",
        "\n",
        "    # Check Telugu words in original text\n",
        "    for word in positive_telugu:\n",
        "        if word in text_original:\n",
        "            positive_count += 2  # Give Telugu words more weight\n",
        "\n",
        "    for word in negative_telugu:\n",
        "        if word in text_original:\n",
        "            negative_count += 2\n",
        "\n",
        "    for word in neutral_telugu:\n",
        "        if word in text_original:\n",
        "            neutral_count += 1\n",
        "\n",
        "    # Check English words in lowercase text\n",
        "    for word in positive_english:\n",
        "        if word in text_lower:\n",
        "            positive_count += 1\n",
        "\n",
        "    for word in negative_english:\n",
        "        if word in text_lower:\n",
        "            negative_count += 1\n",
        "\n",
        "    for word in neutral_english:\n",
        "        if word in text_lower:\n",
        "            neutral_count += 1\n",
        "\n",
        "    # Special patterns for YouTube comments\n",
        "    if '👍' in text or '❤️' in text or '😍' in text or '😊' in text or '🔥' in text:\n",
        "        positive_count += 2\n",
        "\n",
        "    if '👎' in text or '😠' in text or '😡' in text or '💩' in text:\n",
        "        negative_count += 2\n",
        "\n",
        "    if '❓' in text or '❔' in text or '🤔' in text:\n",
        "        neutral_count += 1\n",
        "\n",
        "    # Check for exclamation marks (often positive in YouTube comments)\n",
        "    exclamation_count = text.count('!')\n",
        "    if exclamation_count > 0:\n",
        "        positive_count += min(exclamation_count, 3)  # Cap at 3\n",
        "\n",
        "    # Check for question marks (often neutral)\n",
        "    question_count = text.count('?')\n",
        "    if question_count > 0:\n",
        "        neutral_count += min(question_count, 2)  # Cap at 2\n",
        "\n",
        "    # Check for all caps (can be positive or negative)\n",
        "    if text.isupper() and len(text) > 5:\n",
        "        # If it contains positive words, it's enthusiastic\n",
        "        if any(word.upper() in text for word in ['GOOD', 'GREAT', 'SUPER', 'WOW', 'YES']):\n",
        "            positive_count += 1\n",
        "        else:\n",
        "            negative_count += 1  # All caps often indicates anger\n",
        "\n",
        "    print(f\"DEBUG: Text: '{text[:50]}...' | Pos: {positive_count}, Neg: {negative_count}, Neu: {neutral_count}\")\n",
        "\n",
        "    # Determine sentiment based on counts\n",
        "    if positive_count > negative_count and positive_count > neutral_count:\n",
        "        return \"Positive\"\n",
        "    elif negative_count > positive_count and negative_count > neutral_count:\n",
        "        return \"Negative\"\n",
        "    elif neutral_count > 0 and neutral_count >= positive_count and neutral_count >= negative_count:\n",
        "        return \"Neutral\"\n",
        "    elif positive_count == negative_count and positive_count > 0:\n",
        "        return \"Neutral\"  # Mixed sentiment\n",
        "    elif positive_count > 0:\n",
        "        return \"Positive\"\n",
        "    elif negative_count > 0:\n",
        "        return \"Negative\"\n",
        "    else:\n",
        "        return \"Neutral\"  # Default when no clear indicators\n",
        "\n",
        "def classify_sentiment_llama3_telugu_youtube(text_input):\n",
        "    \"\"\"\n",
        "    Classifies sentiment for Telugu YouTube comments using Llama 3.\n",
        "    Optimized for YouTube comment patterns and mixed-language content.\n",
        "    \"\"\"\n",
        "    # Clean the input text\n",
        "    text_cleaned = re.sub(r'\\s+', ' ', text_input).strip()\n",
        "\n",
        "    # If text is too short, use fallback\n",
        "    if len(text_cleaned) < 3:\n",
        "        return \"Neutral\"\n",
        "\n",
        "    messages = [\n",
        "        {\n",
        "            \"role\": \"system\",\n",
        "            \"content\": \"\"\"You are an expert at analyzing Telugu YouTube comments for sentiment.\n",
        "\n",
        "Classify the sentiment as exactly one word: Positive, Negative, or Neutral.\n",
        "\n",
        "YOUTUBE COMMENT CONTEXT:\n",
        "- Comments are often short, informal, and use mixed Telugu-English\n",
        "- Emojis are common: 👍❤️😍😊🔥 = positive, 👎😠😡💩 = negative\n",
        "- ALL CAPS often shows strong emotion (positive or negative)\n",
        "- Multiple exclamation marks usually indicate enthusiasm\n",
        "\n",
        "TELUGU YOUTUBE PATTERNS:\n",
        "- \"బాగుంది\" \"సూపర్\" \"అద్భుతం\" = Positive\n",
        "- \"చెత్త\" \"బాగాలేదు\" \"వేస్ట్\" = Negative\n",
        "- \"ఓకే\" \"సాధారణ\" \"పర్వాలేదు\" = Neutral\n",
        "\n",
        "ENGLISH MIXED PATTERNS:\n",
        "- \"super\", \"awesome\", \"love it\", \"great\" = Positive\n",
        "- \"bad\", \"boring\", \"waste\", \"hate\" = Negative\n",
        "- \"ok\", \"normal\", \"fine\" = Neutral\n",
        "\n",
        "Respond with ONLY ONE WORD: Positive, Negative, or Neutral.\"\"\"\n",
        "        },\n",
        "        {\n",
        "            \"role\": \"user\",\n",
        "            \"content\": f\"Sentiment of this YouTube comment: \\\"{text_cleaned}\\\"\"\n",
        "        }\n",
        "    ]\n",
        "\n",
        "    terminators = [tokenizer.eos_token_id]\n",
        "\n",
        "    try:\n",
        "        outputs = text_generator(\n",
        "            messages,\n",
        "            max_new_tokens=3,\n",
        "            eos_token_id=terminators,\n",
        "            do_sample=False,\n",
        "            temperature=0.01,\n",
        "            top_p=0.3,  # Very focused\n",
        "            pad_token_id=tokenizer.eos_token_id\n",
        "        )\n",
        "\n",
        "        assistant_response = \"\"\n",
        "        generated_output = outputs[0]['generated_text']\n",
        "\n",
        "        if isinstance(generated_output, list):\n",
        "            if generated_output and generated_output[-1].get(\"role\") == \"assistant\":\n",
        "                assistant_response = generated_output[-1].get(\"content\", \"\").strip()\n",
        "        elif isinstance(generated_output, str):\n",
        "            user_prompt_end = f\"Sentiment of this YouTube comment: \\\"{text_cleaned}\\\"\"\n",
        "            if user_prompt_end in generated_output:\n",
        "                response_part = generated_output.split(user_prompt_end)[-1].strip()\n",
        "                assistant_response = response_part\n",
        "            else:\n",
        "                assistant_response = generated_output.strip()\n",
        "\n",
        "        # Clean the response\n",
        "        assistant_response = re.sub(r'\\s+', ' ', assistant_response).strip()\n",
        "\n",
        "        # Try to extract sentiment\n",
        "        sentiment_patterns = [\n",
        "            r'\\b(Positive|Negative|Neutral)\\b',\n",
        "            r'(Positive|Negative|Neutral)',\n",
        "            r'(?i)\\b(positive|negative|neutral)\\b',\n",
        "        ]\n",
        "\n",
        "        for pattern in sentiment_patterns:\n",
        "            match = re.search(pattern, assistant_response, re.IGNORECASE)\n",
        "            if match:\n",
        "                result = match.group(1).capitalize()\n",
        "                print(f\"DEBUG: LLM Response: '{assistant_response}' -> Extracted: {result}\")\n",
        "                return result\n",
        "\n",
        "        # If no clear sentiment found, use fallback\n",
        "        print(f\"DEBUG: LLM unclear response: '{assistant_response}'. Using fallback.\")\n",
        "        return analyze_telugu_sentiment_fallback(text_cleaned)\n",
        "\n",
        "    except Exception as e:\n",
        "        print(f\"DEBUG: LLM error: {e}. Using fallback.\")\n",
        "        return analyze_telugu_sentiment_fallback(text_cleaned)\n",
        "\n",
        "# --- Main Logic for YouTube Comments ---\n",
        "api_key = get_youtube_api_key()\n",
        "video_id = extract_video_id(YOUTUBE_VIDEO_URL)\n",
        "comments_data = []\n",
        "\n",
        "if api_key and video_id:\n",
        "    try:\n",
        "        youtube = build('youtube', 'v3', developerKey=api_key)\n",
        "        print(f\"Fetching comments for video ID: {video_id}\")\n",
        "        next_page_token = None\n",
        "        comments_fetched = 0\n",
        "\n",
        "        while comments_fetched < MAX_COMMENTS_TO_FETCH:\n",
        "            request = youtube.commentThreads().list(\n",
        "                part=\"snippet\",\n",
        "                videoId=video_id,\n",
        "                maxResults=min(COMMENTS_PER_PAGE, MAX_COMMENTS_TO_FETCH - comments_fetched),\n",
        "                textFormat=\"plainText\",\n",
        "                pageToken=next_page_token\n",
        "            )\n",
        "            response = request.execute()\n",
        "\n",
        "            for item in response.get(\"items\", []):\n",
        "                if comments_fetched >= MAX_COMMENTS_TO_FETCH: break\n",
        "                comment = item[\"snippet\"][\"topLevelComment\"][\"snippet\"][\"textDisplay\"]\n",
        "                comment_cleaned = re.sub(r'\\s+', ' ', comment).strip()\n",
        "                if not comment_cleaned:\n",
        "                    continue\n",
        "\n",
        "                author = item[\"snippet\"][\"topLevelComment\"][\"snippet\"][\"authorDisplayName\"]\n",
        "                published_at = item[\"snippet\"][\"topLevelComment\"][\"snippet\"][\"publishedAt\"]\n",
        "                like_count = item[\"snippet\"][\"topLevelComment\"][\"snippet\"][\"likeCount\"]\n",
        "\n",
        "                print(f\"\\nAnalyzing comment {comments_fetched + 1}/{MAX_COMMENTS_TO_FETCH}:\")\n",
        "                print(f\"Author: {author}\")\n",
        "                print(f\"Comment: \\\"{comment_cleaned[:150]}{'...' if len(comment_cleaned) > 150 else ''}\\\"\")\n",
        "\n",
        "                # Use the improved YouTube-specific sentiment function\n",
        "                sentiment = classify_sentiment_llama3_telugu_youtube(comment_cleaned)\n",
        "                print(f\"Predicted Sentiment: {sentiment}\")\n",
        "\n",
        "                comments_data.append({\n",
        "                    \"Author\": author,\n",
        "                    \"Published At\": published_at,\n",
        "                    \"Comment\": comment, # Store original comment\n",
        "                    \"Likes\": like_count,\n",
        "                    \"Predicted Sentiment\": sentiment\n",
        "                })\n",
        "                comments_fetched += 1\n",
        "\n",
        "            next_page_token = response.get(\"nextPageToken\")\n",
        "            if not next_page_token or comments_fetched >= MAX_COMMENTS_TO_FETCH: break\n",
        "            time.sleep(0.5)\n",
        "\n",
        "        print(f\"\\nFetched and analyzed {comments_data} comments.\")\n",
        "\n",
        "    except HttpError as e:\n",
        "        print(f\"\\nAn HTTP error {e.resp.status} occurred:\")\n",
        "        error_content = e.content.decode('utf-8')\n",
        "        print(error_content)\n",
        "    except Exception as e:\n",
        "        print(f\"\\nAn unexpected error occurred: {e}\")\n",
        "\n",
        "else:\n",
        "    print(\"\\nSkipping YouTube comment fetching: API key or video ID is missing/invalid.\")\n",
        "\n",
        "# --- Display Results ---\n",
        "if comments_data:\n",
        "    df_comments = pd.DataFrame(comments_data)\n",
        "    print(\"\\n--- YouTube Comment Sentiment Analysis Results ---\")\n",
        "\n",
        "    # Display sentiment distribution\n",
        "    sentiment_counts = df_comments['Predicted Sentiment'].value_counts()\n",
        "    print(f\"\\nSentiment Distribution:\")\n",
        "    for sentiment, count in sentiment_counts.items():\n",
        "        percentage = (count / len(df_comments)) * 100\n",
        "        print(f\"{sentiment}: {count} ({percentage:.1f}%)\")\n",
        "\n",
        "    # Display the dataframe\n",
        "    pd.set_option('display.max_colwidth', 200)\n",
        "    pd.set_option('display.max_rows', 100)\n",
        "    display(df_comments)\n",
        "\n",
        "    # Show some example comments for each sentiment\n",
        "    print(\"\\n--- Example Comments by Sentiment ---\")\n",
        "    for sentiment in ['Positive', 'Negative', 'Neutral']:\n",
        "        sentiment_examples = df_comments[df_comments['Predicted Sentiment'] == sentiment]\n",
        "        if not sentiment_examples.empty:\n",
        "            print(f\"\\n{sentiment} Examples:\")\n",
        "            for i, row in sentiment_examples.head(3).iterrows():\n",
        "                print(f\"  - \\\"{row['Comment'][:100]}{'...' if len(row['Comment']) > 100 else ''}\\\"\")\n",
        "        else:\n",
        "            print(f\"\\n{sentiment} Examples: None found\")\n",
        "\n",
        "else:\n",
        "    print(\"\\nNo comments were fetched or analyzed.\")"
      ],
      "metadata": {
        "colab": {
          "base_uri": "https://localhost:8080/",
          "height": 1000
        },
        "id": "AebSBEhxpqfU",
        "outputId": "a0b8742e-f891-4701-a7b6-c1202984b15b"
      },
      "execution_count": null,
      "outputs": [
        {
          "output_type": "stream",
          "name": "stdout",
          "text": [
            "Text generation pipeline ready.\n",
            "Fetching comments for video ID: _HJD17g-_l4\n"
          ]
        },
        {
          "output_type": "stream",
          "name": "stderr",
          "text": [
            "The following generation flags are not valid and may be ignored: ['temperature', 'top_p']. Set `TRANSFORMERS_VERBOSITY=info` for more details.\n"
          ]
        },
        {
          "output_type": "stream",
          "name": "stdout",
          "text": [
            "\n",
            "Analyzing comment 1/50:\n",
            "Author: @LOKIZ-n3c\n",
            "Comment: \"Bro is grandparents favourite child\"\n"
          ]
        },
        {
          "output_type": "stream",
          "name": "stderr",
          "text": [
            "The following generation flags are not valid and may be ignored: ['temperature', 'top_p']. Set `TRANSFORMERS_VERBOSITY=info` for more details.\n"
          ]
        },
        {
          "output_type": "stream",
          "name": "stdout",
          "text": [
            "DEBUG: LLM Response: 'Negative' -> Extracted: Negative\n",
            "Predicted Sentiment: Negative\n",
            "\n",
            "Analyzing comment 2/50:\n",
            "Author: @ravisadasivuni6865\n",
            "Comment: \"Varada vadini apa mani cheppu😂😂\"\n"
          ]
        },
        {
          "output_type": "stream",
          "name": "stderr",
          "text": [
            "The following generation flags are not valid and may be ignored: ['temperature', 'top_p']. Set `TRANSFORMERS_VERBOSITY=info` for more details.\n"
          ]
        },
        {
          "output_type": "stream",
          "name": "stdout",
          "text": [
            "DEBUG: LLM Response: 'Neutral' -> Extracted: Neutral\n",
            "Predicted Sentiment: Neutral\n",
            "\n",
            "Analyzing comment 3/50:\n",
            "Author: @zero99rj\n",
            "Comment: \"I observed clubbing in Pranay's fingers. Get yourself checked once you might have a serious heart disorder. Take care of yourself bro. Wishing you guy...\"\n"
          ]
        },
        {
          "output_type": "stream",
          "name": "stderr",
          "text": [
            "The following generation flags are not valid and may be ignored: ['temperature', 'top_p']. Set `TRANSFORMERS_VERBOSITY=info` for more details.\n"
          ]
        },
        {
          "output_type": "stream",
          "name": "stdout",
          "text": [
            "DEBUG: LLM Response: 'Neutral' -> Extracted: Neutral\n",
            "Predicted Sentiment: Neutral\n",
            "\n",
            "Analyzing comment 4/50:\n",
            "Author: @SunilKohir-o4g\n",
            "Comment: \"Ayana thinte mikem guddalo nopi beeeee\"\n"
          ]
        },
        {
          "output_type": "stream",
          "name": "stderr",
          "text": [
            "The following generation flags are not valid and may be ignored: ['temperature', 'top_p']. Set `TRANSFORMERS_VERBOSITY=info` for more details.\n"
          ]
        },
        {
          "output_type": "stream",
          "name": "stdout",
          "text": [
            "DEBUG: LLM Response: 'Neutral' -> Extracted: Neutral\n",
            "Predicted Sentiment: Neutral\n",
            "\n",
            "Analyzing comment 5/50:\n",
            "Author: @addepallihemanth592\n",
            "Comment: \"Bro ni okkaroju fasting cheyipinchi Annadanam chepiste 10members ki full days meals set😢\"\n"
          ]
        },
        {
          "output_type": "stream",
          "name": "stderr",
          "text": [
            "The following generation flags are not valid and may be ignored: ['temperature', 'top_p']. Set `TRANSFORMERS_VERBOSITY=info` for more details.\n"
          ]
        },
        {
          "output_type": "stream",
          "name": "stdout",
          "text": [
            "DEBUG: LLM Response: 'Negative' -> Extracted: Negative\n",
            "Predicted Sentiment: Negative\n",
            "\n",
            "Analyzing comment 6/50:\n",
            "Author: @monica_glory\n",
            "Comment: \"Niku assalu vandatame rani wife vastadi bro 😅😂\"\n"
          ]
        },
        {
          "output_type": "stream",
          "name": "stderr",
          "text": [
            "The following generation flags are not valid and may be ignored: ['temperature', 'top_p']. Set `TRANSFORMERS_VERBOSITY=info` for more details.\n"
          ]
        },
        {
          "output_type": "stream",
          "name": "stdout",
          "text": [
            "DEBUG: LLM Response: 'Neutral' -> Extracted: Neutral\n",
            "Predicted Sentiment: Neutral\n",
            "\n",
            "Analyzing comment 7/50:\n",
            "Author: @Arprio2022\n",
            "Comment: \"Bro 21:29 doesn't need detox drink he needs domax😂❤\"\n"
          ]
        },
        {
          "output_type": "stream",
          "name": "stderr",
          "text": [
            "The following generation flags are not valid and may be ignored: ['temperature', 'top_p']. Set `TRANSFORMERS_VERBOSITY=info` for more details.\n"
          ]
        },
        {
          "output_type": "stream",
          "name": "stdout",
          "text": [
            "DEBUG: LLM Response: 'Negative' -> Extracted: Negative\n",
            "Predicted Sentiment: Negative\n",
            "\n",
            "Analyzing comment 8/50:\n",
            "Author: @MDEEVANKumar99\n",
            "Comment: \"😂😂😂😂\"\n"
          ]
        },
        {
          "output_type": "stream",
          "name": "stderr",
          "text": [
            "The following generation flags are not valid and may be ignored: ['temperature', 'top_p']. Set `TRANSFORMERS_VERBOSITY=info` for more details.\n"
          ]
        },
        {
          "output_type": "stream",
          "name": "stdout",
          "text": [
            "DEBUG: LLM Response: 'Neutral' -> Extracted: Neutral\n",
            "Predicted Sentiment: Neutral\n",
            "\n",
            "Analyzing comment 9/50:\n",
            "Author: @deviganeshpunna5250\n",
            "Comment: \"వాడిది కడుపా చెరువు అన్న\"\n"
          ]
        },
        {
          "output_type": "stream",
          "name": "stderr",
          "text": [
            "The following generation flags are not valid and may be ignored: ['temperature', 'top_p']. Set `TRANSFORMERS_VERBOSITY=info` for more details.\n"
          ]
        },
        {
          "output_type": "stream",
          "name": "stdout",
          "text": [
            "DEBUG: LLM Response: 'Negative' -> Extracted: Negative\n",
            "Predicted Sentiment: Negative\n",
            "\n",
            "Analyzing comment 10/50:\n",
            "Author: @SanthoshBirlangi\n",
            "Comment: \"😂😂😂😂😂😂😂\"\n"
          ]
        },
        {
          "output_type": "stream",
          "name": "stderr",
          "text": [
            "The following generation flags are not valid and may be ignored: ['temperature', 'top_p']. Set `TRANSFORMERS_VERBOSITY=info` for more details.\n"
          ]
        },
        {
          "output_type": "stream",
          "name": "stdout",
          "text": [
            "DEBUG: LLM Response: 'Neutral' -> Extracted: Neutral\n",
            "Predicted Sentiment: Neutral\n",
            "\n",
            "Analyzing comment 11/50:\n",
            "Author: @chidambareswar\n",
            "Comment: \"Bro evadi thindi vadidhi bro\"\n"
          ]
        },
        {
          "output_type": "stream",
          "name": "stderr",
          "text": [
            "The following generation flags are not valid and may be ignored: ['temperature', 'top_p']. Set `TRANSFORMERS_VERBOSITY=info` for more details.\n"
          ]
        },
        {
          "output_type": "stream",
          "name": "stdout",
          "text": [
            "DEBUG: LLM Response: 'Negative' -> Extracted: Negative\n",
            "Predicted Sentiment: Negative\n",
            "\n",
            "Analyzing comment 12/50:\n",
            "Author: @mr__ashish__8776\n",
            "Comment: \"Women soulfull vachhindhi thana meedha video chey\"\n"
          ]
        },
        {
          "output_type": "stream",
          "name": "stderr",
          "text": [
            "The following generation flags are not valid and may be ignored: ['temperature', 'top_p']. Set `TRANSFORMERS_VERBOSITY=info` for more details.\n"
          ]
        },
        {
          "output_type": "stream",
          "name": "stdout",
          "text": [
            "DEBUG: LLM Response: 'Neutral' -> Extracted: Neutral\n",
            "Predicted Sentiment: Neutral\n",
            "\n",
            "Analyzing comment 13/50:\n",
            "Author: @SandeepPrince-h6g\n",
            "Comment: \"Areyyyy... Johny Sins kuda koncham Gap isthadu Ra....\"\n"
          ]
        },
        {
          "output_type": "stream",
          "name": "stderr",
          "text": [
            "The following generation flags are not valid and may be ignored: ['temperature', 'top_p']. Set `TRANSFORMERS_VERBOSITY=info` for more details.\n"
          ]
        },
        {
          "output_type": "stream",
          "name": "stdout",
          "text": [
            "DEBUG: LLM Response: 'Negative' -> Extracted: Negative\n",
            "Predicted Sentiment: Negative\n",
            "\n",
            "Analyzing comment 14/50:\n",
            "Author: @JayalaxmiPulipati\n",
            "Comment: \"Waste fellow pranay why are you doing this video 📷📷📷\"\n"
          ]
        },
        {
          "output_type": "stream",
          "name": "stderr",
          "text": [
            "The following generation flags are not valid and may be ignored: ['temperature', 'top_p']. Set `TRANSFORMERS_VERBOSITY=info` for more details.\n"
          ]
        },
        {
          "output_type": "stream",
          "name": "stdout",
          "text": [
            "DEBUG: LLM Response: 'Negative' -> Extracted: Negative\n",
            "Predicted Sentiment: Negative\n",
            "\n",
            "Analyzing comment 15/50:\n",
            "Author: @mandasaikumar2062\n",
            "Comment: \"Man of the match of the series of the tournament 😂😂\"\n"
          ]
        },
        {
          "output_type": "stream",
          "name": "stderr",
          "text": [
            "The following generation flags are not valid and may be ignored: ['temperature', 'top_p']. Set `TRANSFORMERS_VERBOSITY=info` for more details.\n"
          ]
        },
        {
          "output_type": "stream",
          "name": "stdout",
          "text": [
            "DEBUG: LLM Response: 'Neutral' -> Extracted: Neutral\n",
            "Predicted Sentiment: Neutral\n",
            "\n",
            "Analyzing comment 16/50:\n",
            "Author: @sai00x\n",
            "Comment: \"Erripukulu antha oka Eyy chota Eyy cheraru elaa 😂❤\"\n"
          ]
        },
        {
          "output_type": "stream",
          "name": "stderr",
          "text": [
            "The following generation flags are not valid and may be ignored: ['temperature', 'top_p']. Set `TRANSFORMERS_VERBOSITY=info` for more details.\n"
          ]
        },
        {
          "output_type": "stream",
          "name": "stdout",
          "text": [
            "DEBUG: LLM Response: 'Neutral' -> Extracted: Neutral\n",
            "Predicted Sentiment: Neutral\n",
            "\n",
            "Analyzing comment 17/50:\n",
            "Author: @TiruvayapatiSuresh\n",
            "Comment: \"Anna vadu yakkada unnatado chappava dhaba vakkati patukuntta please\"\n"
          ]
        },
        {
          "output_type": "stream",
          "name": "stderr",
          "text": [
            "The following generation flags are not valid and may be ignored: ['temperature', 'top_p']. Set `TRANSFORMERS_VERBOSITY=info` for more details.\n"
          ]
        },
        {
          "output_type": "stream",
          "name": "stdout",
          "text": [
            "DEBUG: LLM Response: 'Neutral' -> Extracted: Neutral\n",
            "Predicted Sentiment: Neutral\n",
            "\n",
            "Analyzing comment 18/50:\n",
            "Author: @adityakoppera\n",
            "Comment: \"that annaaaaww transition is awsome\"\n"
          ]
        },
        {
          "output_type": "stream",
          "name": "stderr",
          "text": [
            "The following generation flags are not valid and may be ignored: ['temperature', 'top_p']. Set `TRANSFORMERS_VERBOSITY=info` for more details.\n"
          ]
        },
        {
          "output_type": "stream",
          "name": "stdout",
          "text": [
            "DEBUG: LLM Response: 'Neutral' -> Extracted: Neutral\n",
            "Predicted Sentiment: Neutral\n",
            "\n",
            "Analyzing comment 19/50:\n",
            "Author: @gireeshmachilakala-b6e\n",
            "Comment: \"Bro intha tinndaniki money ella saripothundi bro...\"\n"
          ]
        },
        {
          "output_type": "stream",
          "name": "stderr",
          "text": [
            "The following generation flags are not valid and may be ignored: ['temperature', 'top_p']. Set `TRANSFORMERS_VERBOSITY=info` for more details.\n"
          ]
        },
        {
          "output_type": "stream",
          "name": "stdout",
          "text": [
            "DEBUG: LLM Response: 'Negative' -> Extracted: Negative\n",
            "Predicted Sentiment: Negative\n",
            "\n",
            "Analyzing comment 20/50:\n",
            "Author: @Sairam004\n",
            "Comment: \"Watching after Soulful Vlogs eating 40 Bajjis live\"\n"
          ]
        },
        {
          "output_type": "stream",
          "name": "stderr",
          "text": [
            "The following generation flags are not valid and may be ignored: ['temperature', 'top_p']. Set `TRANSFORMERS_VERBOSITY=info` for more details.\n"
          ]
        },
        {
          "output_type": "stream",
          "name": "stdout",
          "text": [
            "DEBUG: LLM Response: 'Negative' -> Extracted: Negative\n",
            "Predicted Sentiment: Negative\n",
            "\n",
            "Analyzing comment 21/50:\n",
            "Author: @akhilkumar.k5650\n",
            "Comment: \"Antha daily tinadhaniki money yekkadivi bro athaniki\"\n"
          ]
        },
        {
          "output_type": "stream",
          "name": "stderr",
          "text": [
            "The following generation flags are not valid and may be ignored: ['temperature', 'top_p']. Set `TRANSFORMERS_VERBOSITY=info` for more details.\n"
          ]
        },
        {
          "output_type": "stream",
          "name": "stdout",
          "text": [
            "DEBUG: LLM Response: 'Neutral' -> Extracted: Neutral\n",
            "Predicted Sentiment: Neutral\n",
            "\n",
            "Analyzing comment 22/50:\n",
            "Author: @rajaravindraberi980\n",
            "Comment: \"❤❤❤❤😂😂😂😂😂😂😂\"\n"
          ]
        },
        {
          "output_type": "stream",
          "name": "stderr",
          "text": [
            "The following generation flags are not valid and may be ignored: ['temperature', 'top_p']. Set `TRANSFORMERS_VERBOSITY=info` for more details.\n"
          ]
        },
        {
          "output_type": "stream",
          "name": "stdout",
          "text": [
            "DEBUG: LLM Response: 'Neutral' -> Extracted: Neutral\n",
            "Predicted Sentiment: Neutral\n",
            "\n",
            "Analyzing comment 23/50:\n",
            "Author: @arisemeghana2289\n",
            "Comment: \"U are having clubbing in ur fingers....could be due to smoking or lung or heart problem....plz get a physician consultation for evaluation\"\n"
          ]
        },
        {
          "output_type": "stream",
          "name": "stderr",
          "text": [
            "The following generation flags are not valid and may be ignored: ['temperature', 'top_p']. Set `TRANSFORMERS_VERBOSITY=info` for more details.\n"
          ]
        },
        {
          "output_type": "stream",
          "name": "stdout",
          "text": [
            "DEBUG: LLM Response: 'Negative' -> Extracted: Negative\n",
            "Predicted Sentiment: Negative\n",
            "\n",
            "Analyzing comment 24/50:\n",
            "Author: @tejateja4605\n",
            "Comment: \"Anna navvi navvi sacchipoya anna😂😂\"\n"
          ]
        },
        {
          "output_type": "stream",
          "name": "stderr",
          "text": [
            "The following generation flags are not valid and may be ignored: ['temperature', 'top_p']. Set `TRANSFORMERS_VERBOSITY=info` for more details.\n"
          ]
        },
        {
          "output_type": "stream",
          "name": "stdout",
          "text": [
            "DEBUG: LLM Response: 'Neutral' -> Extracted: Neutral\n",
            "Predicted Sentiment: Neutral\n",
            "\n",
            "Analyzing comment 25/50:\n",
            "Author: @GouthuMani\n",
            "Comment: \"Sighu ledha miku puku😢😢😢\"\n"
          ]
        },
        {
          "output_type": "stream",
          "name": "stderr",
          "text": [
            "The following generation flags are not valid and may be ignored: ['temperature', 'top_p']. Set `TRANSFORMERS_VERBOSITY=info` for more details.\n"
          ]
        },
        {
          "output_type": "stream",
          "name": "stdout",
          "text": [
            "DEBUG: LLM Response: 'Negative' -> Extracted: Negative\n",
            "Predicted Sentiment: Negative\n",
            "\n",
            "Analyzing comment 26/50:\n",
            "Author: @ravinandan6648\n",
            "Comment: \"Anna vadiki yeakkadaninchi dobbulu vasta vundhi bro\"\n"
          ]
        },
        {
          "output_type": "stream",
          "name": "stderr",
          "text": [
            "The following generation flags are not valid and may be ignored: ['temperature', 'top_p']. Set `TRANSFORMERS_VERBOSITY=info` for more details.\n"
          ]
        },
        {
          "output_type": "stream",
          "name": "stdout",
          "text": [
            "DEBUG: LLM Response: 'Neutral' -> Extracted: Neutral\n",
            "Predicted Sentiment: Neutral\n",
            "\n",
            "Analyzing comment 27/50:\n",
            "Author: @kiranraj8143\n",
            "Comment: \"Vastuadu dengii tintadu saripolesu antadu 😂 kadupa cheruva bayaaaaa 😅\"\n"
          ]
        },
        {
          "output_type": "stream",
          "name": "stderr",
          "text": [
            "The following generation flags are not valid and may be ignored: ['temperature', 'top_p']. Set `TRANSFORMERS_VERBOSITY=info` for more details.\n"
          ]
        },
        {
          "output_type": "stream",
          "name": "stdout",
          "text": [
            "DEBUG: LLM Response: 'Neutral' -> Extracted: Neutral\n",
            "Predicted Sentiment: Neutral\n",
            "\n",
            "Analyzing comment 28/50:\n",
            "Author: @yugandharreddy5494\n",
            "Comment: \"అన్న ఈడు డబల్ ఎగ్ దోశ గాడు అన్న 😂😂\"\n"
          ]
        },
        {
          "output_type": "stream",
          "name": "stderr",
          "text": [
            "The following generation flags are not valid and may be ignored: ['temperature', 'top_p']. Set `TRANSFORMERS_VERBOSITY=info` for more details.\n"
          ]
        },
        {
          "output_type": "stream",
          "name": "stdout",
          "text": [
            "DEBUG: LLM Response: 'Negative' -> Extracted: Negative\n",
            "Predicted Sentiment: Negative\n",
            "\n",
            "Analyzing comment 29/50:\n",
            "Author: @ramayya_janasena\n",
            "Comment: \"Depression edusthuna bhayya me video chusaka a bhadha antha poyindhi 😭🩷🫂... Tqsm brooo 😭🩷🫂\"\n"
          ]
        },
        {
          "output_type": "stream",
          "name": "stderr",
          "text": [
            "The following generation flags are not valid and may be ignored: ['temperature', 'top_p']. Set `TRANSFORMERS_VERBOSITY=info` for more details.\n"
          ]
        },
        {
          "output_type": "stream",
          "name": "stdout",
          "text": [
            "DEBUG: LLM Response: 'Negative' -> Extracted: Negative\n",
            "Predicted Sentiment: Negative\n",
            "\n",
            "Analyzing comment 30/50:\n",
            "Author: @LeoEvent\n",
            "Comment: \"Chillar nayala andhra kada g Balupu baga periginattundi pani pata leka ntra edi mek avasarama...\"\n"
          ]
        },
        {
          "output_type": "stream",
          "name": "stderr",
          "text": [
            "The following generation flags are not valid and may be ignored: ['temperature', 'top_p']. Set `TRANSFORMERS_VERBOSITY=info` for more details.\n"
          ]
        },
        {
          "output_type": "stream",
          "name": "stdout",
          "text": [
            "DEBUG: LLM Response: 'Negative' -> Extracted: Negative\n",
            "Predicted Sentiment: Negative\n",
            "\n",
            "Analyzing comment 31/50:\n",
            "Author: @muktaniharika1302\n",
            "Comment: \"Anna monna live lo 40 samosalu tinnadu 😌\"\n"
          ]
        },
        {
          "output_type": "stream",
          "name": "stderr",
          "text": [
            "The following generation flags are not valid and may be ignored: ['temperature', 'top_p']. Set `TRANSFORMERS_VERBOSITY=info` for more details.\n"
          ]
        },
        {
          "output_type": "stream",
          "name": "stdout",
          "text": [
            "DEBUG: LLM Response: 'Neutral' -> Extracted: Neutral\n",
            "Predicted Sentiment: Neutral\n",
            "\n",
            "Analyzing comment 32/50:\n",
            "Author: @musicrocks1991\n",
            "Comment: \"Bhayya meeru sappattu raman videos chusi vaati mida kooda cheyyandi\"\n"
          ]
        },
        {
          "output_type": "stream",
          "name": "stderr",
          "text": [
            "The following generation flags are not valid and may be ignored: ['temperature', 'top_p']. Set `TRANSFORMERS_VERBOSITY=info` for more details.\n"
          ]
        },
        {
          "output_type": "stream",
          "name": "stdout",
          "text": [
            "DEBUG: LLM Response: 'Neutral' -> Extracted: Neutral\n",
            "Predicted Sentiment: Neutral\n",
            "\n",
            "Analyzing comment 33/50:\n",
            "Author: @ravalibilla5096\n",
            "Comment: \"Navvi navvi sachipothe avaru responsibility bro..😂😂😂 Kumba karnudu aiena 6 months thini 6 months padukuntadu nuventiii brooo\"\n"
          ]
        },
        {
          "output_type": "stream",
          "name": "stderr",
          "text": [
            "The following generation flags are not valid and may be ignored: ['temperature', 'top_p']. Set `TRANSFORMERS_VERBOSITY=info` for more details.\n"
          ]
        },
        {
          "output_type": "stream",
          "name": "stdout",
          "text": [
            "DEBUG: LLM Response: 'Neutral' -> Extracted: Neutral\n",
            "Predicted Sentiment: Neutral\n",
            "\n",
            "Analyzing comment 34/50:\n",
            "Author: @CPNagur\n",
            "Comment: \"This video never gets old ..if I am getting stressed coming to watch this video brooo\"\n"
          ]
        },
        {
          "output_type": "stream",
          "name": "stderr",
          "text": [
            "The following generation flags are not valid and may be ignored: ['temperature', 'top_p']. Set `TRANSFORMERS_VERBOSITY=info` for more details.\n"
          ]
        },
        {
          "output_type": "stream",
          "name": "stdout",
          "text": [
            "DEBUG: LLM Response: 'Neutral' -> Extracted: Neutral\n",
            "Predicted Sentiment: Neutral\n",
            "\n",
            "Analyzing comment 35/50:\n",
            "Author: @alienforcegaming6923\n",
            "Comment: \"https://youtu.be/UQEKer2-vnc?si=0xTjf0oMG9_tyvJw\"\n"
          ]
        },
        {
          "output_type": "stream",
          "name": "stderr",
          "text": [
            "The following generation flags are not valid and may be ignored: ['temperature', 'top_p']. Set `TRANSFORMERS_VERBOSITY=info` for more details.\n"
          ]
        },
        {
          "output_type": "stream",
          "name": "stdout",
          "text": [
            "DEBUG: LLM Response: 'Neutral' -> Extracted: Neutral\n",
            "Predicted Sentiment: Neutral\n",
            "\n",
            "Analyzing comment 36/50:\n",
            "Author: @CRIC_FREAK140_07\n",
            "Comment: \"Fasting concept untey Just morning ki green leafy veggie salad,adhi saripokapothe vegetable salad adhi saripokapothe vegetable juices 2 or 3 Then for ...\"\n"
          ]
        },
        {
          "output_type": "stream",
          "name": "stderr",
          "text": [
            "The following generation flags are not valid and may be ignored: ['temperature', 'top_p']. Set `TRANSFORMERS_VERBOSITY=info` for more details.\n"
          ]
        },
        {
          "output_type": "stream",
          "name": "stdout",
          "text": [
            "DEBUG: LLM Response: 'Negative' -> Extracted: Negative\n",
            "Predicted Sentiment: Negative\n",
            "\n",
            "Analyzing comment 37/50:\n",
            "Author: @Asiankowshikcinemas\n",
            "Comment: \"Yudham kuda aaru thavata apestaru kadara nuvu inka tintane nuvu 😭😭😂😂🤣🤣🤣🤣🤣🤣🤣🤣🤣\"\n"
          ]
        },
        {
          "output_type": "stream",
          "name": "stderr",
          "text": [
            "The following generation flags are not valid and may be ignored: ['temperature', 'top_p']. Set `TRANSFORMERS_VERBOSITY=info` for more details.\n"
          ]
        },
        {
          "output_type": "stream",
          "name": "stdout",
          "text": [
            "DEBUG: LLM Response: 'Negative' -> Extracted: Negative\n",
            "Predicted Sentiment: Negative\n",
            "\n",
            "Analyzing comment 38/50:\n",
            "Author: @badrinath4928\n",
            "Comment: \"18:47 bro aapand bro😂😂😂😂🤣\"\n"
          ]
        },
        {
          "output_type": "stream",
          "name": "stderr",
          "text": [
            "The following generation flags are not valid and may be ignored: ['temperature', 'top_p']. Set `TRANSFORMERS_VERBOSITY=info` for more details.\n"
          ]
        },
        {
          "output_type": "stream",
          "name": "stdout",
          "text": [
            "DEBUG: LLM Response: 'Neutral' -> Extracted: Neutral\n",
            "Predicted Sentiment: Neutral\n",
            "\n",
            "Analyzing comment 39/50:\n",
            "Author: @pspkfan4067\n",
            "Comment: \"Saripoda pratiroju\"\n"
          ]
        },
        {
          "output_type": "stream",
          "name": "stderr",
          "text": [
            "The following generation flags are not valid and may be ignored: ['temperature', 'top_p']. Set `TRANSFORMERS_VERBOSITY=info` for more details.\n"
          ]
        },
        {
          "output_type": "stream",
          "name": "stdout",
          "text": [
            "DEBUG: LLM Response: 'Neutral' -> Extracted: Neutral\n",
            "Predicted Sentiment: Neutral\n",
            "\n",
            "Analyzing comment 40/50:\n",
            "Author: @dhanunjay1907\n",
            "Comment: \"Rendu nelala tarvatha choosina... Malla aalne kadupulo tipputhundi bro 🙂\"\n"
          ]
        },
        {
          "output_type": "stream",
          "name": "stderr",
          "text": [
            "The following generation flags are not valid and may be ignored: ['temperature', 'top_p']. Set `TRANSFORMERS_VERBOSITY=info` for more details.\n"
          ]
        },
        {
          "output_type": "stream",
          "name": "stdout",
          "text": [
            "DEBUG: LLM Response: 'Neutral' -> Extracted: Neutral\n",
            "Predicted Sentiment: Neutral\n",
            "\n",
            "Analyzing comment 41/50:\n",
            "Author: @karreddullagowtham\n",
            "Comment: \"Meku anduku brother taneke meru hamana money hetanara tana money tanu istam meku haduguku\"\n"
          ]
        },
        {
          "output_type": "stream",
          "name": "stderr",
          "text": [
            "The following generation flags are not valid and may be ignored: ['temperature', 'top_p']. Set `TRANSFORMERS_VERBOSITY=info` for more details.\n"
          ]
        },
        {
          "output_type": "stream",
          "name": "stdout",
          "text": [
            "DEBUG: LLM Response: 'Negative' -> Extracted: Negative\n",
            "Predicted Sentiment: Negative\n",
            "\n",
            "Analyzing comment 42/50:\n",
            "Author: @PrasannaSimhadri-j8r\n",
            "Comment: \"Anna the paradise glimpse reaction cheyyandi plzz\"\n"
          ]
        },
        {
          "output_type": "stream",
          "name": "stderr",
          "text": [
            "The following generation flags are not valid and may be ignored: ['temperature', 'top_p']. Set `TRANSFORMERS_VERBOSITY=info` for more details.\n"
          ]
        },
        {
          "output_type": "stream",
          "name": "stdout",
          "text": [
            "DEBUG: LLM Response: 'Neutral' -> Extracted: Neutral\n",
            "Predicted Sentiment: Neutral\n",
            "\n",
            "Analyzing comment 43/50:\n",
            "Author: @sakettimmaraju\n",
            "Comment: \"Mayfel is a emotion\"\n"
          ]
        },
        {
          "output_type": "stream",
          "name": "stderr",
          "text": [
            "The following generation flags are not valid and may be ignored: ['temperature', 'top_p']. Set `TRANSFORMERS_VERBOSITY=info` for more details.\n"
          ]
        },
        {
          "output_type": "stream",
          "name": "stdout",
          "text": [
            "DEBUG: LLM Response: 'Neutral' -> Extracted: Neutral\n",
            "Predicted Sentiment: Neutral\n",
            "\n",
            "Analyzing comment 44/50:\n",
            "Author: @amgotha.ganesh363\n",
            "Comment: \"Anna nenu nela motham thinedi okaroju thinndu bro\"\n"
          ]
        },
        {
          "output_type": "stream",
          "name": "stderr",
          "text": [
            "The following generation flags are not valid and may be ignored: ['temperature', 'top_p']. Set `TRANSFORMERS_VERBOSITY=info` for more details.\n"
          ]
        },
        {
          "output_type": "stream",
          "name": "stdout",
          "text": [
            "DEBUG: LLM Response: 'Neutral' -> Extracted: Neutral\n",
            "Predicted Sentiment: Neutral\n",
            "\n",
            "Analyzing comment 45/50:\n",
            "Author: @SunnySunny-x5r6g\n",
            "Comment: \"Action⚔️ overaction\"\n"
          ]
        },
        {
          "output_type": "stream",
          "name": "stderr",
          "text": [
            "The following generation flags are not valid and may be ignored: ['temperature', 'top_p']. Set `TRANSFORMERS_VERBOSITY=info` for more details.\n"
          ]
        },
        {
          "output_type": "stream",
          "name": "stdout",
          "text": [
            "DEBUG: LLM Response: 'Neutral' -> Extracted: Neutral\n",
            "Predicted Sentiment: Neutral\n",
            "\n",
            "Analyzing comment 46/50:\n",
            "Author: @VishnuVardhanReddy-q1t3x\n",
            "Comment: \"Some places it looked like fake laughter\"\n"
          ]
        },
        {
          "output_type": "stream",
          "name": "stderr",
          "text": [
            "The following generation flags are not valid and may be ignored: ['temperature', 'top_p']. Set `TRANSFORMERS_VERBOSITY=info` for more details.\n"
          ]
        },
        {
          "output_type": "stream",
          "name": "stdout",
          "text": [
            "DEBUG: LLM Response: 'Negative' -> Extracted: Negative\n",
            "Predicted Sentiment: Negative\n",
            "\n",
            "Analyzing comment 47/50:\n",
            "Author: @mdmasood6957\n",
            "Comment: \"Same bro laga inka vikashu same video but that man drink vi video chestadhu\"\n"
          ]
        },
        {
          "output_type": "stream",
          "name": "stderr",
          "text": [
            "The following generation flags are not valid and may be ignored: ['temperature', 'top_p']. Set `TRANSFORMERS_VERBOSITY=info` for more details.\n"
          ]
        },
        {
          "output_type": "stream",
          "name": "stdout",
          "text": [
            "DEBUG: LLM Response: 'Negative' -> Extracted: Negative\n",
            "Predicted Sentiment: Negative\n",
            "\n",
            "Analyzing comment 48/50:\n",
            "Author: @sgfuegoo-1xz\n",
            "Comment: \"Meeku anduku ra kathal vadu money vadu istam pilla puvvala\"\n"
          ]
        },
        {
          "output_type": "stream",
          "name": "stderr",
          "text": [
            "The following generation flags are not valid and may be ignored: ['temperature', 'top_p']. Set `TRANSFORMERS_VERBOSITY=info` for more details.\n"
          ]
        },
        {
          "output_type": "stream",
          "name": "stdout",
          "text": [
            "DEBUG: LLM Response: 'Negative' -> Extracted: Negative\n",
            "Predicted Sentiment: Negative\n",
            "\n",
            "Analyzing comment 49/50:\n",
            "Author: @akkyamdevisreemunirathnam5481\n",
            "Comment: \"Bro thinadam choosi meeke respect perigindhi video first lo arey , vaadu ani pilichina mee nota \" anna \" ani pilipinchukunndu 😂 respect 🫡\"\n"
          ]
        },
        {
          "output_type": "stream",
          "name": "stderr",
          "text": [
            "The following generation flags are not valid and may be ignored: ['temperature', 'top_p']. Set `TRANSFORMERS_VERBOSITY=info` for more details.\n"
          ]
        },
        {
          "output_type": "stream",
          "name": "stdout",
          "text": [
            "DEBUG: LLM Response: 'Negative' -> Extracted: Negative\n",
            "Predicted Sentiment: Negative\n",
            "\n",
            "Analyzing comment 50/50:\n",
            "Author: @rapomania1235\n",
            "Comment: \"Alaa thintaadu bro .......digestive system kuda vadiki sanmanam chesthadhi bro\"\n",
            "DEBUG: LLM Response: 'Neutral' -> Extracted: Neutral\n",
            "Predicted Sentiment: Neutral\n",
            "\n",
            "Fetched and analyzed [{'Author': '@LOKIZ-n3c', 'Published At': '2025-06-28T16:20:06Z', 'Comment': 'Bro is grandparents favourite child', 'Likes': 0, 'Predicted Sentiment': 'Negative'}, {'Author': '@ravisadasivuni6865', 'Published At': '2025-06-28T09:23:27Z', 'Comment': 'Varada vadini apa mani cheppu😂😂', 'Likes': 0, 'Predicted Sentiment': 'Neutral'}, {'Author': '@zero99rj', 'Published At': '2025-06-27T21:05:05Z', 'Comment': \"I observed clubbing in Pranay's fingers. Get yourself checked once you might have a serious heart disorder. Take care of yourself bro. Wishing you guys all the best👍🏻 @pranay verma\", 'Likes': 0, 'Predicted Sentiment': 'Neutral'}, {'Author': '@SunilKohir-o4g', 'Published At': '2025-06-25T15:17:08Z', 'Comment': 'Ayana thinte mikem guddalo nopi beeeee', 'Likes': 0, 'Predicted Sentiment': 'Neutral'}, {'Author': '@addepallihemanth592', 'Published At': '2025-06-23T16:17:13Z', 'Comment': 'Bro ni okkaroju fasting cheyipinchi Annadanam chepiste 10members ki full days meals set😢', 'Likes': 0, 'Predicted Sentiment': 'Negative'}, {'Author': '@monica_glory', 'Published At': '2025-06-23T13:51:41Z', 'Comment': 'Niku assalu vandatame rani wife vastadi bro 😅😂', 'Likes': 1, 'Predicted Sentiment': 'Neutral'}, {'Author': '@Arprio2022', 'Published At': '2025-06-21T17:15:38Z', 'Comment': \"Bro 21:29  doesn't need detox drink he needs domax😂❤\", 'Likes': 0, 'Predicted Sentiment': 'Negative'}, {'Author': '@MDEEVANKumar99', 'Published At': '2025-06-21T14:39:26Z', 'Comment': '😂😂😂😂', 'Likes': 0, 'Predicted Sentiment': 'Neutral'}, {'Author': '@deviganeshpunna5250', 'Published At': '2025-06-21T04:37:18Z', 'Comment': 'వాడిది కడుపా చెరువు అన్న', 'Likes': 0, 'Predicted Sentiment': 'Negative'}, {'Author': '@SanthoshBirlangi', 'Published At': '2025-06-20T18:38:08Z', 'Comment': '😂😂😂😂😂😂😂', 'Likes': 0, 'Predicted Sentiment': 'Neutral'}, {'Author': '@chidambareswar', 'Published At': '2025-06-20T15:56:22Z', 'Comment': 'Bro  evadi thindi vadidhi bro', 'Likes': 0, 'Predicted Sentiment': 'Negative'}, {'Author': '@mr__ashish__8776', 'Published At': '2025-06-20T11:19:44Z', 'Comment': 'Women soulfull vachhindhi thana meedha video chey', 'Likes': 0, 'Predicted Sentiment': 'Neutral'}, {'Author': '@SandeepPrince-h6g', 'Published At': '2025-06-19T06:37:33Z', 'Comment': 'Areyyyy... Johny Sins kuda koncham Gap isthadu Ra....', 'Likes': 0, 'Predicted Sentiment': 'Negative'}, {'Author': '@JayalaxmiPulipati', 'Published At': '2025-06-18T16:09:42Z', 'Comment': 'Waste fellow pranay why are you doing this video 📷📷📷', 'Likes': 0, 'Predicted Sentiment': 'Negative'}, {'Author': '@mandasaikumar2062', 'Published At': '2025-06-18T09:03:17Z', 'Comment': 'Man of the match of the series of the tournament 😂😂', 'Likes': 0, 'Predicted Sentiment': 'Neutral'}, {'Author': '@sai00x', 'Published At': '2025-06-18T04:03:47Z', 'Comment': 'Erripukulu antha oka Eyy chota Eyy cheraru elaa 😂❤', 'Likes': 0, 'Predicted Sentiment': 'Neutral'}, {'Author': '@TiruvayapatiSuresh', 'Published At': '2025-06-17T17:14:17Z', 'Comment': 'Anna vadu yakkada unnatado chappava dhaba vakkati patukuntta please', 'Likes': 0, 'Predicted Sentiment': 'Neutral'}, {'Author': '@adityakoppera', 'Published At': '2025-06-17T13:21:54Z', 'Comment': 'that annaaaaww transition is awsome', 'Likes': 0, 'Predicted Sentiment': 'Neutral'}, {'Author': '@gireeshmachilakala-b6e', 'Published At': '2025-06-17T08:00:45Z', 'Comment': 'Bro intha tinndaniki money ella saripothundi bro...', 'Likes': 0, 'Predicted Sentiment': 'Negative'}, {'Author': '@Sairam004', 'Published At': '2025-06-17T06:07:07Z', 'Comment': 'Watching after Soulful Vlogs eating 40 Bajjis live', 'Likes': 2, 'Predicted Sentiment': 'Negative'}, {'Author': '@akhilkumar.k5650', 'Published At': '2025-06-17T05:53:29Z', 'Comment': 'Antha daily tinadhaniki money yekkadivi bro athaniki', 'Likes': 0, 'Predicted Sentiment': 'Neutral'}, {'Author': '@rajaravindraberi980', 'Published At': '2025-06-16T21:08:49Z', 'Comment': '❤❤❤❤😂😂😂😂😂😂😂', 'Likes': 0, 'Predicted Sentiment': 'Neutral'}, {'Author': '@arisemeghana2289', 'Published At': '2025-06-15T18:12:17Z', 'Comment': 'U are having clubbing in ur fingers....could be due to smoking or lung or heart problem....plz get a physician consultation for evaluation', 'Likes': 0, 'Predicted Sentiment': 'Negative'}, {'Author': '@tejateja4605', 'Published At': '2025-06-14T18:41:20Z', 'Comment': 'Anna navvi navvi sacchipoya anna😂😂', 'Likes': 0, 'Predicted Sentiment': 'Neutral'}, {'Author': '@GouthuMani', 'Published At': '2025-06-12T08:08:31Z', 'Comment': 'Sighu ledha miku puku😢😢😢', 'Likes': 0, 'Predicted Sentiment': 'Negative'}, {'Author': '@ravinandan6648', 'Published At': '2025-06-12T05:47:47Z', 'Comment': 'Anna vadiki yeakkadaninchi dobbulu vasta vundhi bro', 'Likes': 0, 'Predicted Sentiment': 'Neutral'}, {'Author': '@kiranraj8143', 'Published At': '2025-06-11T20:09:38Z', 'Comment': 'Vastuadu dengii tintadu saripolesu antadu 😂 kadupa cheruva bayaaaaa 😅', 'Likes': 0, 'Predicted Sentiment': 'Neutral'}, {'Author': '@yugandharreddy5494', 'Published At': '2025-06-11T10:50:42Z', 'Comment': 'అన్న ఈడు డబల్ ఎగ్ దోశ గాడు అన్న 😂😂', 'Likes': 0, 'Predicted Sentiment': 'Negative'}, {'Author': '@ramayya_janasena', 'Published At': '2025-06-10T22:48:40Z', 'Comment': 'Depression edusthuna bhayya me video chusaka a bhadha antha poyindhi 😭\\U0001fa77🫂...\\nTqsm brooo 😭\\U0001fa77🫂', 'Likes': 0, 'Predicted Sentiment': 'Negative'}, {'Author': '@LeoEvent', 'Published At': '2025-06-09T18:27:19Z', 'Comment': 'Chillar nayala\\n andhra kada g Balupu baga periginattundi pani pata leka ntra edi mek avasarama...', 'Likes': 0, 'Predicted Sentiment': 'Negative'}, {'Author': '@muktaniharika1302', 'Published At': '2025-06-08T16:01:04Z', 'Comment': 'Anna monna live lo 40 samosalu tinnadu 😌', 'Likes': 0, 'Predicted Sentiment': 'Neutral'}, {'Author': '@musicrocks1991', 'Published At': '2025-06-08T07:14:31Z', 'Comment': 'Bhayya meeru sappattu raman videos chusi vaati mida kooda cheyyandi', 'Likes': 0, 'Predicted Sentiment': 'Neutral'}, {'Author': '@ravalibilla5096', 'Published At': '2025-06-06T10:31:42Z', 'Comment': 'Navvi navvi sachipothe avaru responsibility bro..😂😂😂 \\nKumba karnudu aiena 6 months thini 6 months padukuntadu nuventiii brooo', 'Likes': 0, 'Predicted Sentiment': 'Neutral'}, {'Author': '@CPNagur', 'Published At': '2025-06-06T05:09:15Z', 'Comment': 'This video never gets old ..if I am getting stressed coming to watch this video brooo', 'Likes': 0, 'Predicted Sentiment': 'Neutral'}, {'Author': '@alienforcegaming6923', 'Published At': '2025-06-05T11:23:54Z', 'Comment': 'https://youtu.be/UQEKer2-vnc?si=0xTjf0oMG9_tyvJw', 'Likes': 0, 'Predicted Sentiment': 'Neutral'}, {'Author': '@CRIC_FREAK140_07', 'Published At': '2025-06-05T10:12:01Z', 'Comment': 'Fasting concept untey\\nJust morning  ki green leafy veggie salad,adhi saripokapothe vegetable salad\\nadhi saripokapothe vegetable juices 2 or 3 \\nThen for lunch 1 kg - 2 kgs fruits adhi saripokapothe 4-5 fruit juices minimum.... evening snacks ki nuts and dry fruits  minimum 500 gms and 2 juices. Dinner ki veg salad,fruit salad,dryfruit salad nut salad and 3   juices minimum mali midnight akalesthe 500 gms dry fruits and nuts thiskuntademmo papam pity', 'Likes': 0, 'Predicted Sentiment': 'Negative'}, {'Author': '@Asiankowshikcinemas', 'Published At': '2025-06-05T04:54:44Z', 'Comment': 'Yudham kuda aaru thavata apestaru kadara nuvu inka tintane nuvu 😭😭😂😂🤣🤣🤣🤣🤣🤣🤣🤣🤣', 'Likes': 0, 'Predicted Sentiment': 'Negative'}, {'Author': '@badrinath4928', 'Published At': '2025-06-04T12:32:59Z', 'Comment': '18:47 bro aapand bro😂😂😂😂🤣', 'Likes': 0, 'Predicted Sentiment': 'Neutral'}, {'Author': '@pspkfan4067', 'Published At': '2025-06-03T16:59:43Z', 'Comment': 'Saripoda pratiroju', 'Likes': 0, 'Predicted Sentiment': 'Neutral'}, {'Author': '@dhanunjay1907', 'Published At': '2025-06-02T18:23:16Z', 'Comment': 'Rendu nelala tarvatha choosina... Malla aalne kadupulo tipputhundi bro 🙂', 'Likes': 0, 'Predicted Sentiment': 'Neutral'}, {'Author': '@karreddullagowtham', 'Published At': '2025-06-02T15:29:47Z', 'Comment': 'Meku anduku brother taneke meru hamana money hetanara tana money tanu istam meku haduguku', 'Likes': 0, 'Predicted Sentiment': 'Negative'}, {'Author': '@PrasannaSimhadri-j8r', 'Published At': '2025-06-02T04:07:45Z', 'Comment': 'Anna the paradise glimpse reaction cheyyandi plzz', 'Likes': 0, 'Predicted Sentiment': 'Neutral'}, {'Author': '@sakettimmaraju', 'Published At': '2025-06-01T17:04:49Z', 'Comment': 'Mayfel is a emotion', 'Likes': 0, 'Predicted Sentiment': 'Neutral'}, {'Author': '@amgotha.ganesh363', 'Published At': '2025-06-01T13:18:08Z', 'Comment': 'Anna nenu nela motham thinedi okaroju thinndu bro', 'Likes': 0, 'Predicted Sentiment': 'Neutral'}, {'Author': '@SunnySunny-x5r6g', 'Published At': '2025-06-01T03:26:16Z', 'Comment': 'Action⚔️ overaction', 'Likes': 0, 'Predicted Sentiment': 'Neutral'}, {'Author': '@VishnuVardhanReddy-q1t3x', 'Published At': '2025-05-31T10:27:37Z', 'Comment': 'Some places it looked like fake laughter', 'Likes': 0, 'Predicted Sentiment': 'Negative'}, {'Author': '@mdmasood6957', 'Published At': '2025-05-31T05:14:45Z', 'Comment': 'Same bro laga inka vikashu same video but that man drink vi video chestadhu', 'Likes': 0, 'Predicted Sentiment': 'Negative'}, {'Author': '@sgfuegoo-1xz', 'Published At': '2025-05-30T17:37:21Z', 'Comment': 'Meeku anduku ra kathal vadu money vadu istam pilla puvvala', 'Likes': 0, 'Predicted Sentiment': 'Negative'}, {'Author': '@akkyamdevisreemunirathnam5481', 'Published At': '2025-05-30T08:25:58Z', 'Comment': 'Bro thinadam choosi meeke respect perigindhi video first lo arey , vaadu ani pilichina mee nota \" anna \" ani pilipinchukunndu 😂 respect 🫡', 'Likes': 0, 'Predicted Sentiment': 'Negative'}, {'Author': '@rapomania1235', 'Published At': '2025-05-30T07:27:35Z', 'Comment': 'Alaa thintaadu bro .......digestive system kuda vadiki sanmanam chesthadhi bro', 'Likes': 0, 'Predicted Sentiment': 'Neutral'}] comments.\n",
            "\n",
            "--- YouTube Comment Sentiment Analysis Results ---\n",
            "\n",
            "Sentiment Distribution:\n",
            "Neutral: 29 (58.0%)\n",
            "Negative: 21 (42.0%)\n"
          ]
        },
        {
          "output_type": "display_data",
          "data": {
            "text/plain": [
              "                            Author          Published At  \\\n",
              "0                       @LOKIZ-n3c  2025-06-28T16:20:06Z   \n",
              "1              @ravisadasivuni6865  2025-06-28T09:23:27Z   \n",
              "2                        @zero99rj  2025-06-27T21:05:05Z   \n",
              "3                  @SunilKohir-o4g  2025-06-25T15:17:08Z   \n",
              "4             @addepallihemanth592  2025-06-23T16:17:13Z   \n",
              "5                    @monica_glory  2025-06-23T13:51:41Z   \n",
              "6                      @Arprio2022  2025-06-21T17:15:38Z   \n",
              "7                  @MDEEVANKumar99  2025-06-21T14:39:26Z   \n",
              "8             @deviganeshpunna5250  2025-06-21T04:37:18Z   \n",
              "9                @SanthoshBirlangi  2025-06-20T18:38:08Z   \n",
              "10                 @chidambareswar  2025-06-20T15:56:22Z   \n",
              "11               @mr__ashish__8776  2025-06-20T11:19:44Z   \n",
              "12              @SandeepPrince-h6g  2025-06-19T06:37:33Z   \n",
              "13              @JayalaxmiPulipati  2025-06-18T16:09:42Z   \n",
              "14              @mandasaikumar2062  2025-06-18T09:03:17Z   \n",
              "15                         @sai00x  2025-06-18T04:03:47Z   \n",
              "16             @TiruvayapatiSuresh  2025-06-17T17:14:17Z   \n",
              "17                  @adityakoppera  2025-06-17T13:21:54Z   \n",
              "18         @gireeshmachilakala-b6e  2025-06-17T08:00:45Z   \n",
              "19                      @Sairam004  2025-06-17T06:07:07Z   \n",
              "20               @akhilkumar.k5650  2025-06-17T05:53:29Z   \n",
              "21            @rajaravindraberi980  2025-06-16T21:08:49Z   \n",
              "22               @arisemeghana2289  2025-06-15T18:12:17Z   \n",
              "23                   @tejateja4605  2025-06-14T18:41:20Z   \n",
              "24                     @GouthuMani  2025-06-12T08:08:31Z   \n",
              "25                 @ravinandan6648  2025-06-12T05:47:47Z   \n",
              "26                   @kiranraj8143  2025-06-11T20:09:38Z   \n",
              "27             @yugandharreddy5494  2025-06-11T10:50:42Z   \n",
              "28               @ramayya_janasena  2025-06-10T22:48:40Z   \n",
              "29                       @LeoEvent  2025-06-09T18:27:19Z   \n",
              "30              @muktaniharika1302  2025-06-08T16:01:04Z   \n",
              "31                 @musicrocks1991  2025-06-08T07:14:31Z   \n",
              "32                @ravalibilla5096  2025-06-06T10:31:42Z   \n",
              "33                        @CPNagur  2025-06-06T05:09:15Z   \n",
              "34           @alienforcegaming6923  2025-06-05T11:23:54Z   \n",
              "35               @CRIC_FREAK140_07  2025-06-05T10:12:01Z   \n",
              "36            @Asiankowshikcinemas  2025-06-05T04:54:44Z   \n",
              "37                  @badrinath4928  2025-06-04T12:32:59Z   \n",
              "38                    @pspkfan4067  2025-06-03T16:59:43Z   \n",
              "39                  @dhanunjay1907  2025-06-02T18:23:16Z   \n",
              "40             @karreddullagowtham  2025-06-02T15:29:47Z   \n",
              "41           @PrasannaSimhadri-j8r  2025-06-02T04:07:45Z   \n",
              "42                 @sakettimmaraju  2025-06-01T17:04:49Z   \n",
              "43              @amgotha.ganesh363  2025-06-01T13:18:08Z   \n",
              "44               @SunnySunny-x5r6g  2025-06-01T03:26:16Z   \n",
              "45       @VishnuVardhanReddy-q1t3x  2025-05-31T10:27:37Z   \n",
              "46                   @mdmasood6957  2025-05-31T05:14:45Z   \n",
              "47                   @sgfuegoo-1xz  2025-05-30T17:37:21Z   \n",
              "48  @akkyamdevisreemunirathnam5481  2025-05-30T08:25:58Z   \n",
              "49                  @rapomania1235  2025-05-30T07:27:35Z   \n",
              "\n",
              "                                                                                                                                                                                                    Comment  \\\n",
              "0                                                                                                                                                                       Bro is grandparents favourite child   \n",
              "1                                                                                                                                                                           Varada vadini apa mani cheppu😂😂   \n",
              "2                      I observed clubbing in Pranay's fingers. Get yourself checked once you might have a serious heart disorder. Take care of yourself bro. Wishing you guys all the best👍🏻 @pranay verma   \n",
              "3                                                                                                                                                                    Ayana thinte mikem guddalo nopi beeeee   \n",
              "4                                                                                                                  Bro ni okkaroju fasting cheyipinchi Annadanam chepiste 10members ki full days meals set😢   \n",
              "5                                                                                                                                                            Niku assalu vandatame rani wife vastadi bro 😅😂   \n",
              "6                                                                                                                                                      Bro 21:29  doesn't need detox drink he needs domax😂❤   \n",
              "7                                                                                                                                                                                                      😂😂😂😂   \n",
              "8                                                                                                                                                                                  వాడిది కడుపా చెరువు అన్న   \n",
              "9                                                                                                                                                                                                   😂😂😂😂😂😂😂   \n",
              "10                                                                                                                                                                            Bro  evadi thindi vadidhi bro   \n",
              "11                                                                                                                                                        Women soulfull vachhindhi thana meedha video chey   \n",
              "12                                                                                                                                                    Areyyyy... Johny Sins kuda koncham Gap isthadu Ra....   \n",
              "13                                                                                                                                                     Waste fellow pranay why are you doing this video 📷📷📷   \n",
              "14                                                                                                                                                      Man of the match of the series of the tournament 😂😂   \n",
              "15                                                                                                                                                       Erripukulu antha oka Eyy chota Eyy cheraru elaa 😂❤   \n",
              "16                                                                                                                                      Anna vadu yakkada unnatado chappava dhaba vakkati patukuntta please   \n",
              "17                                                                                                                                                                      that annaaaaww transition is awsome   \n",
              "18                                                                                                                                                      Bro intha tinndaniki money ella saripothundi bro...   \n",
              "19                                                                                                                                                       Watching after Soulful Vlogs eating 40 Bajjis live   \n",
              "20                                                                                                                                                     Antha daily tinadhaniki money yekkadivi bro athaniki   \n",
              "21                                                                                                                                                                                              ❤❤❤❤😂😂😂😂😂😂😂   \n",
              "22                                                               U are having clubbing in ur fingers....could be due to smoking or lung or heart problem....plz get a physician consultation for evaluation   \n",
              "23                                                                                                                                                                       Anna navvi navvi sacchipoya anna😂😂   \n",
              "24                                                                                                                                                                                 Sighu ledha miku puku😢😢😢   \n",
              "25                                                                                                                                                      Anna vadiki yeakkadaninchi dobbulu vasta vundhi bro   \n",
              "26                                                                                                                                    Vastuadu dengii tintadu saripolesu antadu 😂 kadupa cheruva bayaaaaa 😅   \n",
              "27                                                                                                                                                                       అన్న ఈడు డబల్ ఎగ్ దోశ గాడు అన్న 😂😂   \n",
              "28                                                                                                              Depression edusthuna bhayya me video chusaka a bhadha antha poyindhi 😭🩷🫂...\\nTqsm brooo 😭🩷🫂   \n",
              "29                                                                                                       Chillar nayala\\n andhra kada g Balupu baga periginattundi pani pata leka ntra edi mek avasarama...   \n",
              "30                                                                                                                                                                 Anna monna live lo 40 samosalu tinnadu 😌   \n",
              "31                                                                                                                                      Bhayya meeru sappattu raman videos chusi vaati mida kooda cheyyandi   \n",
              "32                                                                           Navvi navvi sachipothe avaru responsibility bro..😂😂😂 \\nKumba karnudu aiena 6 months thini 6 months padukuntadu nuventiii brooo   \n",
              "33                                                                                                                    This video never gets old ..if I am getting stressed coming to watch this video brooo   \n",
              "34                                                                                                                                                         https://youtu.be/UQEKer2-vnc?si=0xTjf0oMG9_tyvJw   \n",
              "35  Fasting concept untey\\nJust morning  ki green leafy veggie salad,adhi saripokapothe vegetable salad\\nadhi saripokapothe vegetable juices 2 or 3 \\nThen for lunch 1 kg - 2 kgs fruits adhi saripokapo...   \n",
              "36                                                                                                                            Yudham kuda aaru thavata apestaru kadara nuvu inka tintane nuvu 😭😭😂😂🤣🤣🤣🤣🤣🤣🤣🤣🤣   \n",
              "37                                                                                                                                                                                18:47 bro aapand bro😂😂😂😂🤣   \n",
              "38                                                                                                                                                                                       Saripoda pratiroju   \n",
              "39                                                                                                                                 Rendu nelala tarvatha choosina... Malla aalne kadupulo tipputhundi bro 🙂   \n",
              "40                                                                                                                Meku anduku brother taneke meru hamana money hetanara tana money tanu istam meku haduguku   \n",
              "41                                                                                                                                                        Anna the paradise glimpse reaction cheyyandi plzz   \n",
              "42                                                                                                                                                                                      Mayfel is a emotion   \n",
              "43                                                                                                                                                        Anna nenu nela motham thinedi okaroju thinndu bro   \n",
              "44                                                                                                                                                                                      Action⚔️ overaction   \n",
              "45                                                                                                                                                                 Some places it looked like fake laughter   \n",
              "46                                                                                                                              Same bro laga inka vikashu same video but that man drink vi video chestadhu   \n",
              "47                                                                                                                                               Meeku anduku ra kathal vadu money vadu istam pilla puvvala   \n",
              "48                                                                Bro thinadam choosi meeke respect perigindhi video first lo arey , vaadu ani pilichina mee nota \" anna \" ani pilipinchukunndu 😂 respect 🫡   \n",
              "49                                                                                                                           Alaa thintaadu bro .......digestive system kuda vadiki sanmanam chesthadhi bro   \n",
              "\n",
              "    Likes Predicted Sentiment  \n",
              "0       0            Negative  \n",
              "1       0             Neutral  \n",
              "2       0             Neutral  \n",
              "3       0             Neutral  \n",
              "4       0            Negative  \n",
              "5       1             Neutral  \n",
              "6       0            Negative  \n",
              "7       0             Neutral  \n",
              "8       0            Negative  \n",
              "9       0             Neutral  \n",
              "10      0            Negative  \n",
              "11      0             Neutral  \n",
              "12      0            Negative  \n",
              "13      0            Negative  \n",
              "14      0             Neutral  \n",
              "15      0             Neutral  \n",
              "16      0             Neutral  \n",
              "17      0             Neutral  \n",
              "18      0            Negative  \n",
              "19      2            Negative  \n",
              "20      0             Neutral  \n",
              "21      0             Neutral  \n",
              "22      0            Negative  \n",
              "23      0             Neutral  \n",
              "24      0            Negative  \n",
              "25      0             Neutral  \n",
              "26      0             Neutral  \n",
              "27      0            Negative  \n",
              "28      0            Negative  \n",
              "29      0            Negative  \n",
              "30      0             Neutral  \n",
              "31      0             Neutral  \n",
              "32      0             Neutral  \n",
              "33      0             Neutral  \n",
              "34      0             Neutral  \n",
              "35      0            Negative  \n",
              "36      0            Negative  \n",
              "37      0             Neutral  \n",
              "38      0             Neutral  \n",
              "39      0             Neutral  \n",
              "40      0            Negative  \n",
              "41      0             Neutral  \n",
              "42      0             Neutral  \n",
              "43      0             Neutral  \n",
              "44      0             Neutral  \n",
              "45      0            Negative  \n",
              "46      0            Negative  \n",
              "47      0            Negative  \n",
              "48      0            Negative  \n",
              "49      0             Neutral  "
            ],
            "text/html": [
              "\n",
              "  <div id=\"df-2aa52f04-00d7-4dbc-87be-4a47f11a037d\" class=\"colab-df-container\">\n",
              "    <div>\n",
              "<style scoped>\n",
              "    .dataframe tbody tr th:only-of-type {\n",
              "        vertical-align: middle;\n",
              "    }\n",
              "\n",
              "    .dataframe tbody tr th {\n",
              "        vertical-align: top;\n",
              "    }\n",
              "\n",
              "    .dataframe thead th {\n",
              "        text-align: right;\n",
              "    }\n",
              "</style>\n",
              "<table border=\"1\" class=\"dataframe\">\n",
              "  <thead>\n",
              "    <tr style=\"text-align: right;\">\n",
              "      <th></th>\n",
              "      <th>Author</th>\n",
              "      <th>Published At</th>\n",
              "      <th>Comment</th>\n",
              "      <th>Likes</th>\n",
              "      <th>Predicted Sentiment</th>\n",
              "    </tr>\n",
              "  </thead>\n",
              "  <tbody>\n",
              "    <tr>\n",
              "      <th>0</th>\n",
              "      <td>@LOKIZ-n3c</td>\n",
              "      <td>2025-06-28T16:20:06Z</td>\n",
              "      <td>Bro is grandparents favourite child</td>\n",
              "      <td>0</td>\n",
              "      <td>Negative</td>\n",
              "    </tr>\n",
              "    <tr>\n",
              "      <th>1</th>\n",
              "      <td>@ravisadasivuni6865</td>\n",
              "      <td>2025-06-28T09:23:27Z</td>\n",
              "      <td>Varada vadini apa mani cheppu😂😂</td>\n",
              "      <td>0</td>\n",
              "      <td>Neutral</td>\n",
              "    </tr>\n",
              "    <tr>\n",
              "      <th>2</th>\n",
              "      <td>@zero99rj</td>\n",
              "      <td>2025-06-27T21:05:05Z</td>\n",
              "      <td>I observed clubbing in Pranay's fingers. Get yourself checked once you might have a serious heart disorder. Take care of yourself bro. Wishing you guys all the best👍🏻 @pranay verma</td>\n",
              "      <td>0</td>\n",
              "      <td>Neutral</td>\n",
              "    </tr>\n",
              "    <tr>\n",
              "      <th>3</th>\n",
              "      <td>@SunilKohir-o4g</td>\n",
              "      <td>2025-06-25T15:17:08Z</td>\n",
              "      <td>Ayana thinte mikem guddalo nopi beeeee</td>\n",
              "      <td>0</td>\n",
              "      <td>Neutral</td>\n",
              "    </tr>\n",
              "    <tr>\n",
              "      <th>4</th>\n",
              "      <td>@addepallihemanth592</td>\n",
              "      <td>2025-06-23T16:17:13Z</td>\n",
              "      <td>Bro ni okkaroju fasting cheyipinchi Annadanam chepiste 10members ki full days meals set😢</td>\n",
              "      <td>0</td>\n",
              "      <td>Negative</td>\n",
              "    </tr>\n",
              "    <tr>\n",
              "      <th>5</th>\n",
              "      <td>@monica_glory</td>\n",
              "      <td>2025-06-23T13:51:41Z</td>\n",
              "      <td>Niku assalu vandatame rani wife vastadi bro 😅😂</td>\n",
              "      <td>1</td>\n",
              "      <td>Neutral</td>\n",
              "    </tr>\n",
              "    <tr>\n",
              "      <th>6</th>\n",
              "      <td>@Arprio2022</td>\n",
              "      <td>2025-06-21T17:15:38Z</td>\n",
              "      <td>Bro 21:29  doesn't need detox drink he needs domax😂❤</td>\n",
              "      <td>0</td>\n",
              "      <td>Negative</td>\n",
              "    </tr>\n",
              "    <tr>\n",
              "      <th>7</th>\n",
              "      <td>@MDEEVANKumar99</td>\n",
              "      <td>2025-06-21T14:39:26Z</td>\n",
              "      <td>😂😂😂😂</td>\n",
              "      <td>0</td>\n",
              "      <td>Neutral</td>\n",
              "    </tr>\n",
              "    <tr>\n",
              "      <th>8</th>\n",
              "      <td>@deviganeshpunna5250</td>\n",
              "      <td>2025-06-21T04:37:18Z</td>\n",
              "      <td>వాడిది కడుపా చెరువు అన్న</td>\n",
              "      <td>0</td>\n",
              "      <td>Negative</td>\n",
              "    </tr>\n",
              "    <tr>\n",
              "      <th>9</th>\n",
              "      <td>@SanthoshBirlangi</td>\n",
              "      <td>2025-06-20T18:38:08Z</td>\n",
              "      <td>😂😂😂😂😂😂😂</td>\n",
              "      <td>0</td>\n",
              "      <td>Neutral</td>\n",
              "    </tr>\n",
              "    <tr>\n",
              "      <th>10</th>\n",
              "      <td>@chidambareswar</td>\n",
              "      <td>2025-06-20T15:56:22Z</td>\n",
              "      <td>Bro  evadi thindi vadidhi bro</td>\n",
              "      <td>0</td>\n",
              "      <td>Negative</td>\n",
              "    </tr>\n",
              "    <tr>\n",
              "      <th>11</th>\n",
              "      <td>@mr__ashish__8776</td>\n",
              "      <td>2025-06-20T11:19:44Z</td>\n",
              "      <td>Women soulfull vachhindhi thana meedha video chey</td>\n",
              "      <td>0</td>\n",
              "      <td>Neutral</td>\n",
              "    </tr>\n",
              "    <tr>\n",
              "      <th>12</th>\n",
              "      <td>@SandeepPrince-h6g</td>\n",
              "      <td>2025-06-19T06:37:33Z</td>\n",
              "      <td>Areyyyy... Johny Sins kuda koncham Gap isthadu Ra....</td>\n",
              "      <td>0</td>\n",
              "      <td>Negative</td>\n",
              "    </tr>\n",
              "    <tr>\n",
              "      <th>13</th>\n",
              "      <td>@JayalaxmiPulipati</td>\n",
              "      <td>2025-06-18T16:09:42Z</td>\n",
              "      <td>Waste fellow pranay why are you doing this video 📷📷📷</td>\n",
              "      <td>0</td>\n",
              "      <td>Negative</td>\n",
              "    </tr>\n",
              "    <tr>\n",
              "      <th>14</th>\n",
              "      <td>@mandasaikumar2062</td>\n",
              "      <td>2025-06-18T09:03:17Z</td>\n",
              "      <td>Man of the match of the series of the tournament 😂😂</td>\n",
              "      <td>0</td>\n",
              "      <td>Neutral</td>\n",
              "    </tr>\n",
              "    <tr>\n",
              "      <th>15</th>\n",
              "      <td>@sai00x</td>\n",
              "      <td>2025-06-18T04:03:47Z</td>\n",
              "      <td>Erripukulu antha oka Eyy chota Eyy cheraru elaa 😂❤</td>\n",
              "      <td>0</td>\n",
              "      <td>Neutral</td>\n",
              "    </tr>\n",
              "    <tr>\n",
              "      <th>16</th>\n",
              "      <td>@TiruvayapatiSuresh</td>\n",
              "      <td>2025-06-17T17:14:17Z</td>\n",
              "      <td>Anna vadu yakkada unnatado chappava dhaba vakkati patukuntta please</td>\n",
              "      <td>0</td>\n",
              "      <td>Neutral</td>\n",
              "    </tr>\n",
              "    <tr>\n",
              "      <th>17</th>\n",
              "      <td>@adityakoppera</td>\n",
              "      <td>2025-06-17T13:21:54Z</td>\n",
              "      <td>that annaaaaww transition is awsome</td>\n",
              "      <td>0</td>\n",
              "      <td>Neutral</td>\n",
              "    </tr>\n",
              "    <tr>\n",
              "      <th>18</th>\n",
              "      <td>@gireeshmachilakala-b6e</td>\n",
              "      <td>2025-06-17T08:00:45Z</td>\n",
              "      <td>Bro intha tinndaniki money ella saripothundi bro...</td>\n",
              "      <td>0</td>\n",
              "      <td>Negative</td>\n",
              "    </tr>\n",
              "    <tr>\n",
              "      <th>19</th>\n",
              "      <td>@Sairam004</td>\n",
              "      <td>2025-06-17T06:07:07Z</td>\n",
              "      <td>Watching after Soulful Vlogs eating 40 Bajjis live</td>\n",
              "      <td>2</td>\n",
              "      <td>Negative</td>\n",
              "    </tr>\n",
              "    <tr>\n",
              "      <th>20</th>\n",
              "      <td>@akhilkumar.k5650</td>\n",
              "      <td>2025-06-17T05:53:29Z</td>\n",
              "      <td>Antha daily tinadhaniki money yekkadivi bro athaniki</td>\n",
              "      <td>0</td>\n",
              "      <td>Neutral</td>\n",
              "    </tr>\n",
              "    <tr>\n",
              "      <th>21</th>\n",
              "      <td>@rajaravindraberi980</td>\n",
              "      <td>2025-06-16T21:08:49Z</td>\n",
              "      <td>❤❤❤❤😂😂😂😂😂😂😂</td>\n",
              "      <td>0</td>\n",
              "      <td>Neutral</td>\n",
              "    </tr>\n",
              "    <tr>\n",
              "      <th>22</th>\n",
              "      <td>@arisemeghana2289</td>\n",
              "      <td>2025-06-15T18:12:17Z</td>\n",
              "      <td>U are having clubbing in ur fingers....could be due to smoking or lung or heart problem....plz get a physician consultation for evaluation</td>\n",
              "      <td>0</td>\n",
              "      <td>Negative</td>\n",
              "    </tr>\n",
              "    <tr>\n",
              "      <th>23</th>\n",
              "      <td>@tejateja4605</td>\n",
              "      <td>2025-06-14T18:41:20Z</td>\n",
              "      <td>Anna navvi navvi sacchipoya anna😂😂</td>\n",
              "      <td>0</td>\n",
              "      <td>Neutral</td>\n",
              "    </tr>\n",
              "    <tr>\n",
              "      <th>24</th>\n",
              "      <td>@GouthuMani</td>\n",
              "      <td>2025-06-12T08:08:31Z</td>\n",
              "      <td>Sighu ledha miku puku😢😢😢</td>\n",
              "      <td>0</td>\n",
              "      <td>Negative</td>\n",
              "    </tr>\n",
              "    <tr>\n",
              "      <th>25</th>\n",
              "      <td>@ravinandan6648</td>\n",
              "      <td>2025-06-12T05:47:47Z</td>\n",
              "      <td>Anna vadiki yeakkadaninchi dobbulu vasta vundhi bro</td>\n",
              "      <td>0</td>\n",
              "      <td>Neutral</td>\n",
              "    </tr>\n",
              "    <tr>\n",
              "      <th>26</th>\n",
              "      <td>@kiranraj8143</td>\n",
              "      <td>2025-06-11T20:09:38Z</td>\n",
              "      <td>Vastuadu dengii tintadu saripolesu antadu 😂 kadupa cheruva bayaaaaa 😅</td>\n",
              "      <td>0</td>\n",
              "      <td>Neutral</td>\n",
              "    </tr>\n",
              "    <tr>\n",
              "      <th>27</th>\n",
              "      <td>@yugandharreddy5494</td>\n",
              "      <td>2025-06-11T10:50:42Z</td>\n",
              "      <td>అన్న ఈడు డబల్ ఎగ్ దోశ గాడు అన్న 😂😂</td>\n",
              "      <td>0</td>\n",
              "      <td>Negative</td>\n",
              "    </tr>\n",
              "    <tr>\n",
              "      <th>28</th>\n",
              "      <td>@ramayya_janasena</td>\n",
              "      <td>2025-06-10T22:48:40Z</td>\n",
              "      <td>Depression edusthuna bhayya me video chusaka a bhadha antha poyindhi 😭🩷🫂...\\nTqsm brooo 😭🩷🫂</td>\n",
              "      <td>0</td>\n",
              "      <td>Negative</td>\n",
              "    </tr>\n",
              "    <tr>\n",
              "      <th>29</th>\n",
              "      <td>@LeoEvent</td>\n",
              "      <td>2025-06-09T18:27:19Z</td>\n",
              "      <td>Chillar nayala\\n andhra kada g Balupu baga periginattundi pani pata leka ntra edi mek avasarama...</td>\n",
              "      <td>0</td>\n",
              "      <td>Negative</td>\n",
              "    </tr>\n",
              "    <tr>\n",
              "      <th>30</th>\n",
              "      <td>@muktaniharika1302</td>\n",
              "      <td>2025-06-08T16:01:04Z</td>\n",
              "      <td>Anna monna live lo 40 samosalu tinnadu 😌</td>\n",
              "      <td>0</td>\n",
              "      <td>Neutral</td>\n",
              "    </tr>\n",
              "    <tr>\n",
              "      <th>31</th>\n",
              "      <td>@musicrocks1991</td>\n",
              "      <td>2025-06-08T07:14:31Z</td>\n",
              "      <td>Bhayya meeru sappattu raman videos chusi vaati mida kooda cheyyandi</td>\n",
              "      <td>0</td>\n",
              "      <td>Neutral</td>\n",
              "    </tr>\n",
              "    <tr>\n",
              "      <th>32</th>\n",
              "      <td>@ravalibilla5096</td>\n",
              "      <td>2025-06-06T10:31:42Z</td>\n",
              "      <td>Navvi navvi sachipothe avaru responsibility bro..😂😂😂 \\nKumba karnudu aiena 6 months thini 6 months padukuntadu nuventiii brooo</td>\n",
              "      <td>0</td>\n",
              "      <td>Neutral</td>\n",
              "    </tr>\n",
              "    <tr>\n",
              "      <th>33</th>\n",
              "      <td>@CPNagur</td>\n",
              "      <td>2025-06-06T05:09:15Z</td>\n",
              "      <td>This video never gets old ..if I am getting stressed coming to watch this video brooo</td>\n",
              "      <td>0</td>\n",
              "      <td>Neutral</td>\n",
              "    </tr>\n",
              "    <tr>\n",
              "      <th>34</th>\n",
              "      <td>@alienforcegaming6923</td>\n",
              "      <td>2025-06-05T11:23:54Z</td>\n",
              "      <td>https://youtu.be/UQEKer2-vnc?si=0xTjf0oMG9_tyvJw</td>\n",
              "      <td>0</td>\n",
              "      <td>Neutral</td>\n",
              "    </tr>\n",
              "    <tr>\n",
              "      <th>35</th>\n",
              "      <td>@CRIC_FREAK140_07</td>\n",
              "      <td>2025-06-05T10:12:01Z</td>\n",
              "      <td>Fasting concept untey\\nJust morning  ki green leafy veggie salad,adhi saripokapothe vegetable salad\\nadhi saripokapothe vegetable juices 2 or 3 \\nThen for lunch 1 kg - 2 kgs fruits adhi saripokapo...</td>\n",
              "      <td>0</td>\n",
              "      <td>Negative</td>\n",
              "    </tr>\n",
              "    <tr>\n",
              "      <th>36</th>\n",
              "      <td>@Asiankowshikcinemas</td>\n",
              "      <td>2025-06-05T04:54:44Z</td>\n",
              "      <td>Yudham kuda aaru thavata apestaru kadara nuvu inka tintane nuvu 😭😭😂😂🤣🤣🤣🤣🤣🤣🤣🤣🤣</td>\n",
              "      <td>0</td>\n",
              "      <td>Negative</td>\n",
              "    </tr>\n",
              "    <tr>\n",
              "      <th>37</th>\n",
              "      <td>@badrinath4928</td>\n",
              "      <td>2025-06-04T12:32:59Z</td>\n",
              "      <td>18:47 bro aapand bro😂😂😂😂🤣</td>\n",
              "      <td>0</td>\n",
              "      <td>Neutral</td>\n",
              "    </tr>\n",
              "    <tr>\n",
              "      <th>38</th>\n",
              "      <td>@pspkfan4067</td>\n",
              "      <td>2025-06-03T16:59:43Z</td>\n",
              "      <td>Saripoda pratiroju</td>\n",
              "      <td>0</td>\n",
              "      <td>Neutral</td>\n",
              "    </tr>\n",
              "    <tr>\n",
              "      <th>39</th>\n",
              "      <td>@dhanunjay1907</td>\n",
              "      <td>2025-06-02T18:23:16Z</td>\n",
              "      <td>Rendu nelala tarvatha choosina... Malla aalne kadupulo tipputhundi bro 🙂</td>\n",
              "      <td>0</td>\n",
              "      <td>Neutral</td>\n",
              "    </tr>\n",
              "    <tr>\n",
              "      <th>40</th>\n",
              "      <td>@karreddullagowtham</td>\n",
              "      <td>2025-06-02T15:29:47Z</td>\n",
              "      <td>Meku anduku brother taneke meru hamana money hetanara tana money tanu istam meku haduguku</td>\n",
              "      <td>0</td>\n",
              "      <td>Negative</td>\n",
              "    </tr>\n",
              "    <tr>\n",
              "      <th>41</th>\n",
              "      <td>@PrasannaSimhadri-j8r</td>\n",
              "      <td>2025-06-02T04:07:45Z</td>\n",
              "      <td>Anna the paradise glimpse reaction cheyyandi plzz</td>\n",
              "      <td>0</td>\n",
              "      <td>Neutral</td>\n",
              "    </tr>\n",
              "    <tr>\n",
              "      <th>42</th>\n",
              "      <td>@sakettimmaraju</td>\n",
              "      <td>2025-06-01T17:04:49Z</td>\n",
              "      <td>Mayfel is a emotion</td>\n",
              "      <td>0</td>\n",
              "      <td>Neutral</td>\n",
              "    </tr>\n",
              "    <tr>\n",
              "      <th>43</th>\n",
              "      <td>@amgotha.ganesh363</td>\n",
              "      <td>2025-06-01T13:18:08Z</td>\n",
              "      <td>Anna nenu nela motham thinedi okaroju thinndu bro</td>\n",
              "      <td>0</td>\n",
              "      <td>Neutral</td>\n",
              "    </tr>\n",
              "    <tr>\n",
              "      <th>44</th>\n",
              "      <td>@SunnySunny-x5r6g</td>\n",
              "      <td>2025-06-01T03:26:16Z</td>\n",
              "      <td>Action⚔️ overaction</td>\n",
              "      <td>0</td>\n",
              "      <td>Neutral</td>\n",
              "    </tr>\n",
              "    <tr>\n",
              "      <th>45</th>\n",
              "      <td>@VishnuVardhanReddy-q1t3x</td>\n",
              "      <td>2025-05-31T10:27:37Z</td>\n",
              "      <td>Some places it looked like fake laughter</td>\n",
              "      <td>0</td>\n",
              "      <td>Negative</td>\n",
              "    </tr>\n",
              "    <tr>\n",
              "      <th>46</th>\n",
              "      <td>@mdmasood6957</td>\n",
              "      <td>2025-05-31T05:14:45Z</td>\n",
              "      <td>Same bro laga inka vikashu same video but that man drink vi video chestadhu</td>\n",
              "      <td>0</td>\n",
              "      <td>Negative</td>\n",
              "    </tr>\n",
              "    <tr>\n",
              "      <th>47</th>\n",
              "      <td>@sgfuegoo-1xz</td>\n",
              "      <td>2025-05-30T17:37:21Z</td>\n",
              "      <td>Meeku anduku ra kathal vadu money vadu istam pilla puvvala</td>\n",
              "      <td>0</td>\n",
              "      <td>Negative</td>\n",
              "    </tr>\n",
              "    <tr>\n",
              "      <th>48</th>\n",
              "      <td>@akkyamdevisreemunirathnam5481</td>\n",
              "      <td>2025-05-30T08:25:58Z</td>\n",
              "      <td>Bro thinadam choosi meeke respect perigindhi video first lo arey , vaadu ani pilichina mee nota \" anna \" ani pilipinchukunndu 😂 respect 🫡</td>\n",
              "      <td>0</td>\n",
              "      <td>Negative</td>\n",
              "    </tr>\n",
              "    <tr>\n",
              "      <th>49</th>\n",
              "      <td>@rapomania1235</td>\n",
              "      <td>2025-05-30T07:27:35Z</td>\n",
              "      <td>Alaa thintaadu bro .......digestive system kuda vadiki sanmanam chesthadhi bro</td>\n",
              "      <td>0</td>\n",
              "      <td>Neutral</td>\n",
              "    </tr>\n",
              "  </tbody>\n",
              "</table>\n",
              "</div>\n",
              "    <div class=\"colab-df-buttons\">\n",
              "\n",
              "  <div class=\"colab-df-container\">\n",
              "    <button class=\"colab-df-convert\" onclick=\"convertToInteractive('df-2aa52f04-00d7-4dbc-87be-4a47f11a037d')\"\n",
              "            title=\"Convert this dataframe to an interactive table.\"\n",
              "            style=\"display:none;\">\n",
              "\n",
              "  <svg xmlns=\"http://www.w3.org/2000/svg\" height=\"24px\" viewBox=\"0 -960 960 960\">\n",
              "    <path d=\"M120-120v-720h720v720H120Zm60-500h600v-160H180v160Zm220 220h160v-160H400v160Zm0 220h160v-160H400v160ZM180-400h160v-160H180v160Zm440 0h160v-160H620v160ZM180-180h160v-160H180v160Zm440 0h160v-160H620v160Z\"/>\n",
              "  </svg>\n",
              "    </button>\n",
              "\n",
              "  <style>\n",
              "    .colab-df-container {\n",
              "      display:flex;\n",
              "      gap: 12px;\n",
              "    }\n",
              "\n",
              "    .colab-df-convert {\n",
              "      background-color: #E8F0FE;\n",
              "      border: none;\n",
              "      border-radius: 50%;\n",
              "      cursor: pointer;\n",
              "      display: none;\n",
              "      fill: #1967D2;\n",
              "      height: 32px;\n",
              "      padding: 0 0 0 0;\n",
              "      width: 32px;\n",
              "    }\n",
              "\n",
              "    .colab-df-convert:hover {\n",
              "      background-color: #E2EBFA;\n",
              "      box-shadow: 0px 1px 2px rgba(60, 64, 67, 0.3), 0px 1px 3px 1px rgba(60, 64, 67, 0.15);\n",
              "      fill: #174EA6;\n",
              "    }\n",
              "\n",
              "    .colab-df-buttons div {\n",
              "      margin-bottom: 4px;\n",
              "    }\n",
              "\n",
              "    [theme=dark] .colab-df-convert {\n",
              "      background-color: #3B4455;\n",
              "      fill: #D2E3FC;\n",
              "    }\n",
              "\n",
              "    [theme=dark] .colab-df-convert:hover {\n",
              "      background-color: #434B5C;\n",
              "      box-shadow: 0px 1px 3px 1px rgba(0, 0, 0, 0.15);\n",
              "      filter: drop-shadow(0px 1px 2px rgba(0, 0, 0, 0.3));\n",
              "      fill: #FFFFFF;\n",
              "    }\n",
              "  </style>\n",
              "\n",
              "    <script>\n",
              "      const buttonEl =\n",
              "        document.querySelector('#df-2aa52f04-00d7-4dbc-87be-4a47f11a037d button.colab-df-convert');\n",
              "      buttonEl.style.display =\n",
              "        google.colab.kernel.accessAllowed ? 'block' : 'none';\n",
              "\n",
              "      async function convertToInteractive(key) {\n",
              "        const element = document.querySelector('#df-2aa52f04-00d7-4dbc-87be-4a47f11a037d');\n",
              "        const dataTable =\n",
              "          await google.colab.kernel.invokeFunction('convertToInteractive',\n",
              "                                                    [key], {});\n",
              "        if (!dataTable) return;\n",
              "\n",
              "        const docLinkHtml = 'Like what you see? Visit the ' +\n",
              "          '<a target=\"_blank\" href=https://colab.research.google.com/notebooks/data_table.ipynb>data table notebook</a>'\n",
              "          + ' to learn more about interactive tables.';\n",
              "        element.innerHTML = '';\n",
              "        dataTable['output_type'] = 'display_data';\n",
              "        await google.colab.output.renderOutput(dataTable, element);\n",
              "        const docLink = document.createElement('div');\n",
              "        docLink.innerHTML = docLinkHtml;\n",
              "        element.appendChild(docLink);\n",
              "      }\n",
              "    </script>\n",
              "  </div>\n",
              "\n",
              "\n",
              "    <div id=\"df-2a42c0dd-8d7e-47c2-baa0-76946d397ac6\">\n",
              "      <button class=\"colab-df-quickchart\" onclick=\"quickchart('df-2a42c0dd-8d7e-47c2-baa0-76946d397ac6')\"\n",
              "                title=\"Suggest charts\"\n",
              "                style=\"display:none;\">\n",
              "\n",
              "<svg xmlns=\"http://www.w3.org/2000/svg\" height=\"24px\"viewBox=\"0 0 24 24\"\n",
              "     width=\"24px\">\n",
              "    <g>\n",
              "        <path d=\"M19 3H5c-1.1 0-2 .9-2 2v14c0 1.1.9 2 2 2h14c1.1 0 2-.9 2-2V5c0-1.1-.9-2-2-2zM9 17H7v-7h2v7zm4 0h-2V7h2v10zm4 0h-2v-4h2v4z\"/>\n",
              "    </g>\n",
              "</svg>\n",
              "      </button>\n",
              "\n",
              "<style>\n",
              "  .colab-df-quickchart {\n",
              "      --bg-color: #E8F0FE;\n",
              "      --fill-color: #1967D2;\n",
              "      --hover-bg-color: #E2EBFA;\n",
              "      --hover-fill-color: #174EA6;\n",
              "      --disabled-fill-color: #AAA;\n",
              "      --disabled-bg-color: #DDD;\n",
              "  }\n",
              "\n",
              "  [theme=dark] .colab-df-quickchart {\n",
              "      --bg-color: #3B4455;\n",
              "      --fill-color: #D2E3FC;\n",
              "      --hover-bg-color: #434B5C;\n",
              "      --hover-fill-color: #FFFFFF;\n",
              "      --disabled-bg-color: #3B4455;\n",
              "      --disabled-fill-color: #666;\n",
              "  }\n",
              "\n",
              "  .colab-df-quickchart {\n",
              "    background-color: var(--bg-color);\n",
              "    border: none;\n",
              "    border-radius: 50%;\n",
              "    cursor: pointer;\n",
              "    display: none;\n",
              "    fill: var(--fill-color);\n",
              "    height: 32px;\n",
              "    padding: 0;\n",
              "    width: 32px;\n",
              "  }\n",
              "\n",
              "  .colab-df-quickchart:hover {\n",
              "    background-color: var(--hover-bg-color);\n",
              "    box-shadow: 0 1px 2px rgba(60, 64, 67, 0.3), 0 1px 3px 1px rgba(60, 64, 67, 0.15);\n",
              "    fill: var(--button-hover-fill-color);\n",
              "  }\n",
              "\n",
              "  .colab-df-quickchart-complete:disabled,\n",
              "  .colab-df-quickchart-complete:disabled:hover {\n",
              "    background-color: var(--disabled-bg-color);\n",
              "    fill: var(--disabled-fill-color);\n",
              "    box-shadow: none;\n",
              "  }\n",
              "\n",
              "  .colab-df-spinner {\n",
              "    border: 2px solid var(--fill-color);\n",
              "    border-color: transparent;\n",
              "    border-bottom-color: var(--fill-color);\n",
              "    animation:\n",
              "      spin 1s steps(1) infinite;\n",
              "  }\n",
              "\n",
              "  @keyframes spin {\n",
              "    0% {\n",
              "      border-color: transparent;\n",
              "      border-bottom-color: var(--fill-color);\n",
              "      border-left-color: var(--fill-color);\n",
              "    }\n",
              "    20% {\n",
              "      border-color: transparent;\n",
              "      border-left-color: var(--fill-color);\n",
              "      border-top-color: var(--fill-color);\n",
              "    }\n",
              "    30% {\n",
              "      border-color: transparent;\n",
              "      border-left-color: var(--fill-color);\n",
              "      border-top-color: var(--fill-color);\n",
              "      border-right-color: var(--fill-color);\n",
              "    }\n",
              "    40% {\n",
              "      border-color: transparent;\n",
              "      border-right-color: var(--fill-color);\n",
              "      border-top-color: var(--fill-color);\n",
              "    }\n",
              "    60% {\n",
              "      border-color: transparent;\n",
              "      border-right-color: var(--fill-color);\n",
              "    }\n",
              "    80% {\n",
              "      border-color: transparent;\n",
              "      border-right-color: var(--fill-color);\n",
              "      border-bottom-color: var(--fill-color);\n",
              "    }\n",
              "    90% {\n",
              "      border-color: transparent;\n",
              "      border-bottom-color: var(--fill-color);\n",
              "    }\n",
              "  }\n",
              "</style>\n",
              "\n",
              "      <script>\n",
              "        async function quickchart(key) {\n",
              "          const quickchartButtonEl =\n",
              "            document.querySelector('#' + key + ' button');\n",
              "          quickchartButtonEl.disabled = true;  // To prevent multiple clicks.\n",
              "          quickchartButtonEl.classList.add('colab-df-spinner');\n",
              "          try {\n",
              "            const charts = await google.colab.kernel.invokeFunction(\n",
              "                'suggestCharts', [key], {});\n",
              "          } catch (error) {\n",
              "            console.error('Error during call to suggestCharts:', error);\n",
              "          }\n",
              "          quickchartButtonEl.classList.remove('colab-df-spinner');\n",
              "          quickchartButtonEl.classList.add('colab-df-quickchart-complete');\n",
              "        }\n",
              "        (() => {\n",
              "          let quickchartButtonEl =\n",
              "            document.querySelector('#df-2a42c0dd-8d7e-47c2-baa0-76946d397ac6 button');\n",
              "          quickchartButtonEl.style.display =\n",
              "            google.colab.kernel.accessAllowed ? 'block' : 'none';\n",
              "        })();\n",
              "      </script>\n",
              "    </div>\n",
              "\n",
              "  <div id=\"id_9295ff28-4bfd-4504-8b42-2988717035e5\">\n",
              "    <style>\n",
              "      .colab-df-generate {\n",
              "        background-color: #E8F0FE;\n",
              "        border: none;\n",
              "        border-radius: 50%;\n",
              "        cursor: pointer;\n",
              "        display: none;\n",
              "        fill: #1967D2;\n",
              "        height: 32px;\n",
              "        padding: 0 0 0 0;\n",
              "        width: 32px;\n",
              "      }\n",
              "\n",
              "      .colab-df-generate:hover {\n",
              "        background-color: #E2EBFA;\n",
              "        box-shadow: 0px 1px 2px rgba(60, 64, 67, 0.3), 0px 1px 3px 1px rgba(60, 64, 67, 0.15);\n",
              "        fill: #174EA6;\n",
              "      }\n",
              "\n",
              "      [theme=dark] .colab-df-generate {\n",
              "        background-color: #3B4455;\n",
              "        fill: #D2E3FC;\n",
              "      }\n",
              "\n",
              "      [theme=dark] .colab-df-generate:hover {\n",
              "        background-color: #434B5C;\n",
              "        box-shadow: 0px 1px 3px 1px rgba(0, 0, 0, 0.15);\n",
              "        filter: drop-shadow(0px 1px 2px rgba(0, 0, 0, 0.3));\n",
              "        fill: #FFFFFF;\n",
              "      }\n",
              "    </style>\n",
              "    <button class=\"colab-df-generate\" onclick=\"generateWithVariable('df_comments')\"\n",
              "            title=\"Generate code using this dataframe.\"\n",
              "            style=\"display:none;\">\n",
              "\n",
              "  <svg xmlns=\"http://www.w3.org/2000/svg\" height=\"24px\"viewBox=\"0 0 24 24\"\n",
              "       width=\"24px\">\n",
              "    <path d=\"M7,19H8.4L18.45,9,17,7.55,7,17.6ZM5,21V16.75L18.45,3.32a2,2,0,0,1,2.83,0l1.4,1.43a1.91,1.91,0,0,1,.58,1.4,1.91,1.91,0,0,1-.58,1.4L9.25,21ZM18.45,9,17,7.55Zm-12,3A5.31,5.31,0,0,0,4.9,8.1,5.31,5.31,0,0,0,1,6.5,5.31,5.31,0,0,0,4.9,4.9,5.31,5.31,0,0,0,6.5,1,5.31,5.31,0,0,0,8.1,4.9,5.31,5.31,0,0,0,12,6.5,5.46,5.46,0,0,0,6.5,12Z\"/>\n",
              "  </svg>\n",
              "    </button>\n",
              "    <script>\n",
              "      (() => {\n",
              "      const buttonEl =\n",
              "        document.querySelector('#id_9295ff28-4bfd-4504-8b42-2988717035e5 button.colab-df-generate');\n",
              "      buttonEl.style.display =\n",
              "        google.colab.kernel.accessAllowed ? 'block' : 'none';\n",
              "\n",
              "      buttonEl.onclick = () => {\n",
              "        google.colab.notebook.generateWithVariable('df_comments');\n",
              "      }\n",
              "      })();\n",
              "    </script>\n",
              "  </div>\n",
              "\n",
              "    </div>\n",
              "  </div>\n"
            ],
            "application/vnd.google.colaboratory.intrinsic+json": {
              "type": "dataframe",
              "variable_name": "df_comments",
              "summary": "{\n  \"name\": \"df_comments\",\n  \"rows\": 50,\n  \"fields\": [\n    {\n      \"column\": \"Author\",\n      \"properties\": {\n        \"dtype\": \"string\",\n        \"num_unique_values\": 50,\n        \"samples\": [\n          \"@JayalaxmiPulipati\",\n          \"@dhanunjay1907\",\n          \"@muktaniharika1302\"\n        ],\n        \"semantic_type\": \"\",\n        \"description\": \"\"\n      }\n    },\n    {\n      \"column\": \"Published At\",\n      \"properties\": {\n        \"dtype\": \"object\",\n        \"num_unique_values\": 50,\n        \"samples\": [\n          \"2025-06-18T16:09:42Z\",\n          \"2025-06-02T18:23:16Z\",\n          \"2025-06-08T16:01:04Z\"\n        ],\n        \"semantic_type\": \"\",\n        \"description\": \"\"\n      }\n    },\n    {\n      \"column\": \"Comment\",\n      \"properties\": {\n        \"dtype\": \"string\",\n        \"num_unique_values\": 50,\n        \"samples\": [\n          \"Waste fellow pranay why are you doing this video \\ud83d\\udcf7\\ud83d\\udcf7\\ud83d\\udcf7\",\n          \"Rendu nelala tarvatha choosina... Malla aalne kadupulo tipputhundi bro \\ud83d\\ude42\",\n          \"Anna monna live lo 40 samosalu tinnadu \\ud83d\\ude0c\"\n        ],\n        \"semantic_type\": \"\",\n        \"description\": \"\"\n      }\n    },\n    {\n      \"column\": \"Likes\",\n      \"properties\": {\n        \"dtype\": \"number\",\n        \"std\": 0,\n        \"min\": 0,\n        \"max\": 2,\n        \"num_unique_values\": 3,\n        \"samples\": [\n          0,\n          1,\n          2\n        ],\n        \"semantic_type\": \"\",\n        \"description\": \"\"\n      }\n    },\n    {\n      \"column\": \"Predicted Sentiment\",\n      \"properties\": {\n        \"dtype\": \"category\",\n        \"num_unique_values\": 2,\n        \"samples\": [\n          \"Neutral\",\n          \"Negative\"\n        ],\n        \"semantic_type\": \"\",\n        \"description\": \"\"\n      }\n    }\n  ]\n}"
            }
          },
          "metadata": {}
        },
        {
          "output_type": "stream",
          "name": "stdout",
          "text": [
            "\n",
            "--- Example Comments by Sentiment ---\n",
            "\n",
            "Positive Examples: None found\n",
            "\n",
            "Negative Examples:\n",
            "  - \"Bro is grandparents favourite child\"\n",
            "  - \"Bro ni okkaroju fasting cheyipinchi Annadanam chepiste 10members ki full days meals set😢\"\n",
            "  - \"Bro 21:29  doesn't need detox drink he needs domax😂❤\"\n",
            "\n",
            "Neutral Examples:\n",
            "  - \"Varada vadini apa mani cheppu😂😂\"\n",
            "  - \"I observed clubbing in Pranay's fingers. Get yourself checked once you might have a serious heart di...\"\n",
            "  - \"Ayana thinte mikem guddalo nopi beeeee\"\n"
          ]
        }
      ]
    },
    {
      "cell_type": "markdown",
      "source": [
        "### Evaluation Metrics and Confusion Matrix\n",
        "This cell demonstrates how to evaluate the model's performance. It uses scikit-learn to generate and print a classification_report and visualizes the results with a confusion_matrix heatmap, providing a clear overview of precision, recall, and accuracy on a sample dataset."
      ],
      "metadata": {
        "id": "PZr1lPtAR8nR"
      }
    },
    {
      "cell_type": "code",
      "source": [
        "import numpy as np\n",
        "from sklearn.metrics import classification_report, confusion_matrix, accuracy_score\n",
        "import matplotlib.pyplot as plt\n",
        "import seaborn as sns\n",
        "\n",
        "# Example data\n",
        "true_labels = ['positive', 'negative', 'neutral', 'positive', 'negative', 'neutral', 'positive', 'negative']\n",
        "predicted_labels = ['positive', 'negative', 'neutral', 'neutral', 'negative', 'neutral', 'positive', 'positive']\n",
        "\n",
        "# 1. Print Classification Report\n",
        "print(\"Classification Report:\\n\")\n",
        "print(classification_report(true_labels, predicted_labels, digits=2))\n",
        "\n",
        "# 2. Calculate Accuracy\n",
        "accuracy = accuracy_score(true_labels, predicted_labels)\n",
        "print(f\"Accuracy: {accuracy:.2f}\")\n",
        "\n",
        "# 3. Confusion Matrix\n",
        "labels = ['positive', 'negative', 'neutral']\n",
        "cm = confusion_matrix(true_labels, predicted_labels, labels=labels)\n",
        "\n",
        "# 4. Visualize Confusion Matrix\n",
        "plt.figure(figsize=(6, 5))\n",
        "sns.heatmap(cm, annot=True, fmt='d', cmap='Blues', xticklabels=labels, yticklabels=labels)\n",
        "plt.xlabel('Predicted Label')\n",
        "plt.ylabel('True Label')\n",
        "plt.title('Confusion Matrix')\n",
        "plt.show()"
      ],
      "metadata": {
        "colab": {
          "base_uri": "https://localhost:8080/",
          "height": 713
        },
        "id": "4emyvhvTpuvQ",
        "outputId": "6c00e1b1-9d73-4631-b0f7-b60f2cc699b1"
      },
      "execution_count": null,
      "outputs": [
        {
          "output_type": "stream",
          "name": "stdout",
          "text": [
            "Classification Report:\n",
            "\n",
            "              precision    recall  f1-score   support\n",
            "\n",
            "    negative       1.00      0.67      0.80         3\n",
            "     neutral       0.67      1.00      0.80         2\n",
            "    positive       0.67      0.67      0.67         3\n",
            "\n",
            "    accuracy                           0.75         8\n",
            "   macro avg       0.78      0.78      0.76         8\n",
            "weighted avg       0.79      0.75      0.75         8\n",
            "\n",
            "Accuracy: 0.75\n"
          ]
        },
        {
          "output_type": "display_data",
          "data": {
            "text/plain": [
              "<Figure size 600x500 with 2 Axes>"
            ],
            "image/png": "[encoded data removed]"
          },
          "metadata": {}
        }
      ]
    },
    {
      "cell_type": "markdown",
      "source": [
        " ### Performance Comparison Chart\n",
        "This cell visualizes the performance difference between the \"Simple Prompt\" and \"Enhanced Prompt\" strategies tested earlier. The bar chart makes it easy to compare metrics like Accuracy, Precision, Recall, and F1-Score, highlighting the performance gap."
      ],
      "metadata": {
        "id": "UO_aoL4iSGdc"
      }
    },
    {
      "cell_type": "code",
      "source": [
        "#@title Performance Comparison Chart\n",
        "import matplotlib.pyplot as plt\n",
        "import seaborn as sns\n",
        "import numpy as np\n",
        "\n",
        "# Sample data based on evaluation metrics\n",
        "metrics = ['Accuracy', 'Precision', 'Recall', 'F1-Score']\n",
        "simple_prompt_scores = [61.1, 63.4, 61.1, 62.0]\n",
        "enhanced_prompt_scores = [55.6, 56.5, 55.6, 53.5]\n",
        "performance_gap = [5.5, 6.9, 5.5, 8.5]\n",
        "\n",
        "x = np.arange(len(metrics))  # the label locations\n",
        "width = 0.25  # the width of the bars\n",
        "\n",
        "fig, ax = plt.subplots(figsize=(10, 6))\n",
        "rects1 = ax.bar(x - width, simple_prompt_scores, width, label='Simple Prompt')\n",
        "rects2 = ax.bar(x, enhanced_prompt_scores, width, label='Enhanced Prompt')\n",
        "rects3 = ax.bar(x + width, performance_gap, width, label='Performance Gap')\n",
        "\n",
        "ax.set_ylabel('Percentage (%)')\n",
        "ax.set_title('Evaluation Metrics Comparison: Simple Prompt vs Enhanced Prompt')\n",
        "ax.set_xticks(x)\n",
        "ax.set_xticklabels(metrics)\n",
        "ax.legend()\n",
        "\n",
        "for rects in [rects1, rects2, rects3]:\n",
        "    for rect in rects:\n",
        "        height = rect.get_height()\n",
        "        ax.annotate(f'{height:.1f}',\n",
        "                    xy=(rect.get_x() + rect.get_width() / 2, height),\n",
        "                    xytext=(0, 3),\n",
        "                    textcoords=\"offset points\",\n",
        "                    ha='center', va='bottom')\n",
        "\n",
        "plt.tight_layout()\n",
        "plt.show()\n"
      ],
      "metadata": {
        "colab": {
          "base_uri": "https://localhost:8080/",
          "height": 607
        },
        "id": "mZnzKrEbpt_S",
        "outputId": "a8f5a064-e19b-4e5b-c1e3-a6067271ffc7"
      },
      "execution_count": null,
      "outputs": [
        {
          "output_type": "display_data",
          "data": {
            "text/plain": [
              "<Figure size 1000x600 with 1 Axes>"
            ],
            "image/png": "[encoded data removed]"
          },
          "metadata": {}
        }
      ]
    },
    {
      "cell_type": "code",
      "source": [
        "#@title 📊 Enhanced YouTube Comments Sentiment Dashboard - version 1\n",
        "#@markdown ---\n",
        "#@markdown ### Paste your YouTube video link below and set the number of comments to analyze.\n",
        "\n",
        "# --- Import Libraries ---\n",
        "import pandas as pd\n",
        "import matplotlib.pyplot as plt\n",
        "import seaborn as sns\n",
        "from googleapiclient.discovery import build\n",
        "from googleapiclient.errors import HttpError\n",
        "from urllib.parse import urlparse, parse_qs\n",
        "import time\n",
        "import re\n",
        "from IPython.display import display, HTML, clear_output\n",
        "import textwrap\n",
        "from datetime import datetime\n",
        "\n",
        "# --- Configuration (Interactive in Colab) ---\n",
        "YOUTUBE_VIDEO_URL = \"https://youtu.be/_HJD17g-_l4?si=AL3y3Jw3I5Lm79ng\" #@param {type:\"string\"}\n",
        "MAX_COMMENTS_TO_ANALYZE = 50 #@param {type:\"integer\"}\n",
        "SHOW_COMMENTS_DURING_PROCESSING = True #@param {type:\"boolean\"}\n",
        "TRUNCATE_LONG_COMMENTS = True #@param {type:\"boolean\"}\n",
        "MAX_COMMENT_DISPLAY_LENGTH = 150 #@param {type:\"integer\"}\n",
        "\n",
        "# --- Enhanced Visualization Settings ---\n",
        "plt.style.use('default')\n",
        "sns.set_theme(style=\"whitegrid\", palette=\"pastel\", font_scale=1.1)\n",
        "\n",
        "sentiment_colors = {\n",
        "    \"Positive\": \"#4CAF50\",  # Green\n",
        "    \"Negative\": \"#F44336\",  # Red\n",
        "    \"Neutral\":  \"#2196F3\",   # Blue\n",
        "    \"Unknown\":  \"#9E9E9E\",   # Gray\n",
        "    \"Error\":    \"#FFC107\"    # Amber\n",
        "}\n",
        "\n",
        "# --- Helper Functions ---\n",
        "def truncate_text(text, max_length=150):\n",
        "    \"\"\"Truncate text if it's too long for display\"\"\"\n",
        "    if TRUNCATE_LONG_COMMENTS and len(text) > max_length:\n",
        "        return text[:max_length] + \"...\"\n",
        "    return text\n",
        "\n",
        "def display_comment_analysis(comment_num, total_comments, comment_text, sentiment, processing_time=None):\n",
        "    \"\"\"Display each comment as it's being analyzed with better formatting\"\"\"\n",
        "\n",
        "    # Truncate comment for display\n",
        "    display_text = truncate_text(comment_text, MAX_COMMENT_DISPLAY_LENGTH)\n",
        "\n",
        "    # Create color-coded HTML output\n",
        "    sentiment_color = sentiment_colors.get(sentiment, \"#9E9E9E\")\n",
        "\n",
        "    html_output = f\"\"\"\n",
        "    <div style='border-left: 4px solid {sentiment_color};\n",
        "                background: linear-gradient(90deg, {sentiment_color}15, transparent);\n",
        "                padding: 12px; margin: 8px 0; border-radius: 0 8px 8px 0;\n",
        "                font-family: \"Segoe UI\", Arial, sans-serif;'>\n",
        "        <div style='display: flex; justify-content: space-between; align-items: center; margin-bottom: 8px;'>\n",
        "            <strong style='color: {sentiment_color}; font-size: 14px;'>\n",
        "                📝 Comment {comment_num}/{total_comments} | Sentiment: {sentiment}\n",
        "            </strong>\n",
        "            {f'<span style=\"color: #666; font-size: 12px;\">⏱️ {processing_time:.2f}s</span>' if processing_time else ''}\n",
        "        </div>\n",
        "        <div style='background: rgba(255,255,255,0.8); padding: 10px; border-radius: 6px;\n",
        "                    border: 1px solid #e0e0e0; font-size: 13px; line-height: 1.4;'>\n",
        "            <em>\"{display_text}\"</em>\n",
        "        </div>\n",
        "    </div>\n",
        "    \"\"\"\n",
        "\n",
        "    display(HTML(html_output))\n",
        "\n",
        "def create_enhanced_visualizations(df_results, video_info=None):\n",
        "    \"\"\"Create enhanced visualizations with better styling\"\"\"\n",
        "\n",
        "    sentiment_counts = df_results['Sentiment'].value_counts()\n",
        "\n",
        "    # Create a larger figure with better layout\n",
        "    fig = plt.figure(figsize=(20, 12))\n",
        "    gs = fig.add_gridspec(3, 3, height_ratios=[0.5, 2, 1], width_ratios=[1, 1, 1])\n",
        "\n",
        "    # Title section\n",
        "    title_ax = fig.add_subplot(gs[0, :])\n",
        "    title_ax.axis('off')\n",
        "    title_text = f'YouTube Comments Sentiment Analysis Dashboard\\n'\n",
        "    if video_info:\n",
        "        title_text += f'Video: {video_info.get(\"title\", \"Unknown\")} | {len(df_results)} Comments Analyzed'\n",
        "    else:\n",
        "        title_text += f'{len(df_results)} Comments Analyzed'\n",
        "\n",
        "    title_ax.text(0.5, 0.5, title_text, fontsize=18, fontweight='bold',\n",
        "                  ha='center', va='center', transform=title_ax.transAxes)\n",
        "\n",
        "    # Donut Chart\n",
        "    ax1 = fig.add_subplot(gs[1, 0])\n",
        "    wedges, texts, autotexts = ax1.pie(sentiment_counts, labels=sentiment_counts.index,\n",
        "                                       autopct='%1.1f%%', startangle=90, pctdistance=0.85,\n",
        "                                       colors=[sentiment_colors.get(x, \"#BDBDBD\") for x in sentiment_counts.index],\n",
        "                                       wedgeprops=dict(width=0.4, edgecolor='white', linewidth=2))\n",
        "\n",
        "    # Enhance pie chart text\n",
        "    for autotext in autotexts:\n",
        "        autotext.set_color('white')\n",
        "        autotext.set_fontweight('bold')\n",
        "        autotext.set_fontsize(12)\n",
        "\n",
        "    ax1.set_title('Sentiment Distribution', fontsize=16, fontweight='bold', pad=20)\n",
        "\n",
        "    # Bar Chart\n",
        "    ax2 = fig.add_subplot(gs[1, 1])\n",
        "    bars = sns.barplot(x=sentiment_counts.index, y=sentiment_counts.values, ax=ax2,\n",
        "                       hue=sentiment_counts.index,\n",
        "                       palette=[sentiment_colors.get(x, \"#BDBDBD\") for x in sentiment_counts.index],\n",
        "                       order=sentiment_counts.index, legend=False)\n",
        "\n",
        "    ax2.set_title('Sentiment Counts', fontsize=16, fontweight='bold')\n",
        "    ax2.set_ylabel('Number of Comments', fontsize=12, fontweight='bold')\n",
        "    ax2.set_xlabel('Sentiment Category', fontsize=12, fontweight='bold')\n",
        "\n",
        "    # Add value labels on bars\n",
        "    for i, bar in enumerate(bars.patches):\n",
        "        height = bar.get_height()\n",
        "        ax2.annotate(f'{int(height)}',\n",
        "                    xy=(bar.get_x() + bar.get_width() / 2, height),\n",
        "                    xytext=(0, 10), textcoords=\"offset points\",\n",
        "                    ha='center', va='bottom', fontweight='bold', fontsize=12)\n",
        "\n",
        "    # Sentiment Timeline (if timestamps available)\n",
        "    ax3 = fig.add_subplot(gs[1, 2])\n",
        "    sentiment_mapping = {'Positive': 1, 'Neutral': 0, 'Negative': -1, 'Unknown': 0.5, 'Error': 0}\n",
        "    df_results['sentiment_score'] = df_results['Sentiment'].map(sentiment_mapping)\n",
        "\n",
        "    ax3.scatter(range(len(df_results)), df_results['sentiment_score'],\n",
        "               c=[sentiment_colors.get(s, \"#9E9E9E\") for s in df_results['Sentiment']],\n",
        "               alpha=0.7, s=60, edgecolors='white', linewidth=1)\n",
        "    ax3.set_title('Sentiment Flow', fontsize=16, fontweight='bold')\n",
        "    ax3.set_xlabel('Comment Order', fontsize=12, fontweight='bold')\n",
        "    ax3.set_ylabel('Sentiment Score', fontsize=12, fontweight='bold')\n",
        "    ax3.set_ylim(-1.2, 1.2)\n",
        "    ax3.axhline(y=0, color='gray', linestyle='--', alpha=0.5)\n",
        "    ax3.grid(True, alpha=0.3)\n",
        "\n",
        "    # Statistics summary\n",
        "    stats_ax = fig.add_subplot(gs[2, :])\n",
        "    stats_ax.axis('off')\n",
        "\n",
        "    total_comments = len(df_results)\n",
        "    positive_pct = (sentiment_counts.get('Positive', 0) / total_comments) * 100\n",
        "    negative_pct = (sentiment_counts.get('Negative', 0) / total_comments) * 100\n",
        "    neutral_pct = (sentiment_counts.get('Neutral', 0) / total_comments) * 100\n",
        "\n",
        "    stats_text = f\"\"\"\n",
        "    ANALYSIS SUMMARY:\n",
        "    • Overall Sentiment: {\"Positive\" if positive_pct > negative_pct else \"Negative\" if negative_pct > positive_pct else \"Neutral\"}\n",
        "    • Positive: {positive_pct:.1f}% | Negative: {negative_pct:.1f}% | Neutral: {neutral_pct:.1f}%\n",
        "    • Most Common: {sentiment_counts.index[0]} ({sentiment_counts.iloc[0]} comments)\n",
        "    \"\"\"\n",
        "\n",
        "    stats_ax.text(0.5, 0.5, stats_text, fontsize=14, ha='center', va='center',\n",
        "                  transform=stats_ax.transAxes,\n",
        "                  bbox=dict(boxstyle=\"round,pad=0.5\", facecolor=\"lightgray\", alpha=0.8))\n",
        "\n",
        "    plt.tight_layout()\n",
        "    plt.show()\n",
        "\n",
        "def get_video_info(youtube, video_id):\n",
        "    \"\"\"Fetch video information\"\"\"\n",
        "    try:\n",
        "        request = youtube.videos().list(part=\"snippet,statistics\", id=video_id)\n",
        "        response = request.execute()\n",
        "        if response[\"items\"]:\n",
        "            video_data = response[\"items\"][0]\n",
        "            return {\n",
        "                \"title\": video_data[\"snippet\"][\"title\"],\n",
        "                \"channel\": video_data[\"snippet\"][\"channelTitle\"],\n",
        "                \"view_count\": video_data[\"statistics\"].get(\"viewCount\", \"N/A\"),\n",
        "                \"like_count\": video_data[\"statistics\"].get(\"likeCount\", \"N/A\"),\n",
        "                \"comment_count\": video_data[\"statistics\"].get(\"commentCount\", \"N/A\")\n",
        "            }\n",
        "    except Exception as e:\n",
        "        print(f\"⚠️ Could not fetch video info: {e}\")\n",
        "    return None\n",
        "\n",
        "# --- Check for Prerequisite Functions ---\n",
        "if 'get_youtube_api_key' not in globals() or 'extract_video_id' not in globals() or 'classify_sentiment_llama3_telugu_youtube' not in globals():\n",
        "    print(\"❌ Error: Prerequisite functions not found. Please run the preceding cells to define them.\")\n",
        "else:\n",
        "    # --- Main Logic: Fetch, Analyze, and Visualize ---\n",
        "    print(\"🚀 Initializing YouTube Comments Sentiment Analysis...\")\n",
        "    print(\"=\" * 60)\n",
        "\n",
        "    api_key = get_youtube_api_key()\n",
        "    video_id = extract_video_id(YOUTUBE_VIDEO_URL)\n",
        "    comments_list = []\n",
        "\n",
        "    if api_key and video_id:\n",
        "        try:\n",
        "            youtube = build('youtube', 'v3', developerKey=api_key)\n",
        "\n",
        "            # Get video information\n",
        "            video_info = get_video_info(youtube, video_id)\n",
        "            if video_info:\n",
        "                print(f\"🎥 Video: {video_info['title']}\")\n",
        "                print(f\"📺 Channel: {video_info['channel']}\")\n",
        "                print(f\"👀 Views: {video_info['view_count']} | 💬 Total Comments: {video_info['comment_count']}\")\n",
        "                print(\"=\" * 60)\n",
        "\n",
        "            print(f\"🔄 Starting analysis of {MAX_COMMENTS_TO_ANALYZE} comments...\")\n",
        "\n",
        "            next_page_token = None\n",
        "            comments_fetched = 0\n",
        "            start_time = time.time()\n",
        "\n",
        "            while comments_fetched < MAX_COMMENTS_TO_ANALYZE:\n",
        "                request = youtube.commentThreads().list(\n",
        "                    part=\"snippet\",\n",
        "                    videoId=video_id,\n",
        "                    maxResults=min(100, MAX_COMMENTS_TO_ANALYZE - comments_fetched),\n",
        "                    textFormat=\"plainText\",\n",
        "                    pageToken=next_page_token\n",
        "                )\n",
        "                response = request.execute()\n",
        "\n",
        "                for item in response.get(\"items\", []):\n",
        "                    if comments_fetched >= MAX_COMMENTS_TO_ANALYZE:\n",
        "                        break\n",
        "\n",
        "                    comment_snippet = item[\"snippet\"][\"topLevelComment\"][\"snippet\"]\n",
        "                    comment_cleaned = re.sub(r'\\s+', ' ', comment_snippet[\"textDisplay\"]).strip()\n",
        "                    author_name = comment_snippet.get(\"authorDisplayName\", \"Unknown\")\n",
        "                    published_at = comment_snippet.get(\"publishedAt\", \"\")\n",
        "\n",
        "                    if not comment_cleaned:\n",
        "                        continue\n",
        "\n",
        "                    # Time the sentiment analysis\n",
        "                    analysis_start = time.time()\n",
        "                    sentiment = classify_sentiment_llama3_telugu_youtube(comment_cleaned)\n",
        "                    analysis_time = time.time() - analysis_start\n",
        "\n",
        "                    # Display comment during processing\n",
        "                    if SHOW_COMMENTS_DURING_PROCESSING:\n",
        "                        display_comment_analysis(\n",
        "                            comments_fetched + 1,\n",
        "                            MAX_COMMENTS_TO_ANALYZE,\n",
        "                            comment_cleaned,\n",
        "                            sentiment,\n",
        "                            analysis_time\n",
        "                        )\n",
        "\n",
        "                    comments_list.append({\n",
        "                        \"Comment\": comment_cleaned,\n",
        "                        \"Sentiment\": sentiment,\n",
        "                        \"Author\": author_name,\n",
        "                        \"Published\": published_at,\n",
        "                        \"Analysis_Time\": analysis_time\n",
        "                    })\n",
        "                    comments_fetched += 1\n",
        "\n",
        "                next_page_token = response.get(\"nextPageToken\")\n",
        "                if not next_page_token or comments_fetched >= MAX_COMMENTS_TO_ANALYZE:\n",
        "                    break\n",
        "                time.sleep(0.3)  # Reduced sleep time for faster processing\n",
        "\n",
        "            total_time = time.time() - start_time\n",
        "            print(f\"\\n✅ Analysis completed in {total_time:.2f} seconds!\")\n",
        "            print(f\"⚡ Average processing time per comment: {total_time/len(comments_list):.2f}s\")\n",
        "\n",
        "        except HttpError as e:\n",
        "            print(f\"\\n❌ An HTTP error occurred: {e.reason}\")\n",
        "            print(\"💡 Check your API key and video URL.\")\n",
        "        except Exception as e:\n",
        "            print(f\"\\n❌ An unexpected error occurred: {e}\")\n",
        "\n",
        "    # --- Process and Visualize Results ---\n",
        "    if comments_list:\n",
        "        print(f\"\\n🎨 Creating visualizations for {len(comments_list)} comments...\")\n",
        "        df_results = pd.DataFrame(comments_list)\n",
        "\n",
        "        # Create enhanced visualizations\n",
        "        create_enhanced_visualizations(df_results, video_info)\n",
        "\n",
        "        # Display detailed comment examples with better formatting\n",
        "        display(HTML('<div style=\"margin-top: 30px;\"><h2 style=\"color: #333; border-bottom: 3px solid #4CAF50; padding-bottom: 10px;\">Comment Examples by Sentiment</h2></div>'))\n",
        "\n",
        "        for sentiment_type in ['Positive', 'Negative', 'Neutral', 'Unknown', 'Error']:\n",
        "            examples = df_results[df_results['Sentiment'] == sentiment_type].head(5)  # Show more examples\n",
        "            if not examples.empty:\n",
        "                sentiment_color = sentiment_colors.get(sentiment_type, \"#9E9E9E\")\n",
        "\n",
        "                html = f\"\"\"\n",
        "                <div style='border: 2px solid {sentiment_color};\n",
        "                           border-radius: 12px;\n",
        "                           background: linear-gradient(135deg, {sentiment_color}10, {sentiment_color}05);\n",
        "                           padding: 20px;\n",
        "                           margin: 20px 0;\n",
        "                           font-family: \"Segoe UI\", Arial, sans-serif;\n",
        "                           box-shadow: 0 4px 6px rgba(0,0,0,0.1);'>\n",
        "                  <h3 style='color: {sentiment_color};\n",
        "                             margin-top: 0;\n",
        "                             margin-bottom: 15px;\n",
        "                             display: flex;\n",
        "                             align-items: center;\n",
        "                             font-size: 18px;'>\n",
        "                    <span style='margin-right: 10px; font-size: 24px;'>\n",
        "                      {'😊' if sentiment_type == 'Positive' else '😔' if sentiment_type == 'Negative' else '😐' if sentiment_type == 'Neutral' else '❓' if sentiment_type == 'Unknown' else '⚠️'}\n",
        "                    </span>\n",
        "                    {sentiment_type} Comments ({len(examples)} shown)\n",
        "                  </h3>\n",
        "                  <div style='space-y: 10px;'>\n",
        "                \"\"\"\n",
        "\n",
        "                for idx, (_, row) in enumerate(examples.iterrows(), 1):\n",
        "                    comment_text = truncate_text(row['Comment'], 200)\n",
        "                    analysis_time = row.get('Analysis_Time', 0)\n",
        "\n",
        "                    html += f\"\"\"\n",
        "                    <div style='background: rgba(255,255,255,0.7);\n",
        "                               padding: 15px;\n",
        "                               border-radius: 8px;\n",
        "                               margin-bottom: 12px;\n",
        "                               border-left: 4px solid {sentiment_color};'>\n",
        "                        <div style='font-size: 14px; color: #666; margin-bottom: 8px; display: flex; justify-content: space-between;'>\n",
        "                            <span><strong>Example {idx}</strong> • By: {row.get('Author', 'Unknown')}</span>\n",
        "                            <span>⏱️ {analysis_time:.2f}s</span>\n",
        "                        </div>\n",
        "                        <div style='font-size: 15px; line-height: 1.5; color: #333;'>\n",
        "                            <em>\"{comment_text}\"</em>\n",
        "                        </div>\n",
        "                    </div>\n",
        "                    \"\"\"\n",
        "\n",
        "                html += \"</div></div>\"\n",
        "                display(HTML(html))\n",
        "\n",
        "        # Final summary statistics\n",
        "        sentiment_counts = df_results['Sentiment'].value_counts()\n",
        "        avg_analysis_time = df_results['Analysis_Time'].mean()\n",
        "\n",
        "        summary_html = f\"\"\"\n",
        "        <div style='background: linear-gradient(135deg, #667eea 0%, #764ba2 100%);\n",
        "                    color: white;\n",
        "                    padding: 25px;\n",
        "                    border-radius: 15px;\n",
        "                    margin: 30px 0;\n",
        "                    text-align: center;\n",
        "                    box-shadow: 0 8px 16px rgba(0,0,0,0.2);'>\n",
        "            <h2 style='margin-top: 0; font-size: 24px;'>Analysis Complete!</h2>\n",
        "            <div style='display: flex; justify-content: space-around; margin-top: 20px; flex-wrap: wrap;'>\n",
        "                <div style='text-align: center; margin: 10px;'>\n",
        "                    <div style='font-size: 28px; font-weight: bold;'>{len(df_results)}</div>\n",
        "                    <div style='font-size: 14px; opacity: 0.9;'>Comments Analyzed</div>\n",
        "                </div>\n",
        "                <div style='text-align: center; margin: 10px;'>\n",
        "                    <div style='font-size: 28px; font-weight: bold;'>{avg_analysis_time:.2f}s</div>\n",
        "                    <div style='font-size: 14px; opacity: 0.9;'>Avg Analysis Time</div>\n",
        "                </div>\n",
        "                <div style='text-align: center; margin: 10px;'>\n",
        "                    <div style='font-size: 28px; font-weight: bold;'>{sentiment_counts.index[0]}</div>\n",
        "                    <div style='font-size: 14px; opacity: 0.9;'>Most Common Sentiment</div>\n",
        "                </div>\n",
        "            </div>\n",
        "        </div>\n",
        "        \"\"\"\n",
        "        display(HTML(summary_html))\n",
        "\n",
        "        # Option to download results\n",
        "        print(\"Results are stored in 'df_results' DataFrame for further analysis!\")\n",
        "        print(\"You can export to CSV using: df_results.to_csv('youtube_sentiment_analysis.csv', index=False)\")\n",
        "\n",
        "    else:\n",
        "        display(HTML(\"\"\"\n",
        "        <div style='background: #ffebee;\n",
        "                    border: 2px solid #f44336;\n",
        "                    color: #c62828;\n",
        "                    padding: 20px;\n",
        "                    border-radius: 10px;\n",
        "                    text-align: center;\n",
        "                    margin: 20px 0;'>\n",
        "            <h3>No comments were processed</h3>\n",
        "            <p>Please check your video URL and API configuration.</p>\n",
        "        </div>\n",
        "        \"\"\"))"
      ],
      "metadata": {
        "colab": {
          "base_uri": "https://localhost:8080/",
          "height": 1000
        },
        "id": "ECF7jGWjpnN2",
        "outputId": "eeeec75e-d988-471a-a619-051fbcdd8565",
        "cellView": "form"
      },
      "execution_count": null,
      "outputs": [
        {
          "output_type": "stream",
          "name": "stdout",
          "text": [
            "🚀 Initializing YouTube Comments Sentiment Analysis...\n",
            "============================================================\n",
            "🎥 Video: We Reacted To The Great Indian Stomach 🫡 Ft. @soulfulsouthvlogss\n",
            "📺 Channel: Pranay Varma\n",
            "👀 Views: 1533151 | 💬 Total Comments: 1184\n",
            "============================================================\n",
            "🔄 Starting analysis of 50 comments...\n"
          ]
        },
        {
          "output_type": "stream",
          "name": "stderr",
          "text": [
            "The following generation flags are not valid and may be ignored: ['temperature', 'top_p']. Set `TRANSFORMERS_VERBOSITY=info` for more details.\n"
          ]
        },
        {
          "output_type": "stream",
          "name": "stdout",
          "text": [
            "DEBUG: LLM Response: 'Negative' -> Extracted: Negative\n"
          ]
        },
        {
          "output_type": "display_data",
          "data": {
            "text/plain": [
              "<IPython.core.display.HTML object>"
            ],
            "text/html": [
              "\n",
              "    <div style='border-left: 4px solid #F44336;\n",
              "                background: linear-gradient(90deg, #F4433615, transparent);\n",
              "                padding: 12px; margin: 8px 0; border-radius: 0 8px 8px 0;\n",
              "                font-family: \"Segoe UI\", Arial, sans-serif;'>\n",
              "        <div style='display: flex; justify-content: space-between; align-items: center; margin-bottom: 8px;'>\n",
              "            <strong style='color: #F44336; font-size: 14px;'>\n",
              "                📝 Comment 1/50 | Sentiment: Negative\n",
              "            </strong>\n",
              "            <span style=\"color: #666; font-size: 12px;\">⏱️ 0.48s</span>\n",
              "        </div>\n",
              "        <div style='background: rgba(255,255,255,0.8); padding: 10px; border-radius: 6px;\n",
              "                    border: 1px solid #e0e0e0; font-size: 13px; line-height: 1.4;'>\n",
              "            <em>\"Bro is grandparents favourite child\"</em>\n",
              "        </div>\n",
              "    </div>\n",
              "    "
            ]
          },
          "metadata": {}
        },
        {
          "output_type": "stream",
          "name": "stderr",
          "text": [
            "The following generation flags are not valid and may be ignored: ['temperature', 'top_p']. Set `TRANSFORMERS_VERBOSITY=info` for more details.\n"
          ]
        },
        {
          "output_type": "stream",
          "name": "stdout",
          "text": [
            "DEBUG: LLM Response: 'Neutral' -> Extracted: Neutral\n"
          ]
        },
        {
          "output_type": "display_data",
          "data": {
            "text/plain": [
              "<IPython.core.display.HTML object>"
            ],
            "text/html": [
              "\n",
              "    <div style='border-left: 4px solid #2196F3;\n",
              "                background: linear-gradient(90deg, #2196F315, transparent);\n",
              "                padding: 12px; margin: 8px 0; border-radius: 0 8px 8px 0;\n",
              "                font-family: \"Segoe UI\", Arial, sans-serif;'>\n",
              "        <div style='display: flex; justify-content: space-between; align-items: center; margin-bottom: 8px;'>\n",
              "            <strong style='color: #2196F3; font-size: 14px;'>\n",
              "                📝 Comment 2/50 | Sentiment: Neutral\n",
              "            </strong>\n",
              "            <span style=\"color: #666; font-size: 12px;\">⏱️ 0.36s</span>\n",
              "        </div>\n",
              "        <div style='background: rgba(255,255,255,0.8); padding: 10px; border-radius: 6px;\n",
              "                    border: 1px solid #e0e0e0; font-size: 13px; line-height: 1.4;'>\n",
              "            <em>\"Varada vadini apa mani cheppu😂😂\"</em>\n",
              "        </div>\n",
              "    </div>\n",
              "    "
            ]
          },
          "metadata": {}
        },
        {
          "output_type": "stream",
          "name": "stderr",
          "text": [
            "The following generation flags are not valid and may be ignored: ['temperature', 'top_p']. Set `TRANSFORMERS_VERBOSITY=info` for more details.\n"
          ]
        },
        {
          "output_type": "stream",
          "name": "stdout",
          "text": [
            "DEBUG: LLM Response: 'Neutral' -> Extracted: Neutral\n"
          ]
        },
        {
          "output_type": "display_data",
          "data": {
            "text/plain": [
              "<IPython.core.display.HTML object>"
            ],
            "text/html": [
              "\n",
              "    <div style='border-left: 4px solid #2196F3;\n",
              "                background: linear-gradient(90deg, #2196F315, transparent);\n",
              "                padding: 12px; margin: 8px 0; border-radius: 0 8px 8px 0;\n",
              "                font-family: \"Segoe UI\", Arial, sans-serif;'>\n",
              "        <div style='display: flex; justify-content: space-between; align-items: center; margin-bottom: 8px;'>\n",
              "            <strong style='color: #2196F3; font-size: 14px;'>\n",
              "                📝 Comment 3/50 | Sentiment: Neutral\n",
              "            </strong>\n",
              "            <span style=\"color: #666; font-size: 12px;\">⏱️ 0.39s</span>\n",
              "        </div>\n",
              "        <div style='background: rgba(255,255,255,0.8); padding: 10px; border-radius: 6px;\n",
              "                    border: 1px solid #e0e0e0; font-size: 13px; line-height: 1.4;'>\n",
              "            <em>\"I observed clubbing in Pranay's fingers. Get yourself checked once you might have a serious heart disorder. Take care of yourself bro. Wishing you guy...\"</em>\n",
              "        </div>\n",
              "    </div>\n",
              "    "
            ]
          },
          "metadata": {}
        },
        {
          "output_type": "stream",
          "name": "stderr",
          "text": [
            "The following generation flags are not valid and may be ignored: ['temperature', 'top_p']. Set `TRANSFORMERS_VERBOSITY=info` for more details.\n"
          ]
        },
        {
          "output_type": "stream",
          "name": "stdout",
          "text": [
            "DEBUG: LLM Response: 'Neutral' -> Extracted: Neutral\n"
          ]
        },
        {
          "output_type": "display_data",
          "data": {
            "text/plain": [
              "<IPython.core.display.HTML object>"
            ],
            "text/html": [
              "\n",
              "    <div style='border-left: 4px solid #2196F3;\n",
              "                background: linear-gradient(90deg, #2196F315, transparent);\n",
              "                padding: 12px; margin: 8px 0; border-radius: 0 8px 8px 0;\n",
              "                font-family: \"Segoe UI\", Arial, sans-serif;'>\n",
              "        <div style='display: flex; justify-content: space-between; align-items: center; margin-bottom: 8px;'>\n",
              "            <strong style='color: #2196F3; font-size: 14px;'>\n",
              "                📝 Comment 4/50 | Sentiment: Neutral\n",
              "            </strong>\n",
              "            <span style=\"color: #666; font-size: 12px;\">⏱️ 0.35s</span>\n",
              "        </div>\n",
              "        <div style='background: rgba(255,255,255,0.8); padding: 10px; border-radius: 6px;\n",
              "                    border: 1px solid #e0e0e0; font-size: 13px; line-height: 1.4;'>\n",
              "            <em>\"Ayana thinte mikem guddalo nopi beeeee\"</em>\n",
              "        </div>\n",
              "    </div>\n",
              "    "
            ]
          },
          "metadata": {}
        },
        {
          "output_type": "stream",
          "name": "stderr",
          "text": [
            "The following generation flags are not valid and may be ignored: ['temperature', 'top_p']. Set `TRANSFORMERS_VERBOSITY=info` for more details.\n"
          ]
        },
        {
          "output_type": "stream",
          "name": "stdout",
          "text": [
            "DEBUG: LLM Response: 'Negative' -> Extracted: Negative\n"
          ]
        },
        {
          "output_type": "display_data",
          "data": {
            "text/plain": [
              "<IPython.core.display.HTML object>"
            ],
            "text/html": [
              "\n",
              "    <div style='border-left: 4px solid #F44336;\n",
              "                background: linear-gradient(90deg, #F4433615, transparent);\n",
              "                padding: 12px; margin: 8px 0; border-radius: 0 8px 8px 0;\n",
              "                font-family: \"Segoe UI\", Arial, sans-serif;'>\n",
              "        <div style='display: flex; justify-content: space-between; align-items: center; margin-bottom: 8px;'>\n",
              "            <strong style='color: #F44336; font-size: 14px;'>\n",
              "                📝 Comment 5/50 | Sentiment: Negative\n",
              "            </strong>\n",
              "            <span style=\"color: #666; font-size: 12px;\">⏱️ 0.39s</span>\n",
              "        </div>\n",
              "        <div style='background: rgba(255,255,255,0.8); padding: 10px; border-radius: 6px;\n",
              "                    border: 1px solid #e0e0e0; font-size: 13px; line-height: 1.4;'>\n",
              "            <em>\"Bro ni okkaroju fasting cheyipinchi Annadanam chepiste 10members ki full days meals set😢\"</em>\n",
              "        </div>\n",
              "    </div>\n",
              "    "
            ]
          },
          "metadata": {}
        },
        {
          "output_type": "stream",
          "name": "stderr",
          "text": [
            "The following generation flags are not valid and may be ignored: ['temperature', 'top_p']. Set `TRANSFORMERS_VERBOSITY=info` for more details.\n"
          ]
        },
        {
          "output_type": "stream",
          "name": "stdout",
          "text": [
            "DEBUG: LLM Response: 'Neutral' -> Extracted: Neutral\n"
          ]
        },
        {
          "output_type": "display_data",
          "data": {
            "text/plain": [
              "<IPython.core.display.HTML object>"
            ],
            "text/html": [
              "\n",
              "    <div style='border-left: 4px solid #2196F3;\n",
              "                background: linear-gradient(90deg, #2196F315, transparent);\n",
              "                padding: 12px; margin: 8px 0; border-radius: 0 8px 8px 0;\n",
              "                font-family: \"Segoe UI\", Arial, sans-serif;'>\n",
              "        <div style='display: flex; justify-content: space-between; align-items: center; margin-bottom: 8px;'>\n",
              "            <strong style='color: #2196F3; font-size: 14px;'>\n",
              "                📝 Comment 6/50 | Sentiment: Neutral\n",
              "            </strong>\n",
              "            <span style=\"color: #666; font-size: 12px;\">⏱️ 0.39s</span>\n",
              "        </div>\n",
              "        <div style='background: rgba(255,255,255,0.8); padding: 10px; border-radius: 6px;\n",
              "                    border: 1px solid #e0e0e0; font-size: 13px; line-height: 1.4;'>\n",
              "            <em>\"Niku assalu vandatame rani wife vastadi bro 😅😂\"</em>\n",
              "        </div>\n",
              "    </div>\n",
              "    "
            ]
          },
          "metadata": {}
        },
        {
          "output_type": "stream",
          "name": "stderr",
          "text": [
            "The following generation flags are not valid and may be ignored: ['temperature', 'top_p']. Set `TRANSFORMERS_VERBOSITY=info` for more details.\n"
          ]
        },
        {
          "output_type": "stream",
          "name": "stdout",
          "text": [
            "DEBUG: LLM Response: 'Negative' -> Extracted: Negative\n"
          ]
        },
        {
          "output_type": "display_data",
          "data": {
            "text/plain": [
              "<IPython.core.display.HTML object>"
            ],
            "text/html": [
              "\n",
              "    <div style='border-left: 4px solid #F44336;\n",
              "                background: linear-gradient(90deg, #F4433615, transparent);\n",
              "                padding: 12px; margin: 8px 0; border-radius: 0 8px 8px 0;\n",
              "                font-family: \"Segoe UI\", Arial, sans-serif;'>\n",
              "        <div style='display: flex; justify-content: space-between; align-items: center; margin-bottom: 8px;'>\n",
              "            <strong style='color: #F44336; font-size: 14px;'>\n",
              "                📝 Comment 7/50 | Sentiment: Negative\n",
              "            </strong>\n",
              "            <span style=\"color: #666; font-size: 12px;\">⏱️ 0.39s</span>\n",
              "        </div>\n",
              "        <div style='background: rgba(255,255,255,0.8); padding: 10px; border-radius: 6px;\n",
              "                    border: 1px solid #e0e0e0; font-size: 13px; line-height: 1.4;'>\n",
              "            <em>\"Bro 21:29 doesn't need detox drink he needs domax😂❤\"</em>\n",
              "        </div>\n",
              "    </div>\n",
              "    "
            ]
          },
          "metadata": {}
        },
        {
          "output_type": "stream",
          "name": "stderr",
          "text": [
            "The following generation flags are not valid and may be ignored: ['temperature', 'top_p']. Set `TRANSFORMERS_VERBOSITY=info` for more details.\n"
          ]
        },
        {
          "output_type": "stream",
          "name": "stdout",
          "text": [
            "DEBUG: LLM Response: 'Neutral' -> Extracted: Neutral\n"
          ]
        },
        {
          "output_type": "display_data",
          "data": {
            "text/plain": [
              "<IPython.core.display.HTML object>"
            ],
            "text/html": [
              "\n",
              "    <div style='border-left: 4px solid #2196F3;\n",
              "                background: linear-gradient(90deg, #2196F315, transparent);\n",
              "                padding: 12px; margin: 8px 0; border-radius: 0 8px 8px 0;\n",
              "                font-family: \"Segoe UI\", Arial, sans-serif;'>\n",
              "        <div style='display: flex; justify-content: space-between; align-items: center; margin-bottom: 8px;'>\n",
              "            <strong style='color: #2196F3; font-size: 14px;'>\n",
              "                📝 Comment 8/50 | Sentiment: Neutral\n",
              "            </strong>\n",
              "            <span style=\"color: #666; font-size: 12px;\">⏱️ 0.37s</span>\n",
              "        </div>\n",
              "        <div style='background: rgba(255,255,255,0.8); padding: 10px; border-radius: 6px;\n",
              "                    border: 1px solid #e0e0e0; font-size: 13px; line-height: 1.4;'>\n",
              "            <em>\"😂😂😂😂\"</em>\n",
              "        </div>\n",
              "    </div>\n",
              "    "
            ]
          },
          "metadata": {}
        },
        {
          "output_type": "stream",
          "name": "stderr",
          "text": [
            "The following generation flags are not valid and may be ignored: ['temperature', 'top_p']. Set `TRANSFORMERS_VERBOSITY=info` for more details.\n"
          ]
        },
        {
          "output_type": "stream",
          "name": "stdout",
          "text": [
            "DEBUG: LLM Response: 'Negative' -> Extracted: Negative\n"
          ]
        },
        {
          "output_type": "display_data",
          "data": {
            "text/plain": [
              "<IPython.core.display.HTML object>"
            ],
            "text/html": [
              "\n",
              "    <div style='border-left: 4px solid #F44336;\n",
              "                background: linear-gradient(90deg, #F4433615, transparent);\n",
              "                padding: 12px; margin: 8px 0; border-radius: 0 8px 8px 0;\n",
              "                font-family: \"Segoe UI\", Arial, sans-serif;'>\n",
              "        <div style='display: flex; justify-content: space-between; align-items: center; margin-bottom: 8px;'>\n",
              "            <strong style='color: #F44336; font-size: 14px;'>\n",
              "                📝 Comment 9/50 | Sentiment: Negative\n",
              "            </strong>\n",
              "            <span style=\"color: #666; font-size: 12px;\">⏱️ 0.40s</span>\n",
              "        </div>\n",
              "        <div style='background: rgba(255,255,255,0.8); padding: 10px; border-radius: 6px;\n",
              "                    border: 1px solid #e0e0e0; font-size: 13px; line-height: 1.4;'>\n",
              "            <em>\"వాడిది కడుపా చెరువు అన్న\"</em>\n",
              "        </div>\n",
              "    </div>\n",
              "    "
            ]
          },
          "metadata": {}
        },
        {
          "output_type": "stream",
          "name": "stderr",
          "text": [
            "The following generation flags are not valid and may be ignored: ['temperature', 'top_p']. Set `TRANSFORMERS_VERBOSITY=info` for more details.\n"
          ]
        },
        {
          "output_type": "stream",
          "name": "stdout",
          "text": [
            "DEBUG: LLM Response: 'Neutral' -> Extracted: Neutral\n"
          ]
        },
        {
          "output_type": "display_data",
          "data": {
            "text/plain": [
              "<IPython.core.display.HTML object>"
            ],
            "text/html": [
              "\n",
              "    <div style='border-left: 4px solid #2196F3;\n",
              "                background: linear-gradient(90deg, #2196F315, transparent);\n",
              "                padding: 12px; margin: 8px 0; border-radius: 0 8px 8px 0;\n",
              "                font-family: \"Segoe UI\", Arial, sans-serif;'>\n",
              "        <div style='display: flex; justify-content: space-between; align-items: center; margin-bottom: 8px;'>\n",
              "            <strong style='color: #2196F3; font-size: 14px;'>\n",
              "                📝 Comment 10/50 | Sentiment: Neutral\n",
              "            </strong>\n",
              "            <span style=\"color: #666; font-size: 12px;\">⏱️ 0.35s</span>\n",
              "        </div>\n",
              "        <div style='background: rgba(255,255,255,0.8); padding: 10px; border-radius: 6px;\n",
              "                    border: 1px solid #e0e0e0; font-size: 13px; line-height: 1.4;'>\n",
              "            <em>\"😂😂😂😂😂😂😂\"</em>\n",
              "        </div>\n",
              "    </div>\n",
              "    "
            ]
          },
          "metadata": {}
        },
        {
          "output_type": "stream",
          "name": "stderr",
          "text": [
            "The following generation flags are not valid and may be ignored: ['temperature', 'top_p']. Set `TRANSFORMERS_VERBOSITY=info` for more details.\n"
          ]
        },
        {
          "output_type": "stream",
          "name": "stdout",
          "text": [
            "DEBUG: LLM Response: 'Negative' -> Extracted: Negative\n"
          ]
        },
        {
          "output_type": "display_data",
          "data": {
            "text/plain": [
              "<IPython.core.display.HTML object>"
            ],
            "text/html": [
              "\n",
              "    <div style='border-left: 4px solid #F44336;\n",
              "                background: linear-gradient(90deg, #F4433615, transparent);\n",
              "                padding: 12px; margin: 8px 0; border-radius: 0 8px 8px 0;\n",
              "                font-family: \"Segoe UI\", Arial, sans-serif;'>\n",
              "        <div style='display: flex; justify-content: space-between; align-items: center; margin-bottom: 8px;'>\n",
              "            <strong style='color: #F44336; font-size: 14px;'>\n",
              "                📝 Comment 11/50 | Sentiment: Negative\n",
              "            </strong>\n",
              "            <span style=\"color: #666; font-size: 12px;\">⏱️ 0.36s</span>\n",
              "        </div>\n",
              "        <div style='background: rgba(255,255,255,0.8); padding: 10px; border-radius: 6px;\n",
              "                    border: 1px solid #e0e0e0; font-size: 13px; line-height: 1.4;'>\n",
              "            <em>\"Bro evadi thindi vadidhi bro\"</em>\n",
              "        </div>\n",
              "    </div>\n",
              "    "
            ]
          },
          "metadata": {}
        },
        {
          "output_type": "stream",
          "name": "stderr",
          "text": [
            "The following generation flags are not valid and may be ignored: ['temperature', 'top_p']. Set `TRANSFORMERS_VERBOSITY=info` for more details.\n"
          ]
        },
        {
          "output_type": "stream",
          "name": "stdout",
          "text": [
            "DEBUG: LLM Response: 'Neutral' -> Extracted: Neutral\n"
          ]
        },
        {
          "output_type": "display_data",
          "data": {
            "text/plain": [
              "<IPython.core.display.HTML object>"
            ],
            "text/html": [
              "\n",
              "    <div style='border-left: 4px solid #2196F3;\n",
              "                background: linear-gradient(90deg, #2196F315, transparent);\n",
              "                padding: 12px; margin: 8px 0; border-radius: 0 8px 8px 0;\n",
              "                font-family: \"Segoe UI\", Arial, sans-serif;'>\n",
              "        <div style='display: flex; justify-content: space-between; align-items: center; margin-bottom: 8px;'>\n",
              "            <strong style='color: #2196F3; font-size: 14px;'>\n",
              "                📝 Comment 12/50 | Sentiment: Neutral\n",
              "            </strong>\n",
              "            <span style=\"color: #666; font-size: 12px;\">⏱️ 0.39s</span>\n",
              "        </div>\n",
              "        <div style='background: rgba(255,255,255,0.8); padding: 10px; border-radius: 6px;\n",
              "                    border: 1px solid #e0e0e0; font-size: 13px; line-height: 1.4;'>\n",
              "            <em>\"Women soulfull vachhindhi thana meedha video chey\"</em>\n",
              "        </div>\n",
              "    </div>\n",
              "    "
            ]
          },
          "metadata": {}
        },
        {
          "output_type": "stream",
          "name": "stderr",
          "text": [
            "The following generation flags are not valid and may be ignored: ['temperature', 'top_p']. Set `TRANSFORMERS_VERBOSITY=info` for more details.\n"
          ]
        },
        {
          "output_type": "stream",
          "name": "stdout",
          "text": [
            "DEBUG: LLM Response: 'Negative' -> Extracted: Negative\n"
          ]
        },
        {
          "output_type": "display_data",
          "data": {
            "text/plain": [
              "<IPython.core.display.HTML object>"
            ],
            "text/html": [
              "\n",
              "    <div style='border-left: 4px solid #F44336;\n",
              "                background: linear-gradient(90deg, #F4433615, transparent);\n",
              "                padding: 12px; margin: 8px 0; border-radius: 0 8px 8px 0;\n",
              "                font-family: \"Segoe UI\", Arial, sans-serif;'>\n",
              "        <div style='display: flex; justify-content: space-between; align-items: center; margin-bottom: 8px;'>\n",
              "            <strong style='color: #F44336; font-size: 14px;'>\n",
              "                📝 Comment 13/50 | Sentiment: Negative\n",
              "            </strong>\n",
              "            <span style=\"color: #666; font-size: 12px;\">⏱️ 0.39s</span>\n",
              "        </div>\n",
              "        <div style='background: rgba(255,255,255,0.8); padding: 10px; border-radius: 6px;\n",
              "                    border: 1px solid #e0e0e0; font-size: 13px; line-height: 1.4;'>\n",
              "            <em>\"Areyyyy... Johny Sins kuda koncham Gap isthadu Ra....\"</em>\n",
              "        </div>\n",
              "    </div>\n",
              "    "
            ]
          },
          "metadata": {}
        },
        {
          "output_type": "stream",
          "name": "stderr",
          "text": [
            "The following generation flags are not valid and may be ignored: ['temperature', 'top_p']. Set `TRANSFORMERS_VERBOSITY=info` for more details.\n"
          ]
        },
        {
          "output_type": "stream",
          "name": "stdout",
          "text": [
            "DEBUG: LLM Response: 'Negative' -> Extracted: Negative\n"
          ]
        },
        {
          "output_type": "display_data",
          "data": {
            "text/plain": [
              "<IPython.core.display.HTML object>"
            ],
            "text/html": [
              "\n",
              "    <div style='border-left: 4px solid #F44336;\n",
              "                background: linear-gradient(90deg, #F4433615, transparent);\n",
              "                padding: 12px; margin: 8px 0; border-radius: 0 8px 8px 0;\n",
              "                font-family: \"Segoe UI\", Arial, sans-serif;'>\n",
              "        <div style='display: flex; justify-content: space-between; align-items: center; margin-bottom: 8px;'>\n",
              "            <strong style='color: #F44336; font-size: 14px;'>\n",
              "                📝 Comment 14/50 | Sentiment: Negative\n",
              "            </strong>\n",
              "            <span style=\"color: #666; font-size: 12px;\">⏱️ 0.39s</span>\n",
              "        </div>\n",
              "        <div style='background: rgba(255,255,255,0.8); padding: 10px; border-radius: 6px;\n",
              "                    border: 1px solid #e0e0e0; font-size: 13px; line-height: 1.4;'>\n",
              "            <em>\"Waste fellow pranay why are you doing this video 📷📷📷\"</em>\n",
              "        </div>\n",
              "    </div>\n",
              "    "
            ]
          },
          "metadata": {}
        },
        {
          "output_type": "stream",
          "name": "stderr",
          "text": [
            "The following generation flags are not valid and may be ignored: ['temperature', 'top_p']. Set `TRANSFORMERS_VERBOSITY=info` for more details.\n"
          ]
        },
        {
          "output_type": "stream",
          "name": "stdout",
          "text": [
            "DEBUG: LLM Response: 'Neutral' -> Extracted: Neutral\n"
          ]
        },
        {
          "output_type": "display_data",
          "data": {
            "text/plain": [
              "<IPython.core.display.HTML object>"
            ],
            "text/html": [
              "\n",
              "    <div style='border-left: 4px solid #2196F3;\n",
              "                background: linear-gradient(90deg, #2196F315, transparent);\n",
              "                padding: 12px; margin: 8px 0; border-radius: 0 8px 8px 0;\n",
              "                font-family: \"Segoe UI\", Arial, sans-serif;'>\n",
              "        <div style='display: flex; justify-content: space-between; align-items: center; margin-bottom: 8px;'>\n",
              "            <strong style='color: #2196F3; font-size: 14px;'>\n",
              "                📝 Comment 15/50 | Sentiment: Neutral\n",
              "            </strong>\n",
              "            <span style=\"color: #666; font-size: 12px;\">⏱️ 0.36s</span>\n",
              "        </div>\n",
              "        <div style='background: rgba(255,255,255,0.8); padding: 10px; border-radius: 6px;\n",
              "                    border: 1px solid #e0e0e0; font-size: 13px; line-height: 1.4;'>\n",
              "            <em>\"Man of the match of the series of the tournament 😂😂\"</em>\n",
              "        </div>\n",
              "    </div>\n",
              "    "
            ]
          },
          "metadata": {}
        },
        {
          "output_type": "stream",
          "name": "stderr",
          "text": [
            "The following generation flags are not valid and may be ignored: ['temperature', 'top_p']. Set `TRANSFORMERS_VERBOSITY=info` for more details.\n"
          ]
        },
        {
          "output_type": "stream",
          "name": "stdout",
          "text": [
            "DEBUG: LLM Response: 'Neutral' -> Extracted: Neutral\n"
          ]
        },
        {
          "output_type": "display_data",
          "data": {
            "text/plain": [
              "<IPython.core.display.HTML object>"
            ],
            "text/html": [
              "\n",
              "    <div style='border-left: 4px solid #2196F3;\n",
              "                background: linear-gradient(90deg, #2196F315, transparent);\n",
              "                padding: 12px; margin: 8px 0; border-radius: 0 8px 8px 0;\n",
              "                font-family: \"Segoe UI\", Arial, sans-serif;'>\n",
              "        <div style='display: flex; justify-content: space-between; align-items: center; margin-bottom: 8px;'>\n",
              "            <strong style='color: #2196F3; font-size: 14px;'>\n",
              "                📝 Comment 16/50 | Sentiment: Neutral\n",
              "            </strong>\n",
              "            <span style=\"color: #666; font-size: 12px;\">⏱️ 0.39s</span>\n",
              "        </div>\n",
              "        <div style='background: rgba(255,255,255,0.8); padding: 10px; border-radius: 6px;\n",
              "                    border: 1px solid #e0e0e0; font-size: 13px; line-height: 1.4;'>\n",
              "            <em>\"Erripukulu antha oka Eyy chota Eyy cheraru elaa 😂❤\"</em>\n",
              "        </div>\n",
              "    </div>\n",
              "    "
            ]
          },
          "metadata": {}
        },
        {
          "output_type": "stream",
          "name": "stderr",
          "text": [
            "The following generation flags are not valid and may be ignored: ['temperature', 'top_p']. Set `TRANSFORMERS_VERBOSITY=info` for more details.\n"
          ]
        },
        {
          "output_type": "stream",
          "name": "stdout",
          "text": [
            "DEBUG: LLM Response: 'Neutral' -> Extracted: Neutral\n"
          ]
        },
        {
          "output_type": "display_data",
          "data": {
            "text/plain": [
              "<IPython.core.display.HTML object>"
            ],
            "text/html": [
              "\n",
              "    <div style='border-left: 4px solid #2196F3;\n",
              "                background: linear-gradient(90deg, #2196F315, transparent);\n",
              "                padding: 12px; margin: 8px 0; border-radius: 0 8px 8px 0;\n",
              "                font-family: \"Segoe UI\", Arial, sans-serif;'>\n",
              "        <div style='display: flex; justify-content: space-between; align-items: center; margin-bottom: 8px;'>\n",
              "            <strong style='color: #2196F3; font-size: 14px;'>\n",
              "                📝 Comment 17/50 | Sentiment: Neutral\n",
              "            </strong>\n",
              "            <span style=\"color: #666; font-size: 12px;\">⏱️ 0.39s</span>\n",
              "        </div>\n",
              "        <div style='background: rgba(255,255,255,0.8); padding: 10px; border-radius: 6px;\n",
              "                    border: 1px solid #e0e0e0; font-size: 13px; line-height: 1.4;'>\n",
              "            <em>\"Anna vadu yakkada unnatado chappava dhaba vakkati patukuntta please\"</em>\n",
              "        </div>\n",
              "    </div>\n",
              "    "
            ]
          },
          "metadata": {}
        },
        {
          "output_type": "stream",
          "name": "stderr",
          "text": [
            "The following generation flags are not valid and may be ignored: ['temperature', 'top_p']. Set `TRANSFORMERS_VERBOSITY=info` for more details.\n"
          ]
        },
        {
          "output_type": "stream",
          "name": "stdout",
          "text": [
            "DEBUG: LLM Response: 'Neutral' -> Extracted: Neutral\n"
          ]
        },
        {
          "output_type": "display_data",
          "data": {
            "text/plain": [
              "<IPython.core.display.HTML object>"
            ],
            "text/html": [
              "\n",
              "    <div style='border-left: 4px solid #2196F3;\n",
              "                background: linear-gradient(90deg, #2196F315, transparent);\n",
              "                padding: 12px; margin: 8px 0; border-radius: 0 8px 8px 0;\n",
              "                font-family: \"Segoe UI\", Arial, sans-serif;'>\n",
              "        <div style='display: flex; justify-content: space-between; align-items: center; margin-bottom: 8px;'>\n",
              "            <strong style='color: #2196F3; font-size: 14px;'>\n",
              "                📝 Comment 18/50 | Sentiment: Neutral\n",
              "            </strong>\n",
              "            <span style=\"color: #666; font-size: 12px;\">⏱️ 0.36s</span>\n",
              "        </div>\n",
              "        <div style='background: rgba(255,255,255,0.8); padding: 10px; border-radius: 6px;\n",
              "                    border: 1px solid #e0e0e0; font-size: 13px; line-height: 1.4;'>\n",
              "            <em>\"that annaaaaww transition is awsome\"</em>\n",
              "        </div>\n",
              "    </div>\n",
              "    "
            ]
          },
          "metadata": {}
        },
        {
          "output_type": "stream",
          "name": "stderr",
          "text": [
            "The following generation flags are not valid and may be ignored: ['temperature', 'top_p']. Set `TRANSFORMERS_VERBOSITY=info` for more details.\n"
          ]
        },
        {
          "output_type": "stream",
          "name": "stdout",
          "text": [
            "DEBUG: LLM Response: 'Negative' -> Extracted: Negative\n"
          ]
        },
        {
          "output_type": "display_data",
          "data": {
            "text/plain": [
              "<IPython.core.display.HTML object>"
            ],
            "text/html": [
              "\n",
              "    <div style='border-left: 4px solid #F44336;\n",
              "                background: linear-gradient(90deg, #F4433615, transparent);\n",
              "                padding: 12px; margin: 8px 0; border-radius: 0 8px 8px 0;\n",
              "                font-family: \"Segoe UI\", Arial, sans-serif;'>\n",
              "        <div style='display: flex; justify-content: space-between; align-items: center; margin-bottom: 8px;'>\n",
              "            <strong style='color: #F44336; font-size: 14px;'>\n",
              "                📝 Comment 19/50 | Sentiment: Negative\n",
              "            </strong>\n",
              "            <span style=\"color: #666; font-size: 12px;\">⏱️ 0.36s</span>\n",
              "        </div>\n",
              "        <div style='background: rgba(255,255,255,0.8); padding: 10px; border-radius: 6px;\n",
              "                    border: 1px solid #e0e0e0; font-size: 13px; line-height: 1.4;'>\n",
              "            <em>\"Bro intha tinndaniki money ella saripothundi bro...\"</em>\n",
              "        </div>\n",
              "    </div>\n",
              "    "
            ]
          },
          "metadata": {}
        },
        {
          "output_type": "stream",
          "name": "stderr",
          "text": [
            "The following generation flags are not valid and may be ignored: ['temperature', 'top_p']. Set `TRANSFORMERS_VERBOSITY=info` for more details.\n"
          ]
        },
        {
          "output_type": "stream",
          "name": "stdout",
          "text": [
            "DEBUG: LLM Response: 'Negative' -> Extracted: Negative\n"
          ]
        },
        {
          "output_type": "display_data",
          "data": {
            "text/plain": [
              "<IPython.core.display.HTML object>"
            ],
            "text/html": [
              "\n",
              "    <div style='border-left: 4px solid #F44336;\n",
              "                background: linear-gradient(90deg, #F4433615, transparent);\n",
              "                padding: 12px; margin: 8px 0; border-radius: 0 8px 8px 0;\n",
              "                font-family: \"Segoe UI\", Arial, sans-serif;'>\n",
              "        <div style='display: flex; justify-content: space-between; align-items: center; margin-bottom: 8px;'>\n",
              "            <strong style='color: #F44336; font-size: 14px;'>\n",
              "                📝 Comment 20/50 | Sentiment: Negative\n",
              "            </strong>\n",
              "            <span style=\"color: #666; font-size: 12px;\">⏱️ 0.36s</span>\n",
              "        </div>\n",
              "        <div style='background: rgba(255,255,255,0.8); padding: 10px; border-radius: 6px;\n",
              "                    border: 1px solid #e0e0e0; font-size: 13px; line-height: 1.4;'>\n",
              "            <em>\"Watching after Soulful Vlogs eating 40 Bajjis live\"</em>\n",
              "        </div>\n",
              "    </div>\n",
              "    "
            ]
          },
          "metadata": {}
        },
        {
          "output_type": "stream",
          "name": "stderr",
          "text": [
            "The following generation flags are not valid and may be ignored: ['temperature', 'top_p']. Set `TRANSFORMERS_VERBOSITY=info` for more details.\n"
          ]
        },
        {
          "output_type": "stream",
          "name": "stdout",
          "text": [
            "DEBUG: LLM Response: 'Neutral' -> Extracted: Neutral\n"
          ]
        },
        {
          "output_type": "display_data",
          "data": {
            "text/plain": [
              "<IPython.core.display.HTML object>"
            ],
            "text/html": [
              "\n",
              "    <div style='border-left: 4px solid #2196F3;\n",
              "                background: linear-gradient(90deg, #2196F315, transparent);\n",
              "                padding: 12px; margin: 8px 0; border-radius: 0 8px 8px 0;\n",
              "                font-family: \"Segoe UI\", Arial, sans-serif;'>\n",
              "        <div style='display: flex; justify-content: space-between; align-items: center; margin-bottom: 8px;'>\n",
              "            <strong style='color: #2196F3; font-size: 14px;'>\n",
              "                📝 Comment 21/50 | Sentiment: Neutral\n",
              "            </strong>\n",
              "            <span style=\"color: #666; font-size: 12px;\">⏱️ 0.39s</span>\n",
              "        </div>\n",
              "        <div style='background: rgba(255,255,255,0.8); padding: 10px; border-radius: 6px;\n",
              "                    border: 1px solid #e0e0e0; font-size: 13px; line-height: 1.4;'>\n",
              "            <em>\"Antha daily tinadhaniki money yekkadivi bro athaniki\"</em>\n",
              "        </div>\n",
              "    </div>\n",
              "    "
            ]
          },
          "metadata": {}
        },
        {
          "output_type": "stream",
          "name": "stderr",
          "text": [
            "The following generation flags are not valid and may be ignored: ['temperature', 'top_p']. Set `TRANSFORMERS_VERBOSITY=info` for more details.\n"
          ]
        },
        {
          "output_type": "stream",
          "name": "stdout",
          "text": [
            "DEBUG: LLM Response: 'Neutral' -> Extracted: Neutral\n"
          ]
        },
        {
          "output_type": "display_data",
          "data": {
            "text/plain": [
              "<IPython.core.display.HTML object>"
            ],
            "text/html": [
              "\n",
              "    <div style='border-left: 4px solid #2196F3;\n",
              "                background: linear-gradient(90deg, #2196F315, transparent);\n",
              "                padding: 12px; margin: 8px 0; border-radius: 0 8px 8px 0;\n",
              "                font-family: \"Segoe UI\", Arial, sans-serif;'>\n",
              "        <div style='display: flex; justify-content: space-between; align-items: center; margin-bottom: 8px;'>\n",
              "            <strong style='color: #2196F3; font-size: 14px;'>\n",
              "                📝 Comment 22/50 | Sentiment: Neutral\n",
              "            </strong>\n",
              "            <span style=\"color: #666; font-size: 12px;\">⏱️ 0.41s</span>\n",
              "        </div>\n",
              "        <div style='background: rgba(255,255,255,0.8); padding: 10px; border-radius: 6px;\n",
              "                    border: 1px solid #e0e0e0; font-size: 13px; line-height: 1.4;'>\n",
              "            <em>\"❤❤❤❤😂😂😂😂😂😂😂\"</em>\n",
              "        </div>\n",
              "    </div>\n",
              "    "
            ]
          },
          "metadata": {}
        },
        {
          "output_type": "stream",
          "name": "stderr",
          "text": [
            "The following generation flags are not valid and may be ignored: ['temperature', 'top_p']. Set `TRANSFORMERS_VERBOSITY=info` for more details.\n"
          ]
        },
        {
          "output_type": "stream",
          "name": "stdout",
          "text": [
            "DEBUG: LLM Response: 'Negative' -> Extracted: Negative\n"
          ]
        },
        {
          "output_type": "display_data",
          "data": {
            "text/plain": [
              "<IPython.core.display.HTML object>"
            ],
            "text/html": [
              "\n",
              "    <div style='border-left: 4px solid #F44336;\n",
              "                background: linear-gradient(90deg, #F4433615, transparent);\n",
              "                padding: 12px; margin: 8px 0; border-radius: 0 8px 8px 0;\n",
              "                font-family: \"Segoe UI\", Arial, sans-serif;'>\n",
              "        <div style='display: flex; justify-content: space-between; align-items: center; margin-bottom: 8px;'>\n",
              "            <strong style='color: #F44336; font-size: 14px;'>\n",
              "                📝 Comment 23/50 | Sentiment: Negative\n",
              "            </strong>\n",
              "            <span style=\"color: #666; font-size: 12px;\">⏱️ 0.41s</span>\n",
              "        </div>\n",
              "        <div style='background: rgba(255,255,255,0.8); padding: 10px; border-radius: 6px;\n",
              "                    border: 1px solid #e0e0e0; font-size: 13px; line-height: 1.4;'>\n",
              "            <em>\"U are having clubbing in ur fingers....could be due to smoking or lung or heart problem....plz get a physician consultation for evaluation\"</em>\n",
              "        </div>\n",
              "    </div>\n",
              "    "
            ]
          },
          "metadata": {}
        },
        {
          "output_type": "stream",
          "name": "stderr",
          "text": [
            "The following generation flags are not valid and may be ignored: ['temperature', 'top_p']. Set `TRANSFORMERS_VERBOSITY=info` for more details.\n"
          ]
        },
        {
          "output_type": "stream",
          "name": "stdout",
          "text": [
            "DEBUG: LLM Response: 'Neutral' -> Extracted: Neutral\n"
          ]
        },
        {
          "output_type": "display_data",
          "data": {
            "text/plain": [
              "<IPython.core.display.HTML object>"
            ],
            "text/html": [
              "\n",
              "    <div style='border-left: 4px solid #2196F3;\n",
              "                background: linear-gradient(90deg, #2196F315, transparent);\n",
              "                padding: 12px; margin: 8px 0; border-radius: 0 8px 8px 0;\n",
              "                font-family: \"Segoe UI\", Arial, sans-serif;'>\n",
              "        <div style='display: flex; justify-content: space-between; align-items: center; margin-bottom: 8px;'>\n",
              "            <strong style='color: #2196F3; font-size: 14px;'>\n",
              "                📝 Comment 24/50 | Sentiment: Neutral\n",
              "            </strong>\n",
              "            <span style=\"color: #666; font-size: 12px;\">⏱️ 0.37s</span>\n",
              "        </div>\n",
              "        <div style='background: rgba(255,255,255,0.8); padding: 10px; border-radius: 6px;\n",
              "                    border: 1px solid #e0e0e0; font-size: 13px; line-height: 1.4;'>\n",
              "            <em>\"Anna navvi navvi sacchipoya anna😂😂\"</em>\n",
              "        </div>\n",
              "    </div>\n",
              "    "
            ]
          },
          "metadata": {}
        },
        {
          "output_type": "stream",
          "name": "stderr",
          "text": [
            "The following generation flags are not valid and may be ignored: ['temperature', 'top_p']. Set `TRANSFORMERS_VERBOSITY=info` for more details.\n"
          ]
        },
        {
          "output_type": "stream",
          "name": "stdout",
          "text": [
            "DEBUG: LLM Response: 'Negative' -> Extracted: Negative\n"
          ]
        },
        {
          "output_type": "display_data",
          "data": {
            "text/plain": [
              "<IPython.core.display.HTML object>"
            ],
            "text/html": [
              "\n",
              "    <div style='border-left: 4px solid #F44336;\n",
              "                background: linear-gradient(90deg, #F4433615, transparent);\n",
              "                padding: 12px; margin: 8px 0; border-radius: 0 8px 8px 0;\n",
              "                font-family: \"Segoe UI\", Arial, sans-serif;'>\n",
              "        <div style='display: flex; justify-content: space-between; align-items: center; margin-bottom: 8px;'>\n",
              "            <strong style='color: #F44336; font-size: 14px;'>\n",
              "                📝 Comment 25/50 | Sentiment: Negative\n",
              "            </strong>\n",
              "            <span style=\"color: #666; font-size: 12px;\">⏱️ 0.40s</span>\n",
              "        </div>\n",
              "        <div style='background: rgba(255,255,255,0.8); padding: 10px; border-radius: 6px;\n",
              "                    border: 1px solid #e0e0e0; font-size: 13px; line-height: 1.4;'>\n",
              "            <em>\"Sighu ledha miku puku😢😢😢\"</em>\n",
              "        </div>\n",
              "    </div>\n",
              "    "
            ]
          },
          "metadata": {}
        },
        {
          "output_type": "stream",
          "name": "stderr",
          "text": [
            "The following generation flags are not valid and may be ignored: ['temperature', 'top_p']. Set `TRANSFORMERS_VERBOSITY=info` for more details.\n"
          ]
        },
        {
          "output_type": "stream",
          "name": "stdout",
          "text": [
            "DEBUG: LLM Response: 'Neutral' -> Extracted: Neutral\n"
          ]
        },
        {
          "output_type": "display_data",
          "data": {
            "text/plain": [
              "<IPython.core.display.HTML object>"
            ],
            "text/html": [
              "\n",
              "    <div style='border-left: 4px solid #2196F3;\n",
              "                background: linear-gradient(90deg, #2196F315, transparent);\n",
              "                padding: 12px; margin: 8px 0; border-radius: 0 8px 8px 0;\n",
              "                font-family: \"Segoe UI\", Arial, sans-serif;'>\n",
              "        <div style='display: flex; justify-content: space-between; align-items: center; margin-bottom: 8px;'>\n",
              "            <strong style='color: #2196F3; font-size: 14px;'>\n",
              "                📝 Comment 26/50 | Sentiment: Neutral\n",
              "            </strong>\n",
              "            <span style=\"color: #666; font-size: 12px;\">⏱️ 0.42s</span>\n",
              "        </div>\n",
              "        <div style='background: rgba(255,255,255,0.8); padding: 10px; border-radius: 6px;\n",
              "                    border: 1px solid #e0e0e0; font-size: 13px; line-height: 1.4;'>\n",
              "            <em>\"Anna vadiki yeakkadaninchi dobbulu vasta vundhi bro\"</em>\n",
              "        </div>\n",
              "    </div>\n",
              "    "
            ]
          },
          "metadata": {}
        },
        {
          "output_type": "stream",
          "name": "stderr",
          "text": [
            "The following generation flags are not valid and may be ignored: ['temperature', 'top_p']. Set `TRANSFORMERS_VERBOSITY=info` for more details.\n"
          ]
        },
        {
          "output_type": "stream",
          "name": "stdout",
          "text": [
            "DEBUG: LLM Response: 'Neutral' -> Extracted: Neutral\n"
          ]
        },
        {
          "output_type": "display_data",
          "data": {
            "text/plain": [
              "<IPython.core.display.HTML object>"
            ],
            "text/html": [
              "\n",
              "    <div style='border-left: 4px solid #2196F3;\n",
              "                background: linear-gradient(90deg, #2196F315, transparent);\n",
              "                padding: 12px; margin: 8px 0; border-radius: 0 8px 8px 0;\n",
              "                font-family: \"Segoe UI\", Arial, sans-serif;'>\n",
              "        <div style='display: flex; justify-content: space-between; align-items: center; margin-bottom: 8px;'>\n",
              "            <strong style='color: #2196F3; font-size: 14px;'>\n",
              "                📝 Comment 27/50 | Sentiment: Neutral\n",
              "            </strong>\n",
              "            <span style=\"color: #666; font-size: 12px;\">⏱️ 0.42s</span>\n",
              "        </div>\n",
              "        <div style='background: rgba(255,255,255,0.8); padding: 10px; border-radius: 6px;\n",
              "                    border: 1px solid #e0e0e0; font-size: 13px; line-height: 1.4;'>\n",
              "            <em>\"Vastuadu dengii tintadu saripolesu antadu 😂 kadupa cheruva bayaaaaa 😅\"</em>\n",
              "        </div>\n",
              "    </div>\n",
              "    "
            ]
          },
          "metadata": {}
        },
        {
          "output_type": "stream",
          "name": "stderr",
          "text": [
            "The following generation flags are not valid and may be ignored: ['temperature', 'top_p']. Set `TRANSFORMERS_VERBOSITY=info` for more details.\n"
          ]
        },
        {
          "output_type": "stream",
          "name": "stdout",
          "text": [
            "DEBUG: LLM Response: 'Negative' -> Extracted: Negative\n"
          ]
        },
        {
          "output_type": "display_data",
          "data": {
            "text/plain": [
              "<IPython.core.display.HTML object>"
            ],
            "text/html": [
              "\n",
              "    <div style='border-left: 4px solid #F44336;\n",
              "                background: linear-gradient(90deg, #F4433615, transparent);\n",
              "                padding: 12px; margin: 8px 0; border-radius: 0 8px 8px 0;\n",
              "                font-family: \"Segoe UI\", Arial, sans-serif;'>\n",
              "        <div style='display: flex; justify-content: space-between; align-items: center; margin-bottom: 8px;'>\n",
              "            <strong style='color: #F44336; font-size: 14px;'>\n",
              "                📝 Comment 28/50 | Sentiment: Negative\n",
              "            </strong>\n",
              "            <span style=\"color: #666; font-size: 12px;\">⏱️ 0.41s</span>\n",
              "        </div>\n",
              "        <div style='background: rgba(255,255,255,0.8); padding: 10px; border-radius: 6px;\n",
              "                    border: 1px solid #e0e0e0; font-size: 13px; line-height: 1.4;'>\n",
              "            <em>\"అన్న ఈడు డబల్ ఎగ్ దోశ గాడు అన్న 😂😂\"</em>\n",
              "        </div>\n",
              "    </div>\n",
              "    "
            ]
          },
          "metadata": {}
        },
        {
          "output_type": "stream",
          "name": "stderr",
          "text": [
            "The following generation flags are not valid and may be ignored: ['temperature', 'top_p']. Set `TRANSFORMERS_VERBOSITY=info` for more details.\n"
          ]
        },
        {
          "output_type": "stream",
          "name": "stdout",
          "text": [
            "DEBUG: LLM Response: 'Negative' -> Extracted: Negative\n"
          ]
        },
        {
          "output_type": "display_data",
          "data": {
            "text/plain": [
              "<IPython.core.display.HTML object>"
            ],
            "text/html": [
              "\n",
              "    <div style='border-left: 4px solid #F44336;\n",
              "                background: linear-gradient(90deg, #F4433615, transparent);\n",
              "                padding: 12px; margin: 8px 0; border-radius: 0 8px 8px 0;\n",
              "                font-family: \"Segoe UI\", Arial, sans-serif;'>\n",
              "        <div style='display: flex; justify-content: space-between; align-items: center; margin-bottom: 8px;'>\n",
              "            <strong style='color: #F44336; font-size: 14px;'>\n",
              "                📝 Comment 29/50 | Sentiment: Negative\n",
              "            </strong>\n",
              "            <span style=\"color: #666; font-size: 12px;\">⏱️ 0.40s</span>\n",
              "        </div>\n",
              "        <div style='background: rgba(255,255,255,0.8); padding: 10px; border-radius: 6px;\n",
              "                    border: 1px solid #e0e0e0; font-size: 13px; line-height: 1.4;'>\n",
              "            <em>\"Depression edusthuna bhayya me video chusaka a bhadha antha poyindhi 😭🩷🫂... Tqsm brooo 😭🩷🫂\"</em>\n",
              "        </div>\n",
              "    </div>\n",
              "    "
            ]
          },
          "metadata": {}
        },
        {
          "output_type": "stream",
          "name": "stderr",
          "text": [
            "The following generation flags are not valid and may be ignored: ['temperature', 'top_p']. Set `TRANSFORMERS_VERBOSITY=info` for more details.\n"
          ]
        },
        {
          "output_type": "stream",
          "name": "stdout",
          "text": [
            "DEBUG: LLM Response: 'Negative' -> Extracted: Negative\n"
          ]
        },
        {
          "output_type": "display_data",
          "data": {
            "text/plain": [
              "<IPython.core.display.HTML object>"
            ],
            "text/html": [
              "\n",
              "    <div style='border-left: 4px solid #F44336;\n",
              "                background: linear-gradient(90deg, #F4433615, transparent);\n",
              "                padding: 12px; margin: 8px 0; border-radius: 0 8px 8px 0;\n",
              "                font-family: \"Segoe UI\", Arial, sans-serif;'>\n",
              "        <div style='display: flex; justify-content: space-between; align-items: center; margin-bottom: 8px;'>\n",
              "            <strong style='color: #F44336; font-size: 14px;'>\n",
              "                📝 Comment 30/50 | Sentiment: Negative\n",
              "            </strong>\n",
              "            <span style=\"color: #666; font-size: 12px;\">⏱️ 0.40s</span>\n",
              "        </div>\n",
              "        <div style='background: rgba(255,255,255,0.8); padding: 10px; border-radius: 6px;\n",
              "                    border: 1px solid #e0e0e0; font-size: 13px; line-height: 1.4;'>\n",
              "            <em>\"Chillar nayala andhra kada g Balupu baga periginattundi pani pata leka ntra edi mek avasarama...\"</em>\n",
              "        </div>\n",
              "    </div>\n",
              "    "
            ]
          },
          "metadata": {}
        },
        {
          "output_type": "stream",
          "name": "stderr",
          "text": [
            "The following generation flags are not valid and may be ignored: ['temperature', 'top_p']. Set `TRANSFORMERS_VERBOSITY=info` for more details.\n"
          ]
        },
        {
          "output_type": "stream",
          "name": "stdout",
          "text": [
            "DEBUG: LLM Response: 'Neutral' -> Extracted: Neutral\n"
          ]
        },
        {
          "output_type": "display_data",
          "data": {
            "text/plain": [
              "<IPython.core.display.HTML object>"
            ],
            "text/html": [
              "\n",
              "    <div style='border-left: 4px solid #2196F3;\n",
              "                background: linear-gradient(90deg, #2196F315, transparent);\n",
              "                padding: 12px; margin: 8px 0; border-radius: 0 8px 8px 0;\n",
              "                font-family: \"Segoe UI\", Arial, sans-serif;'>\n",
              "        <div style='display: flex; justify-content: space-between; align-items: center; margin-bottom: 8px;'>\n",
              "            <strong style='color: #2196F3; font-size: 14px;'>\n",
              "                📝 Comment 31/50 | Sentiment: Neutral\n",
              "            </strong>\n",
              "            <span style=\"color: #666; font-size: 12px;\">⏱️ 0.40s</span>\n",
              "        </div>\n",
              "        <div style='background: rgba(255,255,255,0.8); padding: 10px; border-radius: 6px;\n",
              "                    border: 1px solid #e0e0e0; font-size: 13px; line-height: 1.4;'>\n",
              "            <em>\"Anna monna live lo 40 samosalu tinnadu 😌\"</em>\n",
              "        </div>\n",
              "    </div>\n",
              "    "
            ]
          },
          "metadata": {}
        },
        {
          "output_type": "stream",
          "name": "stderr",
          "text": [
            "The following generation flags are not valid and may be ignored: ['temperature', 'top_p']. Set `TRANSFORMERS_VERBOSITY=info` for more details.\n"
          ]
        },
        {
          "output_type": "stream",
          "name": "stdout",
          "text": [
            "DEBUG: LLM Response: 'Neutral' -> Extracted: Neutral\n"
          ]
        },
        {
          "output_type": "display_data",
          "data": {
            "text/plain": [
              "<IPython.core.display.HTML object>"
            ],
            "text/html": [
              "\n",
              "    <div style='border-left: 4px solid #2196F3;\n",
              "                background: linear-gradient(90deg, #2196F315, transparent);\n",
              "                padding: 12px; margin: 8px 0; border-radius: 0 8px 8px 0;\n",
              "                font-family: \"Segoe UI\", Arial, sans-serif;'>\n",
              "        <div style='display: flex; justify-content: space-between; align-items: center; margin-bottom: 8px;'>\n",
              "            <strong style='color: #2196F3; font-size: 14px;'>\n",
              "                📝 Comment 32/50 | Sentiment: Neutral\n",
              "            </strong>\n",
              "            <span style=\"color: #666; font-size: 12px;\">⏱️ 0.41s</span>\n",
              "        </div>\n",
              "        <div style='background: rgba(255,255,255,0.8); padding: 10px; border-radius: 6px;\n",
              "                    border: 1px solid #e0e0e0; font-size: 13px; line-height: 1.4;'>\n",
              "            <em>\"Bhayya meeru sappattu raman videos chusi vaati mida kooda cheyyandi\"</em>\n",
              "        </div>\n",
              "    </div>\n",
              "    "
            ]
          },
          "metadata": {}
        },
        {
          "output_type": "stream",
          "name": "stderr",
          "text": [
            "The following generation flags are not valid and may be ignored: ['temperature', 'top_p']. Set `TRANSFORMERS_VERBOSITY=info` for more details.\n"
          ]
        },
        {
          "output_type": "stream",
          "name": "stdout",
          "text": [
            "DEBUG: LLM Response: 'Neutral' -> Extracted: Neutral\n"
          ]
        },
        {
          "output_type": "display_data",
          "data": {
            "text/plain": [
              "<IPython.core.display.HTML object>"
            ],
            "text/html": [
              "\n",
              "    <div style='border-left: 4px solid #2196F3;\n",
              "                background: linear-gradient(90deg, #2196F315, transparent);\n",
              "                padding: 12px; margin: 8px 0; border-radius: 0 8px 8px 0;\n",
              "                font-family: \"Segoe UI\", Arial, sans-serif;'>\n",
              "        <div style='display: flex; justify-content: space-between; align-items: center; margin-bottom: 8px;'>\n",
              "            <strong style='color: #2196F3; font-size: 14px;'>\n",
              "                📝 Comment 33/50 | Sentiment: Neutral\n",
              "            </strong>\n",
              "            <span style=\"color: #666; font-size: 12px;\">⏱️ 0.40s</span>\n",
              "        </div>\n",
              "        <div style='background: rgba(255,255,255,0.8); padding: 10px; border-radius: 6px;\n",
              "                    border: 1px solid #e0e0e0; font-size: 13px; line-height: 1.4;'>\n",
              "            <em>\"Navvi navvi sachipothe avaru responsibility bro..😂😂😂 Kumba karnudu aiena 6 months thini 6 months padukuntadu nuventiii brooo\"</em>\n",
              "        </div>\n",
              "    </div>\n",
              "    "
            ]
          },
          "metadata": {}
        },
        {
          "output_type": "stream",
          "name": "stderr",
          "text": [
            "The following generation flags are not valid and may be ignored: ['temperature', 'top_p']. Set `TRANSFORMERS_VERBOSITY=info` for more details.\n"
          ]
        },
        {
          "output_type": "stream",
          "name": "stdout",
          "text": [
            "DEBUG: LLM Response: 'Neutral' -> Extracted: Neutral\n"
          ]
        },
        {
          "output_type": "display_data",
          "data": {
            "text/plain": [
              "<IPython.core.display.HTML object>"
            ],
            "text/html": [
              "\n",
              "    <div style='border-left: 4px solid #2196F3;\n",
              "                background: linear-gradient(90deg, #2196F315, transparent);\n",
              "                padding: 12px; margin: 8px 0; border-radius: 0 8px 8px 0;\n",
              "                font-family: \"Segoe UI\", Arial, sans-serif;'>\n",
              "        <div style='display: flex; justify-content: space-between; align-items: center; margin-bottom: 8px;'>\n",
              "            <strong style='color: #2196F3; font-size: 14px;'>\n",
              "                📝 Comment 34/50 | Sentiment: Neutral\n",
              "            </strong>\n",
              "            <span style=\"color: #666; font-size: 12px;\">⏱️ 0.39s</span>\n",
              "        </div>\n",
              "        <div style='background: rgba(255,255,255,0.8); padding: 10px; border-radius: 6px;\n",
              "                    border: 1px solid #e0e0e0; font-size: 13px; line-height: 1.4;'>\n",
              "            <em>\"This video never gets old ..if I am getting stressed coming to watch this video brooo\"</em>\n",
              "        </div>\n",
              "    </div>\n",
              "    "
            ]
          },
          "metadata": {}
        },
        {
          "output_type": "stream",
          "name": "stderr",
          "text": [
            "The following generation flags are not valid and may be ignored: ['temperature', 'top_p']. Set `TRANSFORMERS_VERBOSITY=info` for more details.\n"
          ]
        },
        {
          "output_type": "stream",
          "name": "stdout",
          "text": [
            "DEBUG: LLM Response: 'Neutral' -> Extracted: Neutral\n"
          ]
        },
        {
          "output_type": "display_data",
          "data": {
            "text/plain": [
              "<IPython.core.display.HTML object>"
            ],
            "text/html": [
              "\n",
              "    <div style='border-left: 4px solid #2196F3;\n",
              "                background: linear-gradient(90deg, #2196F315, transparent);\n",
              "                padding: 12px; margin: 8px 0; border-radius: 0 8px 8px 0;\n",
              "                font-family: \"Segoe UI\", Arial, sans-serif;'>\n",
              "        <div style='display: flex; justify-content: space-between; align-items: center; margin-bottom: 8px;'>\n",
              "            <strong style='color: #2196F3; font-size: 14px;'>\n",
              "                📝 Comment 35/50 | Sentiment: Neutral\n",
              "            </strong>\n",
              "            <span style=\"color: #666; font-size: 12px;\">⏱️ 0.39s</span>\n",
              "        </div>\n",
              "        <div style='background: rgba(255,255,255,0.8); padding: 10px; border-radius: 6px;\n",
              "                    border: 1px solid #e0e0e0; font-size: 13px; line-height: 1.4;'>\n",
              "            <em>\"https://youtu.be/UQEKer2-vnc?si=0xTjf0oMG9_tyvJw\"</em>\n",
              "        </div>\n",
              "    </div>\n",
              "    "
            ]
          },
          "metadata": {}
        },
        {
          "output_type": "stream",
          "name": "stderr",
          "text": [
            "The following generation flags are not valid and may be ignored: ['temperature', 'top_p']. Set `TRANSFORMERS_VERBOSITY=info` for more details.\n"
          ]
        },
        {
          "output_type": "stream",
          "name": "stdout",
          "text": [
            "DEBUG: LLM Response: 'Negative' -> Extracted: Negative\n"
          ]
        },
        {
          "output_type": "display_data",
          "data": {
            "text/plain": [
              "<IPython.core.display.HTML object>"
            ],
            "text/html": [
              "\n",
              "    <div style='border-left: 4px solid #F44336;\n",
              "                background: linear-gradient(90deg, #F4433615, transparent);\n",
              "                padding: 12px; margin: 8px 0; border-radius: 0 8px 8px 0;\n",
              "                font-family: \"Segoe UI\", Arial, sans-serif;'>\n",
              "        <div style='display: flex; justify-content: space-between; align-items: center; margin-bottom: 8px;'>\n",
              "            <strong style='color: #F44336; font-size: 14px;'>\n",
              "                📝 Comment 36/50 | Sentiment: Negative\n",
              "            </strong>\n",
              "            <span style=\"color: #666; font-size: 12px;\">⏱️ 0.45s</span>\n",
              "        </div>\n",
              "        <div style='background: rgba(255,255,255,0.8); padding: 10px; border-radius: 6px;\n",
              "                    border: 1px solid #e0e0e0; font-size: 13px; line-height: 1.4;'>\n",
              "            <em>\"Fasting concept untey Just morning ki green leafy veggie salad,adhi saripokapothe vegetable salad adhi saripokapothe vegetable juices 2 or 3 Then for ...\"</em>\n",
              "        </div>\n",
              "    </div>\n",
              "    "
            ]
          },
          "metadata": {}
        },
        {
          "output_type": "stream",
          "name": "stderr",
          "text": [
            "The following generation flags are not valid and may be ignored: ['temperature', 'top_p']. Set `TRANSFORMERS_VERBOSITY=info` for more details.\n"
          ]
        },
        {
          "output_type": "stream",
          "name": "stdout",
          "text": [
            "DEBUG: LLM Response: 'Negative' -> Extracted: Negative\n"
          ]
        },
        {
          "output_type": "display_data",
          "data": {
            "text/plain": [
              "<IPython.core.display.HTML object>"
            ],
            "text/html": [
              "\n",
              "    <div style='border-left: 4px solid #F44336;\n",
              "                background: linear-gradient(90deg, #F4433615, transparent);\n",
              "                padding: 12px; margin: 8px 0; border-radius: 0 8px 8px 0;\n",
              "                font-family: \"Segoe UI\", Arial, sans-serif;'>\n",
              "        <div style='display: flex; justify-content: space-between; align-items: center; margin-bottom: 8px;'>\n",
              "            <strong style='color: #F44336; font-size: 14px;'>\n",
              "                📝 Comment 37/50 | Sentiment: Negative\n",
              "            </strong>\n",
              "            <span style=\"color: #666; font-size: 12px;\">⏱️ 0.41s</span>\n",
              "        </div>\n",
              "        <div style='background: rgba(255,255,255,0.8); padding: 10px; border-radius: 6px;\n",
              "                    border: 1px solid #e0e0e0; font-size: 13px; line-height: 1.4;'>\n",
              "            <em>\"Yudham kuda aaru thavata apestaru kadara nuvu inka tintane nuvu 😭😭😂😂🤣🤣🤣🤣🤣🤣🤣🤣🤣\"</em>\n",
              "        </div>\n",
              "    </div>\n",
              "    "
            ]
          },
          "metadata": {}
        },
        {
          "output_type": "stream",
          "name": "stderr",
          "text": [
            "The following generation flags are not valid and may be ignored: ['temperature', 'top_p']. Set `TRANSFORMERS_VERBOSITY=info` for more details.\n"
          ]
        },
        {
          "output_type": "stream",
          "name": "stdout",
          "text": [
            "DEBUG: LLM Response: 'Neutral' -> Extracted: Neutral\n"
          ]
        },
        {
          "output_type": "display_data",
          "data": {
            "text/plain": [
              "<IPython.core.display.HTML object>"
            ],
            "text/html": [
              "\n",
              "    <div style='border-left: 4px solid #2196F3;\n",
              "                background: linear-gradient(90deg, #2196F315, transparent);\n",
              "                padding: 12px; margin: 8px 0; border-radius: 0 8px 8px 0;\n",
              "                font-family: \"Segoe UI\", Arial, sans-serif;'>\n",
              "        <div style='display: flex; justify-content: space-between; align-items: center; margin-bottom: 8px;'>\n",
              "            <strong style='color: #2196F3; font-size: 14px;'>\n",
              "                📝 Comment 38/50 | Sentiment: Neutral\n",
              "            </strong>\n",
              "            <span style=\"color: #666; font-size: 12px;\">⏱️ 0.40s</span>\n",
              "        </div>\n",
              "        <div style='background: rgba(255,255,255,0.8); padding: 10px; border-radius: 6px;\n",
              "                    border: 1px solid #e0e0e0; font-size: 13px; line-height: 1.4;'>\n",
              "            <em>\"18:47 bro aapand bro😂😂😂😂🤣\"</em>\n",
              "        </div>\n",
              "    </div>\n",
              "    "
            ]
          },
          "metadata": {}
        },
        {
          "output_type": "stream",
          "name": "stderr",
          "text": [
            "The following generation flags are not valid and may be ignored: ['temperature', 'top_p']. Set `TRANSFORMERS_VERBOSITY=info` for more details.\n"
          ]
        },
        {
          "output_type": "stream",
          "name": "stdout",
          "text": [
            "DEBUG: LLM Response: 'Neutral' -> Extracted: Neutral\n"
          ]
        },
        {
          "output_type": "display_data",
          "data": {
            "text/plain": [
              "<IPython.core.display.HTML object>"
            ],
            "text/html": [
              "\n",
              "    <div style='border-left: 4px solid #2196F3;\n",
              "                background: linear-gradient(90deg, #2196F315, transparent);\n",
              "                padding: 12px; margin: 8px 0; border-radius: 0 8px 8px 0;\n",
              "                font-family: \"Segoe UI\", Arial, sans-serif;'>\n",
              "        <div style='display: flex; justify-content: space-between; align-items: center; margin-bottom: 8px;'>\n",
              "            <strong style='color: #2196F3; font-size: 14px;'>\n",
              "                📝 Comment 39/50 | Sentiment: Neutral\n",
              "            </strong>\n",
              "            <span style=\"color: #666; font-size: 12px;\">⏱️ 0.36s</span>\n",
              "        </div>\n",
              "        <div style='background: rgba(255,255,255,0.8); padding: 10px; border-radius: 6px;\n",
              "                    border: 1px solid #e0e0e0; font-size: 13px; line-height: 1.4;'>\n",
              "            <em>\"Saripoda pratiroju\"</em>\n",
              "        </div>\n",
              "    </div>\n",
              "    "
            ]
          },
          "metadata": {}
        },
        {
          "output_type": "stream",
          "name": "stderr",
          "text": [
            "The following generation flags are not valid and may be ignored: ['temperature', 'top_p']. Set `TRANSFORMERS_VERBOSITY=info` for more details.\n"
          ]
        },
        {
          "output_type": "stream",
          "name": "stdout",
          "text": [
            "DEBUG: LLM Response: 'Neutral' -> Extracted: Neutral\n"
          ]
        },
        {
          "output_type": "display_data",
          "data": {
            "text/plain": [
              "<IPython.core.display.HTML object>"
            ],
            "text/html": [
              "\n",
              "    <div style='border-left: 4px solid #2196F3;\n",
              "                background: linear-gradient(90deg, #2196F315, transparent);\n",
              "                padding: 12px; margin: 8px 0; border-radius: 0 8px 8px 0;\n",
              "                font-family: \"Segoe UI\", Arial, sans-serif;'>\n",
              "        <div style='display: flex; justify-content: space-between; align-items: center; margin-bottom: 8px;'>\n",
              "            <strong style='color: #2196F3; font-size: 14px;'>\n",
              "                📝 Comment 40/50 | Sentiment: Neutral\n",
              "            </strong>\n",
              "            <span style=\"color: #666; font-size: 12px;\">⏱️ 0.40s</span>\n",
              "        </div>\n",
              "        <div style='background: rgba(255,255,255,0.8); padding: 10px; border-radius: 6px;\n",
              "                    border: 1px solid #e0e0e0; font-size: 13px; line-height: 1.4;'>\n",
              "            <em>\"Rendu nelala tarvatha choosina... Malla aalne kadupulo tipputhundi bro 🙂\"</em>\n",
              "        </div>\n",
              "    </div>\n",
              "    "
            ]
          },
          "metadata": {}
        },
        {
          "output_type": "stream",
          "name": "stderr",
          "text": [
            "The following generation flags are not valid and may be ignored: ['temperature', 'top_p']. Set `TRANSFORMERS_VERBOSITY=info` for more details.\n"
          ]
        },
        {
          "output_type": "stream",
          "name": "stdout",
          "text": [
            "DEBUG: LLM Response: 'Negative' -> Extracted: Negative\n"
          ]
        },
        {
          "output_type": "display_data",
          "data": {
            "text/plain": [
              "<IPython.core.display.HTML object>"
            ],
            "text/html": [
              "\n",
              "    <div style='border-left: 4px solid #F44336;\n",
              "                background: linear-gradient(90deg, #F4433615, transparent);\n",
              "                padding: 12px; margin: 8px 0; border-radius: 0 8px 8px 0;\n",
              "                font-family: \"Segoe UI\", Arial, sans-serif;'>\n",
              "        <div style='display: flex; justify-content: space-between; align-items: center; margin-bottom: 8px;'>\n",
              "            <strong style='color: #F44336; font-size: 14px;'>\n",
              "                📝 Comment 41/50 | Sentiment: Negative\n",
              "            </strong>\n",
              "            <span style=\"color: #666; font-size: 12px;\">⏱️ 0.39s</span>\n",
              "        </div>\n",
              "        <div style='background: rgba(255,255,255,0.8); padding: 10px; border-radius: 6px;\n",
              "                    border: 1px solid #e0e0e0; font-size: 13px; line-height: 1.4;'>\n",
              "            <em>\"Meku anduku brother taneke meru hamana money hetanara tana money tanu istam meku haduguku\"</em>\n",
              "        </div>\n",
              "    </div>\n",
              "    "
            ]
          },
          "metadata": {}
        },
        {
          "output_type": "stream",
          "name": "stderr",
          "text": [
            "The following generation flags are not valid and may be ignored: ['temperature', 'top_p']. Set `TRANSFORMERS_VERBOSITY=info` for more details.\n"
          ]
        },
        {
          "output_type": "stream",
          "name": "stdout",
          "text": [
            "DEBUG: LLM Response: 'Neutral' -> Extracted: Neutral\n"
          ]
        },
        {
          "output_type": "display_data",
          "data": {
            "text/plain": [
              "<IPython.core.display.HTML object>"
            ],
            "text/html": [
              "\n",
              "    <div style='border-left: 4px solid #2196F3;\n",
              "                background: linear-gradient(90deg, #2196F315, transparent);\n",
              "                padding: 12px; margin: 8px 0; border-radius: 0 8px 8px 0;\n",
              "                font-family: \"Segoe UI\", Arial, sans-serif;'>\n",
              "        <div style='display: flex; justify-content: space-between; align-items: center; margin-bottom: 8px;'>\n",
              "            <strong style='color: #2196F3; font-size: 14px;'>\n",
              "                📝 Comment 42/50 | Sentiment: Neutral\n",
              "            </strong>\n",
              "            <span style=\"color: #666; font-size: 12px;\">⏱️ 0.37s</span>\n",
              "        </div>\n",
              "        <div style='background: rgba(255,255,255,0.8); padding: 10px; border-radius: 6px;\n",
              "                    border: 1px solid #e0e0e0; font-size: 13px; line-height: 1.4;'>\n",
              "            <em>\"Anna the paradise glimpse reaction cheyyandi plzz\"</em>\n",
              "        </div>\n",
              "    </div>\n",
              "    "
            ]
          },
          "metadata": {}
        },
        {
          "output_type": "stream",
          "name": "stderr",
          "text": [
            "The following generation flags are not valid and may be ignored: ['temperature', 'top_p']. Set `TRANSFORMERS_VERBOSITY=info` for more details.\n"
          ]
        },
        {
          "output_type": "stream",
          "name": "stdout",
          "text": [
            "DEBUG: LLM Response: 'Neutral' -> Extracted: Neutral\n"
          ]
        },
        {
          "output_type": "display_data",
          "data": {
            "text/plain": [
              "<IPython.core.display.HTML object>"
            ],
            "text/html": [
              "\n",
              "    <div style='border-left: 4px solid #2196F3;\n",
              "                background: linear-gradient(90deg, #2196F315, transparent);\n",
              "                padding: 12px; margin: 8px 0; border-radius: 0 8px 8px 0;\n",
              "                font-family: \"Segoe UI\", Arial, sans-serif;'>\n",
              "        <div style='display: flex; justify-content: space-between; align-items: center; margin-bottom: 8px;'>\n",
              "            <strong style='color: #2196F3; font-size: 14px;'>\n",
              "                📝 Comment 43/50 | Sentiment: Neutral\n",
              "            </strong>\n",
              "            <span style=\"color: #666; font-size: 12px;\">⏱️ 0.36s</span>\n",
              "        </div>\n",
              "        <div style='background: rgba(255,255,255,0.8); padding: 10px; border-radius: 6px;\n",
              "                    border: 1px solid #e0e0e0; font-size: 13px; line-height: 1.4;'>\n",
              "            <em>\"Mayfel is a emotion\"</em>\n",
              "        </div>\n",
              "    </div>\n",
              "    "
            ]
          },
          "metadata": {}
        },
        {
          "output_type": "stream",
          "name": "stderr",
          "text": [
            "The following generation flags are not valid and may be ignored: ['temperature', 'top_p']. Set `TRANSFORMERS_VERBOSITY=info` for more details.\n"
          ]
        },
        {
          "output_type": "stream",
          "name": "stdout",
          "text": [
            "DEBUG: LLM Response: 'Neutral' -> Extracted: Neutral\n"
          ]
        },
        {
          "output_type": "display_data",
          "data": {
            "text/plain": [
              "<IPython.core.display.HTML object>"
            ],
            "text/html": [
              "\n",
              "    <div style='border-left: 4px solid #2196F3;\n",
              "                background: linear-gradient(90deg, #2196F315, transparent);\n",
              "                padding: 12px; margin: 8px 0; border-radius: 0 8px 8px 0;\n",
              "                font-family: \"Segoe UI\", Arial, sans-serif;'>\n",
              "        <div style='display: flex; justify-content: space-between; align-items: center; margin-bottom: 8px;'>\n",
              "            <strong style='color: #2196F3; font-size: 14px;'>\n",
              "                📝 Comment 44/50 | Sentiment: Neutral\n",
              "            </strong>\n",
              "            <span style=\"color: #666; font-size: 12px;\">⏱️ 0.40s</span>\n",
              "        </div>\n",
              "        <div style='background: rgba(255,255,255,0.8); padding: 10px; border-radius: 6px;\n",
              "                    border: 1px solid #e0e0e0; font-size: 13px; line-height: 1.4;'>\n",
              "            <em>\"Anna nenu nela motham thinedi okaroju thinndu bro\"</em>\n",
              "        </div>\n",
              "    </div>\n",
              "    "
            ]
          },
          "metadata": {}
        },
        {
          "output_type": "stream",
          "name": "stderr",
          "text": [
            "The following generation flags are not valid and may be ignored: ['temperature', 'top_p']. Set `TRANSFORMERS_VERBOSITY=info` for more details.\n"
          ]
        },
        {
          "output_type": "stream",
          "name": "stdout",
          "text": [
            "DEBUG: LLM Response: 'Neutral' -> Extracted: Neutral\n"
          ]
        },
        {
          "output_type": "display_data",
          "data": {
            "text/plain": [
              "<IPython.core.display.HTML object>"
            ],
            "text/html": [
              "\n",
              "    <div style='border-left: 4px solid #2196F3;\n",
              "                background: linear-gradient(90deg, #2196F315, transparent);\n",
              "                padding: 12px; margin: 8px 0; border-radius: 0 8px 8px 0;\n",
              "                font-family: \"Segoe UI\", Arial, sans-serif;'>\n",
              "        <div style='display: flex; justify-content: space-between; align-items: center; margin-bottom: 8px;'>\n",
              "            <strong style='color: #2196F3; font-size: 14px;'>\n",
              "                📝 Comment 45/50 | Sentiment: Neutral\n",
              "            </strong>\n",
              "            <span style=\"color: #666; font-size: 12px;\">⏱️ 0.38s</span>\n",
              "        </div>\n",
              "        <div style='background: rgba(255,255,255,0.8); padding: 10px; border-radius: 6px;\n",
              "                    border: 1px solid #e0e0e0; font-size: 13px; line-height: 1.4;'>\n",
              "            <em>\"Action⚔️ overaction\"</em>\n",
              "        </div>\n",
              "    </div>\n",
              "    "
            ]
          },
          "metadata": {}
        },
        {
          "output_type": "stream",
          "name": "stderr",
          "text": [
            "The following generation flags are not valid and may be ignored: ['temperature', 'top_p']. Set `TRANSFORMERS_VERBOSITY=info` for more details.\n"
          ]
        },
        {
          "output_type": "stream",
          "name": "stdout",
          "text": [
            "DEBUG: LLM Response: 'Negative' -> Extracted: Negative\n"
          ]
        },
        {
          "output_type": "display_data",
          "data": {
            "text/plain": [
              "<IPython.core.display.HTML object>"
            ],
            "text/html": [
              "\n",
              "    <div style='border-left: 4px solid #F44336;\n",
              "                background: linear-gradient(90deg, #F4433615, transparent);\n",
              "                padding: 12px; margin: 8px 0; border-radius: 0 8px 8px 0;\n",
              "                font-family: \"Segoe UI\", Arial, sans-serif;'>\n",
              "        <div style='display: flex; justify-content: space-between; align-items: center; margin-bottom: 8px;'>\n",
              "            <strong style='color: #F44336; font-size: 14px;'>\n",
              "                📝 Comment 46/50 | Sentiment: Negative\n",
              "            </strong>\n",
              "            <span style=\"color: #666; font-size: 12px;\">⏱️ 0.36s</span>\n",
              "        </div>\n",
              "        <div style='background: rgba(255,255,255,0.8); padding: 10px; border-radius: 6px;\n",
              "                    border: 1px solid #e0e0e0; font-size: 13px; line-height: 1.4;'>\n",
              "            <em>\"Some places it looked like fake laughter\"</em>\n",
              "        </div>\n",
              "    </div>\n",
              "    "
            ]
          },
          "metadata": {}
        },
        {
          "output_type": "stream",
          "name": "stderr",
          "text": [
            "The following generation flags are not valid and may be ignored: ['temperature', 'top_p']. Set `TRANSFORMERS_VERBOSITY=info` for more details.\n"
          ]
        },
        {
          "output_type": "stream",
          "name": "stdout",
          "text": [
            "DEBUG: LLM Response: 'Negative' -> Extracted: Negative\n"
          ]
        },
        {
          "output_type": "display_data",
          "data": {
            "text/plain": [
              "<IPython.core.display.HTML object>"
            ],
            "text/html": [
              "\n",
              "    <div style='border-left: 4px solid #F44336;\n",
              "                background: linear-gradient(90deg, #F4433615, transparent);\n",
              "                padding: 12px; margin: 8px 0; border-radius: 0 8px 8px 0;\n",
              "                font-family: \"Segoe UI\", Arial, sans-serif;'>\n",
              "        <div style='display: flex; justify-content: space-between; align-items: center; margin-bottom: 8px;'>\n",
              "            <strong style='color: #F44336; font-size: 14px;'>\n",
              "                📝 Comment 47/50 | Sentiment: Negative\n",
              "            </strong>\n",
              "            <span style=\"color: #666; font-size: 12px;\">⏱️ 0.40s</span>\n",
              "        </div>\n",
              "        <div style='background: rgba(255,255,255,0.8); padding: 10px; border-radius: 6px;\n",
              "                    border: 1px solid #e0e0e0; font-size: 13px; line-height: 1.4;'>\n",
              "            <em>\"Same bro laga inka vikashu same video but that man drink vi video chestadhu\"</em>\n",
              "        </div>\n",
              "    </div>\n",
              "    "
            ]
          },
          "metadata": {}
        },
        {
          "output_type": "stream",
          "name": "stderr",
          "text": [
            "The following generation flags are not valid and may be ignored: ['temperature', 'top_p']. Set `TRANSFORMERS_VERBOSITY=info` for more details.\n"
          ]
        },
        {
          "output_type": "stream",
          "name": "stdout",
          "text": [
            "DEBUG: LLM Response: 'Negative' -> Extracted: Negative\n"
          ]
        },
        {
          "output_type": "display_data",
          "data": {
            "text/plain": [
              "<IPython.core.display.HTML object>"
            ],
            "text/html": [
              "\n",
              "    <div style='border-left: 4px solid #F44336;\n",
              "                background: linear-gradient(90deg, #F4433615, transparent);\n",
              "                padding: 12px; margin: 8px 0; border-radius: 0 8px 8px 0;\n",
              "                font-family: \"Segoe UI\", Arial, sans-serif;'>\n",
              "        <div style='display: flex; justify-content: space-between; align-items: center; margin-bottom: 8px;'>\n",
              "            <strong style='color: #F44336; font-size: 14px;'>\n",
              "                📝 Comment 48/50 | Sentiment: Negative\n",
              "            </strong>\n",
              "            <span style=\"color: #666; font-size: 12px;\">⏱️ 0.40s</span>\n",
              "        </div>\n",
              "        <div style='background: rgba(255,255,255,0.8); padding: 10px; border-radius: 6px;\n",
              "                    border: 1px solid #e0e0e0; font-size: 13px; line-height: 1.4;'>\n",
              "            <em>\"Meeku anduku ra kathal vadu money vadu istam pilla puvvala\"</em>\n",
              "        </div>\n",
              "    </div>\n",
              "    "
            ]
          },
          "metadata": {}
        },
        {
          "output_type": "stream",
          "name": "stderr",
          "text": [
            "The following generation flags are not valid and may be ignored: ['temperature', 'top_p']. Set `TRANSFORMERS_VERBOSITY=info` for more details.\n"
          ]
        },
        {
          "output_type": "stream",
          "name": "stdout",
          "text": [
            "DEBUG: LLM Response: 'Negative' -> Extracted: Negative\n"
          ]
        },
        {
          "output_type": "display_data",
          "data": {
            "text/plain": [
              "<IPython.core.display.HTML object>"
            ],
            "text/html": [
              "\n",
              "    <div style='border-left: 4px solid #F44336;\n",
              "                background: linear-gradient(90deg, #F4433615, transparent);\n",
              "                padding: 12px; margin: 8px 0; border-radius: 0 8px 8px 0;\n",
              "                font-family: \"Segoe UI\", Arial, sans-serif;'>\n",
              "        <div style='display: flex; justify-content: space-between; align-items: center; margin-bottom: 8px;'>\n",
              "            <strong style='color: #F44336; font-size: 14px;'>\n",
              "                📝 Comment 49/50 | Sentiment: Negative\n",
              "            </strong>\n",
              "            <span style=\"color: #666; font-size: 12px;\">⏱️ 0.40s</span>\n",
              "        </div>\n",
              "        <div style='background: rgba(255,255,255,0.8); padding: 10px; border-radius: 6px;\n",
              "                    border: 1px solid #e0e0e0; font-size: 13px; line-height: 1.4;'>\n",
              "            <em>\"Bro thinadam choosi meeke respect perigindhi video first lo arey , vaadu ani pilichina mee nota \" anna \" ani pilipinchukunndu 😂 respect 🫡\"</em>\n",
              "        </div>\n",
              "    </div>\n",
              "    "
            ]
          },
          "metadata": {}
        },
        {
          "output_type": "stream",
          "name": "stderr",
          "text": [
            "The following generation flags are not valid and may be ignored: ['temperature', 'top_p']. Set `TRANSFORMERS_VERBOSITY=info` for more details.\n"
          ]
        },
        {
          "output_type": "stream",
          "name": "stdout",
          "text": [
            "DEBUG: LLM Response: 'Neutral' -> Extracted: Neutral\n"
          ]
        },
        {
          "output_type": "display_data",
          "data": {
            "text/plain": [
              "<IPython.core.display.HTML object>"
            ],
            "text/html": [
              "\n",
              "    <div style='border-left: 4px solid #2196F3;\n",
              "                background: linear-gradient(90deg, #2196F315, transparent);\n",
              "                padding: 12px; margin: 8px 0; border-radius: 0 8px 8px 0;\n",
              "                font-family: \"Segoe UI\", Arial, sans-serif;'>\n",
              "        <div style='display: flex; justify-content: space-between; align-items: center; margin-bottom: 8px;'>\n",
              "            <strong style='color: #2196F3; font-size: 14px;'>\n",
              "                📝 Comment 50/50 | Sentiment: Neutral\n",
              "            </strong>\n",
              "            <span style=\"color: #666; font-size: 12px;\">⏱️ 0.40s</span>\n",
              "        </div>\n",
              "        <div style='background: rgba(255,255,255,0.8); padding: 10px; border-radius: 6px;\n",
              "                    border: 1px solid #e0e0e0; font-size: 13px; line-height: 1.4;'>\n",
              "            <em>\"Alaa thintaadu bro .......digestive system kuda vadiki sanmanam chesthadhi bro\"</em>\n",
              "        </div>\n",
              "    </div>\n",
              "    "
            ]
          },
          "metadata": {}
        },
        {
          "output_type": "stream",
          "name": "stdout",
          "text": [
            "\n",
            "✅ Analysis completed in 19.84 seconds!\n",
            "⚡ Average processing time per comment: 0.40s\n",
            "\n",
            "🎨 Creating visualizations for 50 comments...\n"
          ]
        },
        {
          "output_type": "stream",
          "name": "stderr",
          "text": [
            "/tmp/ipython-input-13-1780366588.py:163: UserWarning: Glyph 129761 (\\N{SALUTING FACE}) missing from font(s) DejaVu Sans.\n",
            "  plt.tight_layout()\n",
            "/usr/local/lib/python3.11/dist-packages/IPython/core/pylabtools.py:151: UserWarning: Glyph 129761 (\\N{SALUTING FACE}) missing from font(s) DejaVu Sans.\n",
            "  fig.canvas.print_figure(bytes_io, **kw)\n"
          ]
        },
        {
          "output_type": "display_data",
          "data": {
            "text/plain": [
              "<Figure size 2000x1200 with 5 Axes>"
            ],
            "image/png": "[encoded data removed]"
          },
          "metadata": {}
        },
        {
          "output_type": "display_data",
          "data": {
            "text/plain": [
              "<IPython.core.display.HTML object>"
            ],
            "text/html": [
              "<div style=\"margin-top: 30px;\"><h2 style=\"color: #333; border-bottom: 3px solid #4CAF50; padding-bottom: 10px;\">Comment Examples by Sentiment</h2></div>"
            ]
          },
          "metadata": {}
        },
        {
          "output_type": "display_data",
          "data": {
            "text/plain": [
              "<IPython.core.display.HTML object>"
            ],
            "text/html": [
              "\n",
              "                <div style='border: 2px solid #F44336;\n",
              "                           border-radius: 12px;\n",
              "                           background: linear-gradient(135deg, #F4433610, #F4433605);\n",
              "                           padding: 20px;\n",
              "                           margin: 20px 0;\n",
              "                           font-family: \"Segoe UI\", Arial, sans-serif;\n",
              "                           box-shadow: 0 4px 6px rgba(0,0,0,0.1);'>\n",
              "                  <h3 style='color: #F44336;\n",
              "                             margin-top: 0;\n",
              "                             margin-bottom: 15px;\n",
              "                             display: flex;\n",
              "                             align-items: center;\n",
              "                             font-size: 18px;'>\n",
              "                    <span style='margin-right: 10px; font-size: 24px;'>\n",
              "                      😔\n",
              "                    </span>\n",
              "                    Negative Comments (5 shown)\n",
              "                  </h3>\n",
              "                  <div style='space-y: 10px;'>\n",
              "                \n",
              "                    <div style='background: rgba(255,255,255,0.7);\n",
              "                               padding: 15px;\n",
              "                               border-radius: 8px;\n",
              "                               margin-bottom: 12px;\n",
              "                               border-left: 4px solid #F44336;'>\n",
              "                        <div style='font-size: 14px; color: #666; margin-bottom: 8px; display: flex; justify-content: space-between;'>\n",
              "                            <span><strong>Example 1</strong> • By: @LOKIZ-n3c</span>\n",
              "                            <span>⏱️ 0.48s</span>\n",
              "                        </div>\n",
              "                        <div style='font-size: 15px; line-height: 1.5; color: #333;'>\n",
              "                            <em>\"Bro is grandparents favourite child\"</em>\n",
              "                        </div>\n",
              "                    </div>\n",
              "                    \n",
              "                    <div style='background: rgba(255,255,255,0.7);\n",
              "                               padding: 15px;\n",
              "                               border-radius: 8px;\n",
              "                               margin-bottom: 12px;\n",
              "                               border-left: 4px solid #F44336;'>\n",
              "                        <div style='font-size: 14px; color: #666; margin-bottom: 8px; display: flex; justify-content: space-between;'>\n",
              "                            <span><strong>Example 2</strong> • By: @addepallihemanth592</span>\n",
              "                            <span>⏱️ 0.39s</span>\n",
              "                        </div>\n",
              "                        <div style='font-size: 15px; line-height: 1.5; color: #333;'>\n",
              "                            <em>\"Bro ni okkaroju fasting cheyipinchi Annadanam chepiste 10members ki full days meals set😢\"</em>\n",
              "                        </div>\n",
              "                    </div>\n",
              "                    \n",
              "                    <div style='background: rgba(255,255,255,0.7);\n",
              "                               padding: 15px;\n",
              "                               border-radius: 8px;\n",
              "                               margin-bottom: 12px;\n",
              "                               border-left: 4px solid #F44336;'>\n",
              "                        <div style='font-size: 14px; color: #666; margin-bottom: 8px; display: flex; justify-content: space-between;'>\n",
              "                            <span><strong>Example 3</strong> • By: @Arprio2022</span>\n",
              "                            <span>⏱️ 0.39s</span>\n",
              "                        </div>\n",
              "                        <div style='font-size: 15px; line-height: 1.5; color: #333;'>\n",
              "                            <em>\"Bro 21:29 doesn't need detox drink he needs domax😂❤\"</em>\n",
              "                        </div>\n",
              "                    </div>\n",
              "                    \n",
              "                    <div style='background: rgba(255,255,255,0.7);\n",
              "                               padding: 15px;\n",
              "                               border-radius: 8px;\n",
              "                               margin-bottom: 12px;\n",
              "                               border-left: 4px solid #F44336;'>\n",
              "                        <div style='font-size: 14px; color: #666; margin-bottom: 8px; display: flex; justify-content: space-between;'>\n",
              "                            <span><strong>Example 4</strong> • By: @deviganeshpunna5250</span>\n",
              "                            <span>⏱️ 0.40s</span>\n",
              "                        </div>\n",
              "                        <div style='font-size: 15px; line-height: 1.5; color: #333;'>\n",
              "                            <em>\"వాడిది కడుపా చెరువు అన్న\"</em>\n",
              "                        </div>\n",
              "                    </div>\n",
              "                    \n",
              "                    <div style='background: rgba(255,255,255,0.7);\n",
              "                               padding: 15px;\n",
              "                               border-radius: 8px;\n",
              "                               margin-bottom: 12px;\n",
              "                               border-left: 4px solid #F44336;'>\n",
              "                        <div style='font-size: 14px; color: #666; margin-bottom: 8px; display: flex; justify-content: space-between;'>\n",
              "                            <span><strong>Example 5</strong> • By: @chidambareswar</span>\n",
              "                            <span>⏱️ 0.36s</span>\n",
              "                        </div>\n",
              "                        <div style='font-size: 15px; line-height: 1.5; color: #333;'>\n",
              "                            <em>\"Bro evadi thindi vadidhi bro\"</em>\n",
              "                        </div>\n",
              "                    </div>\n",
              "                    </div></div>"
            ]
          },
          "metadata": {}
        },
        {
          "output_type": "display_data",
          "data": {
            "text/plain": [
              "<IPython.core.display.HTML object>"
            ],
            "text/html": [
              "\n",
              "                <div style='border: 2px solid #2196F3;\n",
              "                           border-radius: 12px;\n",
              "                           background: linear-gradient(135deg, #2196F310, #2196F305);\n",
              "                           padding: 20px;\n",
              "                           margin: 20px 0;\n",
              "                           font-family: \"Segoe UI\", Arial, sans-serif;\n",
              "                           box-shadow: 0 4px 6px rgba(0,0,0,0.1);'>\n",
              "                  <h3 style='color: #2196F3;\n",
              "                             margin-top: 0;\n",
              "                             margin-bottom: 15px;\n",
              "                             display: flex;\n",
              "                             align-items: center;\n",
              "                             font-size: 18px;'>\n",
              "                    <span style='margin-right: 10px; font-size: 24px;'>\n",
              "                      😐\n",
              "                    </span>\n",
              "                    Neutral Comments (5 shown)\n",
              "                  </h3>\n",
              "                  <div style='space-y: 10px;'>\n",
              "                \n",
              "                    <div style='background: rgba(255,255,255,0.7);\n",
              "                               padding: 15px;\n",
              "                               border-radius: 8px;\n",
              "                               margin-bottom: 12px;\n",
              "                               border-left: 4px solid #2196F3;'>\n",
              "                        <div style='font-size: 14px; color: #666; margin-bottom: 8px; display: flex; justify-content: space-between;'>\n",
              "                            <span><strong>Example 1</strong> • By: @ravisadasivuni6865</span>\n",
              "                            <span>⏱️ 0.36s</span>\n",
              "                        </div>\n",
              "                        <div style='font-size: 15px; line-height: 1.5; color: #333;'>\n",
              "                            <em>\"Varada vadini apa mani cheppu😂😂\"</em>\n",
              "                        </div>\n",
              "                    </div>\n",
              "                    \n",
              "                    <div style='background: rgba(255,255,255,0.7);\n",
              "                               padding: 15px;\n",
              "                               border-radius: 8px;\n",
              "                               margin-bottom: 12px;\n",
              "                               border-left: 4px solid #2196F3;'>\n",
              "                        <div style='font-size: 14px; color: #666; margin-bottom: 8px; display: flex; justify-content: space-between;'>\n",
              "                            <span><strong>Example 2</strong> • By: @zero99rj</span>\n",
              "                            <span>⏱️ 0.39s</span>\n",
              "                        </div>\n",
              "                        <div style='font-size: 15px; line-height: 1.5; color: #333;'>\n",
              "                            <em>\"I observed clubbing in Pranay's fingers. Get yourself checked once you might have a serious heart disorder. Take care of yourself bro. Wishing you guys all the best👍🏻 @pranay verma\"</em>\n",
              "                        </div>\n",
              "                    </div>\n",
              "                    \n",
              "                    <div style='background: rgba(255,255,255,0.7);\n",
              "                               padding: 15px;\n",
              "                               border-radius: 8px;\n",
              "                               margin-bottom: 12px;\n",
              "                               border-left: 4px solid #2196F3;'>\n",
              "                        <div style='font-size: 14px; color: #666; margin-bottom: 8px; display: flex; justify-content: space-between;'>\n",
              "                            <span><strong>Example 3</strong> • By: @SunilKohir-o4g</span>\n",
              "                            <span>⏱️ 0.35s</span>\n",
              "                        </div>\n",
              "                        <div style='font-size: 15px; line-height: 1.5; color: #333;'>\n",
              "                            <em>\"Ayana thinte mikem guddalo nopi beeeee\"</em>\n",
              "                        </div>\n",
              "                    </div>\n",
              "                    \n",
              "                    <div style='background: rgba(255,255,255,0.7);\n",
              "                               padding: 15px;\n",
              "                               border-radius: 8px;\n",
              "                               margin-bottom: 12px;\n",
              "                               border-left: 4px solid #2196F3;'>\n",
              "                        <div style='font-size: 14px; color: #666; margin-bottom: 8px; display: flex; justify-content: space-between;'>\n",
              "                            <span><strong>Example 4</strong> • By: @monica_glory</span>\n",
              "                            <span>⏱️ 0.39s</span>\n",
              "                        </div>\n",
              "                        <div style='font-size: 15px; line-height: 1.5; color: #333;'>\n",
              "                            <em>\"Niku assalu vandatame rani wife vastadi bro 😅😂\"</em>\n",
              "                        </div>\n",
              "                    </div>\n",
              "                    \n",
              "                    <div style='background: rgba(255,255,255,0.7);\n",
              "                               padding: 15px;\n",
              "                               border-radius: 8px;\n",
              "                               margin-bottom: 12px;\n",
              "                               border-left: 4px solid #2196F3;'>\n",
              "                        <div style='font-size: 14px; color: #666; margin-bottom: 8px; display: flex; justify-content: space-between;'>\n",
              "                            <span><strong>Example 5</strong> • By: @MDEEVANKumar99</span>\n",
              "                            <span>⏱️ 0.37s</span>\n",
              "                        </div>\n",
              "                        <div style='font-size: 15px; line-height: 1.5; color: #333;'>\n",
              "                            <em>\"😂😂😂😂\"</em>\n",
              "                        </div>\n",
              "                    </div>\n",
              "                    </div></div>"
            ]
          },
          "metadata": {}
        },
        {
          "output_type": "display_data",
          "data": {
            "text/plain": [
              "<IPython.core.display.HTML object>"
            ],
            "text/html": [
              "\n",
              "        <div style='background: linear-gradient(135deg, #667eea 0%, #764ba2 100%);\n",
              "                    color: white;\n",
              "                    padding: 25px;\n",
              "                    border-radius: 15px;\n",
              "                    margin: 30px 0;\n",
              "                    text-align: center;\n",
              "                    box-shadow: 0 8px 16px rgba(0,0,0,0.2);'>\n",
              "            <h2 style='margin-top: 0; font-size: 24px;'>Analysis Complete!</h2>\n",
              "            <div style='display: flex; justify-content: space-around; margin-top: 20px; flex-wrap: wrap;'>\n",
              "                <div style='text-align: center; margin: 10px;'>\n",
              "                    <div style='font-size: 28px; font-weight: bold;'>50</div>\n",
              "                    <div style='font-size: 14px; opacity: 0.9;'>Comments Analyzed</div>\n",
              "                </div>\n",
              "                <div style='text-align: center; margin: 10px;'>\n",
              "                    <div style='font-size: 28px; font-weight: bold;'>0.39s</div>\n",
              "                    <div style='font-size: 14px; opacity: 0.9;'>Avg Analysis Time</div>\n",
              "                </div>\n",
              "                <div style='text-align: center; margin: 10px;'>\n",
              "                    <div style='font-size: 28px; font-weight: bold;'>Neutral</div>\n",
              "                    <div style='font-size: 14px; opacity: 0.9;'>Most Common Sentiment</div>\n",
              "                </div>\n",
              "            </div>\n",
              "        </div>\n",
              "        "
            ]
          },
          "metadata": {}
        },
        {
          "output_type": "stream",
          "name": "stdout",
          "text": [
            "Results are stored in 'df_results' DataFrame for further analysis!\n",
            "You can export to CSV using: df_results.to_csv('youtube_sentiment_analysis.csv', index=False)\n"
          ]
        }
      ]
    },
    {
      "cell_type": "markdown",
      "source": [
        "## Interactive YouTube Sentiment Dashboard\n",
        "This is the final, user-facing application. It uses ipywidgets to create an interactive dashboard with an attractive HTML/CSS introduction. Users can paste a YouTube URL, configure analysis options, and click \"Start Analysis\" to see comments being classified in real-time. Once complete, it displays comprehensive visualizations, including a donut chart, bar chart, and a results summary."
      ],
      "metadata": {
        "id": "Qw08EEJdSL0G"
      }
    },
    {
      "cell_type": "code",
      "source": [
        "#@title 🎬 Interactive YouTube Sentiment Analysis Dashboard - final version with frontend\n",
        "#@markdown ---\n",
        "#@markdown ### Welcome to the YouTube Comments Sentiment Analyzer!\n",
        "#@markdown This tool analyzes the sentiment of YouTube video comments using advanced AI.\n",
        "\n",
        "# --- Import Libraries ---\n",
        "import pandas as pd\n",
        "import matplotlib.pyplot as plt\n",
        "import seaborn as sns\n",
        "from googleapiclient.discovery import build\n",
        "from googleapiclient.errors import HttpError\n",
        "from urllib.parse import urlparse, parse_qs\n",
        "import time\n",
        "import re\n",
        "from IPython.display import display, HTML, clear_output\n",
        "import textwrap\n",
        "from datetime import datetime\n",
        "import ipywidgets as widgets\n",
        "from IPython.display import Javascript\n",
        "import threading\n",
        "import queue\n",
        "import json\n",
        "\n",
        "# --- Global Variables ---\n",
        "current_analysis = None\n",
        "analysis_running = False\n",
        "\n",
        "# --- Enhanced Visualization Settings ---\n",
        "plt.style.use('default')\n",
        "sns.set_theme(style=\"whitegrid\", palette=\"pastel\", font_scale=1.1)\n",
        "\n",
        "sentiment_colors = {\n",
        "    \"Positive\": \"#4CAF50\",  # Green\n",
        "    \"Negative\": \"#F44336\",  # Red\n",
        "    \"Neutral\":  \"#2196F3\",   # Blue\n",
        "    \"Unknown\":  \"#9E9E9E\",   # Gray\n",
        "    \"Error\":    \"#FFC107\"    # Amber\n",
        "}\n",
        "\n",
        "# --- Helper Functions ---\n",
        "def show_intro_page():\n",
        "    \"\"\"Display an attractive intro page for the dashboard\"\"\"\n",
        "    intro_html = \"\"\"\n",
        "    <div style='background: linear-gradient(135deg, #667eea 0%, #764ba2 100%);\n",
        "                color: white;\n",
        "                padding: 40px;\n",
        "                border-radius: 20px;\n",
        "                margin: 20px 0;\n",
        "                text-align: center;\n",
        "                box-shadow: 0 10px 30px rgba(0,0,0,0.3);\n",
        "                font-family: \"Segoe UI\", Arial, sans-serif;'>\n",
        "\n",
        "        <h1 style='font-size: 36px; margin-bottom: 10px; text-shadow: 2px 2px 4px rgba(0,0,0,0.3);'>\n",
        "            YouTube Sentiment Analyzer\n",
        "        </h1>\n",
        "\n",
        "        <p style='font-size: 18px; margin-bottom: 30px; opacity: 0.9;'>\n",
        "            Discover what people really think about any YouTube video\n",
        "        </p>\n",
        "\n",
        "        <div style='background: rgba(255,255,255,0.1);\n",
        "                    border-radius: 15px;\n",
        "                    padding: 30px;\n",
        "                    margin: 20px 0;\n",
        "                    backdrop-filter: blur(10px);'>\n",
        "\n",
        "            <h2 style='color: #FFE082; margin-bottom: 20px; font-size: 24px;'>Features</h2>\n",
        "\n",
        "            <div style='display: grid;\n",
        "                        grid-template-columns: repeat(auto-fit, minmax(250px, 1fr));\n",
        "                        gap: 20px;\n",
        "                        margin: 20px 0;'>\n",
        "\n",
        "                <div style='background: rgba(255,255,255,0.1);\n",
        "                           padding: 20px;\n",
        "                           border-radius: 12px;\n",
        "                           border-left: 4px solid #4CAF50;'>\n",
        "                    <h3 style='color: #C8E6C9; margin-bottom: 10px;'>Real-time Analysis</h3>\n",
        "                    <p style='font-size: 14px; line-height: 1.5; opacity: 0.9;'>\n",
        "                        Watch comments being analyzed live with instant sentiment classification\n",
        "                    </p>\n",
        "                </div>\n",
        "\n",
        "                <div style='background: rgba(255,255,255,0.1);\n",
        "                           padding: 20px;\n",
        "                           border-radius: 12px;\n",
        "                           border-left: 4px solid #2196F3;'>\n",
        "                    <h3 style='color: #BBDEFB; margin-bottom: 10px;'>Interactive Visualizations</h3>\n",
        "                    <p style='font-size: 14px; line-height: 1.5; opacity: 0.9;'>\n",
        "                        Beautiful charts, graphs, and sentiment flow analysis\n",
        "                    </p>\n",
        "                </div>\n",
        "\n",
        "                <div style='background: rgba(255,255,255,0.1);\n",
        "                           padding: 20px;\n",
        "                           border-radius: 12px;\n",
        "                           border-left: 4px solid #FF9800;'>\n",
        "                    <h3 style='color: #FFE0B2; margin-bottom: 10px;'>Detailed Insights</h3>\n",
        "                    <p style='font-size: 14px; line-height: 1.5; opacity: 0.9;'>\n",
        "                        Comprehensive breakdown with examples and statistics\n",
        "                    </p>\n",
        "                </div>\n",
        "            </div>\n",
        "        </div>\n",
        "\n",
        "        <div style='background: rgba(255,255,255,0.1);\n",
        "                    border-radius: 15px;\n",
        "                    padding: 25px;\n",
        "                    margin: 20px 0;'>\n",
        "            <h2 style='color: #FFE082; margin-bottom: 15px;'>How to Use</h2>\n",
        "            <div style='text-align: left; max-width: 600px; margin: 0 auto;'>\n",
        "                <p style='margin: 10px 0; padding-left: 20px; position: relative;'>\n",
        "                    <span style='position: absolute; left: 0; color: #4CAF50; font-weight: bold;'>1.</span>\n",
        "                    Enter a YouTube video URL in the input field below\n",
        "                </p>\n",
        "                <p style='margin: 10px 0; padding-left: 20px; position: relative;'>\n",
        "                    <span style='position: absolute; left: 0; color: #2196F3; font-weight: bold;'>2.</span>\n",
        "                    Set the number of comments you want to analyze\n",
        "                </p>\n",
        "                <p style='margin: 10px 0; padding-left: 20px; position: relative;'>\n",
        "                    <span style='position: absolute; left: 0; color: #FF9800; font-weight: bold;'>3.</span>\n",
        "                    Click \"Start Analysis\" and watch the magic happen!\n",
        "                </p>\n",
        "            </div>\n",
        "        </div>\n",
        "\n",
        "        <div style='margin-top: 30px; font-size: 14px; opacity: 0.8;'>\n",
        "            <p>Powered by advanced AI sentiment analysis • Built for Google Colab</p>\n",
        "        </div>\n",
        "    </div>\n",
        "    \"\"\"\n",
        "\n",
        "    display(HTML(intro_html))\n",
        "\n",
        "def create_input_interface():\n",
        "    \"\"\"Create interactive input interface with widgets\"\"\"\n",
        "\n",
        "    # Style for widgets\n",
        "    style = {'description_width': '150px'}\n",
        "    layout = widgets.Layout(width='400px')\n",
        "\n",
        "    # Create widgets\n",
        "    url_input = widgets.Text(\n",
        "        value='https://www.youtube.com/watch?v=Jd4cASkBAp0', # Example Telugu video\n",
        "        placeholder='Paste YouTube video URL here...',\n",
        "        description='Video URL:',\n",
        "        style=style,\n",
        "        layout=widgets.Layout(width='600px')\n",
        "    )\n",
        "\n",
        "    max_comments = widgets.IntSlider(\n",
        "        value=50,\n",
        "        min=10,\n",
        "        max=500,\n",
        "        step=10,\n",
        "        description='Max Comments:',\n",
        "        style=style,\n",
        "        layout=layout\n",
        "    )\n",
        "\n",
        "    show_processing = widgets.Checkbox(\n",
        "        value=True,\n",
        "        description='Show comments during processing',\n",
        "        style=style,\n",
        "        layout=layout\n",
        "    )\n",
        "\n",
        "    truncate_comments = widgets.Checkbox(\n",
        "        value=True,\n",
        "        description='Truncate long comments',\n",
        "        style=style,\n",
        "        layout=layout\n",
        "    )\n",
        "\n",
        "    max_length = widgets.IntSlider(\n",
        "        value=150,\n",
        "        min=50,\n",
        "        max=300,\n",
        "        step=25,\n",
        "        description='Max Length:',\n",
        "        style=style,\n",
        "        layout=layout\n",
        "    )\n",
        "\n",
        "    # Create buttons\n",
        "    analyze_button = widgets.Button(\n",
        "        description='Start Analysis',\n",
        "        button_style='success',\n",
        "        layout=widgets.Layout(width='200px', height='40px'),\n",
        "        icon='play'\n",
        "    )\n",
        "\n",
        "    stop_button = widgets.Button(\n",
        "        description='Stop Analysis',\n",
        "        button_style='danger',\n",
        "        layout=widgets.Layout(width='200px', height='40px'),\n",
        "        icon='stop'\n",
        "    )\n",
        "\n",
        "    clear_button = widgets.Button(\n",
        "        description='Clear Results',\n",
        "        button_style='info',\n",
        "        layout=widgets.Layout(width='200px', height='40px'),\n",
        "        icon='refresh'\n",
        "    )\n",
        "\n",
        "    # Output widget for results\n",
        "    output = widgets.Output()\n",
        "\n",
        "    # Button event handlers\n",
        "    def start_analysis(b):\n",
        "        global analysis_running\n",
        "        if analysis_running:\n",
        "            with output:\n",
        "                print(\"Analysis already running! Please wait or stop the current analysis.\")\n",
        "            return\n",
        "\n",
        "        url = url_input.value.strip()\n",
        "        if not url:\n",
        "            with output:\n",
        "                display(HTML(\"\"\"\n",
        "                <div style='background: #ffebee;\n",
        "                            border: 2px solid #f44336;\n",
        "                            color: #c62828;\n",
        "                            padding: 15px;\n",
        "                            border-radius: 8px;\n",
        "                            margin: 10px 0;'>\n",
        "                    <strong>Please enter a YouTube video URL!</strong>\n",
        "                </div>\n",
        "                \"\"\"))\n",
        "            return\n",
        "\n",
        "        # Clear previous output\n",
        "        output.clear_output()\n",
        "\n",
        "        # Start analysis\n",
        "        with output:\n",
        "            run_sentiment_analysis(\n",
        "                url,\n",
        "                max_comments.value,\n",
        "                show_processing.value,\n",
        "                truncate_comments.value,\n",
        "                max_length.value\n",
        "            )\n",
        "\n",
        "    def stop_analysis(b):\n",
        "        global analysis_running\n",
        "        analysis_running = False\n",
        "        with output:\n",
        "            display(HTML(\"\"\"\n",
        "            <div style='background: #fff3e0;\n",
        "                        border: 2px solid #ff9800;\n",
        "                        color: #e65100;\n",
        "                        padding: 15px;\n",
        "                        border-radius: 8px;\n",
        "                        margin: 10px 0;'>\n",
        "                <strong>Analysis stopped by user! No further comments will be processed.</strong>\n",
        "            </div>\n",
        "            \"\"\"))\n",
        "\n",
        "    def clear_results(b):\n",
        "        output.clear_output()\n",
        "        global current_analysis, analysis_running\n",
        "        current_analysis = None\n",
        "        analysis_running = False\n",
        "\n",
        "    # Bind button events\n",
        "    analyze_button.on_click(start_analysis)\n",
        "    stop_button.on_click(stop_analysis)\n",
        "    clear_button.on_click(clear_results)\n",
        "\n",
        "    # Create interface layout\n",
        "    interface_html = \"\"\"\n",
        "    <div style='background: linear-gradient(135deg, #f5f7fa 0%, #c3cfe2 100%);\n",
        "                padding: 30px;\n",
        "                border-radius: 15px;\n",
        "                margin: 20px 0;\n",
        "                border: 1px solid #ddd;\n",
        "                box-shadow: 0 5px 15px rgba(0,0,0,0.1);'>\n",
        "        <h2 style='color: #333; margin-bottom: 20px; text-align: center;'>\n",
        "            Configuration Panel\n",
        "        </h2>\n",
        "    </div>\n",
        "    \"\"\"\n",
        "\n",
        "    display(HTML(interface_html))\n",
        "\n",
        "    # Display widgets\n",
        "    display(widgets.VBox([\n",
        "        url_input,\n",
        "        widgets.HBox([max_comments, show_processing]),\n",
        "        widgets.HBox([truncate_comments, max_length]),\n",
        "        widgets.HBox([analyze_button, stop_button, clear_button]),\n",
        "        output\n",
        "    ]))\n",
        "\n",
        "def truncate_text(text, max_length=150):\n",
        "    \"\"\"Truncate text if it's too long for display\"\"\"\n",
        "    if len(text) > max_length:\n",
        "        return textwrap.shorten(text, width=max_length, placeholder=\"...\")\n",
        "    return text\n",
        "\n",
        "def display_comment_analysis(comment_num, total_comments, comment_text, sentiment, processing_time=None):\n",
        "    \"\"\"Display each comment as it's being analyzed with better formatting\"\"\"\n",
        "\n",
        "    # Truncate comment for display\n",
        "    display_text = truncate_text(comment_text, 150)\n",
        "\n",
        "    # Create color-coded HTML output\n",
        "    sentiment_color = sentiment_colors.get(sentiment, \"#9E9E9E\")\n",
        "\n",
        "    html_output = f\"\"\"\n",
        "    <div style='border-left: 4px solid {sentiment_color};\n",
        "                background: linear-gradient(90deg, {sentiment_color}15, transparent);\n",
        "                padding: 12px; margin: 8px 0; border-radius: 0 8px 8px 0;\n",
        "                font-family: \"Segoe UI\", Arial, sans-serif;'>\n",
        "        <div style='display: flex; justify-content: space-between; align-items: center; margin-bottom: 8px;'>\n",
        "            <strong style='color: {sentiment_color}; font-size: 14px;'>\n",
        "                Comment {comment_num}/{total_comments} | Sentiment: {sentiment}\n",
        "            </strong>\n",
        "            {f'<span style=\"color: #666; font-size: 12px;\">Time: {processing_time:.2f}s</span>' if processing_time else ''}\n",
        "        </div>\n",
        "        <div style='background: rgba(255,255,255,0.8); padding: 10px; border-radius: 6px;\n",
        "                    border: 1px solid #e0e0e0; font-size: 13px; line-height: 1.4;'>\n",
        "            <em>\"{display_text}\"</em>\n",
        "        </div>\n",
        "    </div>\n",
        "    \"\"\"\n",
        "\n",
        "    display(HTML(html_output))\n",
        "\n",
        "def create_enhanced_visualizations(df_results, video_info=None):\n",
        "    \"\"\"Create enhanced visualizations with better styling\"\"\"\n",
        "\n",
        "    sentiment_counts = df_results['Sentiment'].value_counts()\n",
        "\n",
        "    # Create a larger figure with better layout\n",
        "    fig = plt.figure(figsize=(20, 12), constrained_layout=True)\n",
        "    gs = fig.add_gridspec(3, 2, height_ratios=[0.5, 2, 1])\n",
        "\n",
        "    # Title section\n",
        "    title_ax = fig.add_subplot(gs[0, :])\n",
        "    title_ax.axis('off')\n",
        "    title_text = f'YouTube Comments Sentiment Analysis\\n'\n",
        "    if video_info:\n",
        "        title_text += f'Video: {truncate_text(video_info.get(\"title\", \"Unknown\"), 80)} | {len(df_results)} Comments Analyzed'\n",
        "    else:\n",
        "        title_text += f'{len(df_results)} Comments Analyzed'\n",
        "\n",
        "    title_ax.text(0.5, 0.5, title_text, fontsize=22, fontweight='bold',\n",
        "                  ha='center', va='center', transform=title_ax.transAxes)\n",
        "\n",
        "    # Donut Chart\n",
        "    ax1 = fig.add_subplot(gs[1, 0])\n",
        "    wedges, texts, autotexts = ax1.pie(sentiment_counts,\n",
        "                                       autopct='%1.1f%%', startangle=90, pctdistance=0.85,\n",
        "                                       colors=[sentiment_colors.get(x, \"#BDBDBD\") for x in sentiment_counts.index],\n",
        "                                       wedgeprops=dict(width=0.4, edgecolor='white', linewidth=2))\n",
        "    ax1.legend(wedges, sentiment_counts.index, title=\"Sentiments\", loc=\"center left\", bbox_to_anchor=(0.95, 0, 0.5, 1))\n",
        "    for autotext in autotexts:\n",
        "        autotext.set_color('white')\n",
        "        autotext.set_fontweight('bold')\n",
        "        autotext.set_fontsize(12)\n",
        "    ax1.set_title('Sentiment Distribution', fontsize=16, fontweight='bold', pad=20)\n",
        "\n",
        "    # Bar Chart\n",
        "    ax2 = fig.add_subplot(gs[1, 1])\n",
        "    bars = sns.barplot(x=sentiment_counts.index, y=sentiment_counts.values, ax=ax2,\n",
        "                       hue=sentiment_counts.index,\n",
        "                       palette=[sentiment_colors.get(x, \"#BDBDBD\") for x in sentiment_counts.index],\n",
        "                       order=sentiment_counts.index, legend=False)\n",
        "    ax2.set_title('Sentiment Counts', fontsize=16, fontweight='bold')\n",
        "    ax2.set_ylabel('Number of Comments', fontsize=12, fontweight='bold')\n",
        "    ax2.set_xlabel('Sentiment Category', fontsize=12, fontweight='bold')\n",
        "    for i, bar in enumerate(bars.patches):\n",
        "        height = bar.get_height()\n",
        "        ax2.annotate(f'{int(height)}', xy=(bar.get_x() + bar.get_width() / 2, height),\n",
        "                    xytext=(0, 10), textcoords=\"offset points\",\n",
        "                    ha='center', va='bottom', fontweight='bold', fontsize=12)\n",
        "\n",
        "    # Statistics summary\n",
        "    stats_ax = fig.add_subplot(gs[2, :])\n",
        "    stats_ax.axis('off')\n",
        "    total_comments = len(df_results)\n",
        "    positive_pct = (sentiment_counts.get('Positive', 0) / total_comments) * 100\n",
        "    negative_pct = (sentiment_counts.get('Negative', 0) / total_comments) * 100\n",
        "    neutral_pct = (sentiment_counts.get('Neutral', 0) / total_comments) * 100\n",
        "\n",
        "    stats_text = f\"\"\"\n",
        "    ANALYSIS SUMMARY:\n",
        "    • Overall Sentiment: {\"Positive\" if positive_pct > negative_pct else \"Negative\" if negative_pct > positive_pct else \"Neutral\"}\n",
        "    • Positive: {positive_pct:.1f}%  |  Negative: {negative_pct:.1f}%  |  Neutral: {neutral_pct:.1f}%\n",
        "    • Most Common: {sentiment_counts.index[0]} ({sentiment_counts.iloc[0]} comments)\n",
        "    \"\"\"\n",
        "    stats_ax.text(0.5, 0.5, stats_text, fontsize=14, ha='center', va='center',\n",
        "                  transform=stats_ax.transAxes,\n",
        "                  bbox=dict(boxstyle=\"round,pad=0.5\", facecolor=\"#e8eaf6\", alpha=0.8))\n",
        "\n",
        "    plt.show()\n",
        "\n",
        "def get_video_info(youtube, video_id):\n",
        "    \"\"\"Fetch video information\"\"\"\n",
        "    try:\n",
        "        request = youtube.videos().list(part=\"snippet,statistics\", id=video_id)\n",
        "        response = request.execute()\n",
        "        if response[\"items\"]:\n",
        "            video_data = response[\"items\"][0]\n",
        "            return {\n",
        "                \"title\": video_data[\"snippet\"][\"title\"],\n",
        "                \"channel\": video_data[\"snippet\"][\"channelTitle\"],\n",
        "                \"view_count\": f'{int(video_data[\"statistics\"].get(\"viewCount\", 0)):,}',\n",
        "                \"like_count\": f'{int(video_data[\"statistics\"].get(\"likeCount\", 0)):,}',\n",
        "                \"comment_count\": f'{int(video_data[\"statistics\"].get(\"commentCount\", 0)):,}'\n",
        "            }\n",
        "    except Exception as e:\n",
        "        print(f\"Could not fetch video info: {e}\")\n",
        "    return None\n",
        "\n",
        "def run_sentiment_analysis(video_url, max_comments, show_processing, truncate_long, max_length):\n",
        "    \"\"\"Main function to run sentiment analysis\"\"\"\n",
        "    global analysis_running, current_analysis\n",
        "\n",
        "    if not all(f in globals() for f in ['get_youtube_api_key', 'extract_video_id', 'classify_sentiment_llama3_telugu_youtube']):\n",
        "        display(HTML(\"<div style='background: #ffebee; border: 2px solid #f44336; color: #c62828; padding: 20px; border-radius: 10px; margin: 20px 0;'><h3>Error: Prerequisite functions not found</h3><p>Please run the preceding cells to define the required functions.</p></div>\"))\n",
        "        return\n",
        "\n",
        "    analysis_running = True\n",
        "    comments_list = []\n",
        "\n",
        "    display(HTML(\"<div style='background: linear-gradient(135deg, #4CAF50 0%, #45a049 100%); color: white; padding: 20px; border-radius: 15px; margin: 20px 0; text-align: center;'><h2>🚀 Starting Analysis...</h2><p style='margin: 10px 0 0 0; opacity: 0.9;'>Please wait while we analyze your video</p></div>\"))\n",
        "\n",
        "    try:\n",
        "        api_key = get_youtube_api_key()\n",
        "        video_id = extract_video_id(video_url)\n",
        "\n",
        "        if not api_key or not video_id:\n",
        "            display(HTML(\"<div style='background: #ffebee; border: 2px solid #f44336; color: #c62828; padding: 20px; border-radius: 10px; margin: 20px 0;'><h3>Configuration Error</h3><p>Please check your API key and video URL.</p></div>\"))\n",
        "            analysis_running = False\n",
        "            return\n",
        "\n",
        "        youtube = build('youtube', 'v3', developerKey=api_key)\n",
        "        video_info = get_video_info(youtube, video_id)\n",
        "        if video_info:\n",
        "            info_html = f\"\"\"<div style='background: #f8f9fa; border: 1px solid #dee2e6; padding: 20px; border-radius: 10px; margin: 20px 0;'>\n",
        "                <h3 style='color: #495057; margin-top: 0;'>Video Information</h3>\n",
        "                <p><strong>Title:</strong> {video_info['title']}</p>\n",
        "                <p><strong>Channel:</strong> {video_info['channel']}</p>\n",
        "                <p><strong>Views:</strong> {video_info['view_count']} | <strong>Comments:</strong> {video_info['comment_count']}</p>\n",
        "            </div>\"\"\"\n",
        "            display(HTML(info_html))\n",
        "\n",
        "        print(f\"Analyzing up to {max_comments} comments...\\n\" + \"=\" * 60)\n",
        "\n",
        "        next_page_token = None\n",
        "        comments_fetched = 0\n",
        "        start_time = time.time()\n",
        "\n",
        "        while comments_fetched < max_comments and analysis_running:\n",
        "            request = youtube.commentThreads().list(part=\"snippet\", videoId=video_id, maxResults=min(100, max_comments - comments_fetched), textFormat=\"plainText\", pageToken=next_page_token)\n",
        "            response = request.execute()\n",
        "\n",
        "            for item in response.get(\"items\", []):\n",
        "                if comments_fetched >= max_comments or not analysis_running: break\n",
        "                comment_snippet = item[\"snippet\"][\"topLevelComment\"][\"snippet\"]\n",
        "                comment_cleaned = re.sub(r'\\s+', ' ', comment_snippet[\"textDisplay\"]).strip()\n",
        "                if not comment_cleaned: continue\n",
        "\n",
        "                analysis_start = time.time()\n",
        "                sentiment = classify_sentiment_llama3_telugu_youtube(comment_cleaned)\n",
        "                analysis_time = time.time() - analysis_start\n",
        "\n",
        "                if show_processing:\n",
        "                    display_comment_analysis(comments_fetched + 1, max_comments, comment_cleaned, sentiment, analysis_time)\n",
        "\n",
        "                comments_list.append({\"Comment\": comment_cleaned, \"Sentiment\": sentiment, \"Author\": comment_snippet.get(\"authorDisplayName\", \"Unknown\"), \"Analysis_Time\": analysis_time})\n",
        "                comments_fetched += 1\n",
        "\n",
        "            next_page_token = response.get(\"nextPageToken\")\n",
        "            if not next_page_token: break\n",
        "            time.sleep(0.3)\n",
        "\n",
        "        if not analysis_running:\n",
        "            print(\"\\nAnalysis was stopped by user.\")\n",
        "            analysis_running = False\n",
        "            return\n",
        "\n",
        "        total_time = time.time() - start_time\n",
        "        print(f\"\\n✅ Analysis completed in {total_time:.2f} seconds!\")\n",
        "\n",
        "        if comments_list:\n",
        "            print(f\"Average processing time per comment: {total_time/len(comments_list):.2f}s\")\n",
        "            df_results = pd.DataFrame(comments_list)\n",
        "            current_analysis = df_results\n",
        "            create_enhanced_visualizations(df_results, video_info)\n",
        "            display(HTML('<div style=\"margin-top: 30px;\"><h2 style=\"color: #333; border-bottom: 3px solid #4CAF50; padding-bottom: 10px;\">Comment Examples by Sentiment</h2></div>'))\n",
        "            for sentiment_type in ['Positive', 'Negative', 'Neutral', 'Unknown', 'Error']:\n",
        "                examples = df_results[df_results['Sentiment'] == sentiment_type].head(5)\n",
        "                if not examples.empty:\n",
        "                    sentiment_color = sentiment_colors.get(sentiment_type, \"#9E9E9E\")\n",
        "                    html = f\"\"\"<div style='border: 2px solid {sentiment_color}; border-radius: 12px; background: linear-gradient(135deg, {sentiment_color}10, {sentiment_color}05); padding: 20px; margin: 20px 0; font-family: \"Segoe UI\", Arial, sans-serif; box-shadow: 0 4px 6px rgba(0,0,0,0.1);'><h3 style='color: {sentiment_color}; margin-top: 0; margin-bottom: 15px; font-size: 18px;'>{sentiment_type} Comments ({len(examples)} shown)</h3><div>\"\"\"\n",
        "                    for idx, (_, row) in enumerate(examples.iterrows(), 1):\n",
        "                        comment_text = truncate_text(row['Comment'], 200) if truncate_long else row['Comment']\n",
        "                        html += f\"\"\"<div style='background: rgba(255,255,255,0.7); padding: 15px; border-radius: 8px; margin-bottom: 12px; border-left: 4px solid {sentiment_color};'><div style='font-size: 14px; color: #666; margin-bottom: 8px; display: flex; justify-content: space-between;'><span><strong>Example {idx}</strong> • By: {row.get('Author', 'Unknown')}</span><span>Time: {row.get('Analysis_Time', 0):.2f}s</span></div><div style='font-size: 15px; line-height: 1.5; color: #333;'><em>\"{comment_text}\"</em></div></div>\"\"\"\n",
        "                    html += \"</div></div>\"\n",
        "                    display(HTML(html))\n",
        "\n",
        "            summary_html = f\"\"\"<div style='background: linear-gradient(135deg, #667eea 0%, #764ba2 100%); color: white; padding: 25px; border-radius: 15px; margin: 30px 0; text-align: center; box-shadow: 0 8px 16px rgba(0,0,0,0.2);'><h2 style='margin-top: 0; font-size: 24px;'>Analysis Complete!</h2><div style='display: flex; justify-content: space-around; margin-top: 20px; flex-wrap: wrap;'><div style='text-align: center; margin: 10px;'><div style='font-size: 28px; font-weight: bold;'>{len(df_results)}</div><div style='font-size: 14px; opacity: 0.9;'>Comments Analyzed</div></div><div style='text-align: center; margin: 10px;'><div style='font-size: 28px; font-weight: bold;'>{df_results['Analysis_Time'].mean():.2f}s</div><div style='font-size: 14px; opacity: 0.9;'>Avg Analysis Time</div></div><div style='text-align: center; margin: 10px;'><div style='font-size: 28px; font-weight: bold;'>{df_results['Sentiment'].value_counts().index[0]}</div><div style='font-size: 14px; opacity: 0.9;'>Most Common Sentiment</div></div></div></div>\"\"\"\n",
        "            display(HTML(summary_html))\n",
        "\n",
        "    except HttpError as e:\n",
        "        error_content = e.content.decode(\"utf-8\")\n",
        "        try:\n",
        "            error_json = json.loads(error_content)\n",
        "            error_message = error_json.get(\"error\", {}).get(\"message\", \"No detailed message available.\")\n",
        "        except json.JSONDecodeError:\n",
        "            error_message = error_content\n",
        "\n",
        "        error_html = f\"\"\"\n",
        "        <div style='background: #ffebee; border: 2px solid #f44336; color: #c62828; padding: 20px; border-radius: 10px; margin: 20px 0; font-family: \"Segoe UI\", Arial, sans-serif;'>\n",
        "            <h3 style='margin-top:0;'>YouTube API Error ({e.resp.status})</h3>\n",
        "            <p><strong>Reason:</strong> {e.reason}</p>\n",
        "            <p>This usually means one of the following:</p>\n",
        "            <ul>\n",
        "                <li>The YouTube Data API v3 is not enabled for your project.</li>\n",
        "                <li>Your API key is invalid or has restrictions.</li>\n",
        "                <li>You have exceeded your daily API usage quota.</li>\n",
        "            </ul>\n",
        "            <p><strong>Raw Error from Google:</strong></p>\n",
        "            <pre style='background: #f5f5f5; padding: 10px; border-radius: 5px; white-space: pre-wrap; word-wrap: break-word;'>{error_message}</pre>\n",
        "        </div>\n",
        "        \"\"\"\n",
        "        display(HTML(error_html))\n",
        "\n",
        "    except Exception as e:\n",
        "        error_html = f\"\"\"\n",
        "        <div style='background: #ffebee; border: 2px solid #f44336; color: #c62828; padding: 20px; border-radius: 10px; margin: 20px 0;'>\n",
        "            <h3 style='margin-top:0;'>An Unexpected Error Occurred</h3>\n",
        "            <pre style='background: #f5f5f5; padding: 10px; border-radius: 5px; white-space: pre-wrap;'>{str(e)}</pre>\n",
        "        </div>\n",
        "        \"\"\"\n",
        "        display(HTML(error_html))\n",
        "\n",
        "    finally:\n",
        "        analysis_running = False\n",
        "\n",
        "# --- Show the Interface ---\n",
        "show_intro_page()\n",
        "create_input_interface()"
      ],
      "metadata": {
        "colab": {
          "base_uri": "https://localhost:8080/",
          "height": 1000,
          "referenced_widgets": [
            "1ae26ae6a8be4302a394f7d8a6077c4b",
            "5d3e87e796114d6c905e27009eac02d9",
            "b1140ccfa25443aebc12e0f49e9428fe",
            "0f2bbabef04a4884954c28200e5ed7b7",
            "43c915384279425481f426479087b662",
            "e2b1a5fafdec4fdf885a61a0c61d8c05",
            "ffe634103ec04bca8223fb6cbe14023d",
            "48b826232c8b4462add566d58e7c3cf1",
            "4ee456f48ca849f783ced694edb182d2",
            "f32787dcd16242b4962ed0cecc2c38bb",
            "b82ea65b5de04f598a1a1ffc5ec25876",
            "556cf8d8a5494a07b3637b6bac6fed71",
            "40ba47c66a18490681fc44f9cb9b6ca9",
            "6218ef60e1974e58b7e7086556f06c21",
            "923614ea59164d57ad30c2ae7f799859",
            "2b16981c3c974cc79e03973d48919f4f",
            "83ef376775bc4381baa82549cd01c682",
            "7068638e5bca4804b50316d36e8ea98d",
            "3ffacafd6f734013ac01f4dbdfdf3585",
            "bb5f3588f9c042ed99f9e069061bdd77",
            "7325f6aa471747beb1010eb0aef0d9e9",
            "776526fddadd413a8e96977fd2743137",
            "b46d615d8d8e4cb699832677bce25898",
            "d4286cf820624d318bc8694a8810308a",
            "0d170c3c591f4e8584fe705bb8e8eb84",
            "eaed1b5441764972b018d681aeecc5cf",
            "4ecd02b58290476490906c7a5f2c3ddd",
            "65843ce924e04820a2f5f3ee9d195bf8",
            "2c3e774397cb46adb5e177b58d0dda62",
            "c0011ac5359e4854b3118cf08a991f66",
            "023e404a1bc14b74a1d957a9d56ccc4b"
          ]
        },
        "id": "qLR1A4qIpXez",
        "outputId": "f3f2c4aa-a26f-48b9-c832-03fc16bb38d1"
      },
      "execution_count": null,
      "outputs": [
        {
          "output_type": "display_data",
          "data": {
            "text/plain": [
              "<IPython.core.display.HTML object>"
            ],
            "text/html": [
              "\n",
              "    <div style='background: linear-gradient(135deg, #667eea 0%, #764ba2 100%);\n",
              "                color: white;\n",
              "                padding: 40px;\n",
              "                border-radius: 20px;\n",
              "                margin: 20px 0;\n",
              "                text-align: center;\n",
              "                box-shadow: 0 10px 30px rgba(0,0,0,0.3);\n",
              "                font-family: \"Segoe UI\", Arial, sans-serif;'>\n",
              "\n",
              "        <h1 style='font-size: 36px; margin-bottom: 10px; text-shadow: 2px 2px 4px rgba(0,0,0,0.3);'>\n",
              "            YouTube Sentiment Analyzer\n",
              "        </h1>\n",
              "\n",
              "        <p style='font-size: 18px; margin-bottom: 30px; opacity: 0.9;'>\n",
              "            Discover what people really think about any YouTube video\n",
              "        </p>\n",
              "\n",
              "        <div style='background: rgba(255,255,255,0.1);\n",
              "                    border-radius: 15px;\n",
              "                    padding: 30px;\n",
              "                    margin: 20px 0;\n",
              "                    backdrop-filter: blur(10px);'>\n",
              "\n",
              "            <h2 style='color: #FFE082; margin-bottom: 20px; font-size: 24px;'>Features</h2>\n",
              "\n",
              "            <div style='display: grid;\n",
              "                        grid-template-columns: repeat(auto-fit, minmax(250px, 1fr));\n",
              "                        gap: 20px;\n",
              "                        margin: 20px 0;'>\n",
              "\n",
              "                <div style='background: rgba(255,255,255,0.1);\n",
              "                           padding: 20px;\n",
              "                           border-radius: 12px;\n",
              "                           border-left: 4px solid #4CAF50;'>\n",
              "                    <h3 style='color: #C8E6C9; margin-bottom: 10px;'>Real-time Analysis</h3>\n",
              "                    <p style='font-size: 14px; line-height: 1.5; opacity: 0.9;'>\n",
              "                        Watch comments being analyzed live with instant sentiment classification\n",
              "                    </p>\n",
              "                </div>\n",
              "\n",
              "                <div style='background: rgba(255,255,255,0.1);\n",
              "                           padding: 20px;\n",
              "                           border-radius: 12px;\n",
              "                           border-left: 4px solid #2196F3;'>\n",
              "                    <h3 style='color: #BBDEFB; margin-bottom: 10px;'>Interactive Visualizations</h3>\n",
              "                    <p style='font-size: 14px; line-height: 1.5; opacity: 0.9;'>\n",
              "                        Beautiful charts, graphs, and sentiment flow analysis\n",
              "                    </p>\n",
              "                </div>\n",
              "\n",
              "                <div style='background: rgba(255,255,255,0.1);\n",
              "                           padding: 20px;\n",
              "                           border-radius: 12px;\n",
              "                           border-left: 4px solid #FF9800;'>\n",
              "                    <h3 style='color: #FFE0B2; margin-bottom: 10px;'>Detailed Insights</h3>\n",
              "                    <p style='font-size: 14px; line-height: 1.5; opacity: 0.9;'>\n",
              "                        Comprehensive breakdown with examples and statistics\n",
              "                    </p>\n",
              "                </div>\n",
              "            </div>\n",
              "        </div>\n",
              "\n",
              "        <div style='background: rgba(255,255,255,0.1);\n",
              "                    border-radius: 15px;\n",
              "                    padding: 25px;\n",
              "                    margin: 20px 0;'>\n",
              "            <h2 style='color: #FFE082; margin-bottom: 15px;'>How to Use</h2>\n",
              "            <div style='text-align: left; max-width: 600px; margin: 0 auto;'>\n",
              "                <p style='margin: 10px 0; padding-left: 20px; position: relative;'>\n",
              "                    <span style='position: absolute; left: 0; color: #4CAF50; font-weight: bold;'>1.</span>\n",
              "                    Enter a YouTube video URL in the input field below\n",
              "                </p>\n",
              "                <p style='margin: 10px 0; padding-left: 20px; position: relative;'>\n",
              "                    <span style='position: absolute; left: 0; color: #2196F3; font-weight: bold;'>2.</span>\n",
              "                    Set the number of comments you want to analyze\n",
              "                </p>\n",
              "                <p style='margin: 10px 0; padding-left: 20px; position: relative;'>\n",
              "                    <span style='position: absolute; left: 0; color: #FF9800; font-weight: bold;'>3.</span>\n",
              "                    Click \"Start Analysis\" and watch the magic happen!\n",
              "                </p>\n",
              "            </div>\n",
              "        </div>\n",
              "\n",
              "        <div style='margin-top: 30px; font-size: 14px; opacity: 0.8;'>\n",
              "            <p>Powered by advanced AI sentiment analysis • Built for Google Colab</p>\n",
              "        </div>\n",
              "    </div>\n",
              "    "
            ]
          },
          "metadata": {}
        },
        {
          "output_type": "display_data",
          "data": {
            "text/plain": [
              "<IPython.core.display.HTML object>"
            ],
            "text/html": [
              "\n",
              "    <div style='background: linear-gradient(135deg, #f5f7fa 0%, #c3cfe2 100%);\n",
              "                padding: 30px;\n",
              "                border-radius: 15px;\n",
              "                margin: 20px 0;\n",
              "                border: 1px solid #ddd;\n",
              "                box-shadow: 0 5px 15px rgba(0,0,0,0.1);'>\n",
              "        <h2 style='color: #333; margin-bottom: 20px; text-align: center;'>\n",
              "            Configuration Panel\n",
              "        </h2>\n",
              "    </div>\n",
              "    "
            ]
          },
          "metadata": {}
        },
        {
          "output_type": "display_data",
          "data": {
            "text/plain": [
              "VBox(children=(Text(value='https://www.youtube.com/watch?v=Jd4cASkBAp0', description='Video URL:', layout=Layo…"
            ],
            "application/vnd.jupyter.widget-view+json": {
              "version_major": 2,
              "version_minor": 0,
              "model_id": "1ae26ae6a8be4302a394f7d8a6077c4b"
            }
          },
          "metadata": {}
        }
      ]
    }
  ]
}